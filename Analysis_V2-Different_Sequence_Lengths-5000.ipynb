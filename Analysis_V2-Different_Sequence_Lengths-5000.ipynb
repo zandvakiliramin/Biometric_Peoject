{
 "cells": [
  {
   "cell_type": "markdown",
   "id": "ba3011c4",
   "metadata": {},
   "source": [
    "## Analysis with \"DumbTo\" Stimulus"
   ]
  },
  {
   "cell_type": "code",
   "execution_count": 1,
   "id": "b9fd8254",
   "metadata": {},
   "outputs": [],
   "source": [
    "import pandas as pd\n",
    "import matplotlib.pyplot as plt\n",
    "\n",
    "import tensorflow as tf\n",
    "\n",
    "from tensorflow import keras\n",
    "from tensorflow.keras import layers, regularizers\n",
    "\n",
    "import numpy as np"
   ]
  },
  {
   "cell_type": "code",
   "execution_count": 2,
   "id": "6a453f41",
   "metadata": {},
   "outputs": [
    {
     "name": "stdout",
     "output_type": "stream",
     "text": [
      "Subject Count:  45\n",
      "Columns:\n",
      "\n",
      "Index(['Study', 'Subject_ID', 'StimName', 'Experiment_Time',\n",
      "       'CALIB_VALID_POINTS', 'Group', 'Age', 'Handedness', 'Country',\n",
      "       'Language', 'Gender', 'Eyewear', 'Session_Date', 'Block',\n",
      "       'Big5_Openness', 'Big5_Conscientiousness', 'Big5_Extraversion',\n",
      "       'Big5_Agreeableness', 'Big5_Neuroticism', 'Expert', 'Ethnicity',\n",
      "       'SessionDate', 'OrderStim', 'StartTime', 'EndTime', 'PosNegAdSAM',\n",
      "       'ExciteCalmAdSAM', 'ImpCom', 'PosCom', 'LikeCom', 'ViewsCom',\n",
      "       'PreLikelyFav', 'PostLikelyFav', 'LikelyFavDifference', 'PostOften',\n",
      "       'CNT', 'Eye_Time', 'TIME_TICK', 'FPOGX', 'FPOGY', 'FPOGS', 'FPOGD',\n",
      "       'FPOGID', 'FPOGV', 'BPOGX', 'BPOGY', 'BPOGV', 'LPCX', 'LPCY', 'LPD',\n",
      "       'LPS', 'LPV', 'RPCX', 'RPCY', 'RPD', 'RPS', 'RPV', 'LPUPILD', 'LPUPILV',\n",
      "       'RPUPILD', 'RPUPILV', 'Frame', 'Distance_to_Next_Frame', 'Face_Time',\n",
      "       'Anger_Evidence', 'Anger_Intensity', 'Contempt_Evidence',\n",
      "       'Contempt_Intensity', 'Disgust_Evidence', 'Disgust_Intensity',\n",
      "       'Joy_Evidence', 'Joy_Intensity', 'Fear_Evidence', 'Fear_Intensity',\n",
      "       'Negative_Evidence', 'Negative_Intensity', 'Neutral_Evidence',\n",
      "       'Neutral_Intensity', 'Positive_Evidence', 'Positive_Intensity',\n",
      "       'Sadness_Evidence', 'Sadness_Intensity', 'Surprise_Evidence',\n",
      "       'Surprise_Intensity', 'Heart_Rate', 'Average_Heart_Rate', 'Heart_Time',\n",
      "       'Normed_Heart_Rate', 'Persons_Average_LPD', 'Persons_Average_RPD',\n",
      "       'Normed_LPD', 'Normed_RPD', 'bpogx_dmean', 'bpogy_dmean',\n",
      "       'combined_normed_bpogxy', 'Normed_LPS', 'Normed_RPS', 'Stim_Frame'],\n",
      "      dtype='object')\n"
     ]
    }
   ],
   "source": [
    "sub_DumbTo = pd.read_csv(\"./Data/Subsamples/DumbTo.csv\")\n",
    "print(\"Subject Count: \",len(sub_DumbTo.Subject_ID.unique()))\n",
    "print(\"Columns:\\n\")\n",
    "print(sub_DumbTo.columns)"
   ]
  },
  {
   "cell_type": "code",
   "execution_count": 3,
   "id": "d2a59fbd",
   "metadata": {},
   "outputs": [],
   "source": [
    "related_features = ['FPOGX', 'FPOGY', 'FPOGS', 'FPOGD',\n",
    "       'FPOGID', 'FPOGV', 'BPOGX', 'BPOGY', 'BPOGV', 'LPCX', 'LPCY', 'LPD',\n",
    "       'LPS', 'LPV', 'RPCX', 'RPCY', 'RPD', 'RPS', 'RPV', 'LPUPILD', 'LPUPILV',\n",
    "       'RPUPILD', 'RPUPILV', 'Face_Time',\n",
    "       'Anger_Evidence', 'Anger_Intensity', 'Contempt_Evidence',\n",
    "       'Contempt_Intensity', 'Disgust_Evidence', 'Disgust_Intensity',\n",
    "       'Joy_Evidence', 'Joy_Intensity', 'Fear_Evidence', 'Fear_Intensity',\n",
    "       'Negative_Evidence', 'Negative_Intensity', 'Neutral_Evidence',\n",
    "       'Neutral_Intensity', 'Positive_Evidence', 'Positive_Intensity',\n",
    "       'Sadness_Evidence', 'Sadness_Intensity', 'Surprise_Evidence',\n",
    "       'Surprise_Intensity', 'Heart_Time',\n",
    "       'Normed_Heart_Rate',\n",
    "       'Normed_LPD', 'Normed_RPD', 'bpogx_dmean', 'bpogy_dmean',\n",
    "       'combined_normed_bpogxy', 'Normed_LPS', 'Normed_RPS']"
   ]
  },
  {
   "cell_type": "code",
   "execution_count": 4,
   "id": "0fddeeda",
   "metadata": {},
   "outputs": [],
   "source": [
    "data_recall = pd.read_csv('./Data/Lab_Recall_Hand_Edited/SuperMovie1516_L.csv')"
   ]
  },
  {
   "cell_type": "code",
   "execution_count": 5,
   "id": "761846bc",
   "metadata": {
    "scrolled": true
   },
   "outputs": [
    {
     "data": {
      "text/plain": [
       "count    63.000000\n",
       "mean      6.285714\n",
       "std       1.660048\n",
       "min       1.000000\n",
       "25%       7.000000\n",
       "50%       7.000000\n",
       "75%       7.000000\n",
       "max       7.000000\n",
       "Name: DumbTo, dtype: float64"
      ]
     },
     "execution_count": 5,
     "metadata": {},
     "output_type": "execute_result"
    }
   ],
   "source": [
    "data_recall.DumbTo.describe()"
   ]
  },
  {
   "cell_type": "code",
   "execution_count": 6,
   "id": "fdafb17f",
   "metadata": {
    "scrolled": true
   },
   "outputs": [
    {
     "data": {
      "image/png": "[encoded data removed]",
      "text/plain": [
       "<Figure size 600x350 with 1 Axes>"
      ]
     },
     "metadata": {},
     "output_type": "display_data"
    }
   ],
   "source": [
    "data_recall.DumbTo.hist(figsize=(6,3.5))\n",
    "plt.show()"
   ]
  },
  {
   "cell_type": "code",
   "execution_count": 7,
   "id": "7b926399",
   "metadata": {},
   "outputs": [
    {
     "name": "stdout",
     "output_type": "stream",
     "text": [
      "45\n"
     ]
    }
   ],
   "source": [
    "seq_length = sub_DumbTo.groupby(\"Subject_ID\").size().reset_index()\n",
    "seq_length.columns = [\"Subject_ID\", \"Length\"]\n",
    "num_of_subjects = seq_length.shape[0]\n",
    "print(num_of_subjects)"
   ]
  },
  {
   "cell_type": "code",
   "execution_count": 8,
   "id": "050dbd0c",
   "metadata": {},
   "outputs": [
    {
     "data": {
      "text/plain": [
       "9676"
      ]
     },
     "execution_count": 8,
     "metadata": {},
     "output_type": "execute_result"
    }
   ],
   "source": [
    "seq_length.Length.min()"
   ]
  },
  {
   "cell_type": "code",
   "execution_count": 9,
   "id": "4a727be0",
   "metadata": {},
   "outputs": [],
   "source": [
    "# remove user 344 from seq-length and data (length is outlier)\n",
    "seq_length = seq_length[seq_length.Subject_ID != 344]\n",
    "sub_DumbTo = sub_DumbTo[sub_DumbTo.Subject_ID != 344]"
   ]
  },
  {
   "cell_type": "code",
   "execution_count": 10,
   "id": "74ddbb8d",
   "metadata": {},
   "outputs": [
    {
     "data": {
      "text/plain": [
       "9744"
      ]
     },
     "execution_count": 10,
     "metadata": {},
     "output_type": "execute_result"
    }
   ],
   "source": [
    "seq_length.Length.min()"
   ]
  },
  {
   "cell_type": "code",
   "execution_count": 11,
   "id": "4777294d",
   "metadata": {},
   "outputs": [],
   "source": [
    "seq_length['Sum_Length'] = seq_length.Length.cumsum() "
   ]
  },
  {
   "cell_type": "code",
   "execution_count": 12,
   "id": "a7c2f692",
   "metadata": {},
   "outputs": [],
   "source": [
    "seq_length = seq_length.reset_index()"
   ]
  },
  {
   "cell_type": "code",
   "execution_count": 13,
   "id": "0288dcbd",
   "metadata": {},
   "outputs": [
    {
     "data": {
      "text/plain": [
       "(44, 4)"
      ]
     },
     "execution_count": 13,
     "metadata": {},
     "output_type": "execute_result"
    }
   ],
   "source": [
    "seq_length.shape"
   ]
  },
  {
   "cell_type": "code",
   "execution_count": 14,
   "id": "1110e5b1",
   "metadata": {},
   "outputs": [
    {
     "data": {
      "text/plain": [
       "428736"
      ]
     },
     "execution_count": 14,
     "metadata": {},
     "output_type": "execute_result"
    }
   ],
   "source": [
    "9744*44"
   ]
  },
  {
   "cell_type": "code",
   "execution_count": 15,
   "id": "4dee859f",
   "metadata": {},
   "outputs": [
    {
     "data": {
      "text/plain": [
       "(428964, 98)"
      ]
     },
     "execution_count": 15,
     "metadata": {},
     "output_type": "execute_result"
    }
   ],
   "source": [
    "sub_DumbTo.shape"
   ]
  },
  {
   "cell_type": "code",
   "execution_count": 16,
   "id": "adf1ed2a",
   "metadata": {},
   "outputs": [],
   "source": [
    "cut_off = 5000\n",
    "\n",
    "rem_index = np.zeros(sub_DumbTo.shape[0])\n",
    "rem_index[0 : cut_off] = 1  \n",
    "for i in range(0, seq_length.shape[0]-1):\n",
    "    rem_index[seq_length.Sum_Length[i] : seq_length.Sum_Length[i]  + cut_off] = 1\n",
    "    \n",
    "sub_DumbTo[\"Rem_Index\"] = rem_index"
   ]
  },
  {
   "cell_type": "code",
   "execution_count": 17,
   "id": "98ef0b6a",
   "metadata": {},
   "outputs": [],
   "source": [
    "sub_DumbTo = sub_DumbTo[sub_DumbTo.Rem_Index == 1]"
   ]
  },
  {
   "cell_type": "code",
   "execution_count": 18,
   "id": "ab7becbd",
   "metadata": {},
   "outputs": [],
   "source": [
    "sub_DumbTo = sub_DumbTo[related_features]"
   ]
  },
  {
   "cell_type": "code",
   "execution_count": 19,
   "id": "a063adc6",
   "metadata": {},
   "outputs": [
    {
     "data": {
      "text/plain": [
       "(220000, 53)"
      ]
     },
     "execution_count": 19,
     "metadata": {},
     "output_type": "execute_result"
    }
   ],
   "source": [
    "sub_DumbTo.shape"
   ]
  },
  {
   "cell_type": "code",
   "execution_count": 20,
   "id": "1e802d2f",
   "metadata": {},
   "outputs": [],
   "source": [
    "x = sub_DumbTo.to_numpy()\n",
    "x = x.reshape(seq_length.shape[0], -1, len(related_features))"
   ]
  },
  {
   "cell_type": "code",
   "execution_count": 21,
   "id": "7eaa4c58",
   "metadata": {},
   "outputs": [
    {
     "data": {
      "text/plain": [
       "(44, 5000, 53)"
      ]
     },
     "execution_count": 21,
     "metadata": {},
     "output_type": "execute_result"
    }
   ],
   "source": [
    "x.shape"
   ]
  },
  {
   "cell_type": "code",
   "execution_count": 22,
   "id": "f7bcb9f8",
   "metadata": {},
   "outputs": [],
   "source": [
    "y = []\n",
    "for subject_id in seq_length.Subject_ID:\n",
    "    y.append(data_recall[data_recall.ExternalReference == subject_id].DumbTo.tolist()[0])"
   ]
  },
  {
   "cell_type": "code",
   "execution_count": 23,
   "id": "491d16ec",
   "metadata": {},
   "outputs": [],
   "source": [
    "y = np.array(y)"
   ]
  },
  {
   "cell_type": "markdown",
   "id": "4403e11d",
   "metadata": {},
   "source": [
    "## Modeling"
   ]
  },
  {
   "cell_type": "code",
   "execution_count": 24,
   "id": "abf25f8b",
   "metadata": {},
   "outputs": [],
   "source": [
    "x_train = x[:36]\n",
    "y_train = y[:36]\n",
    "x_valid = x[37:]\n",
    "y_valid = y[37:]"
   ]
  },
  {
   "cell_type": "code",
   "execution_count": 25,
   "id": "d628780a",
   "metadata": {},
   "outputs": [
    {
     "name": "stdout",
     "output_type": "stream",
     "text": [
      "(36, 5000, 53)\n",
      "(36,)\n",
      "(7, 5000, 53)\n",
      "(7,)\n"
     ]
    }
   ],
   "source": [
    "special_value = -9999.99\n",
    "x_train = keras.preprocessing.sequence.pad_sequences(x_train, maxlen = cut_off, padding = \"post\", dtype = 'float64', value = special_value)\n",
    "x_valid = keras.preprocessing.sequence.pad_sequences(x_valid, maxlen = cut_off, padding = \"post\", dtype = 'float64', value = special_value)\n",
    "\n",
    "print(x_train.shape)\n",
    "print(y_train.shape)\n",
    "print(x_valid.shape)\n",
    "print(y_valid.shape)"
   ]
  },
  {
   "cell_type": "code",
   "execution_count": 26,
   "id": "0eec0a03",
   "metadata": {},
   "outputs": [],
   "source": [
    "model = keras.Sequential()\n",
    "model.add(keras.layers.Masking(mask_value=special_value, input_shape=(cut_off, x.shape[2])))\n",
    "model.add(keras.layers.LSTM(32,))\n",
    "model.add(keras.layers.Dense(1,))"
   ]
  },
  {
   "cell_type": "code",
   "execution_count": 27,
   "id": "9b7927a8",
   "metadata": {},
   "outputs": [],
   "source": [
    "model.compile(loss = keras.losses.MeanSquaredError(),\n",
    "              optimizer = keras.optimizers.Adam(learning_rate=0.01))"
   ]
  },
  {
   "cell_type": "code",
   "execution_count": 28,
   "id": "59d0c93f",
   "metadata": {},
   "outputs": [
    {
     "name": "stdout",
     "output_type": "stream",
     "text": [
      "Model: \"sequential\"\n",
      "_________________________________________________________________\n",
      "Layer (type)                 Output Shape              Param #   \n",
      "=================================================================\n",
      "masking (Masking)            (None, 5000, 53)          0         \n",
      "_________________________________________________________________\n",
      "lstm (LSTM)                  (None, 32)                11008     \n",
      "_________________________________________________________________\n",
      "dense (Dense)                (None, 1)                 33        \n",
      "=================================================================\n",
      "Total params: 11,041\n",
      "Trainable params: 11,041\n",
      "Non-trainable params: 0\n",
      "_________________________________________________________________\n"
     ]
    }
   ],
   "source": [
    "model.summary()"
   ]
  },
  {
   "cell_type": "code",
   "execution_count": 29,
   "id": "d996b602",
   "metadata": {},
   "outputs": [
    {
     "name": "stdout",
     "output_type": "stream",
     "text": [
      "(36, 5000, 53)\n",
      "(36,)\n"
     ]
    }
   ],
   "source": [
    "print(x_train.shape)\n",
    "print(y_train.shape)"
   ]
  },
  {
   "cell_type": "code",
   "execution_count": 30,
   "id": "03bc9158",
   "metadata": {},
   "outputs": [],
   "source": [
    "x_train3 = np.nan_to_num(x_train)\n",
    "x_valid3 = np.nan_to_num(x_valid)"
   ]
  },
  {
   "cell_type": "code",
   "execution_count": 31,
   "id": "99cf7fce",
   "metadata": {},
   "outputs": [
    {
     "data": {
      "text/plain": [
       "False"
      ]
     },
     "execution_count": 31,
     "metadata": {},
     "output_type": "execute_result"
    }
   ],
   "source": [
    "np.isnan(x_train3).any()"
   ]
  },
  {
   "cell_type": "code",
   "execution_count": 32,
   "id": "89a0722e",
   "metadata": {},
   "outputs": [
    {
     "name": "stdout",
     "output_type": "stream",
     "text": [
      "(36, 5000, 53)\n",
      "(7, 5000, 53)\n"
     ]
    }
   ],
   "source": [
    "print(x_train3.shape)\n",
    "print(x_valid3.shape)"
   ]
  },
  {
   "cell_type": "code",
   "execution_count": 33,
   "id": "c26eec01",
   "metadata": {},
   "outputs": [
    {
     "name": "stdout",
     "output_type": "stream",
     "text": [
      "Epoch 1/100\n",
      "2/2 [==============================] - 3s 1s/step - loss: 42.0401 - val_loss: 31.7806\n",
      "Epoch 2/100\n",
      "2/2 [==============================] - 2s 807ms/step - loss: 36.9153 - val_loss: 29.7662\n",
      "Epoch 3/100\n",
      "2/2 [==============================] - 2s 822ms/step - loss: 34.2554 - val_loss: 28.3639\n",
      "Epoch 4/100\n",
      "2/2 [==============================] - 2s 818ms/step - loss: 32.4870 - val_loss: 26.9989\n",
      "Epoch 5/100\n",
      "2/2 [==============================] - 2s 879ms/step - loss: 30.9441 - val_loss: 25.6743\n",
      "Epoch 6/100\n",
      "2/2 [==============================] - 2s 827ms/step - loss: 29.4614 - val_loss: 24.3995\n",
      "Epoch 7/100\n",
      "2/2 [==============================] - 2s 834ms/step - loss: 28.0117 - val_loss: 23.1801\n",
      "Epoch 8/100\n",
      "2/2 [==============================] - 2s 823ms/step - loss: 26.6015 - val_loss: 22.0052\n",
      "Epoch 9/100\n",
      "2/2 [==============================] - 2s 821ms/step - loss: 25.2550 - val_loss: 20.8670\n",
      "Epoch 10/100\n",
      "2/2 [==============================] - 2s 835ms/step - loss: 23.9462 - val_loss: 19.7686\n",
      "Epoch 11/100\n",
      "2/2 [==============================] - 2s 877ms/step - loss: 22.6783 - val_loss: 18.7117\n",
      "Epoch 12/100\n",
      "2/2 [==============================] - 2s 868ms/step - loss: 21.4534 - val_loss: 17.6976\n",
      "Epoch 13/100\n",
      "2/2 [==============================] - 2s 870ms/step - loss: 20.2731 - val_loss: 16.7269\n",
      "Epoch 14/100\n",
      "2/2 [==============================] - 2s 954ms/step - loss: 19.1381 - val_loss: 15.7998\n",
      "Epoch 15/100\n",
      "2/2 [==============================] - 2s 883ms/step - loss: 18.0669 - val_loss: 14.9236\n",
      "Epoch 16/100\n",
      "2/2 [==============================] - 2s 888ms/step - loss: 17.0154 - val_loss: 14.0966\n",
      "Epoch 17/100\n",
      "2/2 [==============================] - 2s 877ms/step - loss: 16.0332 - val_loss: 13.3082\n",
      "Epoch 18/100\n",
      "2/2 [==============================] - 2s 878ms/step - loss: 15.0917 - val_loss: 12.5586\n",
      "Epoch 19/100\n",
      "2/2 [==============================] - 2s 908ms/step - loss: 14.1946 - val_loss: 11.8491\n",
      "Epoch 20/100\n",
      "2/2 [==============================] - 2s 907ms/step - loss: 13.3071 - val_loss: 11.1820\n",
      "Epoch 21/100\n",
      "2/2 [==============================] - 2s 941ms/step - loss: 12.4927 - val_loss: 10.5554\n",
      "Epoch 22/100\n",
      "2/2 [==============================] - 2s 951ms/step - loss: 11.7304 - val_loss: 9.9687\n",
      "Epoch 23/100\n",
      "2/2 [==============================] - 2s 985ms/step - loss: 10.9964 - val_loss: 9.4188\n",
      "Epoch 24/100\n",
      "2/2 [==============================] - 2s 946ms/step - loss: 10.3268 - val_loss: 8.9063\n",
      "Epoch 25/100\n",
      "2/2 [==============================] - 2s 928ms/step - loss: 9.6807 - val_loss: 8.4346\n",
      "Epoch 26/100\n",
      "2/2 [==============================] - 2s 938ms/step - loss: 9.0808 - val_loss: 7.9975\n",
      "Epoch 27/100\n",
      "2/2 [==============================] - 2s 1s/step - loss: 8.5141 - val_loss: 7.5878\n",
      "Epoch 28/100\n",
      "2/2 [==============================] - 2s 937ms/step - loss: 7.9850 - val_loss: 7.2008\n",
      "Epoch 29/100\n",
      "2/2 [==============================] - 2s 958ms/step - loss: 7.4944 - val_loss: 6.8430\n",
      "Epoch 30/100\n",
      "2/2 [==============================] - 2s 928ms/step - loss: 7.0218 - val_loss: 6.5189\n",
      "Epoch 31/100\n",
      "2/2 [==============================] - 2s 1s/step - loss: 6.5761 - val_loss: 6.2188\n",
      "Epoch 32/100\n",
      "2/2 [==============================] - 2s 931ms/step - loss: 6.1770 - val_loss: 5.9389\n",
      "Epoch 33/100\n",
      "2/2 [==============================] - 2s 929ms/step - loss: 5.7862 - val_loss: 5.6792\n",
      "Epoch 34/100\n",
      "2/2 [==============================] - 2s 945ms/step - loss: 5.4248 - val_loss: 5.4360\n",
      "Epoch 35/100\n",
      "2/2 [==============================] - 2s 1s/step - loss: 5.0951 - val_loss: 5.2147\n",
      "Epoch 36/100\n",
      "2/2 [==============================] - 2s 987ms/step - loss: 4.7710 - val_loss: 5.0170\n",
      "Epoch 37/100\n",
      "2/2 [==============================] - 2s 951ms/step - loss: 4.4879 - val_loss: 4.8396\n",
      "Epoch 38/100\n",
      "2/2 [==============================] - 2s 970ms/step - loss: 4.2178 - val_loss: 4.6809\n",
      "Epoch 39/100\n",
      "2/2 [==============================] - 2s 1s/step - loss: 3.9714 - val_loss: 4.5348\n",
      "Epoch 40/100\n",
      "2/2 [==============================] - 2s 966ms/step - loss: 3.7425 - val_loss: 4.3986\n",
      "Epoch 41/100\n",
      "2/2 [==============================] - 2s 975ms/step - loss: 3.5250 - val_loss: 4.2720\n",
      "Epoch 42/100\n",
      "2/2 [==============================] - 2s 971ms/step - loss: 3.3180 - val_loss: 4.1555\n",
      "Epoch 43/100\n",
      "2/2 [==============================] - 2s 993ms/step - loss: 3.1221 - val_loss: 4.0493\n",
      "Epoch 44/100\n",
      "2/2 [==============================] - 2s 967ms/step - loss: 2.9378 - val_loss: 3.9534\n",
      "Epoch 45/100\n",
      "2/2 [==============================] - 2s 965ms/step - loss: 2.7670 - val_loss: 3.8680\n",
      "Epoch 46/100\n",
      "2/2 [==============================] - 2s 984ms/step - loss: 2.6056 - val_loss: 3.7927\n",
      "Epoch 47/100\n",
      "2/2 [==============================] - 2s 990ms/step - loss: 2.4581 - val_loss: 3.7265\n",
      "Epoch 48/100\n",
      "2/2 [==============================] - 2s 974ms/step - loss: 2.3297 - val_loss: 3.6707\n",
      "Epoch 49/100\n",
      "2/2 [==============================] - 2s 978ms/step - loss: 2.1999 - val_loss: 3.6242\n",
      "Epoch 50/100\n",
      "2/2 [==============================] - 2s 993ms/step - loss: 2.0955 - val_loss: 3.5849\n",
      "Epoch 51/100\n",
      "2/2 [==============================] - 2s 1s/step - loss: 1.9994 - val_loss: 3.5535\n",
      "Epoch 52/100\n",
      "2/2 [==============================] - 2s 989ms/step - loss: 1.9068 - val_loss: 3.5279\n",
      "Epoch 53/100\n",
      "2/2 [==============================] - 2s 1s/step - loss: 1.8345 - val_loss: 3.5071\n",
      "Epoch 54/100\n",
      "2/2 [==============================] - 2s 982ms/step - loss: 1.7689 - val_loss: 3.4918\n",
      "Epoch 55/100\n",
      "2/2 [==============================] - 2s 988ms/step - loss: 1.7020 - val_loss: 3.4803\n",
      "Epoch 56/100\n",
      "2/2 [==============================] - 2s 983ms/step - loss: 1.6508 - val_loss: 3.4709\n",
      "Epoch 57/100\n",
      "2/2 [==============================] - 2s 988ms/step - loss: 1.6006 - val_loss: 3.4638\n",
      "Epoch 58/100\n",
      "2/2 [==============================] - 2s 981ms/step - loss: 1.5523 - val_loss: 3.4593\n",
      "Epoch 59/100\n",
      "2/2 [==============================] - 2s 1s/step - loss: 1.5063 - val_loss: 3.4573\n",
      "Epoch 60/100\n",
      "2/2 [==============================] - 2s 997ms/step - loss: 1.4630 - val_loss: 3.4578\n",
      "Epoch 61/100\n",
      "2/2 [==============================] - 2s 993ms/step - loss: 1.4256 - val_loss: 3.4606\n",
      "Epoch 62/100\n",
      "2/2 [==============================] - 2s 994ms/step - loss: 1.3870 - val_loss: 3.4652\n",
      "Epoch 63/100\n",
      "2/2 [==============================] - 2s 1s/step - loss: 1.3552 - val_loss: 3.4719\n",
      "Epoch 64/100\n",
      "2/2 [==============================] - 2s 1s/step - loss: 1.3258 - val_loss: 3.4802\n",
      "Epoch 65/100\n",
      "2/2 [==============================] - 2s 982ms/step - loss: 1.2985 - val_loss: 3.4902\n",
      "Epoch 66/100\n",
      "2/2 [==============================] - 2s 993ms/step - loss: 1.2738 - val_loss: 3.5017\n",
      "Epoch 67/100\n",
      "2/2 [==============================] - 2s 1s/step - loss: 1.2514 - val_loss: 3.5145\n",
      "Epoch 68/100\n",
      "2/2 [==============================] - 2s 986ms/step - loss: 1.2313 - val_loss: 3.5284\n",
      "Epoch 69/100\n",
      "2/2 [==============================] - 2s 1s/step - loss: 1.2180 - val_loss: 3.5416\n",
      "Epoch 70/100\n",
      "2/2 [==============================] - 2s 994ms/step - loss: 1.2012 - val_loss: 3.5527\n",
      "Epoch 71/100\n",
      "2/2 [==============================] - 2s 1s/step - loss: 1.1891 - val_loss: 3.5636\n",
      "Epoch 72/100\n",
      "2/2 [==============================] - 2s 996ms/step - loss: 1.1814 - val_loss: 3.5744\n",
      "Epoch 73/100\n",
      "2/2 [==============================] - 2s 999ms/step - loss: 1.1719 - val_loss: 3.5850\n",
      "Epoch 74/100\n",
      "2/2 [==============================] - 2s 1s/step - loss: 1.1648 - val_loss: 3.5964\n",
      "Epoch 75/100\n",
      "2/2 [==============================] - 2s 1s/step - loss: 1.1602 - val_loss: 3.6068\n",
      "Epoch 76/100\n",
      "2/2 [==============================] - 2s 1s/step - loss: 1.1527 - val_loss: 3.6158\n",
      "Epoch 77/100\n",
      "2/2 [==============================] - 2s 1s/step - loss: 1.1483 - val_loss: 3.6259\n",
      "Epoch 78/100\n",
      "2/2 [==============================] - 2s 1s/step - loss: 1.1449 - val_loss: 3.6355\n",
      "Epoch 79/100\n",
      "2/2 [==============================] - 2s 1s/step - loss: 1.1402 - val_loss: 3.6446\n",
      "Epoch 80/100\n",
      "2/2 [==============================] - 2s 1s/step - loss: 1.1385 - val_loss: 3.6524\n",
      "Epoch 81/100\n",
      "2/2 [==============================] - 2s 1s/step - loss: 1.1351 - val_loss: 3.6572\n",
      "Epoch 82/100\n",
      "2/2 [==============================] - 2s 1s/step - loss: 1.1330 - val_loss: 3.6620\n",
      "Epoch 83/100\n"
     ]
    },
    {
     "name": "stdout",
     "output_type": "stream",
     "text": [
      "2/2 [==============================] - 2s 1s/step - loss: 1.1313 - val_loss: 3.6684\n",
      "Epoch 84/100\n",
      "2/2 [==============================] - 2s 1s/step - loss: 1.1296 - val_loss: 3.6756\n",
      "Epoch 85/100\n",
      "2/2 [==============================] - 2s 1s/step - loss: 1.1285 - val_loss: 3.6815\n",
      "Epoch 86/100\n",
      "2/2 [==============================] - 2s 1s/step - loss: 1.1269 - val_loss: 3.6838\n",
      "Epoch 87/100\n",
      "2/2 [==============================] - 2s 1s/step - loss: 1.1258 - val_loss: 3.6851\n",
      "Epoch 88/100\n",
      "2/2 [==============================] - 2s 1s/step - loss: 1.1252 - val_loss: 3.6879\n",
      "Epoch 89/100\n",
      "2/2 [==============================] - 2s 1s/step - loss: 1.1243 - val_loss: 3.6921\n",
      "Epoch 90/100\n",
      "2/2 [==============================] - 2s 1s/step - loss: 1.1237 - val_loss: 3.6963\n",
      "Epoch 91/100\n",
      "2/2 [==============================] - 2s 1s/step - loss: 1.1224 - val_loss: 3.7002\n",
      "Epoch 92/100\n",
      "2/2 [==============================] - 2s 1s/step - loss: 1.1216 - val_loss: 3.7056\n",
      "Epoch 93/100\n",
      "2/2 [==============================] - 2s 998ms/step - loss: 1.1205 - val_loss: 3.7125\n",
      "Epoch 94/100\n",
      "2/2 [==============================] - 2s 1s/step - loss: 1.1211 - val_loss: 3.7160\n",
      "Epoch 95/100\n",
      "2/2 [==============================] - 2s 1s/step - loss: 1.1190 - val_loss: 3.7130\n",
      "Epoch 96/100\n",
      "2/2 [==============================] - 2s 1s/step - loss: 1.1194 - val_loss: 3.7097\n",
      "Epoch 97/100\n",
      "2/2 [==============================] - 2s 1s/step - loss: 1.1194 - val_loss: 3.7076\n",
      "Epoch 98/100\n",
      "2/2 [==============================] - 2s 1s/step - loss: 1.1196 - val_loss: 3.7064\n",
      "Epoch 99/100\n",
      "2/2 [==============================] - 2s 1s/step - loss: 1.1195 - val_loss: 3.7077\n",
      "Epoch 100/100\n",
      "2/2 [==============================] - 2s 1s/step - loss: 1.1192 - val_loss: 3.7106\n"
     ]
    }
   ],
   "source": [
    "history = model.fit(x = x_train3, y = y_train,\n",
    "                    validation_data = (x_valid3, y_valid),\n",
    "                    epochs = 100)"
   ]
  },
  {
   "cell_type": "code",
   "execution_count": null,
   "id": "2609e0a0",
   "metadata": {},
   "outputs": [],
   "source": []
  }
 ],
 "metadata": {
  "kernelspec": {
   "display_name": "Python 3",
   "language": "python",
   "name": "python3"
  },
  "language_info": {
   "codemirror_mode": {
    "name": "ipython",
    "version": 3
   },
   "file_extension": ".py",
   "mimetype": "text/x-python",
   "name": "python",
   "nbconvert_exporter": "python",
   "pygments_lexer": "ipython3",
   "version": "3.8.8"
  }
 },
 "nbformat": 4,
 "nbformat_minor": 5
}
