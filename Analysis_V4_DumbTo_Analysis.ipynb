{
 "cells": [
  {
   "cell_type": "markdown",
   "id": "ba3011c4",
   "metadata": {},
   "source": [
    "## Analysis with \"DumbTo\" Stimulus"
   ]
  },
  {
   "cell_type": "code",
   "execution_count": 2,
   "id": "b9fd8254",
   "metadata": {},
   "outputs": [],
   "source": [
    "import pandas as pd\n",
    "import matplotlib.pyplot as plt\n",
    "\n",
    "import tensorflow as tf\n",
    "\n",
    "from tensorflow import keras\n",
    "from tensorflow.keras import layers\n",
    "\n",
    "import numpy as np\n",
    "\n",
    "from sklearn.metrics import accuracy_score\n",
    "from sklearn.metrics import average_precision_score\n",
    "from sklearn.metrics import precision_recall_curve\n",
    "from sklearn.metrics import plot_precision_recall_curve\n",
    "\n",
    "from sklearn.preprocessing import label_binarize\n",
    "\n",
    "from itertools import cycle"
   ]
  },
  {
   "cell_type": "code",
   "execution_count": 97,
   "id": "0834ec61",
   "metadata": {
    "scrolled": true
   },
   "outputs": [
    {
     "data": {
      "text/plain": [
       "Index(['Study', 'Subject_ID', 'StimName', 'Experiment_Time',\n",
       "       'CALIB_VALID_POINTS', 'Group', 'Age', 'Handedness', 'Country',\n",
       "       'Language', 'Gender', 'Eyewear', 'Session_Date', 'Block',\n",
       "       'Big5_Openness', 'Big5_Conscientiousness', 'Big5_Extraversion',\n",
       "       'Big5_Agreeableness', 'Big5_Neuroticism', 'Expert', 'Ethnicity',\n",
       "       'SessionDate', 'OrderStim', 'StartTime', 'EndTime', 'PosNegAdSAM',\n",
       "       'ExciteCalmAdSAM', 'ImpCom', 'PosCom', 'LikeCom', 'ViewsCom',\n",
       "       'PreLikelyFav', 'PostLikelyFav', 'LikelyFavDifference', 'PostOften',\n",
       "       'CNT', 'Eye_Time', 'TIME_TICK', 'FPOGX', 'FPOGY', 'FPOGS', 'FPOGD',\n",
       "       'FPOGID', 'FPOGV', 'BPOGX', 'BPOGY', 'BPOGV', 'LPCX', 'LPCY', 'LPD',\n",
       "       'LPS', 'LPV', 'RPCX', 'RPCY', 'RPD', 'RPS', 'RPV', 'LPUPILD', 'LPUPILV',\n",
       "       'RPUPILD', 'RPUPILV', 'Frame', 'Distance_to_Next_Frame', 'Face_Time',\n",
       "       'Anger_Evidence', 'Anger_Intensity', 'Contempt_Evidence',\n",
       "       'Contempt_Intensity', 'Disgust_Evidence', 'Disgust_Intensity',\n",
       "       'Joy_Evidence', 'Joy_Intensity', 'Fear_Evidence', 'Fear_Intensity',\n",
       "       'Negative_Evidence', 'Negative_Intensity', 'Neutral_Evidence',\n",
       "       'Neutral_Intensity', 'Positive_Evidence', 'Positive_Intensity',\n",
       "       'Sadness_Evidence', 'Sadness_Intensity', 'Surprise_Evidence',\n",
       "       'Surprise_Intensity', 'Heart_Rate', 'Average_Heart_Rate', 'Heart_Time',\n",
       "       'Normed_Heart_Rate', 'Persons_Average_LPD', 'Persons_Average_RPD',\n",
       "       'Normed_LPD', 'Normed_RPD', 'bpogx_dmean', 'bpogy_dmean',\n",
       "       'combined_normed_bpogxy', 'Normed_LPS', 'Normed_RPS', 'Stim_Frame'],\n",
       "      dtype='object')"
      ]
     },
     "execution_count": 97,
     "metadata": {},
     "output_type": "execute_result"
    }
   ],
   "source": [
    "sub_DumbTo = pd.read_csv(\"./Data/Subsamples/DumbTo.csv\")\n",
    "sub_DumbTo.columns"
   ]
  },
  {
   "cell_type": "markdown",
   "id": "5c47443e",
   "metadata": {},
   "source": [
    "### Clean FPOGX(Y)\n",
    "Set values of FPOGX(Y) to NaN for records with BPOGV == 0"
   ]
  },
  {
   "cell_type": "code",
   "execution_count": 4,
   "id": "5419c0ae",
   "metadata": {},
   "outputs": [
    {
     "name": "stdout",
     "output_type": "stream",
     "text": [
      "Number of valid FPOGX(Y) Records:    270379\n",
      "Number of invalid FPOGX(Y) Records:  168261\n",
      "Percentage of valid FPOGV records: 62%\n"
     ]
    }
   ],
   "source": [
    "print(\"Number of valid FPOGX(Y) Records:   \", sub_DumbTo[sub_DumbTo.FPOGV == 1].shape[0])\n",
    "print(\"Number of invalid FPOGX(Y) Records: \", sub_DumbTo[sub_DumbTo.FPOGV == 0].shape[0])\n",
    "ratio = sub_DumbTo[sub_DumbTo.FPOGV == 1].shape[0] /\\\n",
    "    (sub_DumbTo[sub_DumbTo.FPOGV == 1].shape[0] + sub_DumbTo[sub_DumbTo.FPOGV == 0].shape[0])\n",
    "print(f\"Percentage of valid FPOGV records: {int(round(ratio, 2) * 100)}%\")      "
   ]
  },
  {
   "cell_type": "code",
   "execution_count": 5,
   "id": "ea51a818",
   "metadata": {},
   "outputs": [],
   "source": [
    "sub_DumbTo.loc[sub_DumbTo.FPOGV == 0, \"FPOGX\"]= np.nan\n",
    "sub_DumbTo.loc[sub_DumbTo.FPOGV == 0, \"FPOGY\"]= np.nan"
   ]
  },
  {
   "cell_type": "code",
   "execution_count": 6,
   "id": "9e96016e",
   "metadata": {},
   "outputs": [
    {
     "data": {
      "text/plain": [
       "168261"
      ]
     },
     "execution_count": 6,
     "metadata": {},
     "output_type": "execute_result"
    }
   ],
   "source": [
    "# Test\n",
    "sum(sub_DumbTo.FPOGY.isna())"
   ]
  },
  {
   "cell_type": "markdown",
   "id": "e486943a",
   "metadata": {},
   "source": [
    "### Clean BPOGX(Y)\n",
    "Set values of FPOGX(Y) to NaN for records with BPOGV == 0"
   ]
  },
  {
   "cell_type": "code",
   "execution_count": 7,
   "id": "8920c9fe",
   "metadata": {},
   "outputs": [
    {
     "name": "stdout",
     "output_type": "stream",
     "text": [
      "Number of valid BPOGX(Y) Records:    337469\n",
      "Number of invalid BPOGX(Y) Records:  101171\n",
      "Percentage of valid BPOGV records: 77%\n"
     ]
    }
   ],
   "source": [
    "print(\"Number of valid BPOGX(Y) Records:   \", sub_DumbTo[sub_DumbTo.BPOGV == 1].shape[0])\n",
    "print(\"Number of invalid BPOGX(Y) Records: \", sub_DumbTo[sub_DumbTo.BPOGV == 0].shape[0])\n",
    "ratio = sub_DumbTo[sub_DumbTo.BPOGV == 1].shape[0] /\\\n",
    "    (sub_DumbTo[sub_DumbTo.BPOGV == 1].shape[0] + sub_DumbTo[sub_DumbTo.BPOGV == 0].shape[0])\n",
    "print(f\"Percentage of valid BPOGV records: {int(round(ratio, 2) * 100)}%\")"
   ]
  },
  {
   "cell_type": "code",
   "execution_count": 8,
   "id": "beb7761e",
   "metadata": {},
   "outputs": [],
   "source": [
    "sub_DumbTo.loc[sub_DumbTo.BPOGV == 0, \"BPOGX\"]= np.nan\n",
    "sub_DumbTo.loc[sub_DumbTo.BPOGV == 0, \"BPOGY\"]= np.nan"
   ]
  },
  {
   "cell_type": "code",
   "execution_count": 9,
   "id": "6af332a6",
   "metadata": {},
   "outputs": [
    {
     "data": {
      "text/plain": [
       "101171"
      ]
     },
     "execution_count": 9,
     "metadata": {},
     "output_type": "execute_result"
    }
   ],
   "source": [
    "# Test\n",
    "sum(sub_DumbTo.BPOGY.isna())"
   ]
  },
  {
   "cell_type": "markdown",
   "id": "1d4e25b7",
   "metadata": {},
   "source": [
    "### Clean (R)LPV\n",
    "Set values of (R)LPCX(Y), (R)LPD, (R)LPS to NaN for records with (R)LPV == 0"
   ]
  },
  {
   "cell_type": "code",
   "execution_count": 10,
   "id": "581ad114",
   "metadata": {},
   "outputs": [
    {
     "name": "stdout",
     "output_type": "stream",
     "text": [
      "Number of valid RPV Records:    370211\n",
      "Number of invalid RPV Records:  68429\n",
      "Percentage of valid RPV records: 84%\n"
     ]
    }
   ],
   "source": [
    "print(\"Number of valid RPV Records:   \", sub_DumbTo[sub_DumbTo.RPV == 1].shape[0])\n",
    "print(\"Number of invalid RPV Records: \", sub_DumbTo[sub_DumbTo.RPV == 0].shape[0])\n",
    "ratio = sub_DumbTo[sub_DumbTo.RPV == 1].shape[0] /\\\n",
    "    (sub_DumbTo[sub_DumbTo.RPV == 1].shape[0] + sub_DumbTo[sub_DumbTo.RPV == 0].shape[0])\n",
    "print(f\"Percentage of valid RPV records: {int(round(ratio, 2) * 100)}%\")"
   ]
  },
  {
   "cell_type": "code",
   "execution_count": 11,
   "id": "65a62df5",
   "metadata": {},
   "outputs": [],
   "source": [
    "sub_DumbTo.loc[sub_DumbTo.RPV == 0, [\"RPCX\", \"RPCY\", \"RPD\", \"RPS\"]] = np.nan"
   ]
  },
  {
   "cell_type": "code",
   "execution_count": 12,
   "id": "ee0243ac",
   "metadata": {},
   "outputs": [
    {
     "data": {
      "text/plain": [
       "68429"
      ]
     },
     "execution_count": 12,
     "metadata": {},
     "output_type": "execute_result"
    }
   ],
   "source": [
    "# Test\n",
    "sum(sub_DumbTo.RPCX.isna())"
   ]
  },
  {
   "cell_type": "code",
   "execution_count": 13,
   "id": "ac14e838",
   "metadata": {},
   "outputs": [
    {
     "name": "stdout",
     "output_type": "stream",
     "text": [
      "Number of valid LPV Records:    350892\n",
      "Number of invalid LPV Records:  87748\n",
      "Percentage of valid LPV records: 80%\n"
     ]
    }
   ],
   "source": [
    "print(\"Number of valid LPV Records:   \", sub_DumbTo[sub_DumbTo.LPV == 1].shape[0])\n",
    "print(\"Number of invalid LPV Records: \", sub_DumbTo[sub_DumbTo.LPV == 0].shape[0])\n",
    "ratio = sub_DumbTo[sub_DumbTo.LPV == 1].shape[0] /\\\n",
    "    (sub_DumbTo[sub_DumbTo.LPV == 1].shape[0] + sub_DumbTo[sub_DumbTo.LPV == 0].shape[0])\n",
    "print(f\"Percentage of valid LPV records: {int(round(ratio, 2) * 100)}%\")"
   ]
  },
  {
   "cell_type": "code",
   "execution_count": 14,
   "id": "c230806a",
   "metadata": {},
   "outputs": [],
   "source": [
    "sub_DumbTo.loc[sub_DumbTo.LPV == 0, [\"LPCX\", \"LPCY\", \"LPD\", \"LPS\"]] = np.nan"
   ]
  },
  {
   "cell_type": "code",
   "execution_count": 15,
   "id": "ef30eadb",
   "metadata": {},
   "outputs": [
    {
     "data": {
      "text/plain": [
       "87748"
      ]
     },
     "execution_count": 15,
     "metadata": {},
     "output_type": "execute_result"
    }
   ],
   "source": [
    "# Test\n",
    "sum(sub_DumbTo.LPS.isna())"
   ]
  },
  {
   "cell_type": "markdown",
   "id": "88252da5",
   "metadata": {},
   "source": [
    "### Clean (R)LPUPILV\n",
    "Set values of (R)LPUPILD to NaN for records with (R)LPUPILV == 0"
   ]
  },
  {
   "cell_type": "code",
   "execution_count": 16,
   "id": "6881d0eb",
   "metadata": {
    "scrolled": true
   },
   "outputs": [
    {
     "name": "stdout",
     "output_type": "stream",
     "text": [
      "Number of valid RPUPILV Records:    175774\n",
      "Number of invalid RPUPILV Records:  68429\n",
      "Percentage of valid RPUPILV records: 72%\n",
      "\n",
      "\n",
      "Number of valid LPUPILV Records:    188135\n",
      "Number of invalid LPUPILV Records:  87748\n",
      "Percentage of valid LPUPILV records: 68%\n"
     ]
    }
   ],
   "source": [
    "print(\"Number of valid RPUPILV Records:   \", sub_DumbTo[sub_DumbTo.RPUPILV == 1].shape[0])\n",
    "print(\"Number of invalid RPUPILV Records: \", sub_DumbTo[sub_DumbTo.RPUPILV == 0].shape[0])\n",
    "ratio = sub_DumbTo[sub_DumbTo.RPUPILV == 1].shape[0] /\\\n",
    "    (sub_DumbTo[sub_DumbTo.RPUPILV == 1].shape[0] + sub_DumbTo[sub_DumbTo.RPUPILV == 0].shape[0])\n",
    "print(f\"Percentage of valid RPUPILV records: {int(round(ratio, 2) * 100)}%\")\n",
    "print(\"\\n\")\n",
    "print(\"Number of valid LPUPILV Records:   \", sub_DumbTo[sub_DumbTo.LPUPILV == 1].shape[0])\n",
    "print(\"Number of invalid LPUPILV Records: \", sub_DumbTo[sub_DumbTo.LPUPILV == 0].shape[0])\n",
    "ratio = sub_DumbTo[sub_DumbTo.LPUPILV == 1].shape[0] /\\\n",
    "    (sub_DumbTo[sub_DumbTo.LPUPILV == 1].shape[0] + sub_DumbTo[sub_DumbTo.LPUPILV == 0].shape[0])\n",
    "print(f\"Percentage of valid LPUPILV records: {int(round(ratio, 2) * 100)}%\")"
   ]
  },
  {
   "cell_type": "code",
   "execution_count": 17,
   "id": "dab8c5f9",
   "metadata": {},
   "outputs": [],
   "source": [
    "sub_DumbTo.loc[sub_DumbTo.RPUPILV == 0, [\"RPUPILD\"]] = np.nan\n",
    "sub_DumbTo.loc[sub_DumbTo.LPUPILV == 0, [\"LPUPILD\"]] = np.nan"
   ]
  },
  {
   "cell_type": "code",
   "execution_count": 18,
   "id": "7b31ac75",
   "metadata": {},
   "outputs": [
    {
     "data": {
      "text/plain": [
       "68429"
      ]
     },
     "execution_count": 18,
     "metadata": {},
     "output_type": "execute_result"
    }
   ],
   "source": [
    "# Test\n",
    "sum(sub_DumbTo.RPUPILD.isna())"
   ]
  },
  {
   "cell_type": "code",
   "execution_count": 19,
   "id": "bbbc9c01",
   "metadata": {},
   "outputs": [
    {
     "data": {
      "text/plain": [
       "87748"
      ]
     },
     "execution_count": 19,
     "metadata": {},
     "output_type": "execute_result"
    }
   ],
   "source": [
    "# Test\n",
    "sum(sub_DumbTo.LPUPILD.isna())"
   ]
  },
  {
   "cell_type": "code",
   "execution_count": 98,
   "id": "6a453f41",
   "metadata": {
    "scrolled": true
   },
   "outputs": [
    {
     "data": {
      "text/plain": [
       "count    63.000000\n",
       "mean      6.285714\n",
       "std       1.660048\n",
       "min       1.000000\n",
       "25%       7.000000\n",
       "50%       7.000000\n",
       "75%       7.000000\n",
       "max       7.000000\n",
       "Name: DumbTo, dtype: float64"
      ]
     },
     "execution_count": 98,
     "metadata": {},
     "output_type": "execute_result"
    }
   ],
   "source": [
    "# For RPD and SPD we can use the raw or normed versions, which one?\n",
    "related_features = ['Subject_ID',\n",
    "       'FPOGX', 'FPOGY', \n",
    "       'BPOGX', 'BPOGY', \n",
    "       'LPCX', 'LPCY', 'Normed_LPD', 'Normed_LPS', 'RPCX', 'RPCY', 'Normed_RPD', 'Normed_RPS', \n",
    "       'LPUPILD', 'RPUPILD', \n",
    "       'Anger_Evidence', 'Contempt_Evidence', 'Disgust_Evidence', 'Joy_Evidence', 'Fear_Evidence',\n",
    "       'Negative_Evidence', 'Neutral_Evidence', 'Positive_Evidence', 'Sadness_Evidence', 'Surprise_Evidence', \n",
    "       'Heart_Rate']\n",
    "\n",
    "data_recall = pd.read_csv('./Data/Lab_Recall_Hand_Edited/SuperMovie1516_L.csv')\n",
    "data_recall.DumbTo.describe()"
   ]
  },
  {
   "cell_type": "code",
   "execution_count": 99,
   "id": "deebbcbe",
   "metadata": {},
   "outputs": [],
   "source": [
    "idx_to_col_name = {k: v for k, v in enumerate(related_features[1:])}"
   ]
  },
  {
   "cell_type": "code",
   "execution_count": 100,
   "id": "2d7f8be7",
   "metadata": {},
   "outputs": [],
   "source": [
    "#all_calib_valid_data = pd.read_csv(\"./Data/Raw_Data/Harmonized_Instrument_Data-002.csv\", usecols =[\"Subject_ID\", \"CALIB_VALID_POINTS\"])\n",
    "\n",
    "#print(\"All CALIB_VALID_POINTS are Nan\") if any(all_calib_valid_data.CALIB_VALID_POINTS.isna()) \\\n",
    "#    else print(\"There are non-NaN values in CALIB_VALID_POINTS\")       "
   ]
  },
  {
   "cell_type": "code",
   "execution_count": 101,
   "id": "fdafb17f",
   "metadata": {
    "scrolled": true
   },
   "outputs": [
    {
     "data": {
      "image/png": "[encoded data removed]",
      "text/plain": [
       "<Figure size 600x350 with 1 Axes>"
      ]
     },
     "metadata": {},
     "output_type": "display_data"
    }
   ],
   "source": [
    "data_recall.DumbTo.hist(figsize=(6,3.5))\n",
    "plt.show()"
   ]
  },
  {
   "cell_type": "code",
   "execution_count": 102,
   "id": "7b926399",
   "metadata": {},
   "outputs": [
    {
     "name": "stdout",
     "output_type": "stream",
     "text": [
      "Number of subjects: 45\n",
      "Min sequence lengh:  9676\n"
     ]
    }
   ],
   "source": [
    "seq_length = sub_DumbTo.groupby(\"Subject_ID\").size().reset_index()\n",
    "seq_length.columns = [\"Subject_ID\", \"Length\"]\n",
    "num_of_subjects = seq_length.shape[0]\n",
    "print(\"Number of subjects:\", num_of_subjects)\n",
    "\n",
    "print(\"Min sequence lengh: \",seq_length.Length.min())"
   ]
  },
  {
   "cell_type": "code",
   "execution_count": 103,
   "id": "4a727be0",
   "metadata": {},
   "outputs": [],
   "source": [
    "# remove user 344 from seq-length and data (length is outlier)\n",
    "seq_length = seq_length[seq_length.Subject_ID != 344]\n",
    "sub_DumbTo = sub_DumbTo[sub_DumbTo.Subject_ID != 344]"
   ]
  },
  {
   "cell_type": "code",
   "execution_count": 104,
   "id": "c3b4b2f6",
   "metadata": {},
   "outputs": [
    {
     "name": "stdout",
     "output_type": "stream",
     "text": [
      "Number of subjects: 44\n"
     ]
    }
   ],
   "source": [
    "num_of_subjects = seq_length.shape[0]\n",
    "print(\"Number of subjects:\", num_of_subjects)"
   ]
  },
  {
   "cell_type": "code",
   "execution_count": 105,
   "id": "74ddbb8d",
   "metadata": {},
   "outputs": [
    {
     "name": "stdout",
     "output_type": "stream",
     "text": [
      "Cutoff is : 9744\n"
     ]
    }
   ],
   "source": [
    "cut_off = seq_length.Length.min()\n",
    "print(\"Cutoff is :\", cut_off)"
   ]
  },
  {
   "cell_type": "code",
   "execution_count": 106,
   "id": "adf1ed2a",
   "metadata": {},
   "outputs": [
    {
     "name": "stdout",
     "output_type": "stream",
     "text": [
      "Sqeuence length after adjustment: 9744.0\n"
     ]
    }
   ],
   "source": [
    "seq_length['Sum_Length'] = seq_length.Length.cumsum() \n",
    "seq_length = seq_length.reset_index()\n",
    "\n",
    "# Adjust the length of all seqs\n",
    "cut_off = seq_length.Length.min()\n",
    "\n",
    "rem_index = np.zeros(sub_DumbTo.shape[0])\n",
    "rem_index[0 : cut_off] = 1  \n",
    "for i in range(0, seq_length.shape[0]-1):\n",
    "    rem_index[seq_length.Sum_Length[i] : seq_length.Sum_Length[i]  + cut_off] = 1\n",
    "    \n",
    "sub_DumbTo[\"Rem_Index\"] = rem_index\n",
    "\n",
    "sub_DumbTo = sub_DumbTo[sub_DumbTo.Rem_Index == 1]\n",
    "\n",
    "print(\"Sqeuence length after adjustment:\", sub_DumbTo.shape[0]/44)\n",
    "\n",
    "sub_DumbTo = sub_DumbTo[related_features]"
   ]
  },
  {
   "cell_type": "code",
   "execution_count": 107,
   "id": "d6f1a79e",
   "metadata": {},
   "outputs": [],
   "source": [
    "num_non_zero_nulls_in_cols = sub_DumbTo.isnull().sum().reset_index()\n",
    "num_non_zero_nulls_in_cols.columns = [\"Column\", \"Num_Nulls\"]\n",
    "num_non_zero_nulls_in_cols = num_non_zero_nulls_in_cols[num_non_zero_nulls_in_cols.Num_Nulls != 0]"
   ]
  },
  {
   "cell_type": "code",
   "execution_count": 108,
   "id": "aa3a9cc5",
   "metadata": {},
   "outputs": [
    {
     "data": {
      "text/html": [
       "<div>\n",
       "<style scoped>\n",
       "    .dataframe tbody tr th:only-of-type {\n",
       "        vertical-align: middle;\n",
       "    }\n",
       "\n",
       "    .dataframe tbody tr th {\n",
       "        vertical-align: top;\n",
       "    }\n",
       "\n",
       "    .dataframe thead th {\n",
       "        text-align: right;\n",
       "    }\n",
       "</style>\n",
       "<table border=\"1\" class=\"dataframe\">\n",
       "  <thead>\n",
       "    <tr style=\"text-align: right;\">\n",
       "      <th></th>\n",
       "      <th>Column</th>\n",
       "      <th>Num_Nulls</th>\n",
       "    </tr>\n",
       "  </thead>\n",
       "  <tbody>\n",
       "    <tr>\n",
       "      <th>8</th>\n",
       "      <td>Normed_LPS</td>\n",
       "      <td>9787</td>\n",
       "    </tr>\n",
       "    <tr>\n",
       "      <th>12</th>\n",
       "      <td>Normed_RPS</td>\n",
       "      <td>9787</td>\n",
       "    </tr>\n",
       "  </tbody>\n",
       "</table>\n",
       "</div>"
      ],
      "text/plain": [
       "        Column  Num_Nulls\n",
       "8   Normed_LPS       9787\n",
       "12  Normed_RPS       9787"
      ]
     },
     "execution_count": 108,
     "metadata": {},
     "output_type": "execute_result"
    }
   ],
   "source": [
    "# In the data one user has no value for the above columns and the first value of all users is null\n",
    "num_non_zero_nulls_in_cols"
   ]
  },
  {
   "cell_type": "code",
   "execution_count": 109,
   "id": "8e4e9060",
   "metadata": {},
   "outputs": [
    {
     "name": "stdout",
     "output_type": "stream",
     "text": [
      "Sequence length (cutt_off) equls:  9743\n",
      "Number of Subjects is:  43\n"
     ]
    }
   ],
   "source": [
    "# remove user 345 from seq-length and data (has missing values for 4 columns)\n",
    "seq_length = seq_length[seq_length.Subject_ID != 345]\n",
    "sub_DumbTo = sub_DumbTo[~sub_DumbTo.Normed_LPS.isna()]\n",
    "# We can remove all nulls and make the sequnce one unit smaller\n",
    "#sub_DumbTo = sub_DumbTo.dropna()\n",
    "\n",
    "# For the above four columns the first element of each sequence was na, so the sequence length (cut_off) is reduced by 1\n",
    "cut_off = cut_off - 1\n",
    "num_of_subjects = sub_DumbTo.shape[0]/(cut_off)\n",
    "print(\"Sequence length (cutt_off) equls: \", cut_off)\n",
    "print(\"Number of Subjects is: \", int(num_of_subjects))\n",
    "\n",
    "sub_DumbTo = sub_DumbTo.drop(columns=['Subject_ID'])"
   ]
  },
  {
   "cell_type": "code",
   "execution_count": 110,
   "id": "09748f15",
   "metadata": {},
   "outputs": [],
   "source": [
    "num_non_zero_nulls_in_cols = sub_DumbTo.isnull().sum().reset_index()\n",
    "num_non_zero_nulls_in_cols.columns = [\"Column\", \"Num_Nulls\"]\n",
    "num_non_zero_nulls_in_cols = num_non_zero_nulls_in_cols[num_non_zero_nulls_in_cols.Num_Nulls != 0]"
   ]
  },
  {
   "cell_type": "code",
   "execution_count": 111,
   "id": "004a25a3",
   "metadata": {},
   "outputs": [
    {
     "data": {
      "text/html": [
       "<div>\n",
       "<style scoped>\n",
       "    .dataframe tbody tr th:only-of-type {\n",
       "        vertical-align: middle;\n",
       "    }\n",
       "\n",
       "    .dataframe tbody tr th {\n",
       "        vertical-align: top;\n",
       "    }\n",
       "\n",
       "    .dataframe thead th {\n",
       "        text-align: right;\n",
       "    }\n",
       "</style>\n",
       "<table border=\"1\" class=\"dataframe\">\n",
       "  <thead>\n",
       "    <tr style=\"text-align: right;\">\n",
       "      <th></th>\n",
       "      <th>Column</th>\n",
       "      <th>Num_Nulls</th>\n",
       "    </tr>\n",
       "  </thead>\n",
       "  <tbody>\n",
       "  </tbody>\n",
       "</table>\n",
       "</div>"
      ],
      "text/plain": [
       "Empty DataFrame\n",
       "Columns: [Column, Num_Nulls]\n",
       "Index: []"
      ]
     },
     "execution_count": 111,
     "metadata": {},
     "output_type": "execute_result"
    }
   ],
   "source": [
    "num_non_zero_nulls_in_cols"
   ]
  },
  {
   "cell_type": "code",
   "execution_count": 112,
   "id": "1e802d2f",
   "metadata": {},
   "outputs": [],
   "source": [
    "# One participants had null values for the last four variables we drop that, so we reduce one from seq_length.shape[0]\n",
    "# we dropped subject_id from related features so we have len(related_features) -1 in reshape dimmentions\n",
    "x = sub_DumbTo.to_numpy()\n",
    "x = x.reshape(int(num_of_subjects), -1, len(related_features) -1 )"
   ]
  },
  {
   "cell_type": "code",
   "execution_count": 113,
   "id": "7eaa4c58",
   "metadata": {},
   "outputs": [
    {
     "name": "stdout",
     "output_type": "stream",
     "text": [
      "x.shape:  (43, 9743, 25)\n"
     ]
    }
   ],
   "source": [
    "print(\"x.shape: \", x.shape)"
   ]
  },
  {
   "cell_type": "code",
   "execution_count": 114,
   "id": "f7bcb9f8",
   "metadata": {},
   "outputs": [
    {
     "name": "stdout",
     "output_type": "stream",
     "text": [
      "len(y): 43\n"
     ]
    }
   ],
   "source": [
    "y = []\n",
    "for subject_id in seq_length.Subject_ID:\n",
    "    y.append(data_recall[data_recall.ExternalReference == subject_id].DumbTo.tolist()[0])\n",
    "y = np.array(y)\n",
    "print('len(y):', len(y))"
   ]
  },
  {
   "cell_type": "code",
   "execution_count": 115,
   "id": "0b91f8fe",
   "metadata": {},
   "outputs": [
    {
     "data": {
      "image/png": "[encoded data removed]",
      "text/plain": [
       "<Figure size 640x480 with 1 Axes>"
      ]
     },
     "metadata": {},
     "output_type": "display_data"
    }
   ],
   "source": [
    "plt.plot(x[3][:, 2])\n",
    "plt.show()"
   ]
  },
  {
   "cell_type": "markdown",
   "id": "4403e11d",
   "metadata": {},
   "source": [
    "## Modeling"
   ]
  },
  {
   "cell_type": "code",
   "execution_count": 116,
   "id": "abf25f8b",
   "metadata": {},
   "outputs": [],
   "source": [
    "x_train = x[:37]\n",
    "y_train = y[:37]\n",
    "x_valid = x[37:]\n",
    "y_valid = y[37:]"
   ]
  },
  {
   "cell_type": "code",
   "execution_count": 117,
   "id": "d628780a",
   "metadata": {},
   "outputs": [
    {
     "name": "stdout",
     "output_type": "stream",
     "text": [
      "(37, 9743, 25)\n",
      "(37,)\n",
      "(6, 9743, 25)\n",
      "(6,)\n"
     ]
    }
   ],
   "source": [
    "special_value = -9999.99\n",
    "x_train = keras.preprocessing.sequence.pad_sequences(x_train, maxlen = cut_off, padding = \"post\", dtype = 'float64', value = special_value)\n",
    "x_valid = keras.preprocessing.sequence.pad_sequences(x_valid, maxlen = cut_off, padding = \"post\", dtype = 'float64', value = special_value)\n",
    "\n",
    "print(x_train.shape)\n",
    "print(y_train.shape)\n",
    "print(x_valid.shape)\n",
    "print(y_valid.shape)"
   ]
  },
  {
   "cell_type": "code",
   "execution_count": 118,
   "id": "671bdcc7",
   "metadata": {},
   "outputs": [],
   "source": [
    "nan_count_df = pd.DataFrame(columns = related_features[1:])"
   ]
  },
  {
   "cell_type": "code",
   "execution_count": 119,
   "id": "c0ad4855",
   "metadata": {
    "scrolled": true
   },
   "outputs": [
    {
     "data": {
      "text/html": [
       "<div>\n",
       "<style scoped>\n",
       "    .dataframe tbody tr th:only-of-type {\n",
       "        vertical-align: middle;\n",
       "    }\n",
       "\n",
       "    .dataframe tbody tr th {\n",
       "        vertical-align: top;\n",
       "    }\n",
       "\n",
       "    .dataframe thead th {\n",
       "        text-align: right;\n",
       "    }\n",
       "</style>\n",
       "<table border=\"1\" class=\"dataframe\">\n",
       "  <thead>\n",
       "    <tr style=\"text-align: right;\">\n",
       "      <th></th>\n",
       "      <th>FPOGX</th>\n",
       "      <th>FPOGY</th>\n",
       "      <th>BPOGX</th>\n",
       "      <th>BPOGY</th>\n",
       "      <th>LPCX</th>\n",
       "      <th>LPCY</th>\n",
       "      <th>Normed_LPD</th>\n",
       "      <th>Normed_LPS</th>\n",
       "      <th>RPCX</th>\n",
       "      <th>RPCY</th>\n",
       "      <th>...</th>\n",
       "      <th>Contempt_Evidence</th>\n",
       "      <th>Disgust_Evidence</th>\n",
       "      <th>Joy_Evidence</th>\n",
       "      <th>Fear_Evidence</th>\n",
       "      <th>Negative_Evidence</th>\n",
       "      <th>Neutral_Evidence</th>\n",
       "      <th>Positive_Evidence</th>\n",
       "      <th>Sadness_Evidence</th>\n",
       "      <th>Surprise_Evidence</th>\n",
       "      <th>Heart_Rate</th>\n",
       "    </tr>\n",
       "  </thead>\n",
       "  <tbody>\n",
       "  </tbody>\n",
       "</table>\n",
       "<p>0 rows × 25 columns</p>\n",
       "</div>"
      ],
      "text/plain": [
       "Empty DataFrame\n",
       "Columns: [FPOGX, FPOGY, BPOGX, BPOGY, LPCX, LPCY, Normed_LPD, Normed_LPS, RPCX, RPCY, Normed_RPD, Normed_RPS, LPUPILD, RPUPILD, Anger_Evidence, Contempt_Evidence, Disgust_Evidence, Joy_Evidence, Fear_Evidence, Negative_Evidence, Neutral_Evidence, Positive_Evidence, Sadness_Evidence, Surprise_Evidence, Heart_Rate]\n",
       "Index: []\n",
       "\n",
       "[0 rows x 25 columns]"
      ]
     },
     "execution_count": 119,
     "metadata": {},
     "output_type": "execute_result"
    }
   ],
   "source": [
    "nan_count_df"
   ]
  },
  {
   "cell_type": "code",
   "execution_count": 120,
   "id": "6c82fe2b",
   "metadata": {},
   "outputs": [],
   "source": [
    "for i in range(x.shape[0]):\n",
    "    nan_count_df.loc[len(nan_count_df)] = sum(np.isnan(x[i]), 0)"
   ]
  },
  {
   "cell_type": "code",
   "execution_count": 121,
   "id": "c806fcd0",
   "metadata": {},
   "outputs": [],
   "source": [
    "df_nan_ratio = (nan_count_df[['FPOGX', 'FPOGY', 'BPOGX', 'BPOGY', \n",
    "       'LPCX', 'LPCY', 'Normed_LPD', 'Normed_LPS', 'RPCX', 'RPCY', 'Normed_RPD', 'Normed_RPS', \n",
    "       'LPUPILD', 'RPUPILD']]/cut_off) "
   ]
  },
  {
   "cell_type": "code",
   "execution_count": 122,
   "id": "ea9d6886",
   "metadata": {},
   "outputs": [
    {
     "data": {
      "text/html": [
       "<div>\n",
       "<style scoped>\n",
       "    .dataframe tbody tr th:only-of-type {\n",
       "        vertical-align: middle;\n",
       "    }\n",
       "\n",
       "    .dataframe tbody tr th {\n",
       "        vertical-align: top;\n",
       "    }\n",
       "\n",
       "    .dataframe thead th {\n",
       "        text-align: right;\n",
       "    }\n",
       "</style>\n",
       "<table border=\"1\" class=\"dataframe\">\n",
       "  <thead>\n",
       "    <tr style=\"text-align: right;\">\n",
       "      <th></th>\n",
       "      <th>FPOGX</th>\n",
       "      <th>FPOGY</th>\n",
       "      <th>BPOGX</th>\n",
       "      <th>BPOGY</th>\n",
       "      <th>LPCX</th>\n",
       "      <th>LPCY</th>\n",
       "      <th>Normed_LPD</th>\n",
       "      <th>Normed_LPS</th>\n",
       "      <th>RPCX</th>\n",
       "      <th>RPCY</th>\n",
       "      <th>Normed_RPD</th>\n",
       "      <th>Normed_RPS</th>\n",
       "      <th>LPUPILD</th>\n",
       "      <th>RPUPILD</th>\n",
       "    </tr>\n",
       "  </thead>\n",
       "  <tbody>\n",
       "    <tr>\n",
       "      <th>0</th>\n",
       "      <td>0.0</td>\n",
       "      <td>0.0</td>\n",
       "      <td>0.0</td>\n",
       "      <td>0.0</td>\n",
       "      <td>0.0</td>\n",
       "      <td>0.0</td>\n",
       "      <td>0.0</td>\n",
       "      <td>0.0</td>\n",
       "      <td>0.0</td>\n",
       "      <td>0.0</td>\n",
       "      <td>0.0</td>\n",
       "      <td>0.0</td>\n",
       "      <td>0.0</td>\n",
       "      <td>0.0</td>\n",
       "    </tr>\n",
       "    <tr>\n",
       "      <th>1</th>\n",
       "      <td>0.0</td>\n",
       "      <td>0.0</td>\n",
       "      <td>0.0</td>\n",
       "      <td>0.0</td>\n",
       "      <td>0.0</td>\n",
       "      <td>0.0</td>\n",
       "      <td>0.0</td>\n",
       "      <td>0.0</td>\n",
       "      <td>0.0</td>\n",
       "      <td>0.0</td>\n",
       "      <td>0.0</td>\n",
       "      <td>0.0</td>\n",
       "      <td>0.0</td>\n",
       "      <td>0.0</td>\n",
       "    </tr>\n",
       "    <tr>\n",
       "      <th>2</th>\n",
       "      <td>0.0</td>\n",
       "      <td>0.0</td>\n",
       "      <td>0.0</td>\n",
       "      <td>0.0</td>\n",
       "      <td>0.0</td>\n",
       "      <td>0.0</td>\n",
       "      <td>0.0</td>\n",
       "      <td>0.0</td>\n",
       "      <td>0.0</td>\n",
       "      <td>0.0</td>\n",
       "      <td>0.0</td>\n",
       "      <td>0.0</td>\n",
       "      <td>0.0</td>\n",
       "      <td>0.0</td>\n",
       "    </tr>\n",
       "    <tr>\n",
       "      <th>3</th>\n",
       "      <td>0.0</td>\n",
       "      <td>0.0</td>\n",
       "      <td>0.0</td>\n",
       "      <td>0.0</td>\n",
       "      <td>0.0</td>\n",
       "      <td>0.0</td>\n",
       "      <td>0.0</td>\n",
       "      <td>0.0</td>\n",
       "      <td>0.0</td>\n",
       "      <td>0.0</td>\n",
       "      <td>0.0</td>\n",
       "      <td>0.0</td>\n",
       "      <td>0.0</td>\n",
       "      <td>0.0</td>\n",
       "    </tr>\n",
       "    <tr>\n",
       "      <th>4</th>\n",
       "      <td>0.0</td>\n",
       "      <td>0.0</td>\n",
       "      <td>0.0</td>\n",
       "      <td>0.0</td>\n",
       "      <td>0.0</td>\n",
       "      <td>0.0</td>\n",
       "      <td>0.0</td>\n",
       "      <td>0.0</td>\n",
       "      <td>0.0</td>\n",
       "      <td>0.0</td>\n",
       "      <td>0.0</td>\n",
       "      <td>0.0</td>\n",
       "      <td>0.0</td>\n",
       "      <td>0.0</td>\n",
       "    </tr>\n",
       "    <tr>\n",
       "      <th>5</th>\n",
       "      <td>0.0</td>\n",
       "      <td>0.0</td>\n",
       "      <td>0.0</td>\n",
       "      <td>0.0</td>\n",
       "      <td>0.0</td>\n",
       "      <td>0.0</td>\n",
       "      <td>0.0</td>\n",
       "      <td>0.0</td>\n",
       "      <td>0.0</td>\n",
       "      <td>0.0</td>\n",
       "      <td>0.0</td>\n",
       "      <td>0.0</td>\n",
       "      <td>0.0</td>\n",
       "      <td>0.0</td>\n",
       "    </tr>\n",
       "    <tr>\n",
       "      <th>6</th>\n",
       "      <td>0.0</td>\n",
       "      <td>0.0</td>\n",
       "      <td>0.0</td>\n",
       "      <td>0.0</td>\n",
       "      <td>0.0</td>\n",
       "      <td>0.0</td>\n",
       "      <td>0.0</td>\n",
       "      <td>0.0</td>\n",
       "      <td>0.0</td>\n",
       "      <td>0.0</td>\n",
       "      <td>0.0</td>\n",
       "      <td>0.0</td>\n",
       "      <td>0.0</td>\n",
       "      <td>0.0</td>\n",
       "    </tr>\n",
       "    <tr>\n",
       "      <th>7</th>\n",
       "      <td>0.0</td>\n",
       "      <td>0.0</td>\n",
       "      <td>0.0</td>\n",
       "      <td>0.0</td>\n",
       "      <td>0.0</td>\n",
       "      <td>0.0</td>\n",
       "      <td>0.0</td>\n",
       "      <td>0.0</td>\n",
       "      <td>0.0</td>\n",
       "      <td>0.0</td>\n",
       "      <td>0.0</td>\n",
       "      <td>0.0</td>\n",
       "      <td>0.0</td>\n",
       "      <td>0.0</td>\n",
       "    </tr>\n",
       "    <tr>\n",
       "      <th>8</th>\n",
       "      <td>0.0</td>\n",
       "      <td>0.0</td>\n",
       "      <td>0.0</td>\n",
       "      <td>0.0</td>\n",
       "      <td>0.0</td>\n",
       "      <td>0.0</td>\n",
       "      <td>0.0</td>\n",
       "      <td>0.0</td>\n",
       "      <td>0.0</td>\n",
       "      <td>0.0</td>\n",
       "      <td>0.0</td>\n",
       "      <td>0.0</td>\n",
       "      <td>0.0</td>\n",
       "      <td>0.0</td>\n",
       "    </tr>\n",
       "    <tr>\n",
       "      <th>9</th>\n",
       "      <td>0.0</td>\n",
       "      <td>0.0</td>\n",
       "      <td>0.0</td>\n",
       "      <td>0.0</td>\n",
       "      <td>0.0</td>\n",
       "      <td>0.0</td>\n",
       "      <td>0.0</td>\n",
       "      <td>0.0</td>\n",
       "      <td>0.0</td>\n",
       "      <td>0.0</td>\n",
       "      <td>0.0</td>\n",
       "      <td>0.0</td>\n",
       "      <td>0.0</td>\n",
       "      <td>0.0</td>\n",
       "    </tr>\n",
       "    <tr>\n",
       "      <th>10</th>\n",
       "      <td>0.0</td>\n",
       "      <td>0.0</td>\n",
       "      <td>0.0</td>\n",
       "      <td>0.0</td>\n",
       "      <td>0.0</td>\n",
       "      <td>0.0</td>\n",
       "      <td>0.0</td>\n",
       "      <td>0.0</td>\n",
       "      <td>0.0</td>\n",
       "      <td>0.0</td>\n",
       "      <td>0.0</td>\n",
       "      <td>0.0</td>\n",
       "      <td>0.0</td>\n",
       "      <td>0.0</td>\n",
       "    </tr>\n",
       "    <tr>\n",
       "      <th>11</th>\n",
       "      <td>0.0</td>\n",
       "      <td>0.0</td>\n",
       "      <td>0.0</td>\n",
       "      <td>0.0</td>\n",
       "      <td>0.0</td>\n",
       "      <td>0.0</td>\n",
       "      <td>0.0</td>\n",
       "      <td>0.0</td>\n",
       "      <td>0.0</td>\n",
       "      <td>0.0</td>\n",
       "      <td>0.0</td>\n",
       "      <td>0.0</td>\n",
       "      <td>0.0</td>\n",
       "      <td>0.0</td>\n",
       "    </tr>\n",
       "    <tr>\n",
       "      <th>12</th>\n",
       "      <td>0.0</td>\n",
       "      <td>0.0</td>\n",
       "      <td>0.0</td>\n",
       "      <td>0.0</td>\n",
       "      <td>0.0</td>\n",
       "      <td>0.0</td>\n",
       "      <td>0.0</td>\n",
       "      <td>0.0</td>\n",
       "      <td>0.0</td>\n",
       "      <td>0.0</td>\n",
       "      <td>0.0</td>\n",
       "      <td>0.0</td>\n",
       "      <td>0.0</td>\n",
       "      <td>0.0</td>\n",
       "    </tr>\n",
       "    <tr>\n",
       "      <th>13</th>\n",
       "      <td>0.0</td>\n",
       "      <td>0.0</td>\n",
       "      <td>0.0</td>\n",
       "      <td>0.0</td>\n",
       "      <td>0.0</td>\n",
       "      <td>0.0</td>\n",
       "      <td>0.0</td>\n",
       "      <td>0.0</td>\n",
       "      <td>0.0</td>\n",
       "      <td>0.0</td>\n",
       "      <td>0.0</td>\n",
       "      <td>0.0</td>\n",
       "      <td>0.0</td>\n",
       "      <td>0.0</td>\n",
       "    </tr>\n",
       "    <tr>\n",
       "      <th>14</th>\n",
       "      <td>0.0</td>\n",
       "      <td>0.0</td>\n",
       "      <td>0.0</td>\n",
       "      <td>0.0</td>\n",
       "      <td>0.0</td>\n",
       "      <td>0.0</td>\n",
       "      <td>0.0</td>\n",
       "      <td>0.0</td>\n",
       "      <td>0.0</td>\n",
       "      <td>0.0</td>\n",
       "      <td>0.0</td>\n",
       "      <td>0.0</td>\n",
       "      <td>0.0</td>\n",
       "      <td>0.0</td>\n",
       "    </tr>\n",
       "    <tr>\n",
       "      <th>15</th>\n",
       "      <td>0.0</td>\n",
       "      <td>0.0</td>\n",
       "      <td>0.0</td>\n",
       "      <td>0.0</td>\n",
       "      <td>0.0</td>\n",
       "      <td>0.0</td>\n",
       "      <td>0.0</td>\n",
       "      <td>0.0</td>\n",
       "      <td>0.0</td>\n",
       "      <td>0.0</td>\n",
       "      <td>0.0</td>\n",
       "      <td>0.0</td>\n",
       "      <td>0.0</td>\n",
       "      <td>0.0</td>\n",
       "    </tr>\n",
       "    <tr>\n",
       "      <th>16</th>\n",
       "      <td>0.0</td>\n",
       "      <td>0.0</td>\n",
       "      <td>0.0</td>\n",
       "      <td>0.0</td>\n",
       "      <td>0.0</td>\n",
       "      <td>0.0</td>\n",
       "      <td>0.0</td>\n",
       "      <td>0.0</td>\n",
       "      <td>0.0</td>\n",
       "      <td>0.0</td>\n",
       "      <td>0.0</td>\n",
       "      <td>0.0</td>\n",
       "      <td>0.0</td>\n",
       "      <td>0.0</td>\n",
       "    </tr>\n",
       "    <tr>\n",
       "      <th>17</th>\n",
       "      <td>0.0</td>\n",
       "      <td>0.0</td>\n",
       "      <td>0.0</td>\n",
       "      <td>0.0</td>\n",
       "      <td>0.0</td>\n",
       "      <td>0.0</td>\n",
       "      <td>0.0</td>\n",
       "      <td>0.0</td>\n",
       "      <td>0.0</td>\n",
       "      <td>0.0</td>\n",
       "      <td>0.0</td>\n",
       "      <td>0.0</td>\n",
       "      <td>0.0</td>\n",
       "      <td>0.0</td>\n",
       "    </tr>\n",
       "    <tr>\n",
       "      <th>18</th>\n",
       "      <td>0.0</td>\n",
       "      <td>0.0</td>\n",
       "      <td>0.0</td>\n",
       "      <td>0.0</td>\n",
       "      <td>0.0</td>\n",
       "      <td>0.0</td>\n",
       "      <td>0.0</td>\n",
       "      <td>0.0</td>\n",
       "      <td>0.0</td>\n",
       "      <td>0.0</td>\n",
       "      <td>0.0</td>\n",
       "      <td>0.0</td>\n",
       "      <td>0.0</td>\n",
       "      <td>0.0</td>\n",
       "    </tr>\n",
       "    <tr>\n",
       "      <th>19</th>\n",
       "      <td>0.0</td>\n",
       "      <td>0.0</td>\n",
       "      <td>0.0</td>\n",
       "      <td>0.0</td>\n",
       "      <td>0.0</td>\n",
       "      <td>0.0</td>\n",
       "      <td>0.0</td>\n",
       "      <td>0.0</td>\n",
       "      <td>0.0</td>\n",
       "      <td>0.0</td>\n",
       "      <td>0.0</td>\n",
       "      <td>0.0</td>\n",
       "      <td>0.0</td>\n",
       "      <td>0.0</td>\n",
       "    </tr>\n",
       "    <tr>\n",
       "      <th>20</th>\n",
       "      <td>0.0</td>\n",
       "      <td>0.0</td>\n",
       "      <td>0.0</td>\n",
       "      <td>0.0</td>\n",
       "      <td>0.0</td>\n",
       "      <td>0.0</td>\n",
       "      <td>0.0</td>\n",
       "      <td>0.0</td>\n",
       "      <td>0.0</td>\n",
       "      <td>0.0</td>\n",
       "      <td>0.0</td>\n",
       "      <td>0.0</td>\n",
       "      <td>0.0</td>\n",
       "      <td>0.0</td>\n",
       "    </tr>\n",
       "    <tr>\n",
       "      <th>21</th>\n",
       "      <td>0.0</td>\n",
       "      <td>0.0</td>\n",
       "      <td>0.0</td>\n",
       "      <td>0.0</td>\n",
       "      <td>0.0</td>\n",
       "      <td>0.0</td>\n",
       "      <td>0.0</td>\n",
       "      <td>0.0</td>\n",
       "      <td>0.0</td>\n",
       "      <td>0.0</td>\n",
       "      <td>0.0</td>\n",
       "      <td>0.0</td>\n",
       "      <td>0.0</td>\n",
       "      <td>0.0</td>\n",
       "    </tr>\n",
       "    <tr>\n",
       "      <th>22</th>\n",
       "      <td>0.0</td>\n",
       "      <td>0.0</td>\n",
       "      <td>0.0</td>\n",
       "      <td>0.0</td>\n",
       "      <td>0.0</td>\n",
       "      <td>0.0</td>\n",
       "      <td>0.0</td>\n",
       "      <td>0.0</td>\n",
       "      <td>0.0</td>\n",
       "      <td>0.0</td>\n",
       "      <td>0.0</td>\n",
       "      <td>0.0</td>\n",
       "      <td>0.0</td>\n",
       "      <td>0.0</td>\n",
       "    </tr>\n",
       "    <tr>\n",
       "      <th>23</th>\n",
       "      <td>0.0</td>\n",
       "      <td>0.0</td>\n",
       "      <td>0.0</td>\n",
       "      <td>0.0</td>\n",
       "      <td>0.0</td>\n",
       "      <td>0.0</td>\n",
       "      <td>0.0</td>\n",
       "      <td>0.0</td>\n",
       "      <td>0.0</td>\n",
       "      <td>0.0</td>\n",
       "      <td>0.0</td>\n",
       "      <td>0.0</td>\n",
       "      <td>0.0</td>\n",
       "      <td>0.0</td>\n",
       "    </tr>\n",
       "    <tr>\n",
       "      <th>24</th>\n",
       "      <td>0.0</td>\n",
       "      <td>0.0</td>\n",
       "      <td>0.0</td>\n",
       "      <td>0.0</td>\n",
       "      <td>0.0</td>\n",
       "      <td>0.0</td>\n",
       "      <td>0.0</td>\n",
       "      <td>0.0</td>\n",
       "      <td>0.0</td>\n",
       "      <td>0.0</td>\n",
       "      <td>0.0</td>\n",
       "      <td>0.0</td>\n",
       "      <td>0.0</td>\n",
       "      <td>0.0</td>\n",
       "    </tr>\n",
       "    <tr>\n",
       "      <th>25</th>\n",
       "      <td>0.0</td>\n",
       "      <td>0.0</td>\n",
       "      <td>0.0</td>\n",
       "      <td>0.0</td>\n",
       "      <td>0.0</td>\n",
       "      <td>0.0</td>\n",
       "      <td>0.0</td>\n",
       "      <td>0.0</td>\n",
       "      <td>0.0</td>\n",
       "      <td>0.0</td>\n",
       "      <td>0.0</td>\n",
       "      <td>0.0</td>\n",
       "      <td>0.0</td>\n",
       "      <td>0.0</td>\n",
       "    </tr>\n",
       "    <tr>\n",
       "      <th>26</th>\n",
       "      <td>0.0</td>\n",
       "      <td>0.0</td>\n",
       "      <td>0.0</td>\n",
       "      <td>0.0</td>\n",
       "      <td>0.0</td>\n",
       "      <td>0.0</td>\n",
       "      <td>0.0</td>\n",
       "      <td>0.0</td>\n",
       "      <td>0.0</td>\n",
       "      <td>0.0</td>\n",
       "      <td>0.0</td>\n",
       "      <td>0.0</td>\n",
       "      <td>0.0</td>\n",
       "      <td>0.0</td>\n",
       "    </tr>\n",
       "    <tr>\n",
       "      <th>27</th>\n",
       "      <td>0.0</td>\n",
       "      <td>0.0</td>\n",
       "      <td>0.0</td>\n",
       "      <td>0.0</td>\n",
       "      <td>0.0</td>\n",
       "      <td>0.0</td>\n",
       "      <td>0.0</td>\n",
       "      <td>0.0</td>\n",
       "      <td>0.0</td>\n",
       "      <td>0.0</td>\n",
       "      <td>0.0</td>\n",
       "      <td>0.0</td>\n",
       "      <td>0.0</td>\n",
       "      <td>0.0</td>\n",
       "    </tr>\n",
       "    <tr>\n",
       "      <th>28</th>\n",
       "      <td>0.0</td>\n",
       "      <td>0.0</td>\n",
       "      <td>0.0</td>\n",
       "      <td>0.0</td>\n",
       "      <td>0.0</td>\n",
       "      <td>0.0</td>\n",
       "      <td>0.0</td>\n",
       "      <td>0.0</td>\n",
       "      <td>0.0</td>\n",
       "      <td>0.0</td>\n",
       "      <td>0.0</td>\n",
       "      <td>0.0</td>\n",
       "      <td>0.0</td>\n",
       "      <td>0.0</td>\n",
       "    </tr>\n",
       "    <tr>\n",
       "      <th>29</th>\n",
       "      <td>0.0</td>\n",
       "      <td>0.0</td>\n",
       "      <td>0.0</td>\n",
       "      <td>0.0</td>\n",
       "      <td>0.0</td>\n",
       "      <td>0.0</td>\n",
       "      <td>0.0</td>\n",
       "      <td>0.0</td>\n",
       "      <td>0.0</td>\n",
       "      <td>0.0</td>\n",
       "      <td>0.0</td>\n",
       "      <td>0.0</td>\n",
       "      <td>0.0</td>\n",
       "      <td>0.0</td>\n",
       "    </tr>\n",
       "    <tr>\n",
       "      <th>30</th>\n",
       "      <td>0.0</td>\n",
       "      <td>0.0</td>\n",
       "      <td>0.0</td>\n",
       "      <td>0.0</td>\n",
       "      <td>0.0</td>\n",
       "      <td>0.0</td>\n",
       "      <td>0.0</td>\n",
       "      <td>0.0</td>\n",
       "      <td>0.0</td>\n",
       "      <td>0.0</td>\n",
       "      <td>0.0</td>\n",
       "      <td>0.0</td>\n",
       "      <td>0.0</td>\n",
       "      <td>0.0</td>\n",
       "    </tr>\n",
       "    <tr>\n",
       "      <th>31</th>\n",
       "      <td>0.0</td>\n",
       "      <td>0.0</td>\n",
       "      <td>0.0</td>\n",
       "      <td>0.0</td>\n",
       "      <td>0.0</td>\n",
       "      <td>0.0</td>\n",
       "      <td>0.0</td>\n",
       "      <td>0.0</td>\n",
       "      <td>0.0</td>\n",
       "      <td>0.0</td>\n",
       "      <td>0.0</td>\n",
       "      <td>0.0</td>\n",
       "      <td>0.0</td>\n",
       "      <td>0.0</td>\n",
       "    </tr>\n",
       "    <tr>\n",
       "      <th>32</th>\n",
       "      <td>0.0</td>\n",
       "      <td>0.0</td>\n",
       "      <td>0.0</td>\n",
       "      <td>0.0</td>\n",
       "      <td>0.0</td>\n",
       "      <td>0.0</td>\n",
       "      <td>0.0</td>\n",
       "      <td>0.0</td>\n",
       "      <td>0.0</td>\n",
       "      <td>0.0</td>\n",
       "      <td>0.0</td>\n",
       "      <td>0.0</td>\n",
       "      <td>0.0</td>\n",
       "      <td>0.0</td>\n",
       "    </tr>\n",
       "    <tr>\n",
       "      <th>33</th>\n",
       "      <td>0.0</td>\n",
       "      <td>0.0</td>\n",
       "      <td>0.0</td>\n",
       "      <td>0.0</td>\n",
       "      <td>0.0</td>\n",
       "      <td>0.0</td>\n",
       "      <td>0.0</td>\n",
       "      <td>0.0</td>\n",
       "      <td>0.0</td>\n",
       "      <td>0.0</td>\n",
       "      <td>0.0</td>\n",
       "      <td>0.0</td>\n",
       "      <td>0.0</td>\n",
       "      <td>0.0</td>\n",
       "    </tr>\n",
       "    <tr>\n",
       "      <th>34</th>\n",
       "      <td>0.0</td>\n",
       "      <td>0.0</td>\n",
       "      <td>0.0</td>\n",
       "      <td>0.0</td>\n",
       "      <td>0.0</td>\n",
       "      <td>0.0</td>\n",
       "      <td>0.0</td>\n",
       "      <td>0.0</td>\n",
       "      <td>0.0</td>\n",
       "      <td>0.0</td>\n",
       "      <td>0.0</td>\n",
       "      <td>0.0</td>\n",
       "      <td>0.0</td>\n",
       "      <td>0.0</td>\n",
       "    </tr>\n",
       "    <tr>\n",
       "      <th>35</th>\n",
       "      <td>0.0</td>\n",
       "      <td>0.0</td>\n",
       "      <td>0.0</td>\n",
       "      <td>0.0</td>\n",
       "      <td>0.0</td>\n",
       "      <td>0.0</td>\n",
       "      <td>0.0</td>\n",
       "      <td>0.0</td>\n",
       "      <td>0.0</td>\n",
       "      <td>0.0</td>\n",
       "      <td>0.0</td>\n",
       "      <td>0.0</td>\n",
       "      <td>0.0</td>\n",
       "      <td>0.0</td>\n",
       "    </tr>\n",
       "    <tr>\n",
       "      <th>36</th>\n",
       "      <td>0.0</td>\n",
       "      <td>0.0</td>\n",
       "      <td>0.0</td>\n",
       "      <td>0.0</td>\n",
       "      <td>0.0</td>\n",
       "      <td>0.0</td>\n",
       "      <td>0.0</td>\n",
       "      <td>0.0</td>\n",
       "      <td>0.0</td>\n",
       "      <td>0.0</td>\n",
       "      <td>0.0</td>\n",
       "      <td>0.0</td>\n",
       "      <td>0.0</td>\n",
       "      <td>0.0</td>\n",
       "    </tr>\n",
       "    <tr>\n",
       "      <th>37</th>\n",
       "      <td>0.0</td>\n",
       "      <td>0.0</td>\n",
       "      <td>0.0</td>\n",
       "      <td>0.0</td>\n",
       "      <td>0.0</td>\n",
       "      <td>0.0</td>\n",
       "      <td>0.0</td>\n",
       "      <td>0.0</td>\n",
       "      <td>0.0</td>\n",
       "      <td>0.0</td>\n",
       "      <td>0.0</td>\n",
       "      <td>0.0</td>\n",
       "      <td>0.0</td>\n",
       "      <td>0.0</td>\n",
       "    </tr>\n",
       "    <tr>\n",
       "      <th>38</th>\n",
       "      <td>0.0</td>\n",
       "      <td>0.0</td>\n",
       "      <td>0.0</td>\n",
       "      <td>0.0</td>\n",
       "      <td>0.0</td>\n",
       "      <td>0.0</td>\n",
       "      <td>0.0</td>\n",
       "      <td>0.0</td>\n",
       "      <td>0.0</td>\n",
       "      <td>0.0</td>\n",
       "      <td>0.0</td>\n",
       "      <td>0.0</td>\n",
       "      <td>0.0</td>\n",
       "      <td>0.0</td>\n",
       "    </tr>\n",
       "    <tr>\n",
       "      <th>39</th>\n",
       "      <td>0.0</td>\n",
       "      <td>0.0</td>\n",
       "      <td>0.0</td>\n",
       "      <td>0.0</td>\n",
       "      <td>0.0</td>\n",
       "      <td>0.0</td>\n",
       "      <td>0.0</td>\n",
       "      <td>0.0</td>\n",
       "      <td>0.0</td>\n",
       "      <td>0.0</td>\n",
       "      <td>0.0</td>\n",
       "      <td>0.0</td>\n",
       "      <td>0.0</td>\n",
       "      <td>0.0</td>\n",
       "    </tr>\n",
       "    <tr>\n",
       "      <th>40</th>\n",
       "      <td>0.0</td>\n",
       "      <td>0.0</td>\n",
       "      <td>0.0</td>\n",
       "      <td>0.0</td>\n",
       "      <td>0.0</td>\n",
       "      <td>0.0</td>\n",
       "      <td>0.0</td>\n",
       "      <td>0.0</td>\n",
       "      <td>0.0</td>\n",
       "      <td>0.0</td>\n",
       "      <td>0.0</td>\n",
       "      <td>0.0</td>\n",
       "      <td>0.0</td>\n",
       "      <td>0.0</td>\n",
       "    </tr>\n",
       "    <tr>\n",
       "      <th>41</th>\n",
       "      <td>0.0</td>\n",
       "      <td>0.0</td>\n",
       "      <td>0.0</td>\n",
       "      <td>0.0</td>\n",
       "      <td>0.0</td>\n",
       "      <td>0.0</td>\n",
       "      <td>0.0</td>\n",
       "      <td>0.0</td>\n",
       "      <td>0.0</td>\n",
       "      <td>0.0</td>\n",
       "      <td>0.0</td>\n",
       "      <td>0.0</td>\n",
       "      <td>0.0</td>\n",
       "      <td>0.0</td>\n",
       "    </tr>\n",
       "    <tr>\n",
       "      <th>42</th>\n",
       "      <td>0.0</td>\n",
       "      <td>0.0</td>\n",
       "      <td>0.0</td>\n",
       "      <td>0.0</td>\n",
       "      <td>0.0</td>\n",
       "      <td>0.0</td>\n",
       "      <td>0.0</td>\n",
       "      <td>0.0</td>\n",
       "      <td>0.0</td>\n",
       "      <td>0.0</td>\n",
       "      <td>0.0</td>\n",
       "      <td>0.0</td>\n",
       "      <td>0.0</td>\n",
       "      <td>0.0</td>\n",
       "    </tr>\n",
       "  </tbody>\n",
       "</table>\n",
       "</div>"
      ],
      "text/plain": [
       "   FPOGX FPOGY BPOGX BPOGY LPCX LPCY Normed_LPD Normed_LPS RPCX RPCY  \\\n",
       "0    0.0   0.0   0.0   0.0  0.0  0.0        0.0        0.0  0.0  0.0   \n",
       "1    0.0   0.0   0.0   0.0  0.0  0.0        0.0        0.0  0.0  0.0   \n",
       "2    0.0   0.0   0.0   0.0  0.0  0.0        0.0        0.0  0.0  0.0   \n",
       "3    0.0   0.0   0.0   0.0  0.0  0.0        0.0        0.0  0.0  0.0   \n",
       "4    0.0   0.0   0.0   0.0  0.0  0.0        0.0        0.0  0.0  0.0   \n",
       "5    0.0   0.0   0.0   0.0  0.0  0.0        0.0        0.0  0.0  0.0   \n",
       "6    0.0   0.0   0.0   0.0  0.0  0.0        0.0        0.0  0.0  0.0   \n",
       "7    0.0   0.0   0.0   0.0  0.0  0.0        0.0        0.0  0.0  0.0   \n",
       "8    0.0   0.0   0.0   0.0  0.0  0.0        0.0        0.0  0.0  0.0   \n",
       "9    0.0   0.0   0.0   0.0  0.0  0.0        0.0        0.0  0.0  0.0   \n",
       "10   0.0   0.0   0.0   0.0  0.0  0.0        0.0        0.0  0.0  0.0   \n",
       "11   0.0   0.0   0.0   0.0  0.0  0.0        0.0        0.0  0.0  0.0   \n",
       "12   0.0   0.0   0.0   0.0  0.0  0.0        0.0        0.0  0.0  0.0   \n",
       "13   0.0   0.0   0.0   0.0  0.0  0.0        0.0        0.0  0.0  0.0   \n",
       "14   0.0   0.0   0.0   0.0  0.0  0.0        0.0        0.0  0.0  0.0   \n",
       "15   0.0   0.0   0.0   0.0  0.0  0.0        0.0        0.0  0.0  0.0   \n",
       "16   0.0   0.0   0.0   0.0  0.0  0.0        0.0        0.0  0.0  0.0   \n",
       "17   0.0   0.0   0.0   0.0  0.0  0.0        0.0        0.0  0.0  0.0   \n",
       "18   0.0   0.0   0.0   0.0  0.0  0.0        0.0        0.0  0.0  0.0   \n",
       "19   0.0   0.0   0.0   0.0  0.0  0.0        0.0        0.0  0.0  0.0   \n",
       "20   0.0   0.0   0.0   0.0  0.0  0.0        0.0        0.0  0.0  0.0   \n",
       "21   0.0   0.0   0.0   0.0  0.0  0.0        0.0        0.0  0.0  0.0   \n",
       "22   0.0   0.0   0.0   0.0  0.0  0.0        0.0        0.0  0.0  0.0   \n",
       "23   0.0   0.0   0.0   0.0  0.0  0.0        0.0        0.0  0.0  0.0   \n",
       "24   0.0   0.0   0.0   0.0  0.0  0.0        0.0        0.0  0.0  0.0   \n",
       "25   0.0   0.0   0.0   0.0  0.0  0.0        0.0        0.0  0.0  0.0   \n",
       "26   0.0   0.0   0.0   0.0  0.0  0.0        0.0        0.0  0.0  0.0   \n",
       "27   0.0   0.0   0.0   0.0  0.0  0.0        0.0        0.0  0.0  0.0   \n",
       "28   0.0   0.0   0.0   0.0  0.0  0.0        0.0        0.0  0.0  0.0   \n",
       "29   0.0   0.0   0.0   0.0  0.0  0.0        0.0        0.0  0.0  0.0   \n",
       "30   0.0   0.0   0.0   0.0  0.0  0.0        0.0        0.0  0.0  0.0   \n",
       "31   0.0   0.0   0.0   0.0  0.0  0.0        0.0        0.0  0.0  0.0   \n",
       "32   0.0   0.0   0.0   0.0  0.0  0.0        0.0        0.0  0.0  0.0   \n",
       "33   0.0   0.0   0.0   0.0  0.0  0.0        0.0        0.0  0.0  0.0   \n",
       "34   0.0   0.0   0.0   0.0  0.0  0.0        0.0        0.0  0.0  0.0   \n",
       "35   0.0   0.0   0.0   0.0  0.0  0.0        0.0        0.0  0.0  0.0   \n",
       "36   0.0   0.0   0.0   0.0  0.0  0.0        0.0        0.0  0.0  0.0   \n",
       "37   0.0   0.0   0.0   0.0  0.0  0.0        0.0        0.0  0.0  0.0   \n",
       "38   0.0   0.0   0.0   0.0  0.0  0.0        0.0        0.0  0.0  0.0   \n",
       "39   0.0   0.0   0.0   0.0  0.0  0.0        0.0        0.0  0.0  0.0   \n",
       "40   0.0   0.0   0.0   0.0  0.0  0.0        0.0        0.0  0.0  0.0   \n",
       "41   0.0   0.0   0.0   0.0  0.0  0.0        0.0        0.0  0.0  0.0   \n",
       "42   0.0   0.0   0.0   0.0  0.0  0.0        0.0        0.0  0.0  0.0   \n",
       "\n",
       "   Normed_RPD Normed_RPS LPUPILD RPUPILD  \n",
       "0         0.0        0.0     0.0     0.0  \n",
       "1         0.0        0.0     0.0     0.0  \n",
       "2         0.0        0.0     0.0     0.0  \n",
       "3         0.0        0.0     0.0     0.0  \n",
       "4         0.0        0.0     0.0     0.0  \n",
       "5         0.0        0.0     0.0     0.0  \n",
       "6         0.0        0.0     0.0     0.0  \n",
       "7         0.0        0.0     0.0     0.0  \n",
       "8         0.0        0.0     0.0     0.0  \n",
       "9         0.0        0.0     0.0     0.0  \n",
       "10        0.0        0.0     0.0     0.0  \n",
       "11        0.0        0.0     0.0     0.0  \n",
       "12        0.0        0.0     0.0     0.0  \n",
       "13        0.0        0.0     0.0     0.0  \n",
       "14        0.0        0.0     0.0     0.0  \n",
       "15        0.0        0.0     0.0     0.0  \n",
       "16        0.0        0.0     0.0     0.0  \n",
       "17        0.0        0.0     0.0     0.0  \n",
       "18        0.0        0.0     0.0     0.0  \n",
       "19        0.0        0.0     0.0     0.0  \n",
       "20        0.0        0.0     0.0     0.0  \n",
       "21        0.0        0.0     0.0     0.0  \n",
       "22        0.0        0.0     0.0     0.0  \n",
       "23        0.0        0.0     0.0     0.0  \n",
       "24        0.0        0.0     0.0     0.0  \n",
       "25        0.0        0.0     0.0     0.0  \n",
       "26        0.0        0.0     0.0     0.0  \n",
       "27        0.0        0.0     0.0     0.0  \n",
       "28        0.0        0.0     0.0     0.0  \n",
       "29        0.0        0.0     0.0     0.0  \n",
       "30        0.0        0.0     0.0     0.0  \n",
       "31        0.0        0.0     0.0     0.0  \n",
       "32        0.0        0.0     0.0     0.0  \n",
       "33        0.0        0.0     0.0     0.0  \n",
       "34        0.0        0.0     0.0     0.0  \n",
       "35        0.0        0.0     0.0     0.0  \n",
       "36        0.0        0.0     0.0     0.0  \n",
       "37        0.0        0.0     0.0     0.0  \n",
       "38        0.0        0.0     0.0     0.0  \n",
       "39        0.0        0.0     0.0     0.0  \n",
       "40        0.0        0.0     0.0     0.0  \n",
       "41        0.0        0.0     0.0     0.0  \n",
       "42        0.0        0.0     0.0     0.0  "
      ]
     },
     "execution_count": 122,
     "metadata": {},
     "output_type": "execute_result"
    }
   ],
   "source": [
    "np.round(df_nan_ratio, decimals = 1)"
   ]
  },
  {
   "cell_type": "code",
   "execution_count": 123,
   "id": "856bee11",
   "metadata": {},
   "outputs": [
    {
     "data": {
      "image/png": "[encoded data removed]",
      "text/plain": [
       "<Figure size 640x480 with 1 Axes>"
      ]
     },
     "metadata": {},
     "output_type": "display_data"
    }
   ],
   "source": [
    "plt.plot(x[7][:, 2])\n",
    "plt.show()"
   ]
  },
  {
   "cell_type": "code",
   "execution_count": 124,
   "id": "8994c13b",
   "metadata": {},
   "outputs": [
    {
     "data": {
      "text/plain": [
       "(43, 9743, 25)"
      ]
     },
     "execution_count": 124,
     "metadata": {},
     "output_type": "execute_result"
    }
   ],
   "source": [
    "x.shape"
   ]
  },
  {
   "cell_type": "code",
   "execution_count": 125,
   "id": "0eec0a03",
   "metadata": {},
   "outputs": [
    {
     "name": "stdout",
     "output_type": "stream",
     "text": [
      "Model: \"sequential_1\"\n",
      "_________________________________________________________________\n",
      "Layer (type)                 Output Shape              Param #   \n",
      "=================================================================\n",
      "masking_1 (Masking)          (None, 9743, 25)          0         \n",
      "_________________________________________________________________\n",
      "lstm_1 (LSTM)                (None, 32)                7424      \n",
      "_________________________________________________________________\n",
      "dense_1 (Dense)              (None, 1)                 33        \n",
      "=================================================================\n",
      "Total params: 7,457\n",
      "Trainable params: 7,457\n",
      "Non-trainable params: 0\n",
      "_________________________________________________________________\n"
     ]
    }
   ],
   "source": [
    "model = keras.Sequential()\n",
    "model.add(keras.layers.Masking(mask_value=special_value, input_shape=(cut_off, len(related_features) -1)))\n",
    "model.add(keras.layers.LSTM(32))\n",
    "model.add(keras.layers.Dense(1))\n",
    "\n",
    "model.compile(loss = keras.losses.MeanSquaredError(),\n",
    "              optimizer = keras.optimizers.Adam(learning_rate=0.01))\n",
    "\n",
    "model.summary()"
   ]
  },
  {
   "cell_type": "code",
   "execution_count": 126,
   "id": "c26eec01",
   "metadata": {},
   "outputs": [
    {
     "name": "stdout",
     "output_type": "stream",
     "text": [
      "Epoch 1/25\n",
      "2/2 [==============================] - 4s 2s/step - loss: 39.2108 - val_loss: 27.1760\n",
      "Epoch 2/25\n",
      "2/2 [==============================] - 3s 2s/step - loss: 33.7620 - val_loss: 21.7785\n",
      "Epoch 3/25\n",
      "2/2 [==============================] - 3s 1s/step - loss: 27.7794 - val_loss: 17.7714\n",
      "Epoch 4/25\n",
      "2/2 [==============================] - 3s 2s/step - loss: 23.1727 - val_loss: 13.9761\n",
      "Epoch 5/25\n",
      "2/2 [==============================] - 3s 1s/step - loss: 18.9076 - val_loss: 10.5238\n",
      "Epoch 6/25\n",
      "2/2 [==============================] - 3s 1s/step - loss: 14.5754 - val_loss: 6.7013\n",
      "Epoch 7/25\n",
      "2/2 [==============================] - 3s 1s/step - loss: 9.6560 - val_loss: 3.9575\n",
      "Epoch 8/25\n",
      "2/2 [==============================] - 3s 1s/step - loss: 5.4591 - val_loss: 2.6979\n",
      "Epoch 9/25\n",
      "2/2 [==============================] - 3s 2s/step - loss: 2.5562 - val_loss: 2.8981\n",
      "Epoch 10/25\n",
      "2/2 [==============================] - 3s 2s/step - loss: 1.1346 - val_loss: 4.2587\n",
      "Epoch 11/25\n",
      "2/2 [==============================] - 3s 2s/step - loss: 1.2312 - val_loss: 5.0126\n",
      "Epoch 12/25\n",
      "2/2 [==============================] - 3s 2s/step - loss: 1.3998 - val_loss: 5.3621\n",
      "Epoch 13/25\n",
      "2/2 [==============================] - 3s 2s/step - loss: 1.5310 - val_loss: 5.5101\n",
      "Epoch 14/25\n",
      "2/2 [==============================] - 3s 2s/step - loss: 1.5466 - val_loss: 5.4837\n",
      "Epoch 15/25\n",
      "2/2 [==============================] - 3s 2s/step - loss: 1.5183 - val_loss: 5.3702\n",
      "Epoch 16/25\n",
      "2/2 [==============================] - 3s 2s/step - loss: 1.4726 - val_loss: 5.1791\n",
      "Epoch 17/25\n",
      "2/2 [==============================] - 3s 2s/step - loss: 1.4037 - val_loss: 4.9407\n",
      "Epoch 18/25\n",
      "2/2 [==============================] - 3s 2s/step - loss: 1.3230 - val_loss: 4.6996\n",
      "Epoch 19/25\n",
      "2/2 [==============================] - 4s 2s/step - loss: 1.2553 - val_loss: 4.4880\n",
      "Epoch 20/25\n",
      "2/2 [==============================] - 3s 2s/step - loss: 1.2036 - val_loss: 4.3225\n",
      "Epoch 21/25\n",
      "2/2 [==============================] - 4s 2s/step - loss: 1.2008 - val_loss: 4.2004\n",
      "Epoch 22/25\n",
      "2/2 [==============================] - 4s 2s/step - loss: 1.1841 - val_loss: 4.1005\n",
      "Epoch 23/25\n",
      "2/2 [==============================] - 4s 2s/step - loss: 1.1862 - val_loss: 4.0130\n",
      "Epoch 24/25\n",
      "2/2 [==============================] - 3s 2s/step - loss: 1.1943 - val_loss: 3.9582\n",
      "Epoch 25/25\n",
      "2/2 [==============================] - 4s 2s/step - loss: 1.1999 - val_loss: 3.9399\n"
     ]
    }
   ],
   "source": [
    "history = model.fit(x = x_train, y = y_train, \n",
    "                    validation_data = (x_valid, y_valid),\n",
    "                    epochs = 25)"
   ]
  },
  {
   "cell_type": "code",
   "execution_count": 127,
   "id": "31dcc45f",
   "metadata": {},
   "outputs": [],
   "source": [
    "y_df = pd.DataFrame(y)\n",
    "y_df.columns = ['Cont']\n",
    "y_df[\"Dis\"] = 1\n",
    "y_df.loc[y_df.Cont > 5, \"Dis\"] = 2\n",
    "y_df.loc[y_df.Cont < 3, \"Dis\"] = 0"
   ]
  },
  {
   "cell_type": "code",
   "execution_count": 128,
   "id": "c18341a8",
   "metadata": {
    "scrolled": true
   },
   "outputs": [
    {
     "data": {
      "text/html": [
       "<div>\n",
       "<style scoped>\n",
       "    .dataframe tbody tr th:only-of-type {\n",
       "        vertical-align: middle;\n",
       "    }\n",
       "\n",
       "    .dataframe tbody tr th {\n",
       "        vertical-align: top;\n",
       "    }\n",
       "\n",
       "    .dataframe thead th {\n",
       "        text-align: right;\n",
       "    }\n",
       "</style>\n",
       "<table border=\"1\" class=\"dataframe\">\n",
       "  <thead>\n",
       "    <tr style=\"text-align: right;\">\n",
       "      <th></th>\n",
       "      <th>Cont</th>\n",
       "      <th>Dis</th>\n",
       "    </tr>\n",
       "  </thead>\n",
       "  <tbody>\n",
       "    <tr>\n",
       "      <th>0</th>\n",
       "      <td>7.0</td>\n",
       "      <td>2</td>\n",
       "    </tr>\n",
       "    <tr>\n",
       "      <th>1</th>\n",
       "      <td>7.0</td>\n",
       "      <td>2</td>\n",
       "    </tr>\n",
       "    <tr>\n",
       "      <th>2</th>\n",
       "      <td>2.0</td>\n",
       "      <td>0</td>\n",
       "    </tr>\n",
       "    <tr>\n",
       "      <th>3</th>\n",
       "      <td>7.0</td>\n",
       "      <td>2</td>\n",
       "    </tr>\n",
       "    <tr>\n",
       "      <th>4</th>\n",
       "      <td>7.0</td>\n",
       "      <td>2</td>\n",
       "    </tr>\n",
       "  </tbody>\n",
       "</table>\n",
       "</div>"
      ],
      "text/plain": [
       "   Cont  Dis\n",
       "0   7.0    2\n",
       "1   7.0    2\n",
       "2   2.0    0\n",
       "3   7.0    2\n",
       "4   7.0    2"
      ]
     },
     "execution_count": 128,
     "metadata": {},
     "output_type": "execute_result"
    }
   ],
   "source": [
    "y_df.head()"
   ]
  },
  {
   "cell_type": "code",
   "execution_count": 129,
   "id": "c8ad4315",
   "metadata": {},
   "outputs": [],
   "source": [
    "y = np.array(y_df.Dis)\n",
    "y_train = y[:37]\n",
    "y_valid = y[37:]"
   ]
  },
  {
   "cell_type": "code",
   "execution_count": 130,
   "id": "56d83769",
   "metadata": {},
   "outputs": [],
   "source": [
    "model = keras.Sequential()\n",
    "model.add(keras.layers.Masking(mask_value=special_value, input_shape=(cut_off, len(related_features) -1)))\n",
    "model.add(keras.layers.LSTM(32))\n",
    "model.add(keras.layers.Dense(3, activation='softmax'))\n",
    "\n",
    "model.compile(loss='sparse_categorical_crossentropy', \n",
    "              optimizer=keras.optimizers.Adam(learning_rate=0.01), metrics=['accuracy'])"
   ]
  },
  {
   "cell_type": "code",
   "execution_count": 131,
   "id": "139af2d2",
   "metadata": {},
   "outputs": [
    {
     "name": "stdout",
     "output_type": "stream",
     "text": [
      "Epoch 1/10\n",
      "2/2 [==============================] - 4s 2s/step - loss: 0.5424 - accuracy: 0.8919 - val_loss: 0.9226 - val_accuracy: 0.6667\n",
      "Epoch 2/10\n",
      "2/2 [==============================] - 3s 2s/step - loss: 0.4286 - accuracy: 0.8919 - val_loss: 1.0461 - val_accuracy: 0.6667\n",
      "Epoch 3/10\n",
      "2/2 [==============================] - 3s 2s/step - loss: 0.3988 - accuracy: 0.8919 - val_loss: 1.1517 - val_accuracy: 0.6667\n",
      "Epoch 4/10\n",
      "2/2 [==============================] - 3s 2s/step - loss: 0.3845 - accuracy: 0.8919 - val_loss: 1.2053 - val_accuracy: 0.6667\n",
      "Epoch 5/10\n",
      "2/2 [==============================] - 4s 2s/step - loss: 0.3773 - accuracy: 0.8919 - val_loss: 1.2267 - val_accuracy: 0.6667\n",
      "Epoch 6/10\n",
      "2/2 [==============================] - 4s 2s/step - loss: 0.3748 - accuracy: 0.8919 - val_loss: 1.2475 - val_accuracy: 0.6667\n",
      "Epoch 7/10\n",
      "2/2 [==============================] - 4s 2s/step - loss: 0.3664 - accuracy: 0.8919 - val_loss: 1.2577 - val_accuracy: 0.6667\n",
      "Epoch 8/10\n",
      "2/2 [==============================] - 3s 2s/step - loss: 0.3554 - accuracy: 0.8919 - val_loss: 1.2677 - val_accuracy: 0.6667\n",
      "Epoch 9/10\n",
      "2/2 [==============================] - 4s 2s/step - loss: 0.3477 - accuracy: 0.8919 - val_loss: 1.2891 - val_accuracy: 0.6667\n",
      "Epoch 10/10\n",
      "2/2 [==============================] - 3s 2s/step - loss: 0.3426 - accuracy: 0.8919 - val_loss: 1.3262 - val_accuracy: 0.6667\n"
     ]
    }
   ],
   "source": [
    "history = model.fit(x = x_train, y = y_train, \n",
    "                    validation_data = (x_valid, y_valid),\n",
    "                    epochs = 10)"
   ]
  },
  {
   "cell_type": "code",
   "execution_count": null,
   "id": "2908e4f4",
   "metadata": {},
   "outputs": [],
   "source": [
    "y_score = model.predict(x_valid)\n",
    "y_score"
   ]
  },
  {
   "cell_type": "code",
   "execution_count": null,
   "id": "cc2fd9aa",
   "metadata": {},
   "outputs": [],
   "source": [
    "y_valid"
   ]
  },
  {
   "cell_type": "code",
   "execution_count": null,
   "id": "91c4ac12",
   "metadata": {},
   "outputs": [],
   "source": [
    "feature_idx = 15"
   ]
  },
  {
   "cell_type": "code",
   "execution_count": null,
   "id": "24086066",
   "metadata": {},
   "outputs": [],
   "source": [
    "plt.style.use('classic')\n",
    "fig, ax = plt.subplots()"
   ]
  },
  {
   "cell_type": "code",
   "execution_count": null,
   "id": "9c782f7a",
   "metadata": {},
   "outputs": [],
   "source": [
    "plt.plot(x_valid[0][:,feature_idx])\n",
    "plt.plot(x_valid[1][:,feature_idx])\n",
    "plt.plot(x_valid[2][:,feature_idx])\n",
    "plt.plot(x_valid[3][:,feature_idx])\n",
    "plt.plot(x_valid[4][:,feature_idx])\n",
    "plt.plot(x_valid[5][:,feature_idx])\n",
    "plt.show()"
   ]
  },
  {
   "cell_type": "code",
   "execution_count": null,
   "id": "d53627b8",
   "metadata": {},
   "outputs": [],
   "source": [
    "plt.plot(x_valid[2][:,feature_idx])\n",
    "plt.plot(x_valid[4][:,feature_idx])\n",
    "plt.plot(x_valid[5][:,feature_idx])\n",
    "plt.show()"
   ]
  },
  {
   "cell_type": "code",
   "execution_count": null,
   "id": "716bdf8b",
   "metadata": {},
   "outputs": [],
   "source": []
  },
  {
   "cell_type": "code",
   "execution_count": null,
   "id": "bcf9d1c1",
   "metadata": {},
   "outputs": [],
   "source": []
  },
  {
   "cell_type": "code",
   "execution_count": null,
   "id": "079b4c5c",
   "metadata": {},
   "outputs": [],
   "source": []
  },
  {
   "cell_type": "code",
   "execution_count": null,
   "id": "f634f1fc",
   "metadata": {},
   "outputs": [],
   "source": [
    "y_dis_pred_valid"
   ]
  },
  {
   "cell_type": "code",
   "execution_count": null,
   "id": "40316184",
   "metadata": {},
   "outputs": [],
   "source": [
    "y_dis_train = tf.keras.utils.to_categorical(y_dis_train, num_classes=3)\n",
    "y_dis_valid = tf.keras.utils.to_categorical(y_dis_valid, num_classes=3)"
   ]
  },
  {
   "cell_type": "code",
   "execution_count": null,
   "id": "36e5ceea",
   "metadata": {},
   "outputs": [],
   "source": [
    "y_dis_valid"
   ]
  },
  {
   "cell_type": "code",
   "execution_count": null,
   "id": "c36c1678",
   "metadata": {},
   "outputs": [],
   "source": [
    "n_classes = 3\n",
    "precision = dict()\n",
    "recall = dict()\n",
    "average_precision = dict()\n",
    "for i in range(n_classes):\n",
    "    precision[i], recall[i], _ = precision_recall_curve(y_dis_valid[:, i],\n",
    "                                                        y_dis_pred_valid[:, i])\n",
    "    average_precision[i] = average_precision_score(y_dis_valid[:, i], y_dis_pred_valid[:, i])\n",
    "\n",
    "# A \"micro-average\": quantifying score on all classes jointly\n",
    "precision[\"micro\"], recall[\"micro\"], _ = precision_recall_curve(y_dis_valid.ravel(),\n",
    "     y_dis_pred_valid.ravel())\n",
    "average_precision[\"micro\"] = average_precision_score(y_dis_valid,  y_dis_pred_valid,\n",
    "                                                     average=\"micro\")\n",
    "print('Average precision score, micro-averaged over all classes: {0:0.2f}'\n",
    "      .format(average_precision[\"micro\"]))"
   ]
  },
  {
   "cell_type": "code",
   "execution_count": null,
   "id": "39682431",
   "metadata": {},
   "outputs": [],
   "source": []
  },
  {
   "cell_type": "code",
   "execution_count": null,
   "id": "721a5827",
   "metadata": {},
   "outputs": [],
   "source": []
  },
  {
   "cell_type": "code",
   "execution_count": null,
   "id": "fda7c4ab",
   "metadata": {},
   "outputs": [],
   "source": []
  },
  {
   "cell_type": "code",
   "execution_count": null,
   "id": "9c3ae403",
   "metadata": {},
   "outputs": [],
   "source": []
  },
  {
   "cell_type": "markdown",
   "id": "8b3986ce",
   "metadata": {},
   "source": [
    "## Sklearn Example for Percision Recall Curve\n",
    "[link](https://scikit-learn.org/stable/auto_examples/model_selection/plot_precision_recall.html)"
   ]
  },
  {
   "cell_type": "code",
   "execution_count": null,
   "id": "94d589e1",
   "metadata": {},
   "outputs": [],
   "source": [
    "\n",
    "# setup plot details\n",
    "colors = cycle(['navy', 'turquoise', 'darkorange', 'cornflowerblue', 'teal'])\n",
    "\n",
    "plt.figure(figsize=(7, 8))\n",
    "f_scores = np.linspace(0.2, 0.8, num=4)\n",
    "lines = []\n",
    "labels = []\n",
    "for f_score in f_scores:\n",
    "    x = np.linspace(0.01, 1)\n",
    "    y = f_score * x / (2 * x - f_score)\n",
    "    l, = plt.plot(x[y >= 0], y[y >= 0], color='gray', alpha=0.2)\n",
    "    plt.annotate('f1={0:0.1f}'.format(f_score), xy=(0.9, y[45] + 0.02))\n",
    "\n",
    "lines.append(l)\n",
    "labels.append('iso-f1 curves')\n",
    "l, = plt.plot(recall[\"micro\"], precision[\"micro\"], color='gold', lw=2)\n",
    "lines.append(l)\n",
    "labels.append('micro-average Precision-recall (area = {0:0.2f})'\n",
    "              ''.format(average_precision[\"micro\"]))\n",
    "\n",
    "for i, color in zip(range(n_classes), colors):\n",
    "    l, = plt.plot(recall[i], precision[i], color=color, lw=2)\n",
    "    lines.append(l)\n",
    "    labels.append('Precision-recall for class {0} (area = {1:0.2f})'\n",
    "                  ''.format(i, average_precision[i]))\n",
    "\n",
    "fig = plt.gcf()\n",
    "fig.subplots_adjust(bottom=0.25)\n",
    "plt.xlim([0.0, 1.0])\n",
    "plt.ylim([0.0, 1.05])\n",
    "plt.xlabel('Recall')\n",
    "plt.ylabel('Precision')\n",
    "plt.title('Extension of Precision-Recall curve to multi-class')\n",
    "plt.legend(lines, labels, loc=(0, -.38), prop=dict(size=14))\n",
    "\n",
    "\n",
    "plt.show()\n"
   ]
  },
  {
   "cell_type": "code",
   "execution_count": null,
   "id": "3ae97c9b",
   "metadata": {},
   "outputs": [],
   "source": []
  },
  {
   "cell_type": "code",
   "execution_count": null,
   "id": "0c9eff6c",
   "metadata": {},
   "outputs": [],
   "source": []
  },
  {
   "cell_type": "code",
   "execution_count": null,
   "id": "060b905f",
   "metadata": {},
   "outputs": [],
   "source": []
  },
  {
   "cell_type": "code",
   "execution_count": null,
   "id": "cf93438b",
   "metadata": {},
   "outputs": [],
   "source": []
  },
  {
   "cell_type": "code",
   "execution_count": null,
   "id": "f77237f4",
   "metadata": {},
   "outputs": [],
   "source": [
    "y_dis_pred_valid"
   ]
  },
  {
   "cell_type": "code",
   "execution_count": null,
   "id": "2d40a024",
   "metadata": {},
   "outputs": [],
   "source": [
    "y_pred_naive = np.full(y_dis_valid.shape, 2)\n",
    "accuracy_score(y_dis_valid, y_pred_naive)"
   ]
  },
  {
   "cell_type": "code",
   "execution_count": null,
   "id": "5b70be5e",
   "metadata": {},
   "outputs": [],
   "source": []
  },
  {
   "cell_type": "code",
   "execution_count": null,
   "id": "df7ab884",
   "metadata": {},
   "outputs": [],
   "source": [
    "y_dis_valid"
   ]
  },
  {
   "cell_type": "code",
   "execution_count": null,
   "id": "b4a6aa34",
   "metadata": {},
   "outputs": [],
   "source": [
    "model = keras.Sequential()\n",
    "model.add(keras.layers.Masking(mask_value=special_value, input_shape=(cut_off, len(related_features) -1)))\n",
    "model.add(keras.layers.LSTM(32))\n",
    "model.add(keras.layers.Dense(3, activation='softmax'))"
   ]
  },
  {
   "cell_type": "code",
   "execution_count": null,
   "id": "7869774a",
   "metadata": {},
   "outputs": [],
   "source": [
    "model.compile(loss='categorical_crossentropy', optimizer=keras.optimizers.Adam(learning_rate=0.01), metrics=['accuracy'])"
   ]
  },
  {
   "cell_type": "code",
   "execution_count": null,
   "id": "a3042da0",
   "metadata": {},
   "outputs": [],
   "source": [
    "history = model.fit(x = x_train, y = y_dis_train, \n",
    "                    validation_data = (x_valid, y_dis_valid),\n",
    "                    epochs = 25)"
   ]
  },
  {
   "cell_type": "code",
   "execution_count": null,
   "id": "604a3917",
   "metadata": {},
   "outputs": [],
   "source": [
    "y_dis_valid"
   ]
  },
  {
   "cell_type": "code",
   "execution_count": null,
   "id": "7acb857e",
   "metadata": {},
   "outputs": [],
   "source": [
    "y_dis_train"
   ]
  },
  {
   "cell_type": "code",
   "execution_count": null,
   "id": "7cab9476",
   "metadata": {},
   "outputs": [],
   "source": []
  }
 ],
 "metadata": {
  "kernelspec": {
   "display_name": "Python 3",
   "language": "python",
   "name": "python3"
  },
  "language_info": {
   "codemirror_mode": {
    "name": "ipython",
    "version": 3
   },
   "file_extension": ".py",
   "mimetype": "text/x-python",
   "name": "python",
   "nbconvert_exporter": "python",
   "pygments_lexer": "ipython3",
   "version": "3.8.8"
  }
 },
 "nbformat": 4,
 "nbformat_minor": 5
}
