{
 "cells": [
  {
   "cell_type": "markdown",
   "id": "ba3011c4",
   "metadata": {},
   "source": [
    "## Analysis with \"DumbTo\" Stimulus"
   ]
  },
  {
   "cell_type": "code",
   "execution_count": 1,
   "id": "b9fd8254",
   "metadata": {},
   "outputs": [],
   "source": [
    "import pandas as pd\n",
    "import matplotlib.pyplot as plt\n",
    "\n",
    "import tensorflow as tf\n",
    "\n",
    "from tensorflow import keras\n",
    "from tensorflow.keras import layers\n",
    "\n",
    "import numpy as np\n",
    "\n",
    "from sklearn.metrics import accuracy_score\n",
    "from sklearn.metrics import average_precision_score\n",
    "from sklearn.metrics import precision_recall_curve\n",
    "from sklearn.metrics import plot_precision_recall_curve\n",
    "\n",
    "from sklearn.preprocessing import label_binarize\n",
    "\n",
    "from itertools import cycle"
   ]
  },
  {
   "cell_type": "code",
   "execution_count": 5,
   "id": "0834ec61",
   "metadata": {
    "scrolled": true
   },
   "outputs": [
    {
     "data": {
      "text/plain": [
       "Index(['Study', 'Subject_ID', 'StimName', 'Experiment_Time',\n",
       "       'CALIB_VALID_POINTS', 'Group', 'Age', 'Handedness', 'Country',\n",
       "       'Language', 'Gender', 'Eyewear', 'Session_Date', 'Block',\n",
       "       'Big5_Openness', 'Big5_Conscientiousness', 'Big5_Extraversion',\n",
       "       'Big5_Agreeableness', 'Big5_Neuroticism', 'Expert', 'Ethnicity',\n",
       "       'SessionDate', 'OrderStim', 'StartTime', 'EndTime', 'PosNegAdSAM',\n",
       "       'ExciteCalmAdSAM', 'ImpCom', 'PosCom', 'LikeCom', 'ViewsCom',\n",
       "       'PreLikelyFav', 'PostLikelyFav', 'LikelyFavDifference', 'PostOften',\n",
       "       'CNT', 'Eye_Time', 'TIME_TICK', 'FPOGX', 'FPOGY', 'FPOGS', 'FPOGD',\n",
       "       'FPOGID', 'FPOGV', 'BPOGX', 'BPOGY', 'BPOGV', 'LPCX', 'LPCY', 'LPD',\n",
       "       'LPS', 'LPV', 'RPCX', 'RPCY', 'RPD', 'RPS', 'RPV', 'LPUPILD', 'LPUPILV',\n",
       "       'RPUPILD', 'RPUPILV', 'Frame', 'Distance_to_Next_Frame', 'Face_Time',\n",
       "       'Anger_Evidence', 'Anger_Intensity', 'Contempt_Evidence',\n",
       "       'Contempt_Intensity', 'Disgust_Evidence', 'Disgust_Intensity',\n",
       "       'Joy_Evidence', 'Joy_Intensity', 'Fear_Evidence', 'Fear_Intensity',\n",
       "       'Negative_Evidence', 'Negative_Intensity', 'Neutral_Evidence',\n",
       "       'Neutral_Intensity', 'Positive_Evidence', 'Positive_Intensity',\n",
       "       'Sadness_Evidence', 'Sadness_Intensity', 'Surprise_Evidence',\n",
       "       'Surprise_Intensity', 'Heart_Rate', 'Average_Heart_Rate', 'Heart_Time',\n",
       "       'Normed_Heart_Rate', 'Persons_Average_LPD', 'Persons_Average_RPD',\n",
       "       'Normed_LPD', 'Normed_RPD', 'bpogx_dmean', 'bpogy_dmean',\n",
       "       'combined_normed_bpogxy', 'Normed_LPS', 'Normed_RPS', 'Stim_Frame'],\n",
       "      dtype='object')"
      ]
     },
     "execution_count": 5,
     "metadata": {},
     "output_type": "execute_result"
    }
   ],
   "source": [
    "sub_DumbTo = pd.read_csv(\"./Data/Subsamples/DumbTo.csv\")\n",
    "sub_DumbTo.columns"
   ]
  },
  {
   "cell_type": "markdown",
   "id": "5c47443e",
   "metadata": {},
   "source": [
    "### Clean FPOGX(Y)\n",
    "Set values of FPOGX(Y) to NaN for records with BPOGV == 0"
   ]
  },
  {
   "cell_type": "code",
   "execution_count": 3,
   "id": "5419c0ae",
   "metadata": {},
   "outputs": [
    {
     "name": "stdout",
     "output_type": "stream",
     "text": [
      "Number of valid FPOGX(Y) Records:    270379\n",
      "Number of invalid FPOGX(Y) Records:  168261\n",
      "Percentage of valid FPOGV records: 62%\n"
     ]
    }
   ],
   "source": [
    "print(\"Number of valid FPOGX(Y) Records:   \", sub_DumbTo[sub_DumbTo.FPOGV == 1].shape[0])\n",
    "print(\"Number of invalid FPOGX(Y) Records: \", sub_DumbTo[sub_DumbTo.FPOGV == 0].shape[0])\n",
    "ratio = sub_DumbTo[sub_DumbTo.FPOGV == 1].shape[0] /\\\n",
    "    (sub_DumbTo[sub_DumbTo.FPOGV == 1].shape[0] + sub_DumbTo[sub_DumbTo.FPOGV == 0].shape[0])\n",
    "print(f\"Percentage of valid FPOGV records: {int(round(ratio, 2) * 100)}%\")      "
   ]
  },
  {
   "cell_type": "code",
   "execution_count": 4,
   "id": "ea51a818",
   "metadata": {},
   "outputs": [],
   "source": [
    "sub_DumbTo.loc[sub_DumbTo.FPOGV == 0, \"FPOGX\"]= np.nan\n",
    "sub_DumbTo.loc[sub_DumbTo.FPOGV == 0, \"FPOGY\"]= np.nan"
   ]
  },
  {
   "cell_type": "code",
   "execution_count": 5,
   "id": "9e96016e",
   "metadata": {},
   "outputs": [
    {
     "data": {
      "text/plain": [
       "168261"
      ]
     },
     "execution_count": 5,
     "metadata": {},
     "output_type": "execute_result"
    }
   ],
   "source": [
    "# Test\n",
    "sum(sub_DumbTo.FPOGY.isna())"
   ]
  },
  {
   "cell_type": "markdown",
   "id": "e486943a",
   "metadata": {},
   "source": [
    "### Clean BPOGX(Y)\n",
    "Set values of FPOGX(Y) to NaN for records with BPOGV == 0"
   ]
  },
  {
   "cell_type": "code",
   "execution_count": 6,
   "id": "8920c9fe",
   "metadata": {},
   "outputs": [
    {
     "name": "stdout",
     "output_type": "stream",
     "text": [
      "Number of valid BPOGX(Y) Records:    337469\n",
      "Number of invalid BPOGX(Y) Records:  101171\n",
      "Percentage of valid BPOGV records: 77%\n"
     ]
    }
   ],
   "source": [
    "print(\"Number of valid BPOGX(Y) Records:   \", sub_DumbTo[sub_DumbTo.BPOGV == 1].shape[0])\n",
    "print(\"Number of invalid BPOGX(Y) Records: \", sub_DumbTo[sub_DumbTo.BPOGV == 0].shape[0])\n",
    "ratio = sub_DumbTo[sub_DumbTo.BPOGV == 1].shape[0] /\\\n",
    "    (sub_DumbTo[sub_DumbTo.BPOGV == 1].shape[0] + sub_DumbTo[sub_DumbTo.BPOGV == 0].shape[0])\n",
    "print(f\"Percentage of valid BPOGV records: {int(round(ratio, 2) * 100)}%\")"
   ]
  },
  {
   "cell_type": "code",
   "execution_count": 7,
   "id": "beb7761e",
   "metadata": {},
   "outputs": [],
   "source": [
    "sub_DumbTo.loc[sub_DumbTo.BPOGV == 0, \"BPOGX\"]= np.nan\n",
    "sub_DumbTo.loc[sub_DumbTo.BPOGV == 0, \"BPOGY\"]= np.nan"
   ]
  },
  {
   "cell_type": "code",
   "execution_count": 8,
   "id": "6af332a6",
   "metadata": {},
   "outputs": [
    {
     "data": {
      "text/plain": [
       "101171"
      ]
     },
     "execution_count": 8,
     "metadata": {},
     "output_type": "execute_result"
    }
   ],
   "source": [
    "# Test\n",
    "sum(sub_DumbTo.BPOGY.isna())"
   ]
  },
  {
   "cell_type": "markdown",
   "id": "1d4e25b7",
   "metadata": {},
   "source": [
    "### Clean (R)LPV\n",
    "Set values of (R)LPCX(Y), (R)LPD, (R)LPS to NaN for records with (R)LPV == 0"
   ]
  },
  {
   "cell_type": "code",
   "execution_count": 9,
   "id": "581ad114",
   "metadata": {},
   "outputs": [
    {
     "name": "stdout",
     "output_type": "stream",
     "text": [
      "Number of valid RPV Records:    370211\n",
      "Number of invalid RPV Records:  68429\n",
      "Percentage of valid RPV records: 84%\n"
     ]
    }
   ],
   "source": [
    "print(\"Number of valid RPV Records:   \", sub_DumbTo[sub_DumbTo.RPV == 1].shape[0])\n",
    "print(\"Number of invalid RPV Records: \", sub_DumbTo[sub_DumbTo.RPV == 0].shape[0])\n",
    "ratio = sub_DumbTo[sub_DumbTo.RPV == 1].shape[0] /\\\n",
    "    (sub_DumbTo[sub_DumbTo.RPV == 1].shape[0] + sub_DumbTo[sub_DumbTo.RPV == 0].shape[0])\n",
    "print(f\"Percentage of valid RPV records: {int(round(ratio, 2) * 100)}%\")"
   ]
  },
  {
   "cell_type": "code",
   "execution_count": 10,
   "id": "65a62df5",
   "metadata": {},
   "outputs": [],
   "source": [
    "sub_DumbTo.loc[sub_DumbTo.RPV == 0, [\"RPCX\", \"RPCY\", \"RPD\", \"RPS\"]] = np.nan"
   ]
  },
  {
   "cell_type": "code",
   "execution_count": 11,
   "id": "ee0243ac",
   "metadata": {},
   "outputs": [
    {
     "data": {
      "text/plain": [
       "68429"
      ]
     },
     "execution_count": 11,
     "metadata": {},
     "output_type": "execute_result"
    }
   ],
   "source": [
    "# Test\n",
    "sum(sub_DumbTo.RPCX.isna())"
   ]
  },
  {
   "cell_type": "code",
   "execution_count": 12,
   "id": "ac14e838",
   "metadata": {},
   "outputs": [
    {
     "name": "stdout",
     "output_type": "stream",
     "text": [
      "Number of valid LPV Records:    350892\n",
      "Number of invalid LPV Records:  87748\n",
      "Percentage of valid LPV records: 80%\n"
     ]
    }
   ],
   "source": [
    "print(\"Number of valid LPV Records:   \", sub_DumbTo[sub_DumbTo.LPV == 1].shape[0])\n",
    "print(\"Number of invalid LPV Records: \", sub_DumbTo[sub_DumbTo.LPV == 0].shape[0])\n",
    "ratio = sub_DumbTo[sub_DumbTo.LPV == 1].shape[0] /\\\n",
    "    (sub_DumbTo[sub_DumbTo.LPV == 1].shape[0] + sub_DumbTo[sub_DumbTo.LPV == 0].shape[0])\n",
    "print(f\"Percentage of valid LPV records: {int(round(ratio, 2) * 100)}%\")"
   ]
  },
  {
   "cell_type": "code",
   "execution_count": 13,
   "id": "c230806a",
   "metadata": {},
   "outputs": [],
   "source": [
    "sub_DumbTo.loc[sub_DumbTo.LPV == 0, [\"LPCX\", \"LPCY\", \"LPD\", \"LPS\"]] = np.nan"
   ]
  },
  {
   "cell_type": "code",
   "execution_count": 14,
   "id": "ef30eadb",
   "metadata": {},
   "outputs": [
    {
     "data": {
      "text/plain": [
       "87748"
      ]
     },
     "execution_count": 14,
     "metadata": {},
     "output_type": "execute_result"
    }
   ],
   "source": [
    "# Test\n",
    "sum(sub_DumbTo.LPS.isna())"
   ]
  },
  {
   "cell_type": "markdown",
   "id": "88252da5",
   "metadata": {},
   "source": [
    "### Clean (R)LPUPILV\n",
    "Set values of (R)LPUPILD to NaN for records with (R)LPUPILV == 0"
   ]
  },
  {
   "cell_type": "code",
   "execution_count": 15,
   "id": "6881d0eb",
   "metadata": {
    "scrolled": true
   },
   "outputs": [
    {
     "name": "stdout",
     "output_type": "stream",
     "text": [
      "Number of valid RPUPILV Records:    175774\n",
      "Number of invalid RPUPILV Records:  68429\n",
      "Percentage of valid RPUPILV records: 72%\n",
      "\n",
      "\n",
      "Number of valid LPUPILV Records:    188135\n",
      "Number of invalid LPUPILV Records:  87748\n",
      "Percentage of valid LPUPILV records: 68%\n"
     ]
    }
   ],
   "source": [
    "print(\"Number of valid RPUPILV Records:   \", sub_DumbTo[sub_DumbTo.RPUPILV == 1].shape[0])\n",
    "print(\"Number of invalid RPUPILV Records: \", sub_DumbTo[sub_DumbTo.RPUPILV == 0].shape[0])\n",
    "ratio = sub_DumbTo[sub_DumbTo.RPUPILV == 1].shape[0] /\\\n",
    "    (sub_DumbTo[sub_DumbTo.RPUPILV == 1].shape[0] + sub_DumbTo[sub_DumbTo.RPUPILV == 0].shape[0])\n",
    "print(f\"Percentage of valid RPUPILV records: {int(round(ratio, 2) * 100)}%\")\n",
    "print(\"\\n\")\n",
    "print(\"Number of valid LPUPILV Records:   \", sub_DumbTo[sub_DumbTo.LPUPILV == 1].shape[0])\n",
    "print(\"Number of invalid LPUPILV Records: \", sub_DumbTo[sub_DumbTo.LPUPILV == 0].shape[0])\n",
    "ratio = sub_DumbTo[sub_DumbTo.LPUPILV == 1].shape[0] /\\\n",
    "    (sub_DumbTo[sub_DumbTo.LPUPILV == 1].shape[0] + sub_DumbTo[sub_DumbTo.LPUPILV == 0].shape[0])\n",
    "print(f\"Percentage of valid LPUPILV records: {int(round(ratio, 2) * 100)}%\")"
   ]
  },
  {
   "cell_type": "code",
   "execution_count": 16,
   "id": "dab8c5f9",
   "metadata": {},
   "outputs": [],
   "source": [
    "sub_DumbTo.loc[sub_DumbTo.RPUPILV == 0, [\"RPUPILD\"]] = np.nan\n",
    "sub_DumbTo.loc[sub_DumbTo.LPUPILV == 0, [\"LPUPILD\"]] = np.nan"
   ]
  },
  {
   "cell_type": "code",
   "execution_count": 17,
   "id": "7b31ac75",
   "metadata": {},
   "outputs": [
    {
     "data": {
      "text/plain": [
       "68429"
      ]
     },
     "execution_count": 17,
     "metadata": {},
     "output_type": "execute_result"
    }
   ],
   "source": [
    "# Test\n",
    "sum(sub_DumbTo.RPUPILD.isna())"
   ]
  },
  {
   "cell_type": "code",
   "execution_count": 18,
   "id": "bbbc9c01",
   "metadata": {},
   "outputs": [
    {
     "data": {
      "text/plain": [
       "87748"
      ]
     },
     "execution_count": 18,
     "metadata": {},
     "output_type": "execute_result"
    }
   ],
   "source": [
    "# Test\n",
    "sum(sub_DumbTo.LPUPILD.isna())"
   ]
  },
  {
   "cell_type": "code",
   "execution_count": 6,
   "id": "6a453f41",
   "metadata": {
    "scrolled": true
   },
   "outputs": [
    {
     "data": {
      "text/plain": [
       "count    63.000000\n",
       "mean      6.285714\n",
       "std       1.660048\n",
       "min       1.000000\n",
       "25%       7.000000\n",
       "50%       7.000000\n",
       "75%       7.000000\n",
       "max       7.000000\n",
       "Name: DumbTo, dtype: float64"
      ]
     },
     "execution_count": 6,
     "metadata": {},
     "output_type": "execute_result"
    }
   ],
   "source": [
    "# For RPD and SPD we can use the raw or normed versions, which one?\n",
    "related_features = ['Subject_ID',\n",
    "       'FPOGX', 'FPOGY', \n",
    "       'BPOGX', 'BPOGY', \n",
    "       'LPCX', 'LPCY', 'Normed_LPD', 'Normed_LPS', 'RPCX', 'RPCY', 'Normed_RPD', 'Normed_RPS', \n",
    "       'LPUPILD', 'RPUPILD', \n",
    "       'Anger_Evidence', 'Contempt_Evidence', 'Disgust_Evidence', 'Joy_Evidence', 'Fear_Evidence',\n",
    "       'Negative_Evidence', 'Neutral_Evidence', 'Positive_Evidence', 'Sadness_Evidence', 'Surprise_Evidence', \n",
    "       'Heart_Rate']\n",
    "\n",
    "data_recall = pd.read_csv('./Data/Lab_Recall_Hand_Edited/SuperMovie1516_L.csv')\n",
    "data_recall.DumbTo.describe()"
   ]
  },
  {
   "cell_type": "code",
   "execution_count": 7,
   "id": "deebbcbe",
   "metadata": {},
   "outputs": [],
   "source": [
    "idx_to_col_name = {k: v for k, v in enumerate(related_features[1:])}"
   ]
  },
  {
   "cell_type": "code",
   "execution_count": 8,
   "id": "2d7f8be7",
   "metadata": {},
   "outputs": [],
   "source": [
    "#all_calib_valid_data = pd.read_csv(\"./Data/Raw_Data/Harmonized_Instrument_Data-002.csv\", usecols =[\"Subject_ID\", \"CALIB_VALID_POINTS\"])\n",
    "\n",
    "#print(\"All CALIB_VALID_POINTS are Nan\") if any(all_calib_valid_data.CALIB_VALID_POINTS.isna()) \\\n",
    "#    else print(\"There are non-NaN values in CALIB_VALID_POINTS\")       "
   ]
  },
  {
   "cell_type": "code",
   "execution_count": 9,
   "id": "fdafb17f",
   "metadata": {
    "scrolled": true
   },
   "outputs": [
    {
     "data": {
      "image/png": "[encoded data removed]",
      "text/plain": [
       "<Figure size 600x350 with 1 Axes>"
      ]
     },
     "metadata": {},
     "output_type": "display_data"
    }
   ],
   "source": [
    "data_recall.DumbTo.hist(figsize=(6,3.5))\n",
    "plt.show()"
   ]
  },
  {
   "cell_type": "code",
   "execution_count": 10,
   "id": "7b926399",
   "metadata": {},
   "outputs": [
    {
     "name": "stdout",
     "output_type": "stream",
     "text": [
      "Number of subjects: 45\n",
      "Min sequence lengh:  9676\n"
     ]
    }
   ],
   "source": [
    "seq_length = sub_DumbTo.groupby(\"Subject_ID\").size().reset_index()\n",
    "seq_length.columns = [\"Subject_ID\", \"Length\"]\n",
    "num_of_subjects = seq_length.shape[0]\n",
    "print(\"Number of subjects:\", num_of_subjects)\n",
    "\n",
    "print(\"Min sequence lengh: \",seq_length.Length.min())"
   ]
  },
  {
   "cell_type": "code",
   "execution_count": 11,
   "id": "4a727be0",
   "metadata": {},
   "outputs": [],
   "source": [
    "# remove user 344 from seq-length and data (length is outlier)\n",
    "seq_length = seq_length[seq_length.Subject_ID != 344]\n",
    "sub_DumbTo = sub_DumbTo[sub_DumbTo.Subject_ID != 344]"
   ]
  },
  {
   "cell_type": "code",
   "execution_count": 12,
   "id": "c3b4b2f6",
   "metadata": {},
   "outputs": [
    {
     "name": "stdout",
     "output_type": "stream",
     "text": [
      "Number of subjects: 44\n"
     ]
    }
   ],
   "source": [
    "num_of_subjects = seq_length.shape[0]\n",
    "print(\"Number of subjects:\", num_of_subjects)"
   ]
  },
  {
   "cell_type": "code",
   "execution_count": 13,
   "id": "74ddbb8d",
   "metadata": {},
   "outputs": [
    {
     "name": "stdout",
     "output_type": "stream",
     "text": [
      "Cutoff is : 9744\n"
     ]
    }
   ],
   "source": [
    "cut_off = seq_length.Length.min()\n",
    "print(\"Cutoff is :\", cut_off)"
   ]
  },
  {
   "cell_type": "code",
   "execution_count": 14,
   "id": "adf1ed2a",
   "metadata": {},
   "outputs": [
    {
     "name": "stdout",
     "output_type": "stream",
     "text": [
      "Sqeuence length after adjustment: 9744.0\n"
     ]
    }
   ],
   "source": [
    "seq_length['Sum_Length'] = seq_length.Length.cumsum() \n",
    "seq_length = seq_length.reset_index()\n",
    "\n",
    "# Adjust the length of all seqs\n",
    "cut_off = seq_length.Length.min()\n",
    "\n",
    "rem_index = np.zeros(sub_DumbTo.shape[0])\n",
    "rem_index[0 : cut_off] = 1  \n",
    "for i in range(0, seq_length.shape[0]-1):\n",
    "    rem_index[seq_length.Sum_Length[i] : seq_length.Sum_Length[i]  + cut_off] = 1\n",
    "    \n",
    "sub_DumbTo[\"Rem_Index\"] = rem_index\n",
    "\n",
    "sub_DumbTo = sub_DumbTo[sub_DumbTo.Rem_Index == 1]\n",
    "\n",
    "print(\"Sqeuence length after adjustment:\", sub_DumbTo.shape[0]/44)\n",
    "\n",
    "sub_DumbTo = sub_DumbTo[related_features]"
   ]
  },
  {
   "cell_type": "code",
   "execution_count": 15,
   "id": "d6f1a79e",
   "metadata": {},
   "outputs": [],
   "source": [
    "num_non_zero_nulls_in_cols = sub_DumbTo.isnull().sum().reset_index()\n",
    "num_non_zero_nulls_in_cols.columns = [\"Column\", \"Num_Nulls\"]\n",
    "num_non_zero_nulls_in_cols = num_non_zero_nulls_in_cols[num_non_zero_nulls_in_cols.Num_Nulls != 0]"
   ]
  },
  {
   "cell_type": "code",
   "execution_count": 16,
   "id": "aa3a9cc5",
   "metadata": {},
   "outputs": [
    {
     "data": {
      "text/html": [
       "<div>\n",
       "<style scoped>\n",
       "    .dataframe tbody tr th:only-of-type {\n",
       "        vertical-align: middle;\n",
       "    }\n",
       "\n",
       "    .dataframe tbody tr th {\n",
       "        vertical-align: top;\n",
       "    }\n",
       "\n",
       "    .dataframe thead th {\n",
       "        text-align: right;\n",
       "    }\n",
       "</style>\n",
       "<table border=\"1\" class=\"dataframe\">\n",
       "  <thead>\n",
       "    <tr style=\"text-align: right;\">\n",
       "      <th></th>\n",
       "      <th>Column</th>\n",
       "      <th>Num_Nulls</th>\n",
       "    </tr>\n",
       "  </thead>\n",
       "  <tbody>\n",
       "    <tr>\n",
       "      <th>8</th>\n",
       "      <td>Normed_LPS</td>\n",
       "      <td>9787</td>\n",
       "    </tr>\n",
       "    <tr>\n",
       "      <th>12</th>\n",
       "      <td>Normed_RPS</td>\n",
       "      <td>9787</td>\n",
       "    </tr>\n",
       "  </tbody>\n",
       "</table>\n",
       "</div>"
      ],
      "text/plain": [
       "        Column  Num_Nulls\n",
       "8   Normed_LPS       9787\n",
       "12  Normed_RPS       9787"
      ]
     },
     "execution_count": 16,
     "metadata": {},
     "output_type": "execute_result"
    }
   ],
   "source": [
    "# In the data one user has no value for the above columns and the first value of all users is null\n",
    "num_non_zero_nulls_in_cols"
   ]
  },
  {
   "cell_type": "code",
   "execution_count": 17,
   "id": "8e4e9060",
   "metadata": {},
   "outputs": [
    {
     "name": "stdout",
     "output_type": "stream",
     "text": [
      "Sequence length (cutt_off) equls:  9743\n",
      "Number of Subjects is:  43\n"
     ]
    }
   ],
   "source": [
    "# remove user 345 from seq-length and data (has missing values for 4 columns)\n",
    "seq_length = seq_length[seq_length.Subject_ID != 345]\n",
    "sub_DumbTo = sub_DumbTo[~sub_DumbTo.Normed_LPS.isna()]\n",
    "# We can remove all nulls and make the sequnce one unit smaller\n",
    "#sub_DumbTo = sub_DumbTo.dropna()\n",
    "\n",
    "# For the above four columns the first element of each sequence was na, so the sequence length (cut_off) is reduced by 1\n",
    "cut_off = cut_off - 1\n",
    "num_of_subjects = sub_DumbTo.shape[0]/(cut_off)\n",
    "print(\"Sequence length (cutt_off) equls: \", cut_off)\n",
    "print(\"Number of Subjects is: \", int(num_of_subjects))\n",
    "\n",
    "sub_DumbTo = sub_DumbTo.drop(columns=['Subject_ID'])"
   ]
  },
  {
   "cell_type": "code",
   "execution_count": 18,
   "id": "09748f15",
   "metadata": {},
   "outputs": [],
   "source": [
    "num_non_zero_nulls_in_cols = sub_DumbTo.isnull().sum().reset_index()\n",
    "num_non_zero_nulls_in_cols.columns = [\"Column\", \"Num_Nulls\"]\n",
    "num_non_zero_nulls_in_cols = num_non_zero_nulls_in_cols[num_non_zero_nulls_in_cols.Num_Nulls != 0]"
   ]
  },
  {
   "cell_type": "code",
   "execution_count": 19,
   "id": "004a25a3",
   "metadata": {},
   "outputs": [
    {
     "data": {
      "text/html": [
       "<div>\n",
       "<style scoped>\n",
       "    .dataframe tbody tr th:only-of-type {\n",
       "        vertical-align: middle;\n",
       "    }\n",
       "\n",
       "    .dataframe tbody tr th {\n",
       "        vertical-align: top;\n",
       "    }\n",
       "\n",
       "    .dataframe thead th {\n",
       "        text-align: right;\n",
       "    }\n",
       "</style>\n",
       "<table border=\"1\" class=\"dataframe\">\n",
       "  <thead>\n",
       "    <tr style=\"text-align: right;\">\n",
       "      <th></th>\n",
       "      <th>Column</th>\n",
       "      <th>Num_Nulls</th>\n",
       "    </tr>\n",
       "  </thead>\n",
       "  <tbody>\n",
       "  </tbody>\n",
       "</table>\n",
       "</div>"
      ],
      "text/plain": [
       "Empty DataFrame\n",
       "Columns: [Column, Num_Nulls]\n",
       "Index: []"
      ]
     },
     "execution_count": 19,
     "metadata": {},
     "output_type": "execute_result"
    }
   ],
   "source": [
    "num_non_zero_nulls_in_cols"
   ]
  },
  {
   "cell_type": "code",
   "execution_count": 20,
   "id": "1e802d2f",
   "metadata": {},
   "outputs": [],
   "source": [
    "# One participants had null values for the last four variables we drop that, so we reduce one from seq_length.shape[0]\n",
    "# we dropped subject_id from related features so we have len(related_features) -1 in reshape dimmentions\n",
    "x = sub_DumbTo.to_numpy()\n",
    "x = x.reshape(int(num_of_subjects), -1, len(related_features) -1 )"
   ]
  },
  {
   "cell_type": "code",
   "execution_count": 21,
   "id": "7eaa4c58",
   "metadata": {},
   "outputs": [
    {
     "name": "stdout",
     "output_type": "stream",
     "text": [
      "x.shape:  (43, 9743, 25)\n"
     ]
    }
   ],
   "source": [
    "print(\"x.shape: \", x.shape)"
   ]
  },
  {
   "cell_type": "code",
   "execution_count": 22,
   "id": "f7bcb9f8",
   "metadata": {},
   "outputs": [
    {
     "name": "stdout",
     "output_type": "stream",
     "text": [
      "len(y): 43\n"
     ]
    }
   ],
   "source": [
    "y = []\n",
    "for subject_id in seq_length.Subject_ID:\n",
    "    y.append(data_recall[data_recall.ExternalReference == subject_id].DumbTo.tolist()[0])\n",
    "y = np.array(y)\n",
    "print('len(y):', len(y))"
   ]
  },
  {
   "cell_type": "code",
   "execution_count": 23,
   "id": "0b91f8fe",
   "metadata": {},
   "outputs": [
    {
     "data": {
      "image/png": "[encoded data removed]",
      "text/plain": [
       "<Figure size 640x480 with 1 Axes>"
      ]
     },
     "metadata": {},
     "output_type": "display_data"
    }
   ],
   "source": [
    "plt.plot(x[3][:, 2])\n",
    "plt.show()"
   ]
  },
  {
   "cell_type": "markdown",
   "id": "4403e11d",
   "metadata": {},
   "source": [
    "## Modeling"
   ]
  },
  {
   "cell_type": "code",
   "execution_count": 24,
   "id": "abf25f8b",
   "metadata": {},
   "outputs": [],
   "source": [
    "x_train = x[:37]\n",
    "y_train = y[:37]\n",
    "x_valid = x[37:]\n",
    "y_valid = y[37:]"
   ]
  },
  {
   "cell_type": "code",
   "execution_count": 25,
   "id": "d628780a",
   "metadata": {},
   "outputs": [
    {
     "name": "stdout",
     "output_type": "stream",
     "text": [
      "(37, 9743, 25)\n",
      "(37,)\n",
      "(6, 9743, 25)\n",
      "(6,)\n"
     ]
    }
   ],
   "source": [
    "special_value = -9999.99\n",
    "x_train = keras.preprocessing.sequence.pad_sequences(x_train, maxlen = cut_off, padding = \"post\", dtype = 'float64', value = special_value)\n",
    "x_valid = keras.preprocessing.sequence.pad_sequences(x_valid, maxlen = cut_off, padding = \"post\", dtype = 'float64', value = special_value)\n",
    "\n",
    "print(x_train.shape)\n",
    "print(y_train.shape)\n",
    "print(x_valid.shape)\n",
    "print(y_valid.shape)"
   ]
  },
  {
   "cell_type": "code",
   "execution_count": 26,
   "id": "671bdcc7",
   "metadata": {},
   "outputs": [],
   "source": [
    "nan_count_df = pd.DataFrame(columns = related_features[1:])"
   ]
  },
  {
   "cell_type": "code",
   "execution_count": 27,
   "id": "c0ad4855",
   "metadata": {
    "scrolled": true
   },
   "outputs": [
    {
     "data": {
      "text/html": [
       "<div>\n",
       "<style scoped>\n",
       "    .dataframe tbody tr th:only-of-type {\n",
       "        vertical-align: middle;\n",
       "    }\n",
       "\n",
       "    .dataframe tbody tr th {\n",
       "        vertical-align: top;\n",
       "    }\n",
       "\n",
       "    .dataframe thead th {\n",
       "        text-align: right;\n",
       "    }\n",
       "</style>\n",
       "<table border=\"1\" class=\"dataframe\">\n",
       "  <thead>\n",
       "    <tr style=\"text-align: right;\">\n",
       "      <th></th>\n",
       "      <th>FPOGX</th>\n",
       "      <th>FPOGY</th>\n",
       "      <th>BPOGX</th>\n",
       "      <th>BPOGY</th>\n",
       "      <th>LPCX</th>\n",
       "      <th>LPCY</th>\n",
       "      <th>Normed_LPD</th>\n",
       "      <th>Normed_LPS</th>\n",
       "      <th>RPCX</th>\n",
       "      <th>RPCY</th>\n",
       "      <th>...</th>\n",
       "      <th>Contempt_Evidence</th>\n",
       "      <th>Disgust_Evidence</th>\n",
       "      <th>Joy_Evidence</th>\n",
       "      <th>Fear_Evidence</th>\n",
       "      <th>Negative_Evidence</th>\n",
       "      <th>Neutral_Evidence</th>\n",
       "      <th>Positive_Evidence</th>\n",
       "      <th>Sadness_Evidence</th>\n",
       "      <th>Surprise_Evidence</th>\n",
       "      <th>Heart_Rate</th>\n",
       "    </tr>\n",
       "  </thead>\n",
       "  <tbody>\n",
       "  </tbody>\n",
       "</table>\n",
       "<p>0 rows × 25 columns</p>\n",
       "</div>"
      ],
      "text/plain": [
       "Empty DataFrame\n",
       "Columns: [FPOGX, FPOGY, BPOGX, BPOGY, LPCX, LPCY, Normed_LPD, Normed_LPS, RPCX, RPCY, Normed_RPD, Normed_RPS, LPUPILD, RPUPILD, Anger_Evidence, Contempt_Evidence, Disgust_Evidence, Joy_Evidence, Fear_Evidence, Negative_Evidence, Neutral_Evidence, Positive_Evidence, Sadness_Evidence, Surprise_Evidence, Heart_Rate]\n",
       "Index: []\n",
       "\n",
       "[0 rows x 25 columns]"
      ]
     },
     "execution_count": 27,
     "metadata": {},
     "output_type": "execute_result"
    }
   ],
   "source": [
    "nan_count_df"
   ]
  },
  {
   "cell_type": "code",
   "execution_count": 40,
   "id": "6c82fe2b",
   "metadata": {},
   "outputs": [],
   "source": [
    "for i in range(x.shape[0]):\n",
    "    nan_count_df.loc[len(nan_count_df)] = sum(np.isnan(x[i]), 0)"
   ]
  },
  {
   "cell_type": "code",
   "execution_count": 41,
   "id": "c806fcd0",
   "metadata": {},
   "outputs": [],
   "source": [
    "df_nan_ratio = (nan_count_df[['FPOGX', 'FPOGY', 'BPOGX', 'BPOGY', \n",
    "       'LPCX', 'LPCY', 'Normed_LPD', 'Normed_LPS', 'RPCX', 'RPCY', 'Normed_RPD', 'Normed_RPS', \n",
    "       'LPUPILD', 'RPUPILD']]/cut_off) "
   ]
  },
  {
   "cell_type": "code",
   "execution_count": 42,
   "id": "ea9d6886",
   "metadata": {},
   "outputs": [
    {
     "data": {
      "text/html": [
       "<div>\n",
       "<style scoped>\n",
       "    .dataframe tbody tr th:only-of-type {\n",
       "        vertical-align: middle;\n",
       "    }\n",
       "\n",
       "    .dataframe tbody tr th {\n",
       "        vertical-align: top;\n",
       "    }\n",
       "\n",
       "    .dataframe thead th {\n",
       "        text-align: right;\n",
       "    }\n",
       "</style>\n",
       "<table border=\"1\" class=\"dataframe\">\n",
       "  <thead>\n",
       "    <tr style=\"text-align: right;\">\n",
       "      <th></th>\n",
       "      <th>FPOGX</th>\n",
       "      <th>FPOGY</th>\n",
       "      <th>BPOGX</th>\n",
       "      <th>BPOGY</th>\n",
       "      <th>LPCX</th>\n",
       "      <th>LPCY</th>\n",
       "      <th>Normed_LPD</th>\n",
       "      <th>Normed_LPS</th>\n",
       "      <th>RPCX</th>\n",
       "      <th>RPCY</th>\n",
       "      <th>Normed_RPD</th>\n",
       "      <th>Normed_RPS</th>\n",
       "      <th>LPUPILD</th>\n",
       "      <th>RPUPILD</th>\n",
       "    </tr>\n",
       "  </thead>\n",
       "  <tbody>\n",
       "    <tr>\n",
       "      <th>0</th>\n",
       "      <td>0.294057</td>\n",
       "      <td>0.294057</td>\n",
       "      <td>0.061685</td>\n",
       "      <td>0.061685</td>\n",
       "      <td>0.094632</td>\n",
       "      <td>0.094632</td>\n",
       "      <td>0.0</td>\n",
       "      <td>0.0</td>\n",
       "      <td>0.072154</td>\n",
       "      <td>0.072154</td>\n",
       "      <td>0.0</td>\n",
       "      <td>0.0</td>\n",
       "      <td>0.094632</td>\n",
       "      <td>0.072154</td>\n",
       "    </tr>\n",
       "    <tr>\n",
       "      <th>1</th>\n",
       "      <td>0.222621</td>\n",
       "      <td>0.222621</td>\n",
       "      <td>0.041055</td>\n",
       "      <td>0.041055</td>\n",
       "      <td>0.029662</td>\n",
       "      <td>0.029662</td>\n",
       "      <td>0.0</td>\n",
       "      <td>0.0</td>\n",
       "      <td>0.020014</td>\n",
       "      <td>0.020014</td>\n",
       "      <td>0.0</td>\n",
       "      <td>0.0</td>\n",
       "      <td>0.029662</td>\n",
       "      <td>0.020014</td>\n",
       "    </tr>\n",
       "    <tr>\n",
       "      <th>2</th>\n",
       "      <td>0.214308</td>\n",
       "      <td>0.214308</td>\n",
       "      <td>0.050087</td>\n",
       "      <td>0.050087</td>\n",
       "      <td>0.054706</td>\n",
       "      <td>0.054706</td>\n",
       "      <td>0.0</td>\n",
       "      <td>0.0</td>\n",
       "      <td>0.049985</td>\n",
       "      <td>0.049985</td>\n",
       "      <td>0.0</td>\n",
       "      <td>0.0</td>\n",
       "      <td>0.054706</td>\n",
       "      <td>0.049985</td>\n",
       "    </tr>\n",
       "    <tr>\n",
       "      <th>3</th>\n",
       "      <td>0.239454</td>\n",
       "      <td>0.239454</td>\n",
       "      <td>0.077184</td>\n",
       "      <td>0.077184</td>\n",
       "      <td>0.122344</td>\n",
       "      <td>0.122344</td>\n",
       "      <td>0.0</td>\n",
       "      <td>0.0</td>\n",
       "      <td>0.079442</td>\n",
       "      <td>0.079442</td>\n",
       "      <td>0.0</td>\n",
       "      <td>0.0</td>\n",
       "      <td>0.122344</td>\n",
       "      <td>0.079442</td>\n",
       "    </tr>\n",
       "    <tr>\n",
       "      <th>4</th>\n",
       "      <td>0.796572</td>\n",
       "      <td>0.796572</td>\n",
       "      <td>0.645694</td>\n",
       "      <td>0.645694</td>\n",
       "      <td>0.491738</td>\n",
       "      <td>0.491738</td>\n",
       "      <td>0.0</td>\n",
       "      <td>0.0</td>\n",
       "      <td>0.547059</td>\n",
       "      <td>0.547059</td>\n",
       "      <td>0.0</td>\n",
       "      <td>0.0</td>\n",
       "      <td>0.491738</td>\n",
       "      <td>0.547059</td>\n",
       "    </tr>\n",
       "    <tr>\n",
       "      <th>5</th>\n",
       "      <td>0.762086</td>\n",
       "      <td>0.762086</td>\n",
       "      <td>0.475316</td>\n",
       "      <td>0.475316</td>\n",
       "      <td>0.268295</td>\n",
       "      <td>0.268295</td>\n",
       "      <td>0.0</td>\n",
       "      <td>0.0</td>\n",
       "      <td>0.502104</td>\n",
       "      <td>0.502104</td>\n",
       "      <td>0.0</td>\n",
       "      <td>0.0</td>\n",
       "      <td>0.268295</td>\n",
       "      <td>0.502104</td>\n",
       "    </tr>\n",
       "    <tr>\n",
       "      <th>6</th>\n",
       "      <td>0.218105</td>\n",
       "      <td>0.218105</td>\n",
       "      <td>0.026994</td>\n",
       "      <td>0.026994</td>\n",
       "      <td>0.02802</td>\n",
       "      <td>0.02802</td>\n",
       "      <td>0.0</td>\n",
       "      <td>0.0</td>\n",
       "      <td>0.029868</td>\n",
       "      <td>0.029868</td>\n",
       "      <td>0.0</td>\n",
       "      <td>0.0</td>\n",
       "      <td>0.02802</td>\n",
       "      <td>0.029868</td>\n",
       "    </tr>\n",
       "    <tr>\n",
       "      <th>7</th>\n",
       "      <td>0.177974</td>\n",
       "      <td>0.177974</td>\n",
       "      <td>0.004721</td>\n",
       "      <td>0.004721</td>\n",
       "      <td>0.006158</td>\n",
       "      <td>0.006158</td>\n",
       "      <td>0.0</td>\n",
       "      <td>0.0</td>\n",
       "      <td>0.00544</td>\n",
       "      <td>0.00544</td>\n",
       "      <td>0.0</td>\n",
       "      <td>0.0</td>\n",
       "      <td>0.006158</td>\n",
       "      <td>0.00544</td>\n",
       "    </tr>\n",
       "    <tr>\n",
       "      <th>8</th>\n",
       "      <td>0.207534</td>\n",
       "      <td>0.207534</td>\n",
       "      <td>0.037873</td>\n",
       "      <td>0.037873</td>\n",
       "      <td>0.034281</td>\n",
       "      <td>0.034281</td>\n",
       "      <td>0.0</td>\n",
       "      <td>0.0</td>\n",
       "      <td>0.030791</td>\n",
       "      <td>0.030791</td>\n",
       "      <td>0.0</td>\n",
       "      <td>0.0</td>\n",
       "      <td>0.034281</td>\n",
       "      <td>0.030791</td>\n",
       "    </tr>\n",
       "    <tr>\n",
       "      <th>9</th>\n",
       "      <td>0.49687</td>\n",
       "      <td>0.49687</td>\n",
       "      <td>0.286975</td>\n",
       "      <td>0.286975</td>\n",
       "      <td>0.257723</td>\n",
       "      <td>0.257723</td>\n",
       "      <td>0.0</td>\n",
       "      <td>0.0</td>\n",
       "      <td>0.258955</td>\n",
       "      <td>0.258955</td>\n",
       "      <td>0.0</td>\n",
       "      <td>0.0</td>\n",
       "      <td>0.257723</td>\n",
       "      <td>0.258955</td>\n",
       "    </tr>\n",
       "    <tr>\n",
       "      <th>10</th>\n",
       "      <td>0.158062</td>\n",
       "      <td>0.158062</td>\n",
       "      <td>0.013959</td>\n",
       "      <td>0.013959</td>\n",
       "      <td>0.016319</td>\n",
       "      <td>0.016319</td>\n",
       "      <td>0.0</td>\n",
       "      <td>0.0</td>\n",
       "      <td>0.016217</td>\n",
       "      <td>0.016217</td>\n",
       "      <td>0.0</td>\n",
       "      <td>0.0</td>\n",
       "      <td>0.016319</td>\n",
       "      <td>0.016217</td>\n",
       "    </tr>\n",
       "    <tr>\n",
       "      <th>11</th>\n",
       "      <td>0.203325</td>\n",
       "      <td>0.203325</td>\n",
       "      <td>0.047829</td>\n",
       "      <td>0.047829</td>\n",
       "      <td>0.86575</td>\n",
       "      <td>0.86575</td>\n",
       "      <td>0.0</td>\n",
       "      <td>0.0</td>\n",
       "      <td>0.045469</td>\n",
       "      <td>0.045469</td>\n",
       "      <td>0.0</td>\n",
       "      <td>0.0</td>\n",
       "      <td>0.86575</td>\n",
       "      <td>0.045469</td>\n",
       "    </tr>\n",
       "    <tr>\n",
       "      <th>12</th>\n",
       "      <td>0.275069</td>\n",
       "      <td>0.275069</td>\n",
       "      <td>0.113107</td>\n",
       "      <td>0.113107</td>\n",
       "      <td>0.030483</td>\n",
       "      <td>0.030483</td>\n",
       "      <td>0.0</td>\n",
       "      <td>0.0</td>\n",
       "      <td>0.029252</td>\n",
       "      <td>0.029252</td>\n",
       "      <td>0.0</td>\n",
       "      <td>0.0</td>\n",
       "      <td>0.030483</td>\n",
       "      <td>0.029252</td>\n",
       "    </tr>\n",
       "    <tr>\n",
       "      <th>13</th>\n",
       "      <td>0.173355</td>\n",
       "      <td>0.173355</td>\n",
       "      <td>0.033152</td>\n",
       "      <td>0.033152</td>\n",
       "      <td>0.059222</td>\n",
       "      <td>0.059222</td>\n",
       "      <td>0.0</td>\n",
       "      <td>0.0</td>\n",
       "      <td>0.029868</td>\n",
       "      <td>0.029868</td>\n",
       "      <td>0.0</td>\n",
       "      <td>0.0</td>\n",
       "      <td>0.059222</td>\n",
       "      <td>0.029868</td>\n",
       "    </tr>\n",
       "    <tr>\n",
       "      <th>14</th>\n",
       "      <td>0.251668</td>\n",
       "      <td>0.251668</td>\n",
       "      <td>0.085087</td>\n",
       "      <td>0.085087</td>\n",
       "      <td>0.655958</td>\n",
       "      <td>0.655958</td>\n",
       "      <td>0.0</td>\n",
       "      <td>0.0</td>\n",
       "      <td>0.061993</td>\n",
       "      <td>0.061993</td>\n",
       "      <td>0.0</td>\n",
       "      <td>0.0</td>\n",
       "      <td>0.655958</td>\n",
       "      <td>0.061993</td>\n",
       "    </tr>\n",
       "    <tr>\n",
       "      <th>15</th>\n",
       "      <td>1.0</td>\n",
       "      <td>1.0</td>\n",
       "      <td>0.999692</td>\n",
       "      <td>0.999692</td>\n",
       "      <td>1.0</td>\n",
       "      <td>1.0</td>\n",
       "      <td>0.0</td>\n",
       "      <td>0.0</td>\n",
       "      <td>0.999692</td>\n",
       "      <td>0.999692</td>\n",
       "      <td>0.0</td>\n",
       "      <td>0.0</td>\n",
       "      <td>1.0</td>\n",
       "      <td>0.999692</td>\n",
       "    </tr>\n",
       "    <tr>\n",
       "      <th>16</th>\n",
       "      <td>0.180437</td>\n",
       "      <td>0.180437</td>\n",
       "      <td>0.040131</td>\n",
       "      <td>0.040131</td>\n",
       "      <td>0.039002</td>\n",
       "      <td>0.039002</td>\n",
       "      <td>0.0</td>\n",
       "      <td>0.0</td>\n",
       "      <td>0.037052</td>\n",
       "      <td>0.037052</td>\n",
       "      <td>0.0</td>\n",
       "      <td>0.0</td>\n",
       "      <td>0.039002</td>\n",
       "      <td>0.037052</td>\n",
       "    </tr>\n",
       "    <tr>\n",
       "      <th>17</th>\n",
       "      <td>1.0</td>\n",
       "      <td>1.0</td>\n",
       "      <td>1.0</td>\n",
       "      <td>1.0</td>\n",
       "      <td>1.0</td>\n",
       "      <td>1.0</td>\n",
       "      <td>0.0</td>\n",
       "      <td>0.0</td>\n",
       "      <td>0.999897</td>\n",
       "      <td>0.999897</td>\n",
       "      <td>0.0</td>\n",
       "      <td>0.0</td>\n",
       "      <td>1.0</td>\n",
       "      <td>0.999897</td>\n",
       "    </tr>\n",
       "    <tr>\n",
       "      <th>18</th>\n",
       "      <td>0.24787</td>\n",
       "      <td>0.24787</td>\n",
       "      <td>0.063225</td>\n",
       "      <td>0.063225</td>\n",
       "      <td>0.11208</td>\n",
       "      <td>0.11208</td>\n",
       "      <td>0.0</td>\n",
       "      <td>0.0</td>\n",
       "      <td>0.05799</td>\n",
       "      <td>0.05799</td>\n",
       "      <td>0.0</td>\n",
       "      <td>0.0</td>\n",
       "      <td>0.11208</td>\n",
       "      <td>0.05799</td>\n",
       "    </tr>\n",
       "    <tr>\n",
       "      <th>19</th>\n",
       "      <td>0.31438</td>\n",
       "      <td>0.31438</td>\n",
       "      <td>0.129221</td>\n",
       "      <td>0.129221</td>\n",
       "      <td>0.099764</td>\n",
       "      <td>0.099764</td>\n",
       "      <td>0.0</td>\n",
       "      <td>0.0</td>\n",
       "      <td>0.108899</td>\n",
       "      <td>0.108899</td>\n",
       "      <td>0.0</td>\n",
       "      <td>0.0</td>\n",
       "      <td>0.099764</td>\n",
       "      <td>0.108899</td>\n",
       "    </tr>\n",
       "    <tr>\n",
       "      <th>20</th>\n",
       "      <td>0.261829</td>\n",
       "      <td>0.261829</td>\n",
       "      <td>0.069896</td>\n",
       "      <td>0.069896</td>\n",
       "      <td>0.094837</td>\n",
       "      <td>0.094837</td>\n",
       "      <td>0.0</td>\n",
       "      <td>0.0</td>\n",
       "      <td>0.072873</td>\n",
       "      <td>0.072873</td>\n",
       "      <td>0.0</td>\n",
       "      <td>0.0</td>\n",
       "      <td>0.094837</td>\n",
       "      <td>0.072873</td>\n",
       "    </tr>\n",
       "    <tr>\n",
       "      <th>21</th>\n",
       "      <td>0.202504</td>\n",
       "      <td>0.202504</td>\n",
       "      <td>0.068562</td>\n",
       "      <td>0.068562</td>\n",
       "      <td>0.065175</td>\n",
       "      <td>0.065175</td>\n",
       "      <td>0.0</td>\n",
       "      <td>0.0</td>\n",
       "      <td>0.060864</td>\n",
       "      <td>0.060864</td>\n",
       "      <td>0.0</td>\n",
       "      <td>0.0</td>\n",
       "      <td>0.065175</td>\n",
       "      <td>0.060864</td>\n",
       "    </tr>\n",
       "    <tr>\n",
       "      <th>22</th>\n",
       "      <td>0.272298</td>\n",
       "      <td>0.272298</td>\n",
       "      <td>0.079647</td>\n",
       "      <td>0.079647</td>\n",
       "      <td>0.118752</td>\n",
       "      <td>0.118752</td>\n",
       "      <td>0.0</td>\n",
       "      <td>0.0</td>\n",
       "      <td>0.106949</td>\n",
       "      <td>0.106949</td>\n",
       "      <td>0.0</td>\n",
       "      <td>0.0</td>\n",
       "      <td>0.118752</td>\n",
       "      <td>0.106949</td>\n",
       "    </tr>\n",
       "    <tr>\n",
       "      <th>23</th>\n",
       "      <td>0.3074</td>\n",
       "      <td>0.3074</td>\n",
       "      <td>0.169455</td>\n",
       "      <td>0.169455</td>\n",
       "      <td>0.119984</td>\n",
       "      <td>0.119984</td>\n",
       "      <td>0.0</td>\n",
       "      <td>0.0</td>\n",
       "      <td>0.061069</td>\n",
       "      <td>0.061069</td>\n",
       "      <td>0.0</td>\n",
       "      <td>0.0</td>\n",
       "      <td>0.119984</td>\n",
       "      <td>0.061069</td>\n",
       "    </tr>\n",
       "    <tr>\n",
       "      <th>24</th>\n",
       "      <td>0.291081</td>\n",
       "      <td>0.291081</td>\n",
       "      <td>0.086113</td>\n",
       "      <td>0.086113</td>\n",
       "      <td>0.251976</td>\n",
       "      <td>0.251976</td>\n",
       "      <td>0.0</td>\n",
       "      <td>0.0</td>\n",
       "      <td>0.059427</td>\n",
       "      <td>0.059427</td>\n",
       "      <td>0.0</td>\n",
       "      <td>0.0</td>\n",
       "      <td>0.251976</td>\n",
       "      <td>0.059427</td>\n",
       "    </tr>\n",
       "    <tr>\n",
       "      <th>25</th>\n",
       "      <td>0.349995</td>\n",
       "      <td>0.349995</td>\n",
       "      <td>0.060864</td>\n",
       "      <td>0.060864</td>\n",
       "      <td>0.075131</td>\n",
       "      <td>0.075131</td>\n",
       "      <td>0.0</td>\n",
       "      <td>0.0</td>\n",
       "      <td>0.067228</td>\n",
       "      <td>0.067228</td>\n",
       "      <td>0.0</td>\n",
       "      <td>0.0</td>\n",
       "      <td>0.075131</td>\n",
       "      <td>0.067228</td>\n",
       "    </tr>\n",
       "    <tr>\n",
       "      <th>26</th>\n",
       "      <td>0.165042</td>\n",
       "      <td>0.165042</td>\n",
       "      <td>0.018167</td>\n",
       "      <td>0.018167</td>\n",
       "      <td>0.018577</td>\n",
       "      <td>0.018577</td>\n",
       "      <td>0.0</td>\n",
       "      <td>0.0</td>\n",
       "      <td>0.013446</td>\n",
       "      <td>0.013446</td>\n",
       "      <td>0.0</td>\n",
       "      <td>0.0</td>\n",
       "      <td>0.018577</td>\n",
       "      <td>0.013446</td>\n",
       "    </tr>\n",
       "    <tr>\n",
       "      <th>27</th>\n",
       "      <td>0.949092</td>\n",
       "      <td>0.949092</td>\n",
       "      <td>0.916042</td>\n",
       "      <td>0.916042</td>\n",
       "      <td>0.92528</td>\n",
       "      <td>0.92528</td>\n",
       "      <td>0.0</td>\n",
       "      <td>0.0</td>\n",
       "      <td>0.886585</td>\n",
       "      <td>0.886585</td>\n",
       "      <td>0.0</td>\n",
       "      <td>0.0</td>\n",
       "      <td>0.92528</td>\n",
       "      <td>0.886585</td>\n",
       "    </tr>\n",
       "    <tr>\n",
       "      <th>28</th>\n",
       "      <td>0.628246</td>\n",
       "      <td>0.628246</td>\n",
       "      <td>0.496562</td>\n",
       "      <td>0.496562</td>\n",
       "      <td>0.04085</td>\n",
       "      <td>0.04085</td>\n",
       "      <td>0.0</td>\n",
       "      <td>0.0</td>\n",
       "      <td>0.050087</td>\n",
       "      <td>0.050087</td>\n",
       "      <td>0.0</td>\n",
       "      <td>0.0</td>\n",
       "      <td>0.04085</td>\n",
       "      <td>0.050087</td>\n",
       "    </tr>\n",
       "    <tr>\n",
       "      <th>29</th>\n",
       "      <td>0.190804</td>\n",
       "      <td>0.190804</td>\n",
       "      <td>0.028431</td>\n",
       "      <td>0.028431</td>\n",
       "      <td>0.030586</td>\n",
       "      <td>0.030586</td>\n",
       "      <td>0.0</td>\n",
       "      <td>0.0</td>\n",
       "      <td>0.026173</td>\n",
       "      <td>0.026173</td>\n",
       "      <td>0.0</td>\n",
       "      <td>0.0</td>\n",
       "      <td>0.030586</td>\n",
       "      <td>0.026173</td>\n",
       "    </tr>\n",
       "    <tr>\n",
       "      <th>30</th>\n",
       "      <td>0.224161</td>\n",
       "      <td>0.224161</td>\n",
       "      <td>0.096685</td>\n",
       "      <td>0.096685</td>\n",
       "      <td>0.108693</td>\n",
       "      <td>0.108693</td>\n",
       "      <td>0.0</td>\n",
       "      <td>0.0</td>\n",
       "      <td>0.095966</td>\n",
       "      <td>0.095966</td>\n",
       "      <td>0.0</td>\n",
       "      <td>0.0</td>\n",
       "      <td>0.108693</td>\n",
       "      <td>0.095966</td>\n",
       "    </tr>\n",
       "    <tr>\n",
       "      <th>31</th>\n",
       "      <td>0.798522</td>\n",
       "      <td>0.798522</td>\n",
       "      <td>0.747203</td>\n",
       "      <td>0.747203</td>\n",
       "      <td>0.778302</td>\n",
       "      <td>0.778302</td>\n",
       "      <td>0.0</td>\n",
       "      <td>0.0</td>\n",
       "      <td>0.728523</td>\n",
       "      <td>0.728523</td>\n",
       "      <td>0.0</td>\n",
       "      <td>0.0</td>\n",
       "      <td>0.778302</td>\n",
       "      <td>0.728523</td>\n",
       "    </tr>\n",
       "    <tr>\n",
       "      <th>32</th>\n",
       "      <td>0.275275</td>\n",
       "      <td>0.275275</td>\n",
       "      <td>0.136919</td>\n",
       "      <td>0.136919</td>\n",
       "      <td>0.113415</td>\n",
       "      <td>0.113415</td>\n",
       "      <td>0.0</td>\n",
       "      <td>0.0</td>\n",
       "      <td>0.107154</td>\n",
       "      <td>0.107154</td>\n",
       "      <td>0.0</td>\n",
       "      <td>0.0</td>\n",
       "      <td>0.113415</td>\n",
       "      <td>0.107154</td>\n",
       "    </tr>\n",
       "    <tr>\n",
       "      <th>33</th>\n",
       "      <td>0.366314</td>\n",
       "      <td>0.366314</td>\n",
       "      <td>0.194909</td>\n",
       "      <td>0.194909</td>\n",
       "      <td>0.095453</td>\n",
       "      <td>0.095453</td>\n",
       "      <td>0.0</td>\n",
       "      <td>0.0</td>\n",
       "      <td>0.106025</td>\n",
       "      <td>0.106025</td>\n",
       "      <td>0.0</td>\n",
       "      <td>0.0</td>\n",
       "      <td>0.095453</td>\n",
       "      <td>0.106025</td>\n",
       "    </tr>\n",
       "    <tr>\n",
       "      <th>34</th>\n",
       "      <td>0.164323</td>\n",
       "      <td>0.164323</td>\n",
       "      <td>0.031305</td>\n",
       "      <td>0.031305</td>\n",
       "      <td>0.03387</td>\n",
       "      <td>0.03387</td>\n",
       "      <td>0.0</td>\n",
       "      <td>0.0</td>\n",
       "      <td>0.031099</td>\n",
       "      <td>0.031099</td>\n",
       "      <td>0.0</td>\n",
       "      <td>0.0</td>\n",
       "      <td>0.03387</td>\n",
       "      <td>0.031099</td>\n",
       "    </tr>\n",
       "    <tr>\n",
       "      <th>35</th>\n",
       "      <td>0.281433</td>\n",
       "      <td>0.281433</td>\n",
       "      <td>0.120702</td>\n",
       "      <td>0.120702</td>\n",
       "      <td>0.064559</td>\n",
       "      <td>0.064559</td>\n",
       "      <td>0.0</td>\n",
       "      <td>0.0</td>\n",
       "      <td>0.050087</td>\n",
       "      <td>0.050087</td>\n",
       "      <td>0.0</td>\n",
       "      <td>0.0</td>\n",
       "      <td>0.064559</td>\n",
       "      <td>0.050087</td>\n",
       "    </tr>\n",
       "    <tr>\n",
       "      <th>36</th>\n",
       "      <td>0.746998</td>\n",
       "      <td>0.746998</td>\n",
       "      <td>0.70389</td>\n",
       "      <td>0.70389</td>\n",
       "      <td>0.092477</td>\n",
       "      <td>0.092477</td>\n",
       "      <td>0.0</td>\n",
       "      <td>0.0</td>\n",
       "      <td>0.0895</td>\n",
       "      <td>0.0895</td>\n",
       "      <td>0.0</td>\n",
       "      <td>0.0</td>\n",
       "      <td>0.092477</td>\n",
       "      <td>0.0895</td>\n",
       "    </tr>\n",
       "    <tr>\n",
       "      <th>37</th>\n",
       "      <td>0.6965</td>\n",
       "      <td>0.6965</td>\n",
       "      <td>0.636867</td>\n",
       "      <td>0.636867</td>\n",
       "      <td>0.162784</td>\n",
       "      <td>0.162784</td>\n",
       "      <td>0.0</td>\n",
       "      <td>0.0</td>\n",
       "      <td>0.072975</td>\n",
       "      <td>0.072975</td>\n",
       "      <td>0.0</td>\n",
       "      <td>0.0</td>\n",
       "      <td>0.162784</td>\n",
       "      <td>0.072975</td>\n",
       "    </tr>\n",
       "    <tr>\n",
       "      <th>38</th>\n",
       "      <td>1.0</td>\n",
       "      <td>1.0</td>\n",
       "      <td>1.0</td>\n",
       "      <td>1.0</td>\n",
       "      <td>0.043005</td>\n",
       "      <td>0.043005</td>\n",
       "      <td>0.0</td>\n",
       "      <td>0.0</td>\n",
       "      <td>0.035102</td>\n",
       "      <td>0.035102</td>\n",
       "      <td>0.0</td>\n",
       "      <td>0.0</td>\n",
       "      <td>0.043005</td>\n",
       "      <td>0.035102</td>\n",
       "    </tr>\n",
       "    <tr>\n",
       "      <th>39</th>\n",
       "      <td>0.442266</td>\n",
       "      <td>0.442266</td>\n",
       "      <td>0.222621</td>\n",
       "      <td>0.222621</td>\n",
       "      <td>0.226727</td>\n",
       "      <td>0.226727</td>\n",
       "      <td>0.0</td>\n",
       "      <td>0.0</td>\n",
       "      <td>0.114031</td>\n",
       "      <td>0.114031</td>\n",
       "      <td>0.0</td>\n",
       "      <td>0.0</td>\n",
       "      <td>0.226727</td>\n",
       "      <td>0.114031</td>\n",
       "    </tr>\n",
       "    <tr>\n",
       "      <th>40</th>\n",
       "      <td>0.23463</td>\n",
       "      <td>0.23463</td>\n",
       "      <td>0.044134</td>\n",
       "      <td>0.044134</td>\n",
       "      <td>0.044134</td>\n",
       "      <td>0.044134</td>\n",
       "      <td>0.0</td>\n",
       "      <td>0.0</td>\n",
       "      <td>0.045674</td>\n",
       "      <td>0.045674</td>\n",
       "      <td>0.0</td>\n",
       "      <td>0.0</td>\n",
       "      <td>0.044134</td>\n",
       "      <td>0.045674</td>\n",
       "    </tr>\n",
       "    <tr>\n",
       "      <th>41</th>\n",
       "      <td>0.231346</td>\n",
       "      <td>0.231346</td>\n",
       "      <td>0.039721</td>\n",
       "      <td>0.039721</td>\n",
       "      <td>0.099764</td>\n",
       "      <td>0.099764</td>\n",
       "      <td>0.0</td>\n",
       "      <td>0.0</td>\n",
       "      <td>0.039413</td>\n",
       "      <td>0.039413</td>\n",
       "      <td>0.0</td>\n",
       "      <td>0.0</td>\n",
       "      <td>0.099764</td>\n",
       "      <td>0.039413</td>\n",
       "    </tr>\n",
       "    <tr>\n",
       "      <th>42</th>\n",
       "      <td>0.207328</td>\n",
       "      <td>0.207328</td>\n",
       "      <td>0.017038</td>\n",
       "      <td>0.017038</td>\n",
       "      <td>0.020733</td>\n",
       "      <td>0.020733</td>\n",
       "      <td>0.0</td>\n",
       "      <td>0.0</td>\n",
       "      <td>0.02022</td>\n",
       "      <td>0.02022</td>\n",
       "      <td>0.0</td>\n",
       "      <td>0.0</td>\n",
       "      <td>0.020733</td>\n",
       "      <td>0.02022</td>\n",
       "    </tr>\n",
       "  </tbody>\n",
       "</table>\n",
       "</div>"
      ],
      "text/plain": [
       "       FPOGX     FPOGY     BPOGX     BPOGY      LPCX      LPCY Normed_LPD  \\\n",
       "0   0.294057  0.294057  0.061685  0.061685  0.094632  0.094632        0.0   \n",
       "1   0.222621  0.222621  0.041055  0.041055  0.029662  0.029662        0.0   \n",
       "2   0.214308  0.214308  0.050087  0.050087  0.054706  0.054706        0.0   \n",
       "3   0.239454  0.239454  0.077184  0.077184  0.122344  0.122344        0.0   \n",
       "4   0.796572  0.796572  0.645694  0.645694  0.491738  0.491738        0.0   \n",
       "5   0.762086  0.762086  0.475316  0.475316  0.268295  0.268295        0.0   \n",
       "6   0.218105  0.218105  0.026994  0.026994   0.02802   0.02802        0.0   \n",
       "7   0.177974  0.177974  0.004721  0.004721  0.006158  0.006158        0.0   \n",
       "8   0.207534  0.207534  0.037873  0.037873  0.034281  0.034281        0.0   \n",
       "9    0.49687   0.49687  0.286975  0.286975  0.257723  0.257723        0.0   \n",
       "10  0.158062  0.158062  0.013959  0.013959  0.016319  0.016319        0.0   \n",
       "11  0.203325  0.203325  0.047829  0.047829   0.86575   0.86575        0.0   \n",
       "12  0.275069  0.275069  0.113107  0.113107  0.030483  0.030483        0.0   \n",
       "13  0.173355  0.173355  0.033152  0.033152  0.059222  0.059222        0.0   \n",
       "14  0.251668  0.251668  0.085087  0.085087  0.655958  0.655958        0.0   \n",
       "15       1.0       1.0  0.999692  0.999692       1.0       1.0        0.0   \n",
       "16  0.180437  0.180437  0.040131  0.040131  0.039002  0.039002        0.0   \n",
       "17       1.0       1.0       1.0       1.0       1.0       1.0        0.0   \n",
       "18   0.24787   0.24787  0.063225  0.063225   0.11208   0.11208        0.0   \n",
       "19   0.31438   0.31438  0.129221  0.129221  0.099764  0.099764        0.0   \n",
       "20  0.261829  0.261829  0.069896  0.069896  0.094837  0.094837        0.0   \n",
       "21  0.202504  0.202504  0.068562  0.068562  0.065175  0.065175        0.0   \n",
       "22  0.272298  0.272298  0.079647  0.079647  0.118752  0.118752        0.0   \n",
       "23    0.3074    0.3074  0.169455  0.169455  0.119984  0.119984        0.0   \n",
       "24  0.291081  0.291081  0.086113  0.086113  0.251976  0.251976        0.0   \n",
       "25  0.349995  0.349995  0.060864  0.060864  0.075131  0.075131        0.0   \n",
       "26  0.165042  0.165042  0.018167  0.018167  0.018577  0.018577        0.0   \n",
       "27  0.949092  0.949092  0.916042  0.916042   0.92528   0.92528        0.0   \n",
       "28  0.628246  0.628246  0.496562  0.496562   0.04085   0.04085        0.0   \n",
       "29  0.190804  0.190804  0.028431  0.028431  0.030586  0.030586        0.0   \n",
       "30  0.224161  0.224161  0.096685  0.096685  0.108693  0.108693        0.0   \n",
       "31  0.798522  0.798522  0.747203  0.747203  0.778302  0.778302        0.0   \n",
       "32  0.275275  0.275275  0.136919  0.136919  0.113415  0.113415        0.0   \n",
       "33  0.366314  0.366314  0.194909  0.194909  0.095453  0.095453        0.0   \n",
       "34  0.164323  0.164323  0.031305  0.031305   0.03387   0.03387        0.0   \n",
       "35  0.281433  0.281433  0.120702  0.120702  0.064559  0.064559        0.0   \n",
       "36  0.746998  0.746998   0.70389   0.70389  0.092477  0.092477        0.0   \n",
       "37    0.6965    0.6965  0.636867  0.636867  0.162784  0.162784        0.0   \n",
       "38       1.0       1.0       1.0       1.0  0.043005  0.043005        0.0   \n",
       "39  0.442266  0.442266  0.222621  0.222621  0.226727  0.226727        0.0   \n",
       "40   0.23463   0.23463  0.044134  0.044134  0.044134  0.044134        0.0   \n",
       "41  0.231346  0.231346  0.039721  0.039721  0.099764  0.099764        0.0   \n",
       "42  0.207328  0.207328  0.017038  0.017038  0.020733  0.020733        0.0   \n",
       "\n",
       "   Normed_LPS      RPCX      RPCY Normed_RPD Normed_RPS   LPUPILD   RPUPILD  \n",
       "0         0.0  0.072154  0.072154        0.0        0.0  0.094632  0.072154  \n",
       "1         0.0  0.020014  0.020014        0.0        0.0  0.029662  0.020014  \n",
       "2         0.0  0.049985  0.049985        0.0        0.0  0.054706  0.049985  \n",
       "3         0.0  0.079442  0.079442        0.0        0.0  0.122344  0.079442  \n",
       "4         0.0  0.547059  0.547059        0.0        0.0  0.491738  0.547059  \n",
       "5         0.0  0.502104  0.502104        0.0        0.0  0.268295  0.502104  \n",
       "6         0.0  0.029868  0.029868        0.0        0.0   0.02802  0.029868  \n",
       "7         0.0   0.00544   0.00544        0.0        0.0  0.006158   0.00544  \n",
       "8         0.0  0.030791  0.030791        0.0        0.0  0.034281  0.030791  \n",
       "9         0.0  0.258955  0.258955        0.0        0.0  0.257723  0.258955  \n",
       "10        0.0  0.016217  0.016217        0.0        0.0  0.016319  0.016217  \n",
       "11        0.0  0.045469  0.045469        0.0        0.0   0.86575  0.045469  \n",
       "12        0.0  0.029252  0.029252        0.0        0.0  0.030483  0.029252  \n",
       "13        0.0  0.029868  0.029868        0.0        0.0  0.059222  0.029868  \n",
       "14        0.0  0.061993  0.061993        0.0        0.0  0.655958  0.061993  \n",
       "15        0.0  0.999692  0.999692        0.0        0.0       1.0  0.999692  \n",
       "16        0.0  0.037052  0.037052        0.0        0.0  0.039002  0.037052  \n",
       "17        0.0  0.999897  0.999897        0.0        0.0       1.0  0.999897  \n",
       "18        0.0   0.05799   0.05799        0.0        0.0   0.11208   0.05799  \n",
       "19        0.0  0.108899  0.108899        0.0        0.0  0.099764  0.108899  \n",
       "20        0.0  0.072873  0.072873        0.0        0.0  0.094837  0.072873  \n",
       "21        0.0  0.060864  0.060864        0.0        0.0  0.065175  0.060864  \n",
       "22        0.0  0.106949  0.106949        0.0        0.0  0.118752  0.106949  \n",
       "23        0.0  0.061069  0.061069        0.0        0.0  0.119984  0.061069  \n",
       "24        0.0  0.059427  0.059427        0.0        0.0  0.251976  0.059427  \n",
       "25        0.0  0.067228  0.067228        0.0        0.0  0.075131  0.067228  \n",
       "26        0.0  0.013446  0.013446        0.0        0.0  0.018577  0.013446  \n",
       "27        0.0  0.886585  0.886585        0.0        0.0   0.92528  0.886585  \n",
       "28        0.0  0.050087  0.050087        0.0        0.0   0.04085  0.050087  \n",
       "29        0.0  0.026173  0.026173        0.0        0.0  0.030586  0.026173  \n",
       "30        0.0  0.095966  0.095966        0.0        0.0  0.108693  0.095966  \n",
       "31        0.0  0.728523  0.728523        0.0        0.0  0.778302  0.728523  \n",
       "32        0.0  0.107154  0.107154        0.0        0.0  0.113415  0.107154  \n",
       "33        0.0  0.106025  0.106025        0.0        0.0  0.095453  0.106025  \n",
       "34        0.0  0.031099  0.031099        0.0        0.0   0.03387  0.031099  \n",
       "35        0.0  0.050087  0.050087        0.0        0.0  0.064559  0.050087  \n",
       "36        0.0    0.0895    0.0895        0.0        0.0  0.092477    0.0895  \n",
       "37        0.0  0.072975  0.072975        0.0        0.0  0.162784  0.072975  \n",
       "38        0.0  0.035102  0.035102        0.0        0.0  0.043005  0.035102  \n",
       "39        0.0  0.114031  0.114031        0.0        0.0  0.226727  0.114031  \n",
       "40        0.0  0.045674  0.045674        0.0        0.0  0.044134  0.045674  \n",
       "41        0.0  0.039413  0.039413        0.0        0.0  0.099764  0.039413  \n",
       "42        0.0   0.02022   0.02022        0.0        0.0  0.020733   0.02022  "
      ]
     },
     "execution_count": 42,
     "metadata": {},
     "output_type": "execute_result"
    }
   ],
   "source": [
    "np.round(df_nan_ratio, decimals = 1)"
   ]
  },
  {
   "cell_type": "code",
   "execution_count": 123,
   "id": "856bee11",
   "metadata": {},
   "outputs": [
    {
     "data": {
      "image/png": "[encoded data removed]",
      "text/plain": [
       "<Figure size 640x480 with 1 Axes>"
      ]
     },
     "metadata": {},
     "output_type": "display_data"
    }
   ],
   "source": [
    "plt.plot(x[7][:, 2])\n",
    "plt.show()"
   ]
  },
  {
   "cell_type": "code",
   "execution_count": 124,
   "id": "8994c13b",
   "metadata": {},
   "outputs": [
    {
     "data": {
      "text/plain": [
       "(43, 9743, 25)"
      ]
     },
     "execution_count": 124,
     "metadata": {},
     "output_type": "execute_result"
    }
   ],
   "source": [
    "x.shape"
   ]
  },
  {
   "cell_type": "code",
   "execution_count": 28,
   "id": "0eec0a03",
   "metadata": {},
   "outputs": [
    {
     "name": "stdout",
     "output_type": "stream",
     "text": [
      "Model: \"sequential\"\n",
      "_________________________________________________________________\n",
      "Layer (type)                 Output Shape              Param #   \n",
      "=================================================================\n",
      "masking (Masking)            (None, 9743, 25)          0         \n",
      "_________________________________________________________________\n",
      "lstm (LSTM)                  (None, 32)                7424      \n",
      "_________________________________________________________________\n",
      "dense (Dense)                (None, 1)                 33        \n",
      "=================================================================\n",
      "Total params: 7,457\n",
      "Trainable params: 7,457\n",
      "Non-trainable params: 0\n",
      "_________________________________________________________________\n"
     ]
    }
   ],
   "source": [
    "model = keras.Sequential()\n",
    "model.add(keras.layers.Masking(mask_value=special_value, input_shape=(cut_off, len(related_features) -1)))\n",
    "model.add(keras.layers.LSTM(32))\n",
    "model.add(keras.layers.Dense(1))\n",
    "\n",
    "model.compile(loss = keras.losses.MeanSquaredError(),\n",
    "              optimizer = keras.optimizers.Adam(learning_rate=0.01))\n",
    "\n",
    "model.summary()"
   ]
  },
  {
   "cell_type": "code",
   "execution_count": 29,
   "id": "c26eec01",
   "metadata": {},
   "outputs": [
    {
     "name": "stdout",
     "output_type": "stream",
     "text": [
      "Epoch 1/10\n",
      "1/2 [==============>...............] - ETA: 4s - loss: 41.7353"
     ]
    },
    {
     "ename": "KeyboardInterrupt",
     "evalue": "",
     "output_type": "error",
     "traceback": [
      "\u001b[1;31m---------------------------------------------------------------------------\u001b[0m",
      "\u001b[1;31mKeyboardInterrupt\u001b[0m                         Traceback (most recent call last)",
      "\u001b[1;32m<ipython-input-29-290560eb7207>\u001b[0m in \u001b[0;36m<module>\u001b[1;34m\u001b[0m\n\u001b[1;32m----> 1\u001b[1;33m history = model.fit(x = x_train, y = y_train, \n\u001b[0m\u001b[0;32m      2\u001b[0m                     \u001b[0mvalidation_data\u001b[0m \u001b[1;33m=\u001b[0m \u001b[1;33m(\u001b[0m\u001b[0mx_valid\u001b[0m\u001b[1;33m,\u001b[0m \u001b[0my_valid\u001b[0m\u001b[1;33m)\u001b[0m\u001b[1;33m,\u001b[0m\u001b[1;33m\u001b[0m\u001b[1;33m\u001b[0m\u001b[0m\n\u001b[0;32m      3\u001b[0m                     epochs = 10)\n",
      "\u001b[1;32m~\\Anaconda3\\envs\\Biomet\\lib\\site-packages\\keras\\engine\\training.py\u001b[0m in \u001b[0;36mfit\u001b[1;34m(self, x, y, batch_size, epochs, verbose, callbacks, validation_split, validation_data, shuffle, class_weight, sample_weight, initial_epoch, steps_per_epoch, validation_steps, validation_batch_size, validation_freq, max_queue_size, workers, use_multiprocessing)\u001b[0m\n\u001b[0;32m   1182\u001b[0m                 _r=1):\n\u001b[0;32m   1183\u001b[0m               \u001b[0mcallbacks\u001b[0m\u001b[1;33m.\u001b[0m\u001b[0mon_train_batch_begin\u001b[0m\u001b[1;33m(\u001b[0m\u001b[0mstep\u001b[0m\u001b[1;33m)\u001b[0m\u001b[1;33m\u001b[0m\u001b[1;33m\u001b[0m\u001b[0m\n\u001b[1;32m-> 1184\u001b[1;33m               \u001b[0mtmp_logs\u001b[0m \u001b[1;33m=\u001b[0m \u001b[0mself\u001b[0m\u001b[1;33m.\u001b[0m\u001b[0mtrain_function\u001b[0m\u001b[1;33m(\u001b[0m\u001b[0miterator\u001b[0m\u001b[1;33m)\u001b[0m\u001b[1;33m\u001b[0m\u001b[1;33m\u001b[0m\u001b[0m\n\u001b[0m\u001b[0;32m   1185\u001b[0m               \u001b[1;32mif\u001b[0m \u001b[0mdata_handler\u001b[0m\u001b[1;33m.\u001b[0m\u001b[0mshould_sync\u001b[0m\u001b[1;33m:\u001b[0m\u001b[1;33m\u001b[0m\u001b[1;33m\u001b[0m\u001b[0m\n\u001b[0;32m   1186\u001b[0m                 \u001b[0mcontext\u001b[0m\u001b[1;33m.\u001b[0m\u001b[0masync_wait\u001b[0m\u001b[1;33m(\u001b[0m\u001b[1;33m)\u001b[0m\u001b[1;33m\u001b[0m\u001b[1;33m\u001b[0m\u001b[0m\n",
      "\u001b[1;32m~\\Anaconda3\\envs\\Biomet\\lib\\site-packages\\tensorflow\\python\\eager\\def_function.py\u001b[0m in \u001b[0;36m__call__\u001b[1;34m(self, *args, **kwds)\u001b[0m\n\u001b[0;32m    883\u001b[0m \u001b[1;33m\u001b[0m\u001b[0m\n\u001b[0;32m    884\u001b[0m       \u001b[1;32mwith\u001b[0m \u001b[0mOptionalXlaContext\u001b[0m\u001b[1;33m(\u001b[0m\u001b[0mself\u001b[0m\u001b[1;33m.\u001b[0m\u001b[0m_jit_compile\u001b[0m\u001b[1;33m)\u001b[0m\u001b[1;33m:\u001b[0m\u001b[1;33m\u001b[0m\u001b[1;33m\u001b[0m\u001b[0m\n\u001b[1;32m--> 885\u001b[1;33m         \u001b[0mresult\u001b[0m \u001b[1;33m=\u001b[0m \u001b[0mself\u001b[0m\u001b[1;33m.\u001b[0m\u001b[0m_call\u001b[0m\u001b[1;33m(\u001b[0m\u001b[1;33m*\u001b[0m\u001b[0margs\u001b[0m\u001b[1;33m,\u001b[0m \u001b[1;33m**\u001b[0m\u001b[0mkwds\u001b[0m\u001b[1;33m)\u001b[0m\u001b[1;33m\u001b[0m\u001b[1;33m\u001b[0m\u001b[0m\n\u001b[0m\u001b[0;32m    886\u001b[0m \u001b[1;33m\u001b[0m\u001b[0m\n\u001b[0;32m    887\u001b[0m       \u001b[0mnew_tracing_count\u001b[0m \u001b[1;33m=\u001b[0m \u001b[0mself\u001b[0m\u001b[1;33m.\u001b[0m\u001b[0mexperimental_get_tracing_count\u001b[0m\u001b[1;33m(\u001b[0m\u001b[1;33m)\u001b[0m\u001b[1;33m\u001b[0m\u001b[1;33m\u001b[0m\u001b[0m\n",
      "\u001b[1;32m~\\Anaconda3\\envs\\Biomet\\lib\\site-packages\\tensorflow\\python\\eager\\def_function.py\u001b[0m in \u001b[0;36m_call\u001b[1;34m(self, *args, **kwds)\u001b[0m\n\u001b[0;32m    915\u001b[0m       \u001b[1;31m# In this case we have created variables on the first call, so we run the\u001b[0m\u001b[1;33m\u001b[0m\u001b[1;33m\u001b[0m\u001b[1;33m\u001b[0m\u001b[0m\n\u001b[0;32m    916\u001b[0m       \u001b[1;31m# defunned version which is guaranteed to never create variables.\u001b[0m\u001b[1;33m\u001b[0m\u001b[1;33m\u001b[0m\u001b[1;33m\u001b[0m\u001b[0m\n\u001b[1;32m--> 917\u001b[1;33m       \u001b[1;32mreturn\u001b[0m \u001b[0mself\u001b[0m\u001b[1;33m.\u001b[0m\u001b[0m_stateless_fn\u001b[0m\u001b[1;33m(\u001b[0m\u001b[1;33m*\u001b[0m\u001b[0margs\u001b[0m\u001b[1;33m,\u001b[0m \u001b[1;33m**\u001b[0m\u001b[0mkwds\u001b[0m\u001b[1;33m)\u001b[0m  \u001b[1;31m# pylint: disable=not-callable\u001b[0m\u001b[1;33m\u001b[0m\u001b[1;33m\u001b[0m\u001b[0m\n\u001b[0m\u001b[0;32m    918\u001b[0m     \u001b[1;32melif\u001b[0m \u001b[0mself\u001b[0m\u001b[1;33m.\u001b[0m\u001b[0m_stateful_fn\u001b[0m \u001b[1;32mis\u001b[0m \u001b[1;32mnot\u001b[0m \u001b[1;32mNone\u001b[0m\u001b[1;33m:\u001b[0m\u001b[1;33m\u001b[0m\u001b[1;33m\u001b[0m\u001b[0m\n\u001b[0;32m    919\u001b[0m       \u001b[1;31m# Release the lock early so that multiple threads can perform the call\u001b[0m\u001b[1;33m\u001b[0m\u001b[1;33m\u001b[0m\u001b[1;33m\u001b[0m\u001b[0m\n",
      "\u001b[1;32m~\\Anaconda3\\envs\\Biomet\\lib\\site-packages\\tensorflow\\python\\eager\\function.py\u001b[0m in \u001b[0;36m__call__\u001b[1;34m(self, *args, **kwargs)\u001b[0m\n\u001b[0;32m   3037\u001b[0m       (graph_function,\n\u001b[0;32m   3038\u001b[0m        filtered_flat_args) = self._maybe_define_function(args, kwargs)\n\u001b[1;32m-> 3039\u001b[1;33m     return graph_function._call_flat(\n\u001b[0m\u001b[0;32m   3040\u001b[0m         filtered_flat_args, captured_inputs=graph_function.captured_inputs)  # pylint: disable=protected-access\n\u001b[0;32m   3041\u001b[0m \u001b[1;33m\u001b[0m\u001b[0m\n",
      "\u001b[1;32m~\\Anaconda3\\envs\\Biomet\\lib\\site-packages\\tensorflow\\python\\eager\\function.py\u001b[0m in \u001b[0;36m_call_flat\u001b[1;34m(self, args, captured_inputs, cancellation_manager)\u001b[0m\n\u001b[0;32m   1961\u001b[0m         and executing_eagerly):\n\u001b[0;32m   1962\u001b[0m       \u001b[1;31m# No tape is watching; skip to running the function.\u001b[0m\u001b[1;33m\u001b[0m\u001b[1;33m\u001b[0m\u001b[1;33m\u001b[0m\u001b[0m\n\u001b[1;32m-> 1963\u001b[1;33m       return self._build_call_outputs(self._inference_function.call(\n\u001b[0m\u001b[0;32m   1964\u001b[0m           ctx, args, cancellation_manager=cancellation_manager))\n\u001b[0;32m   1965\u001b[0m     forward_backward = self._select_forward_and_backward_functions(\n",
      "\u001b[1;32m~\\Anaconda3\\envs\\Biomet\\lib\\site-packages\\tensorflow\\python\\eager\\function.py\u001b[0m in \u001b[0;36mcall\u001b[1;34m(self, ctx, args, cancellation_manager)\u001b[0m\n\u001b[0;32m    589\u001b[0m       \u001b[1;32mwith\u001b[0m \u001b[0m_InterpolateFunctionError\u001b[0m\u001b[1;33m(\u001b[0m\u001b[0mself\u001b[0m\u001b[1;33m)\u001b[0m\u001b[1;33m:\u001b[0m\u001b[1;33m\u001b[0m\u001b[1;33m\u001b[0m\u001b[0m\n\u001b[0;32m    590\u001b[0m         \u001b[1;32mif\u001b[0m \u001b[0mcancellation_manager\u001b[0m \u001b[1;32mis\u001b[0m \u001b[1;32mNone\u001b[0m\u001b[1;33m:\u001b[0m\u001b[1;33m\u001b[0m\u001b[1;33m\u001b[0m\u001b[0m\n\u001b[1;32m--> 591\u001b[1;33m           outputs = execute.execute(\n\u001b[0m\u001b[0;32m    592\u001b[0m               \u001b[0mstr\u001b[0m\u001b[1;33m(\u001b[0m\u001b[0mself\u001b[0m\u001b[1;33m.\u001b[0m\u001b[0msignature\u001b[0m\u001b[1;33m.\u001b[0m\u001b[0mname\u001b[0m\u001b[1;33m)\u001b[0m\u001b[1;33m,\u001b[0m\u001b[1;33m\u001b[0m\u001b[1;33m\u001b[0m\u001b[0m\n\u001b[0;32m    593\u001b[0m               \u001b[0mnum_outputs\u001b[0m\u001b[1;33m=\u001b[0m\u001b[0mself\u001b[0m\u001b[1;33m.\u001b[0m\u001b[0m_num_outputs\u001b[0m\u001b[1;33m,\u001b[0m\u001b[1;33m\u001b[0m\u001b[1;33m\u001b[0m\u001b[0m\n",
      "\u001b[1;32m~\\Anaconda3\\envs\\Biomet\\lib\\site-packages\\tensorflow\\python\\eager\\execute.py\u001b[0m in \u001b[0;36mquick_execute\u001b[1;34m(op_name, num_outputs, inputs, attrs, ctx, name)\u001b[0m\n\u001b[0;32m     57\u001b[0m   \u001b[1;32mtry\u001b[0m\u001b[1;33m:\u001b[0m\u001b[1;33m\u001b[0m\u001b[1;33m\u001b[0m\u001b[0m\n\u001b[0;32m     58\u001b[0m     \u001b[0mctx\u001b[0m\u001b[1;33m.\u001b[0m\u001b[0mensure_initialized\u001b[0m\u001b[1;33m(\u001b[0m\u001b[1;33m)\u001b[0m\u001b[1;33m\u001b[0m\u001b[1;33m\u001b[0m\u001b[0m\n\u001b[1;32m---> 59\u001b[1;33m     tensors = pywrap_tfe.TFE_Py_Execute(ctx._handle, device_name, op_name,\n\u001b[0m\u001b[0;32m     60\u001b[0m                                         inputs, attrs, num_outputs)\n\u001b[0;32m     61\u001b[0m   \u001b[1;32mexcept\u001b[0m \u001b[0mcore\u001b[0m\u001b[1;33m.\u001b[0m\u001b[0m_NotOkStatusException\u001b[0m \u001b[1;32mas\u001b[0m \u001b[0me\u001b[0m\u001b[1;33m:\u001b[0m\u001b[1;33m\u001b[0m\u001b[1;33m\u001b[0m\u001b[0m\n",
      "\u001b[1;31mKeyboardInterrupt\u001b[0m: "
     ]
    }
   ],
   "source": [
    "history = model.fit(x = x_train, y = y_train, \n",
    "                    validation_data = (x_valid, y_valid),\n",
    "                    epochs = 10)"
   ]
  },
  {
   "cell_type": "code",
   "execution_count": 30,
   "id": "31dcc45f",
   "metadata": {},
   "outputs": [],
   "source": [
    "y_df = pd.DataFrame(y)\n",
    "y_df.columns = ['Cont']\n",
    "y_df[\"Dis\"] = 1\n",
    "y_df.loc[y_df.Cont > 5, \"Dis\"] = 2\n",
    "y_df.loc[y_df.Cont < 3, \"Dis\"] = 0"
   ]
  },
  {
   "cell_type": "code",
   "execution_count": 31,
   "id": "c18341a8",
   "metadata": {
    "scrolled": true
   },
   "outputs": [
    {
     "data": {
      "text/html": [
       "<div>\n",
       "<style scoped>\n",
       "    .dataframe tbody tr th:only-of-type {\n",
       "        vertical-align: middle;\n",
       "    }\n",
       "\n",
       "    .dataframe tbody tr th {\n",
       "        vertical-align: top;\n",
       "    }\n",
       "\n",
       "    .dataframe thead th {\n",
       "        text-align: right;\n",
       "    }\n",
       "</style>\n",
       "<table border=\"1\" class=\"dataframe\">\n",
       "  <thead>\n",
       "    <tr style=\"text-align: right;\">\n",
       "      <th></th>\n",
       "      <th>Cont</th>\n",
       "      <th>Dis</th>\n",
       "    </tr>\n",
       "  </thead>\n",
       "  <tbody>\n",
       "    <tr>\n",
       "      <th>0</th>\n",
       "      <td>7.0</td>\n",
       "      <td>2</td>\n",
       "    </tr>\n",
       "    <tr>\n",
       "      <th>1</th>\n",
       "      <td>7.0</td>\n",
       "      <td>2</td>\n",
       "    </tr>\n",
       "    <tr>\n",
       "      <th>2</th>\n",
       "      <td>2.0</td>\n",
       "      <td>0</td>\n",
       "    </tr>\n",
       "    <tr>\n",
       "      <th>3</th>\n",
       "      <td>7.0</td>\n",
       "      <td>2</td>\n",
       "    </tr>\n",
       "    <tr>\n",
       "      <th>4</th>\n",
       "      <td>7.0</td>\n",
       "      <td>2</td>\n",
       "    </tr>\n",
       "  </tbody>\n",
       "</table>\n",
       "</div>"
      ],
      "text/plain": [
       "   Cont  Dis\n",
       "0   7.0    2\n",
       "1   7.0    2\n",
       "2   2.0    0\n",
       "3   7.0    2\n",
       "4   7.0    2"
      ]
     },
     "execution_count": 31,
     "metadata": {},
     "output_type": "execute_result"
    }
   ],
   "source": [
    "y_df.head()"
   ]
  },
  {
   "cell_type": "code",
   "execution_count": 32,
   "id": "c8ad4315",
   "metadata": {},
   "outputs": [],
   "source": [
    "y = np.array(y_df.Dis)\n",
    "y_train = y[:37]\n",
    "y_valid = y[37:]"
   ]
  },
  {
   "cell_type": "code",
   "execution_count": 33,
   "id": "56d83769",
   "metadata": {},
   "outputs": [],
   "source": [
    "model = keras.Sequential()\n",
    "model.add(keras.layers.Masking(mask_value=special_value, input_shape=(cut_off, len(related_features) -1)))\n",
    "model.add(keras.layers.LSTM(32))\n",
    "model.add(keras.layers.Dense(3, activation='softmax'))\n",
    "\n",
    "model.compile(loss='sparse_categorical_crossentropy', \n",
    "              optimizer=keras.optimizers.Adam(learning_rate=0.01), metrics=['accuracy'])"
   ]
  },
  {
   "cell_type": "code",
   "execution_count": 34,
   "id": "139af2d2",
   "metadata": {},
   "outputs": [
    {
     "name": "stdout",
     "output_type": "stream",
     "text": [
      "Epoch 1/10\n",
      "2/2 [==============================] - 8s 3s/step - loss: 1.2855 - accuracy: 0.1351 - val_loss: 0.8965 - val_accuracy: 0.6667\n",
      "Epoch 2/10\n",
      "2/2 [==============================] - 4s 2s/step - loss: 0.7220 - accuracy: 0.8919 - val_loss: 0.8937 - val_accuracy: 0.6667\n",
      "Epoch 3/10\n",
      "2/2 [==============================] - 4s 2s/step - loss: 0.4809 - accuracy: 0.8919 - val_loss: 1.0421 - val_accuracy: 0.6667\n",
      "Epoch 4/10\n",
      "2/2 [==============================] - 4s 2s/step - loss: 0.4106 - accuracy: 0.8919 - val_loss: 1.2615 - val_accuracy: 0.6667\n",
      "Epoch 5/10\n",
      "2/2 [==============================] - 4s 2s/step - loss: 0.4068 - accuracy: 0.8919 - val_loss: 1.3760 - val_accuracy: 0.6667\n",
      "Epoch 6/10\n",
      "2/2 [==============================] - 4s 2s/step - loss: 0.4099 - accuracy: 0.8919 - val_loss: 1.4251 - val_accuracy: 0.6667\n",
      "Epoch 7/10\n",
      "2/2 [==============================] - 4s 2s/step - loss: 0.4153 - accuracy: 0.8919 - val_loss: 1.4782 - val_accuracy: 0.6667\n",
      "Epoch 8/10\n",
      "2/2 [==============================] - 4s 2s/step - loss: 0.4196 - accuracy: 0.8919 - val_loss: 1.4952 - val_accuracy: 0.6667\n",
      "Epoch 9/10\n",
      "2/2 [==============================] - 4s 2s/step - loss: 0.4143 - accuracy: 0.8919 - val_loss: 1.4602 - val_accuracy: 0.6667\n",
      "Epoch 10/10\n",
      "2/2 [==============================] - 4s 2s/step - loss: 0.4043 - accuracy: 0.8919 - val_loss: 1.4271 - val_accuracy: 0.6667\n"
     ]
    }
   ],
   "source": [
    "history = model.fit(x = x_train, y = y_train, \n",
    "                    validation_data = (x_valid, y_valid),\n",
    "                    epochs = 10)"
   ]
  },
  {
   "cell_type": "code",
   "execution_count": 35,
   "id": "2908e4f4",
   "metadata": {},
   "outputs": [
    {
     "data": {
      "text/plain": [
       "array([[0.01798887, 0.07775144, 0.9042597 ],\n",
       "       [0.01141646, 0.0448267 , 0.9437568 ],\n",
       "       [0.00545138, 0.02729363, 0.967255  ],\n",
       "       [0.01433526, 0.05266355, 0.93300116],\n",
       "       [0.00783142, 0.0329078 , 0.95926076],\n",
       "       [0.00265923, 0.01300121, 0.9843396 ]], dtype=float32)"
      ]
     },
     "execution_count": 35,
     "metadata": {},
     "output_type": "execute_result"
    }
   ],
   "source": [
    "y_score = model.predict(x_valid)\n",
    "y_score"
   ]
  },
  {
   "cell_type": "code",
   "execution_count": null,
   "id": "cc2fd9aa",
   "metadata": {},
   "outputs": [],
   "source": [
    "y_valid"
   ]
  },
  {
   "cell_type": "code",
   "execution_count": null,
   "id": "91c4ac12",
   "metadata": {},
   "outputs": [],
   "source": [
    "feature_idx = 15"
   ]
  },
  {
   "cell_type": "code",
   "execution_count": null,
   "id": "24086066",
   "metadata": {},
   "outputs": [],
   "source": [
    "plt.style.use('classic')\n",
    "fig, ax = plt.subplots()"
   ]
  },
  {
   "cell_type": "code",
   "execution_count": null,
   "id": "9c782f7a",
   "metadata": {},
   "outputs": [],
   "source": [
    "plt.plot(x_valid[0][:,feature_idx])\n",
    "plt.plot(x_valid[1][:,feature_idx])\n",
    "plt.plot(x_valid[2][:,feature_idx])\n",
    "plt.plot(x_valid[3][:,feature_idx])\n",
    "plt.plot(x_valid[4][:,feature_idx])\n",
    "plt.plot(x_valid[5][:,feature_idx])\n",
    "plt.show()"
   ]
  },
  {
   "cell_type": "code",
   "execution_count": null,
   "id": "d53627b8",
   "metadata": {},
   "outputs": [],
   "source": [
    "plt.plot(x_valid[2][:,feature_idx])\n",
    "plt.plot(x_valid[4][:,feature_idx])\n",
    "plt.plot(x_valid[5][:,feature_idx])\n",
    "plt.show()"
   ]
  },
  {
   "cell_type": "code",
   "execution_count": null,
   "id": "716bdf8b",
   "metadata": {},
   "outputs": [],
   "source": []
  },
  {
   "cell_type": "code",
   "execution_count": null,
   "id": "bcf9d1c1",
   "metadata": {},
   "outputs": [],
   "source": []
  },
  {
   "cell_type": "code",
   "execution_count": null,
   "id": "079b4c5c",
   "metadata": {},
   "outputs": [],
   "source": []
  },
  {
   "cell_type": "code",
   "execution_count": null,
   "id": "f634f1fc",
   "metadata": {},
   "outputs": [],
   "source": [
    "y_dis_pred_valid"
   ]
  },
  {
   "cell_type": "code",
   "execution_count": 37,
   "id": "40316184",
   "metadata": {},
   "outputs": [],
   "source": [
    "y_train = tf.keras.utils.to_categorical(y_train, num_classes=3)\n",
    "y_valid = tf.keras.utils.to_categorical(y_valid, num_classes=3)"
   ]
  },
  {
   "cell_type": "code",
   "execution_count": 38,
   "id": "36e5ceea",
   "metadata": {},
   "outputs": [
    {
     "data": {
      "text/plain": [
       "array([[1., 0., 0.],\n",
       "       [0., 0., 1.],\n",
       "       [0., 0., 1.],\n",
       "       [0., 0., 1.],\n",
       "       [0., 0., 1.],\n",
       "       [0., 1., 0.]], dtype=float32)"
      ]
     },
     "execution_count": 38,
     "metadata": {},
     "output_type": "execute_result"
    }
   ],
   "source": [
    "y_valid"
   ]
  },
  {
   "cell_type": "code",
   "execution_count": 39,
   "id": "c36c1678",
   "metadata": {},
   "outputs": [
    {
     "name": "stdout",
     "output_type": "stream",
     "text": [
      "Average precision score, micro-averaged over all classes: 0.59\n"
     ]
    }
   ],
   "source": [
    "n_classes = 3\n",
    "precision = dict()\n",
    "recall = dict()\n",
    "average_precision = dict()\n",
    "for i in range(n_classes):\n",
    "    precision[i], recall[i], _ = precision_recall_curve(y_valid[:, i],\n",
    "                                                        y_score[:, i])\n",
    "    average_precision[i] = average_precision_score(y_valid[:, i], y_score[:, i])\n",
    "\n",
    "# A \"micro-average\": quantifying score on all classes jointly\n",
    "precision[\"micro\"], recall[\"micro\"], _ = precision_recall_curve(y_valid.ravel(),\n",
    "     y_score.ravel())\n",
    "average_precision[\"micro\"] = average_precision_score(y_valid,  y_score,\n",
    "                                                     average=\"micro\")\n",
    "print('Average precision score, micro-averaged over all classes: {0:0.2f}'\n",
    "      .format(average_precision[\"micro\"]))"
   ]
  },
  {
   "cell_type": "code",
   "execution_count": null,
   "id": "39682431",
   "metadata": {},
   "outputs": [],
   "source": []
  },
  {
   "cell_type": "code",
   "execution_count": null,
   "id": "721a5827",
   "metadata": {},
   "outputs": [],
   "source": []
  },
  {
   "cell_type": "code",
   "execution_count": null,
   "id": "fda7c4ab",
   "metadata": {},
   "outputs": [],
   "source": []
  },
  {
   "cell_type": "code",
   "execution_count": null,
   "id": "9c3ae403",
   "metadata": {},
   "outputs": [],
   "source": []
  },
  {
   "cell_type": "markdown",
   "id": "8b3986ce",
   "metadata": {},
   "source": [
    "## Sklearn Example for Percision Recall Curve\n",
    "[link](https://scikit-learn.org/stable/auto_examples/model_selection/plot_precision_recall.html)"
   ]
  },
  {
   "cell_type": "code",
   "execution_count": 40,
   "id": "94d589e1",
   "metadata": {},
   "outputs": [
    {
     "data": {
      "image/png": "[encoded data removed]",
      "text/plain": [
       "<Figure size 700x800 with 1 Axes>"
      ]
     },
     "metadata": {},
     "output_type": "display_data"
    }
   ],
   "source": [
    "\n",
    "# setup plot details\n",
    "colors = cycle(['navy', 'turquoise', 'darkorange', 'cornflowerblue', 'teal'])\n",
    "\n",
    "plt.figure(figsize=(7, 8))\n",
    "f_scores = np.linspace(0.2, 0.8, num=4)\n",
    "lines = []\n",
    "labels = []\n",
    "for f_score in f_scores:\n",
    "    x = np.linspace(0.01, 1)\n",
    "    y = f_score * x / (2 * x - f_score)\n",
    "    l, = plt.plot(x[y >= 0], y[y >= 0], color='gray', alpha=0.2)\n",
    "    plt.annotate('f1={0:0.1f}'.format(f_score), xy=(0.9, y[45] + 0.02))\n",
    "\n",
    "lines.append(l)\n",
    "labels.append('iso-f1 curves')\n",
    "l, = plt.plot(recall[\"micro\"], precision[\"micro\"], color='gold', lw=2)\n",
    "lines.append(l)\n",
    "labels.append('micro-average Precision-recall (area = {0:0.2f})'\n",
    "              ''.format(average_precision[\"micro\"]))\n",
    "\n",
    "for i, color in zip(range(n_classes), colors):\n",
    "    l, = plt.plot(recall[i], precision[i], color=color, lw=2)\n",
    "    lines.append(l)\n",
    "    labels.append('Precision-recall for class {0} (area = {1:0.2f})'\n",
    "                  ''.format(i, average_precision[i]))\n",
    "\n",
    "fig = plt.gcf()\n",
    "fig.subplots_adjust(bottom=0.25)\n",
    "plt.xlim([0.0, 1.0])\n",
    "plt.ylim([0.0, 1.05])\n",
    "plt.xlabel('Recall')\n",
    "plt.ylabel('Precision')\n",
    "plt.title('Extension of Precision-Recall curve to multi-class')\n",
    "plt.legend(lines, labels, loc=(0, -.38), prop=dict(size=14))\n",
    "\n",
    "\n",
    "plt.show()\n"
   ]
  },
  {
   "cell_type": "code",
   "execution_count": null,
   "id": "3ae97c9b",
   "metadata": {},
   "outputs": [],
   "source": []
  },
  {
   "cell_type": "code",
   "execution_count": null,
   "id": "0c9eff6c",
   "metadata": {},
   "outputs": [],
   "source": []
  },
  {
   "cell_type": "code",
   "execution_count": null,
   "id": "060b905f",
   "metadata": {},
   "outputs": [],
   "source": []
  },
  {
   "cell_type": "code",
   "execution_count": null,
   "id": "cf93438b",
   "metadata": {},
   "outputs": [],
   "source": []
  },
  {
   "cell_type": "code",
   "execution_count": null,
   "id": "f77237f4",
   "metadata": {},
   "outputs": [],
   "source": [
    "y_dis_pred_valid"
   ]
  },
  {
   "cell_type": "code",
   "execution_count": null,
   "id": "2d40a024",
   "metadata": {},
   "outputs": [],
   "source": [
    "y_pred_naive = np.full(y_dis_valid.shape, 2)\n",
    "accuracy_score(y_dis_valid, y_pred_naive)"
   ]
  },
  {
   "cell_type": "code",
   "execution_count": null,
   "id": "5b70be5e",
   "metadata": {},
   "outputs": [],
   "source": []
  },
  {
   "cell_type": "code",
   "execution_count": null,
   "id": "df7ab884",
   "metadata": {},
   "outputs": [],
   "source": [
    "y_dis_valid"
   ]
  },
  {
   "cell_type": "code",
   "execution_count": null,
   "id": "b4a6aa34",
   "metadata": {},
   "outputs": [],
   "source": [
    "model = keras.Sequential()\n",
    "model.add(keras.layers.Masking(mask_value=special_value, input_shape=(cut_off, len(related_features) -1)))\n",
    "model.add(keras.layers.LSTM(32))\n",
    "model.add(keras.layers.Dense(3, activation='softmax'))"
   ]
  },
  {
   "cell_type": "code",
   "execution_count": null,
   "id": "7869774a",
   "metadata": {},
   "outputs": [],
   "source": [
    "model.compile(loss='categorical_crossentropy', optimizer=keras.optimizers.Adam(learning_rate=0.01), metrics=['accuracy'])"
   ]
  },
  {
   "cell_type": "code",
   "execution_count": null,
   "id": "a3042da0",
   "metadata": {},
   "outputs": [],
   "source": [
    "history = model.fit(x = x_train, y = y_dis_train, \n",
    "                    validation_data = (x_valid, y_dis_valid),\n",
    "                    epochs = 25)"
   ]
  },
  {
   "cell_type": "code",
   "execution_count": null,
   "id": "604a3917",
   "metadata": {},
   "outputs": [],
   "source": [
    "y_dis_valid"
   ]
  },
  {
   "cell_type": "code",
   "execution_count": null,
   "id": "7acb857e",
   "metadata": {},
   "outputs": [],
   "source": [
    "y_dis_train"
   ]
  },
  {
   "cell_type": "code",
   "execution_count": null,
   "id": "7cab9476",
   "metadata": {},
   "outputs": [],
   "source": []
  }
 ],
 "metadata": {
  "kernelspec": {
   "display_name": "Python 3",
   "language": "python",
   "name": "python3"
  },
  "language_info": {
   "codemirror_mode": {
    "name": "ipython",
    "version": 3
   },
   "file_extension": ".py",
   "mimetype": "text/x-python",
   "name": "python",
   "nbconvert_exporter": "python",
   "pygments_lexer": "ipython3",
   "version": "3.9.6"
  }
 },
 "nbformat": 4,
 "nbformat_minor": 5
}
