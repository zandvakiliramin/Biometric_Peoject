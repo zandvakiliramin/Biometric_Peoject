{
 "cells": [
  {
   "cell_type": "markdown",
   "id": "7d306e8b",
   "metadata": {},
   "source": [
    "# Initial Analysis"
   ]
  },
  {
   "cell_type": "markdown",
   "id": "11cbbba2",
   "metadata": {},
   "source": [
    "## Finding stimuli with highest number of participants\n",
    "Each stimulus is seen by a specific number of participants. In this part we want to find out which stimuli have been visited the most. We use these stimulus to train a sequence model with a single stimuli."
   ]
  },
  {
   "cell_type": "code",
   "execution_count": 6,
   "id": "a619d926",
   "metadata": {},
   "outputs": [],
   "source": [
    "import os\n",
    "\n",
    "import pandas as pd\n",
    "\n",
    "import numpy as np\n",
    "\n",
    "%matplotlib inline\n",
    "\n",
    "import matplotlib.pyplot as plt\n",
    "import seaborn as sns"
   ]
  },
  {
   "cell_type": "code",
   "execution_count": 2,
   "id": "5ed53e2f",
   "metadata": {},
   "outputs": [
    {
     "data": {
      "text/plain": [
       "Index(['Study', 'Subject_ID', 'StimName', 'Experiment_Time',\n",
       "       'CALIB_VALID_POINTS', 'Group', 'Age', 'Handedness', 'Country',\n",
       "       'Language', 'Gender', 'Eyewear', 'Session_Date', 'Block',\n",
       "       'Big5_Openness', 'Big5_Conscientiousness', 'Big5_Extraversion',\n",
       "       'Big5_Agreeableness', 'Big5_Neuroticism', 'Expert', 'Ethnicity',\n",
       "       'SessionDate', 'OrderStim', 'StartTime', 'EndTime', 'PosNegAdSAM',\n",
       "       'ExciteCalmAdSAM', 'ImpCom', 'PosCom', 'LikeCom', 'ViewsCom',\n",
       "       'PreLikelyFav', 'PostLikelyFav', 'LikelyFavDifference', 'PostOften',\n",
       "       'CNT', 'Eye_Time', 'TIME_TICK', 'FPOGX', 'FPOGY', 'FPOGS', 'FPOGD',\n",
       "       'FPOGID', 'FPOGV', 'BPOGX', 'BPOGY', 'BPOGV', 'LPCX', 'LPCY', 'LPD',\n",
       "       'LPS', 'LPV', 'RPCX', 'RPCY', 'RPD', 'RPS', 'RPV', 'LPUPILD', 'LPUPILV',\n",
       "       'RPUPILD', 'RPUPILV', 'Frame', 'Distance_to_Next_Frame', 'Face_Time',\n",
       "       'Anger_Evidence', 'Anger_Intensity', 'Contempt_Evidence',\n",
       "       'Contempt_Intensity', 'Disgust_Evidence', 'Disgust_Intensity',\n",
       "       'Joy_Evidence', 'Joy_Intensity', 'Fear_Evidence', 'Fear_Intensity',\n",
       "       'Negative_Evidence', 'Negative_Intensity', 'Neutral_Evidence',\n",
       "       'Neutral_Intensity', 'Positive_Evidence', 'Positive_Intensity',\n",
       "       'Sadness_Evidence', 'Sadness_Intensity', 'Surprise_Evidence',\n",
       "       'Surprise_Intensity', 'Heart_Rate', 'Average_Heart_Rate', 'Heart_Time',\n",
       "       'Normed_Heart_Rate', 'Persons_Average_LPD', 'Persons_Average_RPD',\n",
       "       'Normed_LPD', 'Normed_RPD', 'bpogx_dmean', 'bpogy_dmean',\n",
       "       'combined_normed_bpogxy', 'Normed_LPS', 'Normed_RPS', 'Stim_Frame'],\n",
       "      dtype='object')"
      ]
     },
     "execution_count": 2,
     "metadata": {},
     "output_type": "execute_result"
    }
   ],
   "source": [
    "data = pd.read_csv(\"./Data/Raw_Data/Harmonized_Instrument_Data-002.csv\", nrows=10)\n",
    "data.columns"
   ]
  },
  {
   "cell_type": "code",
   "execution_count": 3,
   "id": "8c53d1f5",
   "metadata": {},
   "outputs": [
    {
     "name": "stderr",
     "output_type": "stream",
     "text": [
      "C:\\Users\\zandv003\\Anaconda3\\lib\\site-packages\\IPython\\core\\interactiveshell.py:3165: DtypeWarning: Columns (2) have mixed types.Specify dtype option on import or set low_memory=False.\n",
      "  has_raised = await self.run_ast_nodes(code_ast.body, cell_name,\n"
     ]
    }
   ],
   "source": [
    "data2 = pd.read_csv(\"./Data/Raw_Data/Harmonized_Instrument_Data-002.csv\", usecols =[\"Subject_ID\", \"StimName\"])"
   ]
  },
  {
   "cell_type": "code",
   "execution_count": 4,
   "id": "9b11dcd5",
   "metadata": {},
   "outputs": [],
   "source": [
    "# Get the frequency of each stimulus\n",
    "grouped_df = data2.groupby(\"StimName\")\n",
    "\n",
    "grouped_df = grouped_df.agg({\"Subject_ID\": \"nunique\"})\n",
    "\n",
    "grouped_df = grouped_df.reset_index()"
   ]
  },
  {
   "cell_type": "code",
   "execution_count": 5,
   "id": "73341000",
   "metadata": {},
   "outputs": [],
   "source": [
    "grouped_df.columns = ['StimName', 'Freq']"
   ]
  },
  {
   "cell_type": "code",
   "execution_count": 6,
   "id": "351cefe0",
   "metadata": {},
   "outputs": [
    {
     "data": {
      "text/html": [
       "<div>\n",
       "<style scoped>\n",
       "    .dataframe tbody tr th:only-of-type {\n",
       "        vertical-align: middle;\n",
       "    }\n",
       "\n",
       "    .dataframe tbody tr th {\n",
       "        vertical-align: top;\n",
       "    }\n",
       "\n",
       "    .dataframe thead th {\n",
       "        text-align: right;\n",
       "    }\n",
       "</style>\n",
       "<table border=\"1\" class=\"dataframe\">\n",
       "  <thead>\n",
       "    <tr style=\"text-align: right;\">\n",
       "      <th></th>\n",
       "      <th>StimName</th>\n",
       "      <th>Freq</th>\n",
       "    </tr>\n",
       "  </thead>\n",
       "  <tbody>\n",
       "    <tr>\n",
       "      <th>0</th>\n",
       "      <td>300</td>\n",
       "      <td>6</td>\n",
       "    </tr>\n",
       "    <tr>\n",
       "      <th>1</th>\n",
       "      <td>1050</td>\n",
       "      <td>7</td>\n",
       "    </tr>\n",
       "    <tr>\n",
       "      <th>2</th>\n",
       "      <td>1111</td>\n",
       "      <td>3</td>\n",
       "    </tr>\n",
       "    <tr>\n",
       "      <th>3</th>\n",
       "      <td>1201</td>\n",
       "      <td>10</td>\n",
       "    </tr>\n",
       "    <tr>\n",
       "      <th>4</th>\n",
       "      <td>1202</td>\n",
       "      <td>6</td>\n",
       "    </tr>\n",
       "    <tr>\n",
       "      <th>...</th>\n",
       "      <td>...</td>\n",
       "      <td>...</td>\n",
       "    </tr>\n",
       "    <tr>\n",
       "      <th>144</th>\n",
       "      <td>TurboTax2014</td>\n",
       "      <td>37</td>\n",
       "    </tr>\n",
       "    <tr>\n",
       "      <th>145</th>\n",
       "      <td>Unbroken</td>\n",
       "      <td>41</td>\n",
       "    </tr>\n",
       "    <tr>\n",
       "      <th>146</th>\n",
       "      <td>Volkswagen2014</td>\n",
       "      <td>48</td>\n",
       "    </tr>\n",
       "    <tr>\n",
       "      <th>147</th>\n",
       "      <td>WishHere</td>\n",
       "      <td>40</td>\n",
       "    </tr>\n",
       "    <tr>\n",
       "      <th>148</th>\n",
       "      <td>Xmen</td>\n",
       "      <td>13</td>\n",
       "    </tr>\n",
       "  </tbody>\n",
       "</table>\n",
       "<p>149 rows × 2 columns</p>\n",
       "</div>"
      ],
      "text/plain": [
       "           StimName  Freq\n",
       "0               300     6\n",
       "1              1050     7\n",
       "2              1111     3\n",
       "3              1201    10\n",
       "4              1202     6\n",
       "..              ...   ...\n",
       "144    TurboTax2014    37\n",
       "145        Unbroken    41\n",
       "146  Volkswagen2014    48\n",
       "147        WishHere    40\n",
       "148            Xmen    13\n",
       "\n",
       "[149 rows x 2 columns]"
      ]
     },
     "execution_count": 6,
     "metadata": {},
     "output_type": "execute_result"
    }
   ],
   "source": [
    "grouped_df"
   ]
  },
  {
   "cell_type": "code",
   "execution_count": 7,
   "id": "e29874ab",
   "metadata": {},
   "outputs": [],
   "source": [
    "# Check for the stimulus name that exists in the valid files (some stimulus names do not exist in these files)\n",
    "file_names = ['SuperMovie0102_L.csv',\n",
    " 'SuperMovie0304_L.csv',\n",
    " 'SuperMovie0506_L.csv',\n",
    " 'SuperMovie0708_L.csv',\n",
    " 'SuperMovie1516_L.csv',\n",
    " 'SuperMovie1718_L.csv',\n",
    " 'SuperMovie1920_L.csv',\n",
    " 'SuperMovie2122_L.csv']\n",
    "\n",
    "#file_names = os.listdir('./Data/Lab_Recall_Hand_Edited/')\n",
    "\n",
    "# Make a dic of data files with file name as the key and dataframe as the value\n",
    "recall_data_files = {}\n",
    "valid_stimuli = []\n",
    "for file_name in file_names:\n",
    "    \n",
    "    df = pd.read_csv('./Data/Lab_Recall_Hand_Edited/' + file_name)\n",
    "\n",
    "    df['FileName'] = file_name.split('.')[0]\n",
    "    recall_data_files[file_name.split('.')[0]] = df\n",
    "    \n",
    "for (file_name, recall_df) in recall_data_files.items():\n",
    "    for movie_name in recall_df.columns:\n",
    "        valid_stimuli.append(movie_name)\n",
    "\n",
    "valid_stimuli = set(valid_stimuli)"
   ]
  },
  {
   "cell_type": "code",
   "execution_count": 8,
   "id": "ac58c699",
   "metadata": {
    "scrolled": true
   },
   "outputs": [
    {
     "data": {
      "text/plain": [
       "{'300',\n",
       " 'Always',\n",
       " 'Audi',\n",
       " 'BMW',\n",
       " 'BudLight',\n",
       " 'Budweiser',\n",
       " 'Butterfing',\n",
       " 'Cesar',\n",
       " 'Chobani',\n",
       " 'Chrysler',\n",
       " 'CocaCola',\n",
       " 'CocaColaBe',\n",
       " 'CptAmerica',\n",
       " 'Dannon',\n",
       " 'Divergent',\n",
       " 'Doritos',\n",
       " 'Dove',\n",
       " 'DumbTo',\n",
       " 'Email',\n",
       " 'EmailAddress',\n",
       " 'EndDate',\n",
       " 'Esurance',\n",
       " 'Exodus',\n",
       " 'ExternalDataReference',\n",
       " 'ExternalReference',\n",
       " 'Fiat',\n",
       " 'FileName',\n",
       " 'GetHard',\n",
       " 'GoDaddy',\n",
       " 'GoDaddyPup',\n",
       " 'GraceofMon',\n",
       " 'HandM',\n",
       " 'Honda',\n",
       " 'Hyundai',\n",
       " 'HyundaiGen',\n",
       " 'InherentVi',\n",
       " 'InsideOut',\n",
       " 'InstTrail',\n",
       " 'Interstell',\n",
       " 'Jaguar',\n",
       " 'Kia',\n",
       " 'Lexus',\n",
       " 'MMs',\n",
       " 'Maserati',\n",
       " 'McDonalds',\n",
       " 'Mercedes',\n",
       " 'MountainDe',\n",
       " 'Muppets',\n",
       " 'NFL',\n",
       " 'Name',\n",
       " 'Nationwide',\n",
       " 'Needforspe',\n",
       " 'Noah',\n",
       " 'NonStop',\n",
       " 'Ouija',\n",
       " 'PeabodyShe',\n",
       " 'Pepsi',\n",
       " 'Pistachio2',\n",
       " 'Pyramid',\n",
       " 'Sabotage',\n",
       " 'SanAndreas',\n",
       " 'Sodastream',\n",
       " 'Sprint',\n",
       " 'Spy',\n",
       " 'Squarespac',\n",
       " 'StartDate',\n",
       " 'Subway',\n",
       " 'TMobile',\n",
       " 'TheBestOfM',\n",
       " 'TheCulling',\n",
       " 'TheLongest',\n",
       " 'TmobileSti',\n",
       " 'Tomorrowla',\n",
       " 'ToyotaHigh',\n",
       " 'Tyler',\n",
       " 'Unbroken',\n",
       " 'Volkswagon',\n",
       " 'Walkofsham',\n",
       " 'WhileWere',\n",
       " 'WixDotCom',\n",
       " 'earthtoech',\n",
       " 'otherwmn',\n",
       " 'quietones'}"
      ]
     },
     "execution_count": 8,
     "metadata": {},
     "output_type": "execute_result"
    }
   ],
   "source": [
    "valid_stimuli"
   ]
  },
  {
   "cell_type": "markdown",
   "id": "20fc7c83",
   "metadata": {},
   "source": [
    "## All of Histograms for Stimuli Recall"
   ]
  },
  {
   "cell_type": "code",
   "execution_count": 64,
   "id": "e1a8bef0",
   "metadata": {},
   "outputs": [],
   "source": [
    "all_file_names = os.listdir('./Data/Lab_Recall_Hand_Edited/')\n",
    "non_stim_cols = ['Name', 'EmailAddress', 'Email', 'ExternalDataReference', 'ExternalReference', 'StartDate', \n",
    "                 'EndDate', 'FileName', 'RecipientLastName', 'RecipientFirstName', 'RecipientEmail' ]\n",
    "\n",
    "all_stim_recall_tidy = pd.DataFrame(columns = [\"Stimulus\", \"Recall\"])\n",
    "\n",
    "for file_name in all_file_names:\n",
    "    stim_cols = []\n",
    "    df = pd.read_csv('./Data/Lab_Recall_Hand_Edited/' + file_name)\n",
    "    col_names = df.columns\n",
    "    for col_name in col_names:    \n",
    "        if not(col_name in non_stim_cols):\n",
    "            stim_cols.append(col_name)\n",
    "    df = df[stim_cols]\n",
    "    df = pd.melt(df, var_name='Stimulus', value_name='Recall')\n",
    "    \n",
    "    all_stim_recall_tidy = all_stim_recall_tidy.append(df, ignore_index=True)"
   ]
  },
  {
   "cell_type": "code",
   "execution_count": 65,
   "id": "53c9658c",
   "metadata": {},
   "outputs": [
    {
     "data": {
      "text/html": [
       "<div>\n",
       "<style scoped>\n",
       "    .dataframe tbody tr th:only-of-type {\n",
       "        vertical-align: middle;\n",
       "    }\n",
       "\n",
       "    .dataframe tbody tr th {\n",
       "        vertical-align: top;\n",
       "    }\n",
       "\n",
       "    .dataframe thead th {\n",
       "        text-align: right;\n",
       "    }\n",
       "</style>\n",
       "<table border=\"1\" class=\"dataframe\">\n",
       "  <thead>\n",
       "    <tr style=\"text-align: right;\">\n",
       "      <th></th>\n",
       "      <th>Stimulus</th>\n",
       "      <th>Recall</th>\n",
       "    </tr>\n",
       "  </thead>\n",
       "  <tbody>\n",
       "    <tr>\n",
       "      <th>0</th>\n",
       "      <td>Hyundai</td>\n",
       "      <td>2.0</td>\n",
       "    </tr>\n",
       "    <tr>\n",
       "      <th>1</th>\n",
       "      <td>Hyundai</td>\n",
       "      <td>3.0</td>\n",
       "    </tr>\n",
       "    <tr>\n",
       "      <th>2</th>\n",
       "      <td>Hyundai</td>\n",
       "      <td>2.0</td>\n",
       "    </tr>\n",
       "    <tr>\n",
       "      <th>3</th>\n",
       "      <td>Hyundai</td>\n",
       "      <td>8.0</td>\n",
       "    </tr>\n",
       "    <tr>\n",
       "      <th>4</th>\n",
       "      <td>Hyundai</td>\n",
       "      <td>8.0</td>\n",
       "    </tr>\n",
       "    <tr>\n",
       "      <th>...</th>\n",
       "      <td>...</td>\n",
       "      <td>...</td>\n",
       "    </tr>\n",
       "    <tr>\n",
       "      <th>9375</th>\n",
       "      <td>SanAndreas</td>\n",
       "      <td>7.0</td>\n",
       "    </tr>\n",
       "    <tr>\n",
       "      <th>9376</th>\n",
       "      <td>SanAndreas</td>\n",
       "      <td>7.0</td>\n",
       "    </tr>\n",
       "    <tr>\n",
       "      <th>9377</th>\n",
       "      <td>SanAndreas</td>\n",
       "      <td>7.0</td>\n",
       "    </tr>\n",
       "    <tr>\n",
       "      <th>9378</th>\n",
       "      <td>SanAndreas</td>\n",
       "      <td>7.0</td>\n",
       "    </tr>\n",
       "    <tr>\n",
       "      <th>9379</th>\n",
       "      <td>SanAndreas</td>\n",
       "      <td>7.0</td>\n",
       "    </tr>\n",
       "  </tbody>\n",
       "</table>\n",
       "<p>9380 rows × 2 columns</p>\n",
       "</div>"
      ],
      "text/plain": [
       "        Stimulus  Recall\n",
       "0        Hyundai     2.0\n",
       "1        Hyundai     3.0\n",
       "2        Hyundai     2.0\n",
       "3        Hyundai     8.0\n",
       "4        Hyundai     8.0\n",
       "...          ...     ...\n",
       "9375  SanAndreas     7.0\n",
       "9376  SanAndreas     7.0\n",
       "9377  SanAndreas     7.0\n",
       "9378  SanAndreas     7.0\n",
       "9379  SanAndreas     7.0\n",
       "\n",
       "[9380 rows x 2 columns]"
      ]
     },
     "execution_count": 65,
     "metadata": {},
     "output_type": "execute_result"
    }
   ],
   "source": [
    "all_stim_recall_tidy"
   ]
  },
  {
   "cell_type": "code",
   "execution_count": 74,
   "id": "df7f6c71",
   "metadata": {},
   "outputs": [
    {
     "data": {
      "text/plain": [
       "102"
      ]
     },
     "execution_count": 74,
     "metadata": {},
     "output_type": "execute_result"
    }
   ],
   "source": [
    "len(all_stim_recall_tidy.Stimulus.unique())"
   ]
  },
  {
   "cell_type": "code",
   "execution_count": 73,
   "id": "93d5c607",
   "metadata": {
    "scrolled": true
   },
   "outputs": [
    {
     "data": {
      "text/plain": [
       "<seaborn.axisgrid.FacetGrid at 0x295e04a41f0>"
      ]
     },
     "execution_count": 73,
     "metadata": {},
     "output_type": "execute_result"
    },
    {
     "data": {
      "image/png": "[encoded data removed]",
      "text/plain": [
       "<Figure size 1008x2160 with 102 Axes>"
      ]
     },
     "metadata": {},
     "output_type": "display_data"
    }
   ],
   "source": [
    "sns.set_theme()\n",
    "g = sns.FacetGrid(all_stim_recall_tidy, col=\"Stimulus\", col_wrap=7, height=2)\n",
    "g.map(sns.histplot, \"Recall\")"
   ]
  },
  {
   "cell_type": "code",
   "execution_count": null,
   "id": "600d0a2e",
   "metadata": {},
   "outputs": [],
   "source": []
  },
  {
   "cell_type": "code",
   "execution_count": 9,
   "id": "e35a5cc0",
   "metadata": {},
   "outputs": [],
   "source": [
    "# valid stimuli are the stimuli that are on the recall data files.\n",
    "# valid_grouped_df are the stimuli that are on both recall data files and harmonized data\n",
    "valid_grouped_df = grouped_df[grouped_df.StimName.isin(valid_stimuli)]"
   ]
  },
  {
   "cell_type": "code",
   "execution_count": 10,
   "id": "f850a929",
   "metadata": {},
   "outputs": [
    {
     "data": {
      "image/png": "[encoded data removed]",
      "text/plain": [
       "<Figure size 432x288 with 1 Axes>"
      ]
     },
     "metadata": {
      "needs_background": "light"
     },
     "output_type": "display_data"
    }
   ],
   "source": [
    "grouped_df.describe()\n",
    "grouped_df.Freq.hist()\n",
    "plt.show()"
   ]
  },
  {
   "cell_type": "code",
   "execution_count": 11,
   "id": "fd155e5e",
   "metadata": {},
   "outputs": [
    {
     "data": {
      "image/png": "[encoded data removed]",
      "text/plain": [
       "<Figure size 432x288 with 1 Axes>"
      ]
     },
     "metadata": {
      "needs_background": "light"
     },
     "output_type": "display_data"
    }
   ],
   "source": [
    "grouped_df.describe()\n",
    "valid_grouped_df.Freq.hist()\n",
    "plt.show()"
   ]
  },
  {
   "cell_type": "code",
   "execution_count": 12,
   "id": "aa22a7d1",
   "metadata": {},
   "outputs": [
    {
     "data": {
      "text/plain": [
       "StimName    9326\n",
       "Freq          59\n",
       "Name: 48, dtype: object"
      ]
     },
     "execution_count": 12,
     "metadata": {},
     "output_type": "execute_result"
    }
   ],
   "source": [
    "grouped_df.iloc[grouped_df['Freq'].argmax(), :]"
   ]
  },
  {
   "cell_type": "code",
   "execution_count": 13,
   "id": "c947d693",
   "metadata": {},
   "outputs": [
    {
     "data": {
      "text/html": [
       "<div>\n",
       "<style scoped>\n",
       "    .dataframe tbody tr th:only-of-type {\n",
       "        vertical-align: middle;\n",
       "    }\n",
       "\n",
       "    .dataframe tbody tr th {\n",
       "        vertical-align: top;\n",
       "    }\n",
       "\n",
       "    .dataframe thead th {\n",
       "        text-align: right;\n",
       "    }\n",
       "</style>\n",
       "<table border=\"1\" class=\"dataframe\">\n",
       "  <thead>\n",
       "    <tr style=\"text-align: right;\">\n",
       "      <th></th>\n",
       "      <th>StimName</th>\n",
       "      <th>Freq</th>\n",
       "    </tr>\n",
       "  </thead>\n",
       "  <tbody>\n",
       "    <tr>\n",
       "      <th>48</th>\n",
       "      <td>9326</td>\n",
       "      <td>59</td>\n",
       "    </tr>\n",
       "    <tr>\n",
       "      <th>52</th>\n",
       "      <td>Beats2014</td>\n",
       "      <td>59</td>\n",
       "    </tr>\n",
       "    <tr>\n",
       "      <th>59</th>\n",
       "      <td>BudweiserClydesdales</td>\n",
       "      <td>59</td>\n",
       "    </tr>\n",
       "    <tr>\n",
       "      <th>64</th>\n",
       "      <td>Cheerios2014</td>\n",
       "      <td>59</td>\n",
       "    </tr>\n",
       "    <tr>\n",
       "      <th>65</th>\n",
       "      <td>Chevy2014</td>\n",
       "      <td>59</td>\n",
       "    </tr>\n",
       "    <tr>\n",
       "      <th>70</th>\n",
       "      <td>CokeCameras2013</td>\n",
       "      <td>59</td>\n",
       "    </tr>\n",
       "    <tr>\n",
       "      <th>74</th>\n",
       "      <td>Doritos2014</td>\n",
       "      <td>59</td>\n",
       "    </tr>\n",
       "    <tr>\n",
       "      <th>79</th>\n",
       "      <td>Geico2014</td>\n",
       "      <td>59</td>\n",
       "    </tr>\n",
       "    <tr>\n",
       "      <th>82</th>\n",
       "      <td>GoDaddyPerfectMatch2</td>\n",
       "      <td>59</td>\n",
       "    </tr>\n",
       "    <tr>\n",
       "      <th>91</th>\n",
       "      <td>HyundaiSonata2013</td>\n",
       "      <td>59</td>\n",
       "    </tr>\n",
       "    <tr>\n",
       "      <th>95</th>\n",
       "      <td>Intuit2014</td>\n",
       "      <td>59</td>\n",
       "    </tr>\n",
       "    <tr>\n",
       "      <th>103</th>\n",
       "      <td>MMs2013</td>\n",
       "      <td>59</td>\n",
       "    </tr>\n",
       "    <tr>\n",
       "      <th>108</th>\n",
       "      <td>MercedesBenzSoul2013</td>\n",
       "      <td>59</td>\n",
       "    </tr>\n",
       "    <tr>\n",
       "      <th>116</th>\n",
       "      <td>OldSpice2014</td>\n",
       "      <td>59</td>\n",
       "    </tr>\n",
       "    <tr>\n",
       "      <th>128</th>\n",
       "      <td>RadioShack2014</td>\n",
       "      <td>59</td>\n",
       "    </tr>\n",
       "    <tr>\n",
       "      <th>132</th>\n",
       "      <td>SkechersRelaxed2013</td>\n",
       "      <td>59</td>\n",
       "    </tr>\n",
       "    <tr>\n",
       "      <th>142</th>\n",
       "      <td>TacoBell2013</td>\n",
       "      <td>59</td>\n",
       "    </tr>\n",
       "  </tbody>\n",
       "</table>\n",
       "</div>"
      ],
      "text/plain": [
       "                 StimName  Freq\n",
       "48                   9326    59\n",
       "52              Beats2014    59\n",
       "59   BudweiserClydesdales    59\n",
       "64           Cheerios2014    59\n",
       "65              Chevy2014    59\n",
       "70        CokeCameras2013    59\n",
       "74            Doritos2014    59\n",
       "79              Geico2014    59\n",
       "82   GoDaddyPerfectMatch2    59\n",
       "91      HyundaiSonata2013    59\n",
       "95             Intuit2014    59\n",
       "103               MMs2013    59\n",
       "108  MercedesBenzSoul2013    59\n",
       "116          OldSpice2014    59\n",
       "128        RadioShack2014    59\n",
       "132   SkechersRelaxed2013    59\n",
       "142          TacoBell2013    59"
      ]
     },
     "execution_count": 13,
     "metadata": {},
     "output_type": "execute_result"
    }
   ],
   "source": [
    "grouped_df[grouped_df.Freq == 59]"
   ]
  },
  {
   "cell_type": "code",
   "execution_count": 14,
   "id": "2d8dc0ae",
   "metadata": {},
   "outputs": [
    {
     "data": {
      "text/plain": [
       "StimName    DumbTo\n",
       "Freq            45\n",
       "Name: 76, dtype: object"
      ]
     },
     "execution_count": 14,
     "metadata": {},
     "output_type": "execute_result"
    }
   ],
   "source": [
    "valid_grouped_df.iloc[valid_grouped_df['Freq'].argmax(), :]"
   ]
  },
  {
   "cell_type": "code",
   "execution_count": 15,
   "id": "f6c10ab6",
   "metadata": {},
   "outputs": [
    {
     "data": {
      "text/html": [
       "<div>\n",
       "<style scoped>\n",
       "    .dataframe tbody tr th:only-of-type {\n",
       "        vertical-align: middle;\n",
       "    }\n",
       "\n",
       "    .dataframe tbody tr th {\n",
       "        vertical-align: top;\n",
       "    }\n",
       "\n",
       "    .dataframe thead th {\n",
       "        text-align: right;\n",
       "    }\n",
       "</style>\n",
       "<table border=\"1\" class=\"dataframe\">\n",
       "  <thead>\n",
       "    <tr style=\"text-align: right;\">\n",
       "      <th></th>\n",
       "      <th>StimName</th>\n",
       "      <th>Freq</th>\n",
       "    </tr>\n",
       "  </thead>\n",
       "  <tbody>\n",
       "    <tr>\n",
       "      <th>76</th>\n",
       "      <td>DumbTo</td>\n",
       "      <td>45</td>\n",
       "    </tr>\n",
       "    <tr>\n",
       "      <th>119</th>\n",
       "      <td>Ouija</td>\n",
       "      <td>45</td>\n",
       "    </tr>\n",
       "  </tbody>\n",
       "</table>\n",
       "</div>"
      ],
      "text/plain": [
       "    StimName  Freq\n",
       "76    DumbTo    45\n",
       "119    Ouija    45"
      ]
     },
     "execution_count": 15,
     "metadata": {},
     "output_type": "execute_result"
    }
   ],
   "source": [
    "valid_grouped_df[valid_grouped_df.Freq == 45]"
   ]
  },
  {
   "cell_type": "markdown",
   "id": "ad95d0f9",
   "metadata": {},
   "source": [
    "I have chosen \"Ouija\" as may subsample movie, and next I am going to use only users who have seen this movie. The spark code in the file MovieFreq.py is used to filter only records that use this stimuli and the subsampled data file is called SubSample.csv"
   ]
  },
  {
   "cell_type": "code",
   "execution_count": 16,
   "id": "0a3debc7",
   "metadata": {},
   "outputs": [
    {
     "name": "stdout",
     "output_type": "stream",
     "text": [
      "SuperMovie1516_L\n"
     ]
    }
   ],
   "source": [
    "for (file_name, recall_df) in recall_data_files.items():\n",
    "    if \"DumbTo\" in recall_df.columns:\n",
    "        print(file_name)"
   ]
  },
  {
   "cell_type": "code",
   "execution_count": 17,
   "id": "72610d33",
   "metadata": {},
   "outputs": [
    {
     "name": "stdout",
     "output_type": "stream",
     "text": [
      "SuperMovie1516_L\n"
     ]
    }
   ],
   "source": [
    "for (file_name, recall_df) in recall_data_files.items():\n",
    "    if \"Ouija\" in recall_df.columns:\n",
    "        print(file_name)"
   ]
  },
  {
   "cell_type": "markdown",
   "id": "ba3011c4",
   "metadata": {},
   "source": [
    "## Analysis with \"DumbTo\" Stimulus"
   ]
  },
  {
   "cell_type": "code",
   "execution_count": 3,
   "id": "b9fd8254",
   "metadata": {},
   "outputs": [],
   "source": [
    "import pandas as pd\n",
    "import matplotlib.pyplot as plt\n",
    "\n",
    "import tensorflow as tf\n",
    "\n",
    "from tensorflow import keras\n",
    "from tensorflow.keras import layers\n",
    "\n",
    "import numpy as np\n",
    "\n",
    "from sklearn.metrics import accuracy_score\n",
    "from sklearn.metrics import average_precision_score\n",
    "from sklearn.metrics import precision_recall_curve\n",
    "from sklearn.metrics import plot_precision_recall_curve\n",
    "\n",
    "from sklearn.preprocessing import label_binarize"
   ]
  },
  {
   "cell_type": "code",
   "execution_count": 4,
   "id": "6a453f41",
   "metadata": {},
   "outputs": [
    {
     "name": "stdout",
     "output_type": "stream",
     "text": [
      "Subject Count:  45\n",
      "Columns:\n",
      "\n",
      "Index(['Study', 'Subject_ID', 'StimName', 'Experiment_Time',\n",
      "       'CALIB_VALID_POINTS', 'Group', 'Age', 'Handedness', 'Country',\n",
      "       'Language', 'Gender', 'Eyewear', 'Session_Date', 'Block',\n",
      "       'Big5_Openness', 'Big5_Conscientiousness', 'Big5_Extraversion',\n",
      "       'Big5_Agreeableness', 'Big5_Neuroticism', 'Expert', 'Ethnicity',\n",
      "       'SessionDate', 'OrderStim', 'StartTime', 'EndTime', 'PosNegAdSAM',\n",
      "       'ExciteCalmAdSAM', 'ImpCom', 'PosCom', 'LikeCom', 'ViewsCom',\n",
      "       'PreLikelyFav', 'PostLikelyFav', 'LikelyFavDifference', 'PostOften',\n",
      "       'CNT', 'Eye_Time', 'TIME_TICK', 'FPOGX', 'FPOGY', 'FPOGS', 'FPOGD',\n",
      "       'FPOGID', 'FPOGV', 'BPOGX', 'BPOGY', 'BPOGV', 'LPCX', 'LPCY', 'LPD',\n",
      "       'LPS', 'LPV', 'RPCX', 'RPCY', 'RPD', 'RPS', 'RPV', 'LPUPILD', 'LPUPILV',\n",
      "       'RPUPILD', 'RPUPILV', 'Frame', 'Distance_to_Next_Frame', 'Face_Time',\n",
      "       'Anger_Evidence', 'Anger_Intensity', 'Contempt_Evidence',\n",
      "       'Contempt_Intensity', 'Disgust_Evidence', 'Disgust_Intensity',\n",
      "       'Joy_Evidence', 'Joy_Intensity', 'Fear_Evidence', 'Fear_Intensity',\n",
      "       'Negative_Evidence', 'Negative_Intensity', 'Neutral_Evidence',\n",
      "       'Neutral_Intensity', 'Positive_Evidence', 'Positive_Intensity',\n",
      "       'Sadness_Evidence', 'Sadness_Intensity', 'Surprise_Evidence',\n",
      "       'Surprise_Intensity', 'Heart_Rate', 'Average_Heart_Rate', 'Heart_Time',\n",
      "       'Normed_Heart_Rate', 'Persons_Average_LPD', 'Persons_Average_RPD',\n",
      "       'Normed_LPD', 'Normed_RPD', 'bpogx_dmean', 'bpogy_dmean',\n",
      "       'combined_normed_bpogxy', 'Normed_LPS', 'Normed_RPS', 'Stim_Frame'],\n",
      "      dtype='object')\n"
     ]
    }
   ],
   "source": [
    "sub_DumbTo = pd.read_csv(\"./Data/Subsamples/DumbTo.csv\")\n",
    "print(\"Subject Count: \",len(sub_DumbTo.Subject_ID.unique()))\n",
    "print(\"Columns:\\n\")\n",
    "print(sub_DumbTo.columns)"
   ]
  },
  {
   "cell_type": "code",
   "execution_count": 5,
   "id": "d2a59fbd",
   "metadata": {},
   "outputs": [],
   "source": [
    "related_features = ['Subject_ID','FPOGX', 'FPOGY', 'FPOGS', 'FPOGD',\n",
    "       'FPOGID', 'FPOGV', 'BPOGX', 'BPOGY', 'BPOGV', 'LPCX', 'LPCY', 'LPD',\n",
    "       'LPS', 'LPV', 'RPCX', 'RPCY', 'RPD', 'RPS', 'RPV', 'LPUPILD', 'LPUPILV',\n",
    "       'RPUPILD', 'RPUPILV', 'Face_Time',\n",
    "       'Anger_Evidence', 'Anger_Intensity', 'Contempt_Evidence',\n",
    "       'Contempt_Intensity', 'Disgust_Evidence', 'Disgust_Intensity',\n",
    "       'Joy_Evidence', 'Joy_Intensity', 'Fear_Evidence', 'Fear_Intensity',\n",
    "       'Negative_Evidence', 'Negative_Intensity', 'Neutral_Evidence',\n",
    "       'Neutral_Intensity', 'Positive_Evidence', 'Positive_Intensity',\n",
    "       'Sadness_Evidence', 'Sadness_Intensity', 'Surprise_Evidence',\n",
    "       'Surprise_Intensity', 'Heart_Time',\n",
    "       'Normed_Heart_Rate',\n",
    "       'Normed_LPD', 'Normed_RPD', 'bpogx_dmean', 'bpogy_dmean',\n",
    "       'combined_normed_bpogxy', 'Normed_LPS', 'Normed_RPS']"
   ]
  },
  {
   "cell_type": "code",
   "execution_count": 6,
   "id": "0fddeeda",
   "metadata": {},
   "outputs": [
    {
     "data": {
      "text/plain": [
       "count    63.000000\n",
       "mean      6.285714\n",
       "std       1.660048\n",
       "min       1.000000\n",
       "25%       7.000000\n",
       "50%       7.000000\n",
       "75%       7.000000\n",
       "max       7.000000\n",
       "Name: DumbTo, dtype: float64"
      ]
     },
     "execution_count": 6,
     "metadata": {},
     "output_type": "execute_result"
    }
   ],
   "source": [
    "data_recall = pd.read_csv('./Data/Lab_Recall_Hand_Edited/SuperMovie1516_L.csv')\n",
    "data_recall.DumbTo.describe()"
   ]
  },
  {
   "cell_type": "code",
   "execution_count": 7,
   "id": "fdafb17f",
   "metadata": {
    "scrolled": true
   },
   "outputs": [
    {
     "data": {
      "image/png": "[encoded data removed]",
      "text/plain": [
       "<Figure size 600x350 with 1 Axes>"
      ]
     },
     "metadata": {},
     "output_type": "display_data"
    }
   ],
   "source": [
    "data_recall.DumbTo.hist(figsize=(6,3.5))\n",
    "plt.show()"
   ]
  },
  {
   "cell_type": "code",
   "execution_count": 8,
   "id": "7b926399",
   "metadata": {},
   "outputs": [
    {
     "name": "stdout",
     "output_type": "stream",
     "text": [
      "Number of subjects: 45\n"
     ]
    }
   ],
   "source": [
    "seq_length = sub_DumbTo.groupby(\"Subject_ID\").size().reset_index()\n",
    "seq_length.columns = [\"Subject_ID\", \"Length\"]\n",
    "num_of_subjects = seq_length.shape[0]\n",
    "print(\"Number of subjects:\", num_of_subjects)"
   ]
  },
  {
   "cell_type": "code",
   "execution_count": 7,
   "id": "050dbd0c",
   "metadata": {},
   "outputs": [
    {
     "name": "stdout",
     "output_type": "stream",
     "text": [
      "in sequence lengh:  9676\n"
     ]
    }
   ],
   "source": [
    "print(\"in sequence lengh: \",seq_length.Length.min())"
   ]
  },
  {
   "cell_type": "code",
   "execution_count": 8,
   "id": "4a727be0",
   "metadata": {},
   "outputs": [],
   "source": [
    "# remove user 344 from seq-length and data (length is outlier)\n",
    "seq_length = seq_length[seq_length.Subject_ID != 344]\n",
    "sub_DumbTo = sub_DumbTo[sub_DumbTo.Subject_ID != 344]"
   ]
  },
  {
   "cell_type": "code",
   "execution_count": 9,
   "id": "c3b4b2f6",
   "metadata": {},
   "outputs": [
    {
     "name": "stdout",
     "output_type": "stream",
     "text": [
      "Number of subjects: 44\n"
     ]
    }
   ],
   "source": [
    "num_of_subjects = seq_length.shape[0]\n",
    "print(\"Number of subjects:\", num_of_subjects)"
   ]
  },
  {
   "cell_type": "code",
   "execution_count": 10,
   "id": "74ddbb8d",
   "metadata": {},
   "outputs": [
    {
     "name": "stdout",
     "output_type": "stream",
     "text": [
      "Cutoff is : 9744\n"
     ]
    }
   ],
   "source": [
    "cut_off = seq_length.Length.min()\n",
    "print(\"Cutoff is :\", cut_off)"
   ]
  },
  {
   "cell_type": "code",
   "execution_count": 11,
   "id": "4777294d",
   "metadata": {},
   "outputs": [],
   "source": [
    "seq_length['Sum_Length'] = seq_length.Length.cumsum() \n",
    "seq_length = seq_length.reset_index()"
   ]
  },
  {
   "cell_type": "code",
   "execution_count": 12,
   "id": "adf1ed2a",
   "metadata": {},
   "outputs": [],
   "source": [
    "# Adjust the length of all seqs\n",
    "cut_off = seq_length.Length.min()\n",
    "\n",
    "rem_index = np.zeros(sub_DumbTo.shape[0])\n",
    "rem_index[0 : cut_off] = 1  \n",
    "for i in range(0, seq_length.shape[0]-1):\n",
    "    rem_index[seq_length.Sum_Length[i] : seq_length.Sum_Length[i]  + cut_off] = 1\n",
    "    \n",
    "sub_DumbTo[\"Rem_Index\"] = rem_index\n",
    "\n",
    "sub_DumbTo = sub_DumbTo[sub_DumbTo.Rem_Index == 1]"
   ]
  },
  {
   "cell_type": "code",
   "execution_count": 13,
   "id": "98ef0b6a",
   "metadata": {},
   "outputs": [
    {
     "name": "stdout",
     "output_type": "stream",
     "text": [
      "Sqeuence length after adjustment 9744.0\n"
     ]
    }
   ],
   "source": [
    "print(\"Sqeuence length after adjustment\", sub_DumbTo.shape[0]/44)"
   ]
  },
  {
   "cell_type": "code",
   "execution_count": 14,
   "id": "69d05b4b",
   "metadata": {},
   "outputs": [],
   "source": [
    "sub_DumbTo = sub_DumbTo[related_features]"
   ]
  },
  {
   "cell_type": "code",
   "execution_count": 15,
   "id": "d6f1a79e",
   "metadata": {},
   "outputs": [],
   "source": [
    "num_non_zero_nulls_in_cols = sub_DumbTo.isnull().sum().reset_index()\n",
    "num_non_zero_nulls_in_cols.columns = [\"Column\", \"Num_Nulls\"]\n",
    "num_non_zero_nulls_in_cols = num_non_zero_nulls_in_cols[num_non_zero_nulls_in_cols.Num_Nulls != 0]"
   ]
  },
  {
   "cell_type": "code",
   "execution_count": 16,
   "id": "aa3a9cc5",
   "metadata": {},
   "outputs": [
    {
     "data": {
      "text/html": [
       "<div>\n",
       "<style scoped>\n",
       "    .dataframe tbody tr th:only-of-type {\n",
       "        vertical-align: middle;\n",
       "    }\n",
       "\n",
       "    .dataframe tbody tr th {\n",
       "        vertical-align: top;\n",
       "    }\n",
       "\n",
       "    .dataframe thead th {\n",
       "        text-align: right;\n",
       "    }\n",
       "</style>\n",
       "<table border=\"1\" class=\"dataframe\">\n",
       "  <thead>\n",
       "    <tr style=\"text-align: right;\">\n",
       "      <th></th>\n",
       "      <th>Column</th>\n",
       "      <th>Num_Nulls</th>\n",
       "    </tr>\n",
       "  </thead>\n",
       "  <tbody>\n",
       "    <tr>\n",
       "      <th>49</th>\n",
       "      <td>bpogx_dmean</td>\n",
       "      <td>9744</td>\n",
       "    </tr>\n",
       "    <tr>\n",
       "      <th>50</th>\n",
       "      <td>bpogy_dmean</td>\n",
       "      <td>9744</td>\n",
       "    </tr>\n",
       "    <tr>\n",
       "      <th>51</th>\n",
       "      <td>combined_normed_bpogxy</td>\n",
       "      <td>9744</td>\n",
       "    </tr>\n",
       "    <tr>\n",
       "      <th>52</th>\n",
       "      <td>Normed_LPS</td>\n",
       "      <td>9787</td>\n",
       "    </tr>\n",
       "    <tr>\n",
       "      <th>53</th>\n",
       "      <td>Normed_RPS</td>\n",
       "      <td>9787</td>\n",
       "    </tr>\n",
       "  </tbody>\n",
       "</table>\n",
       "</div>"
      ],
      "text/plain": [
       "                    Column  Num_Nulls\n",
       "49             bpogx_dmean       9744\n",
       "50             bpogy_dmean       9744\n",
       "51  combined_normed_bpogxy       9744\n",
       "52              Normed_LPS       9787\n",
       "53              Normed_RPS       9787"
      ]
     },
     "execution_count": 16,
     "metadata": {},
     "output_type": "execute_result"
    }
   ],
   "source": [
    "# In the data one user has no value for the above columns and the first value of all users is null\n",
    "num_non_zero_nulls_in_cols"
   ]
  },
  {
   "cell_type": "code",
   "execution_count": 17,
   "id": "c07be98a",
   "metadata": {},
   "outputs": [],
   "source": [
    "# remove user 345 from seq-length and data (has missing values for 4 columns)\n",
    "seq_length = seq_length[seq_length.Subject_ID != 345]\n",
    "# We can remove all nulls and make the sequnce one unit smaller\n",
    "sub_DumbTo = sub_DumbTo.dropna()"
   ]
  },
  {
   "cell_type": "code",
   "execution_count": 18,
   "id": "8e4e9060",
   "metadata": {},
   "outputs": [
    {
     "name": "stdout",
     "output_type": "stream",
     "text": [
      "Sequence length (cutt_off) equls:  9743\n",
      "Number of Subjects is:  43.0\n"
     ]
    }
   ],
   "source": [
    "# For the above four columns the first element of each sequence was na, so the sequence length (cut_off) is reduced by 1\n",
    "cut_off = cut_off - 1\n",
    "num_of_subjects = sub_DumbTo.shape[0]/(cut_off)\n",
    "print(\"Sequence length (cutt_off) equls: \", cut_off)\n",
    "print(\"Number of Subjects is: \", num_of_subjects)"
   ]
  },
  {
   "cell_type": "code",
   "execution_count": 19,
   "id": "0b1356cf",
   "metadata": {},
   "outputs": [],
   "source": [
    "sub_DumbTo = sub_DumbTo.drop(columns=['Subject_ID'])"
   ]
  },
  {
   "cell_type": "code",
   "execution_count": 20,
   "id": "1e802d2f",
   "metadata": {},
   "outputs": [],
   "source": [
    "# One participants had null values for the last four variables we drop that, so we reduce one from seq_length.shape[0]\n",
    "# we dropped subject_id from related features so we have len(related_features) -1 in reshape dimmentions\n",
    "x = sub_DumbTo.to_numpy()\n",
    "x = x.reshape(int(num_of_subjects), -1, len(related_features) -1 )"
   ]
  },
  {
   "cell_type": "code",
   "execution_count": 21,
   "id": "7eaa4c58",
   "metadata": {},
   "outputs": [
    {
     "data": {
      "text/plain": [
       "(43, 9743, 53)"
      ]
     },
     "execution_count": 21,
     "metadata": {},
     "output_type": "execute_result"
    }
   ],
   "source": [
    "x.shape"
   ]
  },
  {
   "cell_type": "code",
   "execution_count": 22,
   "id": "f7bcb9f8",
   "metadata": {},
   "outputs": [],
   "source": [
    "y = []\n",
    "for subject_id in seq_length.Subject_ID:\n",
    "    y.append(data_recall[data_recall.ExternalReference == subject_id].DumbTo.tolist()[0])"
   ]
  },
  {
   "cell_type": "code",
   "execution_count": 23,
   "id": "491d16ec",
   "metadata": {},
   "outputs": [],
   "source": [
    "y = np.array(y)"
   ]
  },
  {
   "cell_type": "code",
   "execution_count": 24,
   "id": "8bd809c0",
   "metadata": {},
   "outputs": [
    {
     "data": {
      "text/plain": [
       "43"
      ]
     },
     "execution_count": 24,
     "metadata": {},
     "output_type": "execute_result"
    }
   ],
   "source": [
    "len(y)"
   ]
  },
  {
   "cell_type": "markdown",
   "id": "4403e11d",
   "metadata": {},
   "source": [
    "## Modeling"
   ]
  },
  {
   "cell_type": "code",
   "execution_count": 25,
   "id": "abf25f8b",
   "metadata": {},
   "outputs": [],
   "source": [
    "x_train = x[:37]\n",
    "y_train = y[:37]\n",
    "x_valid = x[37:]\n",
    "y_valid = y[37:]"
   ]
  },
  {
   "cell_type": "code",
   "execution_count": 26,
   "id": "d628780a",
   "metadata": {},
   "outputs": [
    {
     "name": "stdout",
     "output_type": "stream",
     "text": [
      "(37, 9743, 53)\n",
      "(37,)\n",
      "(6, 9743, 53)\n",
      "(6,)\n"
     ]
    }
   ],
   "source": [
    "special_value = -9999.99\n",
    "x_train = keras.preprocessing.sequence.pad_sequences(x_train, maxlen = cut_off, padding = \"post\", dtype = 'float64', value = special_value)\n",
    "x_valid = keras.preprocessing.sequence.pad_sequences(x_valid, maxlen = cut_off, padding = \"post\", dtype = 'float64', value = special_value)\n",
    "\n",
    "print(x_train.shape)\n",
    "print(y_train.shape)\n",
    "print(x_valid.shape)\n",
    "print(y_valid.shape)"
   ]
  },
  {
   "cell_type": "code",
   "execution_count": 27,
   "id": "0eec0a03",
   "metadata": {},
   "outputs": [],
   "source": [
    "model = keras.Sequential()\n",
    "model.add(keras.layers.Masking(mask_value=special_value, input_shape=(cut_off, len(related_features) -1)))\n",
    "model.add(keras.layers.LSTM(32))\n",
    "model.add(keras.layers.Dense(1))"
   ]
  },
  {
   "cell_type": "code",
   "execution_count": 28,
   "id": "9b7927a8",
   "metadata": {},
   "outputs": [],
   "source": [
    "model.compile(loss = keras.losses.MeanSquaredError(),\n",
    "              optimizer = keras.optimizers.Adam(learning_rate=0.01))"
   ]
  },
  {
   "cell_type": "code",
   "execution_count": 29,
   "id": "59d0c93f",
   "metadata": {},
   "outputs": [
    {
     "name": "stdout",
     "output_type": "stream",
     "text": [
      "Model: \"sequential\"\n",
      "_________________________________________________________________\n",
      "Layer (type)                 Output Shape              Param #   \n",
      "=================================================================\n",
      "masking (Masking)            (None, 9743, 53)          0         \n",
      "_________________________________________________________________\n",
      "lstm (LSTM)                  (None, 32)                11008     \n",
      "_________________________________________________________________\n",
      "dense (Dense)                (None, 1)                 33        \n",
      "=================================================================\n",
      "Total params: 11,041\n",
      "Trainable params: 11,041\n",
      "Non-trainable params: 0\n",
      "_________________________________________________________________\n"
     ]
    }
   ],
   "source": [
    "model.summary()"
   ]
  },
  {
   "cell_type": "code",
   "execution_count": 30,
   "id": "c26eec01",
   "metadata": {},
   "outputs": [
    {
     "name": "stdout",
     "output_type": "stream",
     "text": [
      "Epoch 1/25\n",
      "2/2 [==============================] - 5s 2s/step - loss: 44.7247 - val_loss: 31.8607\n",
      "Epoch 2/25\n",
      "2/2 [==============================] - 3s 2s/step - loss: 38.7712 - val_loss: 27.7997\n",
      "Epoch 3/25\n",
      "2/2 [==============================] - 3s 2s/step - loss: 33.1750 - val_loss: 25.1084\n",
      "Epoch 4/25\n",
      "2/2 [==============================] - 3s 2s/step - loss: 30.2473 - val_loss: 22.7464\n",
      "Epoch 5/25\n",
      "2/2 [==============================] - 3s 2s/step - loss: 27.4491 - val_loss: 20.1013\n",
      "Epoch 6/25\n",
      "2/2 [==============================] - 3s 2s/step - loss: 24.3791 - val_loss: 18.2218\n",
      "Epoch 7/25\n",
      "2/2 [==============================] - 3s 2s/step - loss: 21.7761 - val_loss: 15.8250\n",
      "Epoch 8/25\n",
      "2/2 [==============================] - 3s 2s/step - loss: 19.3512 - val_loss: 14.2230\n",
      "Epoch 9/25\n",
      "2/2 [==============================] - 3s 2s/step - loss: 17.3276 - val_loss: 12.7489\n",
      "Epoch 10/25\n",
      "2/2 [==============================] - 3s 2s/step - loss: 15.4615 - val_loss: 11.4081\n",
      "Epoch 11/25\n",
      "2/2 [==============================] - 3s 2s/step - loss: 13.7637 - val_loss: 10.2006\n",
      "Epoch 12/25\n",
      "2/2 [==============================] - 3s 2s/step - loss: 12.1514 - val_loss: 9.1209\n",
      "Epoch 13/25\n",
      "2/2 [==============================] - 3s 2s/step - loss: 10.6735 - val_loss: 8.1218\n",
      "Epoch 14/25\n",
      "2/2 [==============================] - 3s 2s/step - loss: 9.1472 - val_loss: 7.0952\n",
      "Epoch 15/25\n",
      "2/2 [==============================] - 3s 2s/step - loss: 7.8297 - val_loss: 6.3687\n",
      "Epoch 16/25\n",
      "2/2 [==============================] - 3s 2s/step - loss: 6.7585 - val_loss: 5.7526\n",
      "Epoch 17/25\n",
      "2/2 [==============================] - 3s 2s/step - loss: 5.8359 - val_loss: 5.2350\n",
      "Epoch 18/25\n",
      "2/2 [==============================] - 4s 2s/step - loss: 5.0333 - val_loss: 4.8135\n",
      "Epoch 19/25\n",
      "2/2 [==============================] - 3s 2s/step - loss: 4.3117 - val_loss: 4.4506\n",
      "Epoch 20/25\n",
      "2/2 [==============================] - 4s 2s/step - loss: 3.7151 - val_loss: 4.1541\n",
      "Epoch 21/25\n",
      "2/2 [==============================] - 3s 2s/step - loss: 3.1936 - val_loss: 3.9616\n",
      "Epoch 22/25\n",
      "2/2 [==============================] - 3s 2s/step - loss: 2.7593 - val_loss: 3.8253\n",
      "Epoch 23/25\n",
      "2/2 [==============================] - 3s 2s/step - loss: 2.3952 - val_loss: 3.7389\n",
      "Epoch 24/25\n",
      "2/2 [==============================] - 4s 2s/step - loss: 2.0871 - val_loss: 3.6943\n",
      "Epoch 25/25\n",
      "2/2 [==============================] - 4s 2s/step - loss: 1.8527 - val_loss: 3.6845\n"
     ]
    }
   ],
   "source": [
    "history = model.fit(x = x_train, y = y_train, \n",
    "                    validation_data = (x_valid, y_valid),\n",
    "                    epochs = 25)"
   ]
  },
  {
   "cell_type": "code",
   "execution_count": 31,
   "id": "31dcc45f",
   "metadata": {},
   "outputs": [],
   "source": [
    "y_df = pd.DataFrame(y)\n",
    "y_df.columns = ['Cont']\n",
    "y_df[\"Dis\"] = 1\n",
    "y_df.loc[y_df.Cont > 5, \"Dis\"] = 2\n",
    "y_df.loc[y_df.Cont < 3, \"Dis\"] = 0"
   ]
  },
  {
   "cell_type": "code",
   "execution_count": 33,
   "id": "c18341a8",
   "metadata": {
    "scrolled": true
   },
   "outputs": [
    {
     "data": {
      "text/html": [
       "<div>\n",
       "<style scoped>\n",
       "    .dataframe tbody tr th:only-of-type {\n",
       "        vertical-align: middle;\n",
       "    }\n",
       "\n",
       "    .dataframe tbody tr th {\n",
       "        vertical-align: top;\n",
       "    }\n",
       "\n",
       "    .dataframe thead th {\n",
       "        text-align: right;\n",
       "    }\n",
       "</style>\n",
       "<table border=\"1\" class=\"dataframe\">\n",
       "  <thead>\n",
       "    <tr style=\"text-align: right;\">\n",
       "      <th></th>\n",
       "      <th>Cont</th>\n",
       "      <th>Dis</th>\n",
       "    </tr>\n",
       "  </thead>\n",
       "  <tbody>\n",
       "    <tr>\n",
       "      <th>0</th>\n",
       "      <td>7.0</td>\n",
       "      <td>2</td>\n",
       "    </tr>\n",
       "    <tr>\n",
       "      <th>1</th>\n",
       "      <td>7.0</td>\n",
       "      <td>2</td>\n",
       "    </tr>\n",
       "    <tr>\n",
       "      <th>2</th>\n",
       "      <td>2.0</td>\n",
       "      <td>0</td>\n",
       "    </tr>\n",
       "    <tr>\n",
       "      <th>3</th>\n",
       "      <td>7.0</td>\n",
       "      <td>2</td>\n",
       "    </tr>\n",
       "    <tr>\n",
       "      <th>4</th>\n",
       "      <td>7.0</td>\n",
       "      <td>2</td>\n",
       "    </tr>\n",
       "  </tbody>\n",
       "</table>\n",
       "</div>"
      ],
      "text/plain": [
       "   Cont  Dis\n",
       "0   7.0    2\n",
       "1   7.0    2\n",
       "2   2.0    0\n",
       "3   7.0    2\n",
       "4   7.0    2"
      ]
     },
     "execution_count": 33,
     "metadata": {},
     "output_type": "execute_result"
    }
   ],
   "source": [
    "y_df.head()"
   ]
  },
  {
   "cell_type": "code",
   "execution_count": 34,
   "id": "c8ad4315",
   "metadata": {},
   "outputs": [],
   "source": [
    "y_dis = np.array(y_df.Dis)\n",
    "y_dis_train = y_dis[:37]\n",
    "y_dis_valid = y_dis[37:]"
   ]
  },
  {
   "cell_type": "code",
   "execution_count": 35,
   "id": "56d83769",
   "metadata": {},
   "outputs": [],
   "source": [
    "model = keras.Sequential()\n",
    "model.add(keras.layers.Masking(mask_value=special_value, input_shape=(cut_off, len(related_features) -1)))\n",
    "model.add(keras.layers.LSTM(32))\n",
    "model.add(keras.layers.Dense(3, activation='softmax'))"
   ]
  },
  {
   "cell_type": "code",
   "execution_count": 38,
   "id": "c91aff46",
   "metadata": {},
   "outputs": [],
   "source": [
    "model.compile(loss='sparse_categorical_crossentropy', optimizer=keras.optimizers.Adam(learning_rate=0.01), metrics=['accuracy'])"
   ]
  },
  {
   "cell_type": "code",
   "execution_count": 40,
   "id": "139af2d2",
   "metadata": {},
   "outputs": [
    {
     "name": "stdout",
     "output_type": "stream",
     "text": [
      "Epoch 1/10\n",
      "2/2 [==============================] - 3s 2s/step - loss: 0.3661 - accuracy: 0.9189 - val_loss: 1.4592 - val_accuracy: 0.6667\n",
      "Epoch 2/10\n",
      "2/2 [==============================] - 3s 2s/step - loss: 0.3638 - accuracy: 0.9189 - val_loss: 1.4478 - val_accuracy: 0.6667\n",
      "Epoch 3/10\n",
      "2/2 [==============================] - 3s 2s/step - loss: 0.3613 - accuracy: 0.9189 - val_loss: 1.4383 - val_accuracy: 0.6667\n",
      "Epoch 4/10\n",
      "2/2 [==============================] - 3s 2s/step - loss: 0.3578 - accuracy: 0.9189 - val_loss: 1.4258 - val_accuracy: 0.6667\n",
      "Epoch 5/10\n",
      "2/2 [==============================] - 4s 2s/step - loss: 0.3545 - accuracy: 0.9189 - val_loss: 1.4039 - val_accuracy: 0.6667\n",
      "Epoch 6/10\n",
      "2/2 [==============================] - 3s 2s/step - loss: 0.3533 - accuracy: 0.9189 - val_loss: 1.3804 - val_accuracy: 0.6667\n",
      "Epoch 7/10\n",
      "2/2 [==============================] - 4s 2s/step - loss: 0.3503 - accuracy: 0.9189 - val_loss: 1.3592 - val_accuracy: 0.6667\n",
      "Epoch 8/10\n",
      "2/2 [==============================] - 4s 2s/step - loss: 0.3477 - accuracy: 0.9189 - val_loss: 1.3389 - val_accuracy: 0.6667\n",
      "Epoch 9/10\n",
      "2/2 [==============================] - 4s 2s/step - loss: 0.3458 - accuracy: 0.9189 - val_loss: 1.3242 - val_accuracy: 0.6667\n",
      "Epoch 10/10\n",
      "2/2 [==============================] - 4s 2s/step - loss: 0.3429 - accuracy: 0.9189 - val_loss: 1.3100 - val_accuracy: 0.6667\n"
     ]
    }
   ],
   "source": [
    "history = model.fit(x = x_train, y = y_dis_train, \n",
    "                    validation_data = (x_valid, y_dis_valid),\n",
    "                    epochs = 10)"
   ]
  },
  {
   "cell_type": "code",
   "execution_count": 49,
   "id": "2908e4f4",
   "metadata": {},
   "outputs": [],
   "source": [
    "y_dis_pred_valid = model.predict(x_valid) "
   ]
  },
  {
   "cell_type": "code",
   "execution_count": 50,
   "id": "f634f1fc",
   "metadata": {},
   "outputs": [
    {
     "data": {
      "text/plain": [
       "array([[0.0157569 , 0.06871781, 0.91552526],\n",
       "       [0.02127683, 0.08571595, 0.8930072 ],\n",
       "       [0.03631031, 0.03469773, 0.928992  ],\n",
       "       [0.0157569 , 0.06871781, 0.91552526],\n",
       "       [0.03631031, 0.03469773, 0.928992  ],\n",
       "       [0.03631031, 0.03469773, 0.928992  ]], dtype=float32)"
      ]
     },
     "execution_count": 50,
     "metadata": {},
     "output_type": "execute_result"
    }
   ],
   "source": [
    "y_dis_pred_valid"
   ]
  },
  {
   "cell_type": "code",
   "execution_count": 54,
   "id": "40316184",
   "metadata": {},
   "outputs": [],
   "source": [
    "y_dis_train = tf.keras.utils.to_categorical(y_dis_train, num_classes=3)\n",
    "y_dis_valid = tf.keras.utils.to_categorical(y_dis_valid, num_classes=3)"
   ]
  },
  {
   "cell_type": "code",
   "execution_count": 55,
   "id": "36e5ceea",
   "metadata": {},
   "outputs": [
    {
     "data": {
      "text/plain": [
       "array([[1., 0., 0.],\n",
       "       [0., 0., 1.],\n",
       "       [0., 0., 1.],\n",
       "       [0., 0., 1.],\n",
       "       [0., 0., 1.],\n",
       "       [0., 1., 0.]], dtype=float32)"
      ]
     },
     "execution_count": 55,
     "metadata": {},
     "output_type": "execute_result"
    }
   ],
   "source": [
    "y_dis_valid"
   ]
  },
  {
   "cell_type": "code",
   "execution_count": 59,
   "id": "c36c1678",
   "metadata": {},
   "outputs": [
    {
     "name": "stdout",
     "output_type": "stream",
     "text": [
      "Average precision score, micro-averaged over all classes: 0.54\n"
     ]
    }
   ],
   "source": [
    "n_classes = 3\n",
    "precision = dict()\n",
    "recall = dict()\n",
    "average_precision = dict()\n",
    "for i in range(n_classes):\n",
    "    precision[i], recall[i], _ = precision_recall_curve(y_dis_valid[:, i],\n",
    "                                                        y_dis_pred_valid[:, i])\n",
    "    average_precision[i] = average_precision_score(y_dis_valid[:, i], y_dis_pred_valid[:, i])\n",
    "\n",
    "# A \"micro-average\": quantifying score on all classes jointly\n",
    "precision[\"micro\"], recall[\"micro\"], _ = precision_recall_curve(y_dis_valid.ravel(),\n",
    "     y_dis_pred_valid.ravel())\n",
    "average_precision[\"micro\"] = average_precision_score(y_dis_valid,  y_dis_pred_valid,\n",
    "                                                     average=\"micro\")\n",
    "print('Average precision score, micro-averaged over all classes: {0:0.2f}'\n",
    "      .format(average_precision[\"micro\"]))"
   ]
  },
  {
   "cell_type": "code",
   "execution_count": null,
   "id": "39682431",
   "metadata": {},
   "outputs": [],
   "source": []
  },
  {
   "cell_type": "code",
   "execution_count": null,
   "id": "721a5827",
   "metadata": {},
   "outputs": [],
   "source": []
  },
  {
   "cell_type": "code",
   "execution_count": null,
   "id": "fda7c4ab",
   "metadata": {},
   "outputs": [],
   "source": []
  },
  {
   "cell_type": "code",
   "execution_count": null,
   "id": "9c3ae403",
   "metadata": {},
   "outputs": [],
   "source": []
  },
  {
   "cell_type": "markdown",
   "id": "8b3986ce",
   "metadata": {},
   "source": [
    "## Sklearn Example for Percision Recall Curve\n",
    "[link](https://scikit-learn.org/stable/auto_examples/model_selection/plot_precision_recall.html)"
   ]
  },
  {
   "cell_type": "code",
   "execution_count": 71,
   "id": "94d589e1",
   "metadata": {},
   "outputs": [
    {
     "data": {
      "image/png": "[encoded data removed]",
      "text/plain": [
       "<Figure size 700x800 with 1 Axes>"
      ]
     },
     "metadata": {},
     "output_type": "display_data"
    }
   ],
   "source": [
    "from itertools import cycle\n",
    "# setup plot details\n",
    "colors = cycle(['navy', 'turquoise', 'darkorange', 'cornflowerblue', 'teal'])\n",
    "\n",
    "plt.figure(figsize=(7, 8))\n",
    "f_scores = np.linspace(0.2, 0.8, num=4)\n",
    "lines = []\n",
    "labels = []\n",
    "for f_score in f_scores:\n",
    "    x = np.linspace(0.01, 1)\n",
    "    y = f_score * x / (2 * x - f_score)\n",
    "    l, = plt.plot(x[y >= 0], y[y >= 0], color='gray', alpha=0.2)\n",
    "    plt.annotate('f1={0:0.1f}'.format(f_score), xy=(0.9, y[45] + 0.02))\n",
    "\n",
    "lines.append(l)\n",
    "labels.append('iso-f1 curves')\n",
    "l, = plt.plot(recall[\"micro\"], precision[\"micro\"], color='gold', lw=2)\n",
    "lines.append(l)\n",
    "labels.append('micro-average Precision-recall (area = {0:0.2f})'\n",
    "              ''.format(average_precision[\"micro\"]))\n",
    "\n",
    "for i, color in zip(range(n_classes), colors):\n",
    "    l, = plt.plot(recall[i], precision[i], color=color, lw=2)\n",
    "    lines.append(l)\n",
    "    labels.append('Precision-recall for class {0} (area = {1:0.2f})'\n",
    "                  ''.format(i, average_precision[i]))\n",
    "\n",
    "fig = plt.gcf()\n",
    "fig.subplots_adjust(bottom=0.25)\n",
    "plt.xlim([0.0, 1.0])\n",
    "plt.ylim([0.0, 1.05])\n",
    "plt.xlabel('Recall')\n",
    "plt.ylabel('Precision')\n",
    "plt.title('Extension of Precision-Recall curve to multi-class')\n",
    "plt.legend(lines, labels, loc=(0, -.38), prop=dict(size=14))\n",
    "\n",
    "\n",
    "plt.show()\n"
   ]
  },
  {
   "cell_type": "code",
   "execution_count": null,
   "id": "3ae97c9b",
   "metadata": {},
   "outputs": [],
   "source": []
  },
  {
   "cell_type": "code",
   "execution_count": null,
   "id": "0c9eff6c",
   "metadata": {},
   "outputs": [],
   "source": []
  },
  {
   "cell_type": "code",
   "execution_count": null,
   "id": "060b905f",
   "metadata": {},
   "outputs": [],
   "source": []
  },
  {
   "cell_type": "code",
   "execution_count": null,
   "id": "cf93438b",
   "metadata": {},
   "outputs": [],
   "source": []
  },
  {
   "cell_type": "code",
   "execution_count": 48,
   "id": "f77237f4",
   "metadata": {},
   "outputs": [
    {
     "data": {
      "text/plain": [
       "array([2, 2, 2, 2, 2, 2], dtype=int64)"
      ]
     },
     "execution_count": 48,
     "metadata": {},
     "output_type": "execute_result"
    }
   ],
   "source": [
    "y_dis_pred_valid"
   ]
  },
  {
   "cell_type": "code",
   "execution_count": 41,
   "id": "2d40a024",
   "metadata": {},
   "outputs": [
    {
     "data": {
      "text/plain": [
       "0.6666666666666666"
      ]
     },
     "execution_count": 41,
     "metadata": {},
     "output_type": "execute_result"
    }
   ],
   "source": [
    "y_pred_naive = np.full(y_dis_valid.shape, 2)\n",
    "accuracy_score(y_dis_valid, y_pred_naive)"
   ]
  },
  {
   "cell_type": "code",
   "execution_count": 146,
   "id": "5b70be5e",
   "metadata": {},
   "outputs": [
    {
     "data": {
      "text/plain": [
       "array([2, 2, 2, 2, 2, 2])"
      ]
     },
     "execution_count": 146,
     "metadata": {},
     "output_type": "execute_result"
    }
   ],
   "source": []
  },
  {
   "cell_type": "code",
   "execution_count": 127,
   "id": "df7ab884",
   "metadata": {},
   "outputs": [
    {
     "data": {
      "text/plain": [
       "array([[1., 0., 0.],\n",
       "       [0., 0., 1.],\n",
       "       [0., 0., 1.],\n",
       "       [0., 0., 1.],\n",
       "       [0., 0., 1.],\n",
       "       [0., 1., 0.]], dtype=float32)"
      ]
     },
     "execution_count": 127,
     "metadata": {},
     "output_type": "execute_result"
    }
   ],
   "source": [
    "y_dis_valid"
   ]
  },
  {
   "cell_type": "code",
   "execution_count": 128,
   "id": "b4a6aa34",
   "metadata": {},
   "outputs": [],
   "source": [
    "model = keras.Sequential()\n",
    "model.add(keras.layers.Masking(mask_value=special_value, input_shape=(cut_off, len(related_features) -1)))\n",
    "model.add(keras.layers.LSTM(32))\n",
    "model.add(keras.layers.Dense(3, activation='softmax'))"
   ]
  },
  {
   "cell_type": "code",
   "execution_count": 129,
   "id": "7869774a",
   "metadata": {},
   "outputs": [],
   "source": [
    "model.compile(loss='categorical_crossentropy', optimizer=keras.optimizers.Adam(learning_rate=0.01), metrics=['accuracy'])"
   ]
  },
  {
   "cell_type": "code",
   "execution_count": 130,
   "id": "a3042da0",
   "metadata": {},
   "outputs": [
    {
     "name": "stdout",
     "output_type": "stream",
     "text": [
      "Epoch 1/25\n",
      "2/2 [==============================] - 11s 5s/step - loss: 2.0741 - accuracy: 0.0541 - val_loss: 1.5584 - val_accuracy: 0.1667\n",
      "Epoch 2/25\n",
      "2/2 [==============================] - 8s 4s/step - loss: 1.5065 - accuracy: 0.0811 - val_loss: 1.3406 - val_accuracy: 0.1667\n",
      "Epoch 3/25\n",
      "2/2 [==============================] - 10s 5s/step - loss: 1.1840 - accuracy: 0.1351 - val_loss: 1.1959 - val_accuracy: 0.3333\n",
      "Epoch 4/25\n",
      "2/2 [==============================] - 4s 2s/step - loss: 0.8903 - accuracy: 0.6486 - val_loss: 0.9811 - val_accuracy: 0.5000\n",
      "Epoch 5/25\n",
      "2/2 [==============================] - 4s 2s/step - loss: 0.6570 - accuracy: 0.8919 - val_loss: 0.9925 - val_accuracy: 0.5000\n",
      "Epoch 6/25\n",
      "2/2 [==============================] - 4s 2s/step - loss: 0.5692 - accuracy: 0.9189 - val_loss: 1.0513 - val_accuracy: 0.5000\n",
      "Epoch 7/25\n",
      "2/2 [==============================] - 4s 2s/step - loss: 0.4615 - accuracy: 0.9189 - val_loss: 1.2870 - val_accuracy: 0.5000\n",
      "Epoch 8/25\n",
      "2/2 [==============================] - 4s 2s/step - loss: 0.4507 - accuracy: 0.9189 - val_loss: 1.4500 - val_accuracy: 0.5000\n",
      "Epoch 9/25\n",
      "2/2 [==============================] - 4s 2s/step - loss: 0.4307 - accuracy: 0.9189 - val_loss: 1.3916 - val_accuracy: 0.6667\n",
      "Epoch 10/25\n",
      "2/2 [==============================] - 4s 2s/step - loss: 0.3729 - accuracy: 0.9189 - val_loss: 1.2445 - val_accuracy: 0.6667\n",
      "Epoch 11/25\n",
      "2/2 [==============================] - 6s 3s/step - loss: 0.3578 - accuracy: 0.9189 - val_loss: 1.2959 - val_accuracy: 0.6667\n",
      "Epoch 12/25\n",
      "2/2 [==============================] - 5s 2s/step - loss: 0.3578 - accuracy: 0.9189 - val_loss: 1.3440 - val_accuracy: 0.6667\n",
      "Epoch 13/25\n",
      "2/2 [==============================] - 4s 2s/step - loss: 0.3623 - accuracy: 0.9189 - val_loss: 1.3825 - val_accuracy: 0.6667\n",
      "Epoch 14/25\n",
      "2/2 [==============================] - 4s 2s/step - loss: 0.3610 - accuracy: 0.9189 - val_loss: 1.4107 - val_accuracy: 0.6667\n",
      "Epoch 15/25\n",
      "2/2 [==============================] - 4s 2s/step - loss: 0.3637 - accuracy: 0.9189 - val_loss: 1.4322 - val_accuracy: 0.6667\n",
      "Epoch 16/25\n",
      "2/2 [==============================] - 4s 2s/step - loss: 0.3644 - accuracy: 0.9189 - val_loss: 1.4436 - val_accuracy: 0.6667\n",
      "Epoch 17/25\n",
      "2/2 [==============================] - 4s 2s/step - loss: 0.3639 - accuracy: 0.9189 - val_loss: 1.4517 - val_accuracy: 0.6667\n",
      "Epoch 18/25\n",
      "2/2 [==============================] - 4s 2s/step - loss: 0.3634 - accuracy: 0.9189 - val_loss: 1.4530 - val_accuracy: 0.6667\n",
      "Epoch 19/25\n",
      "2/2 [==============================] - 4s 2s/step - loss: 0.3631 - accuracy: 0.9189 - val_loss: 1.4461 - val_accuracy: 0.6667\n",
      "Epoch 20/25\n",
      "2/2 [==============================] - 4s 2s/step - loss: 0.3605 - accuracy: 0.9189 - val_loss: 1.4328 - val_accuracy: 0.6667\n",
      "Epoch 21/25\n",
      "2/2 [==============================] - 4s 2s/step - loss: 0.3585 - accuracy: 0.9189 - val_loss: 1.4185 - val_accuracy: 0.6667\n",
      "Epoch 22/25\n",
      "2/2 [==============================] - 4s 2s/step - loss: 0.3545 - accuracy: 0.9189 - val_loss: 1.4041 - val_accuracy: 0.6667\n",
      "Epoch 23/25\n",
      "2/2 [==============================] - 7s 3s/step - loss: 0.3535 - accuracy: 0.9189 - val_loss: 1.3900 - val_accuracy: 0.6667\n",
      "Epoch 24/25\n",
      "2/2 [==============================] - 4s 2s/step - loss: 0.3512 - accuracy: 0.9189 - val_loss: 1.3804 - val_accuracy: 0.6667\n",
      "Epoch 25/25\n",
      "2/2 [==============================] - 4s 2s/step - loss: 0.3498 - accuracy: 0.9189 - val_loss: 1.3740 - val_accuracy: 0.6667\n"
     ]
    }
   ],
   "source": [
    "history = model.fit(x = x_train, y = y_dis_train, \n",
    "                    validation_data = (x_valid, y_dis_valid),\n",
    "                    epochs = 25)"
   ]
  },
  {
   "cell_type": "code",
   "execution_count": 148,
   "id": "604a3917",
   "metadata": {},
   "outputs": [
    {
     "data": {
      "text/plain": [
       "array([0, 2, 2, 2, 2, 1], dtype=int64)"
      ]
     },
     "execution_count": 148,
     "metadata": {},
     "output_type": "execute_result"
    }
   ],
   "source": [
    "y_dis_valid"
   ]
  },
  {
   "cell_type": "code",
   "execution_count": 149,
   "id": "7acb857e",
   "metadata": {},
   "outputs": [
    {
     "data": {
      "text/plain": [
       "array([2, 2, 0, 2, 2, 1, 2, 2, 2, 1, 2, 2, 2, 2, 2, 2, 2, 2, 2, 2, 2, 2,\n",
       "       2, 2, 2, 2, 2, 2, 1, 2, 2, 2, 2, 2, 2, 2, 2], dtype=int64)"
      ]
     },
     "execution_count": 149,
     "metadata": {},
     "output_type": "execute_result"
    }
   ],
   "source": [
    "y_dis_train"
   ]
  },
  {
   "cell_type": "code",
   "execution_count": null,
   "id": "7cab9476",
   "metadata": {},
   "outputs": [],
   "source": []
  }
 ],
 "metadata": {
  "kernelspec": {
   "display_name": "Python 3",
   "language": "python",
   "name": "python3"
  },
  "language_info": {
   "codemirror_mode": {
    "name": "ipython",
    "version": 3
   },
   "file_extension": ".py",
   "mimetype": "text/x-python",
   "name": "python",
   "nbconvert_exporter": "python",
   "pygments_lexer": "ipython3",
   "version": "3.8.8"
  }
 },
 "nbformat": 4,
 "nbformat_minor": 5
}
