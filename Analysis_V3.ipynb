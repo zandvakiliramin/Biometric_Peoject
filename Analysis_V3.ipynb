{
 "cells": [
  {
   "cell_type": "markdown",
   "id": "7d306e8b",
   "metadata": {},
   "source": [
    "# Initial Analysis"
   ]
  },
  {
   "cell_type": "markdown",
   "id": "11cbbba2",
   "metadata": {},
   "source": [
    "## Finding stimuli with highest number of participants\n",
    "Each stimulus is seen by a specific number of participants. In this part we want to find out which stimuli have been visited the most. We use these stimulus to train a sequence model with a single stimuli."
   ]
  },
  {
   "cell_type": "code",
   "execution_count": 6,
   "id": "a619d926",
   "metadata": {},
   "outputs": [],
   "source": [
    "import os\n",
    "\n",
    "import pandas as pd\n",
    "\n",
    "import numpy as np\n",
    "\n",
    "%matplotlib inline\n",
    "\n",
    "import matplotlib.pyplot as plt\n",
    "import seaborn as sns"
   ]
  },
  {
   "cell_type": "code",
   "execution_count": 2,
   "id": "5ed53e2f",
   "metadata": {},
   "outputs": [
    {
     "data": {
      "text/plain": [
       "Index(['Study', 'Subject_ID', 'StimName', 'Experiment_Time',\n",
       "       'CALIB_VALID_POINTS', 'Group', 'Age', 'Handedness', 'Country',\n",
       "       'Language', 'Gender', 'Eyewear', 'Session_Date', 'Block',\n",
       "       'Big5_Openness', 'Big5_Conscientiousness', 'Big5_Extraversion',\n",
       "       'Big5_Agreeableness', 'Big5_Neuroticism', 'Expert', 'Ethnicity',\n",
       "       'SessionDate', 'OrderStim', 'StartTime', 'EndTime', 'PosNegAdSAM',\n",
       "       'ExciteCalmAdSAM', 'ImpCom', 'PosCom', 'LikeCom', 'ViewsCom',\n",
       "       'PreLikelyFav', 'PostLikelyFav', 'LikelyFavDifference', 'PostOften',\n",
       "       'CNT', 'Eye_Time', 'TIME_TICK', 'FPOGX', 'FPOGY', 'FPOGS', 'FPOGD',\n",
       "       'FPOGID', 'FPOGV', 'BPOGX', 'BPOGY', 'BPOGV', 'LPCX', 'LPCY', 'LPD',\n",
       "       'LPS', 'LPV', 'RPCX', 'RPCY', 'RPD', 'RPS', 'RPV', 'LPUPILD', 'LPUPILV',\n",
       "       'RPUPILD', 'RPUPILV', 'Frame', 'Distance_to_Next_Frame', 'Face_Time',\n",
       "       'Anger_Evidence', 'Anger_Intensity', 'Contempt_Evidence',\n",
       "       'Contempt_Intensity', 'Disgust_Evidence', 'Disgust_Intensity',\n",
       "       'Joy_Evidence', 'Joy_Intensity', 'Fear_Evidence', 'Fear_Intensity',\n",
       "       'Negative_Evidence', 'Negative_Intensity', 'Neutral_Evidence',\n",
       "       'Neutral_Intensity', 'Positive_Evidence', 'Positive_Intensity',\n",
       "       'Sadness_Evidence', 'Sadness_Intensity', 'Surprise_Evidence',\n",
       "       'Surprise_Intensity', 'Heart_Rate', 'Average_Heart_Rate', 'Heart_Time',\n",
       "       'Normed_Heart_Rate', 'Persons_Average_LPD', 'Persons_Average_RPD',\n",
       "       'Normed_LPD', 'Normed_RPD', 'bpogx_dmean', 'bpogy_dmean',\n",
       "       'combined_normed_bpogxy', 'Normed_LPS', 'Normed_RPS', 'Stim_Frame'],\n",
       "      dtype='object')"
      ]
     },
     "execution_count": 2,
     "metadata": {},
     "output_type": "execute_result"
    }
   ],
   "source": [
    "data = pd.read_csv(\"./Data/Raw_Data/Harmonized_Instrument_Data-002.csv\", nrows=10)\n",
    "data.columns"
   ]
  },
  {
   "cell_type": "code",
   "execution_count": 3,
   "id": "8c53d1f5",
   "metadata": {},
   "outputs": [
    {
     "name": "stderr",
     "output_type": "stream",
     "text": [
      "C:\\Users\\zandv003\\Anaconda3\\lib\\site-packages\\IPython\\core\\interactiveshell.py:3165: DtypeWarning: Columns (2) have mixed types.Specify dtype option on import or set low_memory=False.\n",
      "  has_raised = await self.run_ast_nodes(code_ast.body, cell_name,\n"
     ]
    }
   ],
   "source": [
    "data2 = pd.read_csv(\"./Data/Raw_Data/Harmonized_Instrument_Data-002.csv\", usecols =[\"Subject_ID\", \"StimName\"])"
   ]
  },
  {
   "cell_type": "code",
   "execution_count": 4,
   "id": "9b11dcd5",
   "metadata": {},
   "outputs": [],
   "source": [
    "# Get the frequency of each stimulus\n",
    "grouped_df = data2.groupby(\"StimName\")\n",
    "\n",
    "grouped_df = grouped_df.agg({\"Subject_ID\": \"nunique\"})\n",
    "\n",
    "grouped_df = grouped_df.reset_index()"
   ]
  },
  {
   "cell_type": "code",
   "execution_count": 5,
   "id": "73341000",
   "metadata": {},
   "outputs": [],
   "source": [
    "grouped_df.columns = ['StimName', 'Freq']"
   ]
  },
  {
   "cell_type": "code",
   "execution_count": 6,
   "id": "351cefe0",
   "metadata": {},
   "outputs": [
    {
     "data": {
      "text/html": [
       "<div>\n",
       "<style scoped>\n",
       "    .dataframe tbody tr th:only-of-type {\n",
       "        vertical-align: middle;\n",
       "    }\n",
       "\n",
       "    .dataframe tbody tr th {\n",
       "        vertical-align: top;\n",
       "    }\n",
       "\n",
       "    .dataframe thead th {\n",
       "        text-align: right;\n",
       "    }\n",
       "</style>\n",
       "<table border=\"1\" class=\"dataframe\">\n",
       "  <thead>\n",
       "    <tr style=\"text-align: right;\">\n",
       "      <th></th>\n",
       "      <th>StimName</th>\n",
       "      <th>Freq</th>\n",
       "    </tr>\n",
       "  </thead>\n",
       "  <tbody>\n",
       "    <tr>\n",
       "      <th>0</th>\n",
       "      <td>300</td>\n",
       "      <td>6</td>\n",
       "    </tr>\n",
       "    <tr>\n",
       "      <th>1</th>\n",
       "      <td>1050</td>\n",
       "      <td>7</td>\n",
       "    </tr>\n",
       "    <tr>\n",
       "      <th>2</th>\n",
       "      <td>1111</td>\n",
       "      <td>3</td>\n",
       "    </tr>\n",
       "    <tr>\n",
       "      <th>3</th>\n",
       "      <td>1201</td>\n",
       "      <td>10</td>\n",
       "    </tr>\n",
       "    <tr>\n",
       "      <th>4</th>\n",
       "      <td>1202</td>\n",
       "      <td>6</td>\n",
       "    </tr>\n",
       "    <tr>\n",
       "      <th>...</th>\n",
       "      <td>...</td>\n",
       "      <td>...</td>\n",
       "    </tr>\n",
       "    <tr>\n",
       "      <th>144</th>\n",
       "      <td>TurboTax2014</td>\n",
       "      <td>37</td>\n",
       "    </tr>\n",
       "    <tr>\n",
       "      <th>145</th>\n",
       "      <td>Unbroken</td>\n",
       "      <td>41</td>\n",
       "    </tr>\n",
       "    <tr>\n",
       "      <th>146</th>\n",
       "      <td>Volkswagen2014</td>\n",
       "      <td>48</td>\n",
       "    </tr>\n",
       "    <tr>\n",
       "      <th>147</th>\n",
       "      <td>WishHere</td>\n",
       "      <td>40</td>\n",
       "    </tr>\n",
       "    <tr>\n",
       "      <th>148</th>\n",
       "      <td>Xmen</td>\n",
       "      <td>13</td>\n",
       "    </tr>\n",
       "  </tbody>\n",
       "</table>\n",
       "<p>149 rows × 2 columns</p>\n",
       "</div>"
      ],
      "text/plain": [
       "           StimName  Freq\n",
       "0               300     6\n",
       "1              1050     7\n",
       "2              1111     3\n",
       "3              1201    10\n",
       "4              1202     6\n",
       "..              ...   ...\n",
       "144    TurboTax2014    37\n",
       "145        Unbroken    41\n",
       "146  Volkswagen2014    48\n",
       "147        WishHere    40\n",
       "148            Xmen    13\n",
       "\n",
       "[149 rows x 2 columns]"
      ]
     },
     "execution_count": 6,
     "metadata": {},
     "output_type": "execute_result"
    }
   ],
   "source": [
    "grouped_df"
   ]
  },
  {
   "cell_type": "code",
   "execution_count": 7,
   "id": "e29874ab",
   "metadata": {},
   "outputs": [],
   "source": [
    "# Check for the stimulus name that exists in the valid files (some stimulus names do not exist in these files)\n",
    "file_names = ['SuperMovie0102_L.csv',\n",
    " 'SuperMovie0304_L.csv',\n",
    " 'SuperMovie0506_L.csv',\n",
    " 'SuperMovie0708_L.csv',\n",
    " 'SuperMovie1516_L.csv',\n",
    " 'SuperMovie1718_L.csv',\n",
    " 'SuperMovie1920_L.csv',\n",
    " 'SuperMovie2122_L.csv']\n",
    "\n",
    "#file_names = os.listdir('./Data/Lab_Recall_Hand_Edited/')\n",
    "\n",
    "# Make a dic of data files with file name as the key and dataframe as the value\n",
    "recall_data_files = {}\n",
    "valid_stimuli = []\n",
    "for file_name in file_names:\n",
    "    \n",
    "    df = pd.read_csv('./Data/Lab_Recall_Hand_Edited/' + file_name)\n",
    "\n",
    "    df['FileName'] = file_name.split('.')[0]\n",
    "    recall_data_files[file_name.split('.')[0]] = df\n",
    "    \n",
    "for (file_name, recall_df) in recall_data_files.items():\n",
    "    for movie_name in recall_df.columns:\n",
    "        valid_stimuli.append(movie_name)\n",
    "\n",
    "valid_stimuli = set(valid_stimuli)"
   ]
  },
  {
   "cell_type": "code",
   "execution_count": 8,
   "id": "ac58c699",
   "metadata": {
    "scrolled": true
   },
   "outputs": [
    {
     "data": {
      "text/plain": [
       "{'300',\n",
       " 'Always',\n",
       " 'Audi',\n",
       " 'BMW',\n",
       " 'BudLight',\n",
       " 'Budweiser',\n",
       " 'Butterfing',\n",
       " 'Cesar',\n",
       " 'Chobani',\n",
       " 'Chrysler',\n",
       " 'CocaCola',\n",
       " 'CocaColaBe',\n",
       " 'CptAmerica',\n",
       " 'Dannon',\n",
       " 'Divergent',\n",
       " 'Doritos',\n",
       " 'Dove',\n",
       " 'DumbTo',\n",
       " 'Email',\n",
       " 'EmailAddress',\n",
       " 'EndDate',\n",
       " 'Esurance',\n",
       " 'Exodus',\n",
       " 'ExternalDataReference',\n",
       " 'ExternalReference',\n",
       " 'Fiat',\n",
       " 'FileName',\n",
       " 'GetHard',\n",
       " 'GoDaddy',\n",
       " 'GoDaddyPup',\n",
       " 'GraceofMon',\n",
       " 'HandM',\n",
       " 'Honda',\n",
       " 'Hyundai',\n",
       " 'HyundaiGen',\n",
       " 'InherentVi',\n",
       " 'InsideOut',\n",
       " 'InstTrail',\n",
       " 'Interstell',\n",
       " 'Jaguar',\n",
       " 'Kia',\n",
       " 'Lexus',\n",
       " 'MMs',\n",
       " 'Maserati',\n",
       " 'McDonalds',\n",
       " 'Mercedes',\n",
       " 'MountainDe',\n",
       " 'Muppets',\n",
       " 'NFL',\n",
       " 'Name',\n",
       " 'Nationwide',\n",
       " 'Needforspe',\n",
       " 'Noah',\n",
       " 'NonStop',\n",
       " 'Ouija',\n",
       " 'PeabodyShe',\n",
       " 'Pepsi',\n",
       " 'Pistachio2',\n",
       " 'Pyramid',\n",
       " 'Sabotage',\n",
       " 'SanAndreas',\n",
       " 'Sodastream',\n",
       " 'Sprint',\n",
       " 'Spy',\n",
       " 'Squarespac',\n",
       " 'StartDate',\n",
       " 'Subway',\n",
       " 'TMobile',\n",
       " 'TheBestOfM',\n",
       " 'TheCulling',\n",
       " 'TheLongest',\n",
       " 'TmobileSti',\n",
       " 'Tomorrowla',\n",
       " 'ToyotaHigh',\n",
       " 'Tyler',\n",
       " 'Unbroken',\n",
       " 'Volkswagon',\n",
       " 'Walkofsham',\n",
       " 'WhileWere',\n",
       " 'WixDotCom',\n",
       " 'earthtoech',\n",
       " 'otherwmn',\n",
       " 'quietones'}"
      ]
     },
     "execution_count": 8,
     "metadata": {},
     "output_type": "execute_result"
    }
   ],
   "source": [
    "valid_stimuli"
   ]
  },
  {
   "cell_type": "markdown",
   "id": "20fc7c83",
   "metadata": {},
   "source": [
    "## All of Histograms for Stimuli Recall"
   ]
  },
  {
   "cell_type": "code",
   "execution_count": 64,
   "id": "e1a8bef0",
   "metadata": {},
   "outputs": [],
   "source": [
    "all_file_names = os.listdir('./Data/Lab_Recall_Hand_Edited/')\n",
    "non_stim_cols = ['Name', 'EmailAddress', 'Email', 'ExternalDataReference', 'ExternalReference', 'StartDate', \n",
    "                 'EndDate', 'FileName', 'RecipientLastName', 'RecipientFirstName', 'RecipientEmail' ]\n",
    "\n",
    "all_stim_recall_tidy = pd.DataFrame(columns = [\"Stimulus\", \"Recall\"])\n",
    "\n",
    "for file_name in all_file_names:\n",
    "    stim_cols = []\n",
    "    df = pd.read_csv('./Data/Lab_Recall_Hand_Edited/' + file_name)\n",
    "    col_names = df.columns\n",
    "    for col_name in col_names:    \n",
    "        if not(col_name in non_stim_cols):\n",
    "            stim_cols.append(col_name)\n",
    "    df = df[stim_cols]\n",
    "    df = pd.melt(df, var_name='Stimulus', value_name='Recall')\n",
    "    \n",
    "    all_stim_recall_tidy = all_stim_recall_tidy.append(df, ignore_index=True)"
   ]
  },
  {
   "cell_type": "code",
   "execution_count": 65,
   "id": "53c9658c",
   "metadata": {},
   "outputs": [
    {
     "data": {
      "text/html": [
       "<div>\n",
       "<style scoped>\n",
       "    .dataframe tbody tr th:only-of-type {\n",
       "        vertical-align: middle;\n",
       "    }\n",
       "\n",
       "    .dataframe tbody tr th {\n",
       "        vertical-align: top;\n",
       "    }\n",
       "\n",
       "    .dataframe thead th {\n",
       "        text-align: right;\n",
       "    }\n",
       "</style>\n",
       "<table border=\"1\" class=\"dataframe\">\n",
       "  <thead>\n",
       "    <tr style=\"text-align: right;\">\n",
       "      <th></th>\n",
       "      <th>Stimulus</th>\n",
       "      <th>Recall</th>\n",
       "    </tr>\n",
       "  </thead>\n",
       "  <tbody>\n",
       "    <tr>\n",
       "      <th>0</th>\n",
       "      <td>Hyundai</td>\n",
       "      <td>2.0</td>\n",
       "    </tr>\n",
       "    <tr>\n",
       "      <th>1</th>\n",
       "      <td>Hyundai</td>\n",
       "      <td>3.0</td>\n",
       "    </tr>\n",
       "    <tr>\n",
       "      <th>2</th>\n",
       "      <td>Hyundai</td>\n",
       "      <td>2.0</td>\n",
       "    </tr>\n",
       "    <tr>\n",
       "      <th>3</th>\n",
       "      <td>Hyundai</td>\n",
       "      <td>8.0</td>\n",
       "    </tr>\n",
       "    <tr>\n",
       "      <th>4</th>\n",
       "      <td>Hyundai</td>\n",
       "      <td>8.0</td>\n",
       "    </tr>\n",
       "    <tr>\n",
       "      <th>...</th>\n",
       "      <td>...</td>\n",
       "      <td>...</td>\n",
       "    </tr>\n",
       "    <tr>\n",
       "      <th>9375</th>\n",
       "      <td>SanAndreas</td>\n",
       "      <td>7.0</td>\n",
       "    </tr>\n",
       "    <tr>\n",
       "      <th>9376</th>\n",
       "      <td>SanAndreas</td>\n",
       "      <td>7.0</td>\n",
       "    </tr>\n",
       "    <tr>\n",
       "      <th>9377</th>\n",
       "      <td>SanAndreas</td>\n",
       "      <td>7.0</td>\n",
       "    </tr>\n",
       "    <tr>\n",
       "      <th>9378</th>\n",
       "      <td>SanAndreas</td>\n",
       "      <td>7.0</td>\n",
       "    </tr>\n",
       "    <tr>\n",
       "      <th>9379</th>\n",
       "      <td>SanAndreas</td>\n",
       "      <td>7.0</td>\n",
       "    </tr>\n",
       "  </tbody>\n",
       "</table>\n",
       "<p>9380 rows × 2 columns</p>\n",
       "</div>"
      ],
      "text/plain": [
       "        Stimulus  Recall\n",
       "0        Hyundai     2.0\n",
       "1        Hyundai     3.0\n",
       "2        Hyundai     2.0\n",
       "3        Hyundai     8.0\n",
       "4        Hyundai     8.0\n",
       "...          ...     ...\n",
       "9375  SanAndreas     7.0\n",
       "9376  SanAndreas     7.0\n",
       "9377  SanAndreas     7.0\n",
       "9378  SanAndreas     7.0\n",
       "9379  SanAndreas     7.0\n",
       "\n",
       "[9380 rows x 2 columns]"
      ]
     },
     "execution_count": 65,
     "metadata": {},
     "output_type": "execute_result"
    }
   ],
   "source": [
    "all_stim_recall_tidy"
   ]
  },
  {
   "cell_type": "code",
   "execution_count": 74,
   "id": "df7f6c71",
   "metadata": {},
   "outputs": [
    {
     "data": {
      "text/plain": [
       "102"
      ]
     },
     "execution_count": 74,
     "metadata": {},
     "output_type": "execute_result"
    }
   ],
   "source": [
    "len(all_stim_recall_tidy.Stimulus.unique())"
   ]
  },
  {
   "cell_type": "code",
   "execution_count": 73,
   "id": "93d5c607",
   "metadata": {
    "scrolled": true
   },
   "outputs": [
    {
     "data": {
      "text/plain": [
       "<seaborn.axisgrid.FacetGrid at 0x295e04a41f0>"
      ]
     },
     "execution_count": 73,
     "metadata": {},
     "output_type": "execute_result"
    },
    {
     "data": {
      "image/png": "[encoded data removed]",
      "text/plain": [
       "<Figure size 1008x2160 with 102 Axes>"
      ]
     },
     "metadata": {},
     "output_type": "display_data"
    }
   ],
   "source": [
    "sns.set_theme()\n",
    "g = sns.FacetGrid(all_stim_recall_tidy, col=\"Stimulus\", col_wrap=7, height=2)\n",
    "g.map(sns.histplot, \"Recall\")"
   ]
  },
  {
   "cell_type": "code",
   "execution_count": null,
   "id": "600d0a2e",
   "metadata": {},
   "outputs": [],
   "source": []
  },
  {
   "cell_type": "code",
   "execution_count": 9,
   "id": "e35a5cc0",
   "metadata": {},
   "outputs": [],
   "source": [
    "# valid stimuli are the stimuli that are on the recall data files.\n",
    "# valid_grouped_df are the stimuli that are on both recall data files and harmonized data\n",
    "valid_grouped_df = grouped_df[grouped_df.StimName.isin(valid_stimuli)]"
   ]
  },
  {
   "cell_type": "code",
   "execution_count": 10,
   "id": "f850a929",
   "metadata": {},
   "outputs": [
    {
     "data": {
      "image/png": "[encoded data removed]",
      "text/plain": [
       "<Figure size 432x288 with 1 Axes>"
      ]
     },
     "metadata": {
      "needs_background": "light"
     },
     "output_type": "display_data"
    }
   ],
   "source": [
    "grouped_df.describe()\n",
    "grouped_df.Freq.hist()\n",
    "plt.show()"
   ]
  },
  {
   "cell_type": "code",
   "execution_count": 11,
   "id": "fd155e5e",
   "metadata": {},
   "outputs": [
    {
     "data": {
      "image/png": "[encoded data removed]",
      "text/plain": [
       "<Figure size 432x288 with 1 Axes>"
      ]
     },
     "metadata": {
      "needs_background": "light"
     },
     "output_type": "display_data"
    }
   ],
   "source": [
    "grouped_df.describe()\n",
    "valid_grouped_df.Freq.hist()\n",
    "plt.show()"
   ]
  },
  {
   "cell_type": "code",
   "execution_count": 12,
   "id": "aa22a7d1",
   "metadata": {},
   "outputs": [
    {
     "data": {
      "text/plain": [
       "StimName    9326\n",
       "Freq          59\n",
       "Name: 48, dtype: object"
      ]
     },
     "execution_count": 12,
     "metadata": {},
     "output_type": "execute_result"
    }
   ],
   "source": [
    "grouped_df.iloc[grouped_df['Freq'].argmax(), :]"
   ]
  },
  {
   "cell_type": "code",
   "execution_count": 13,
   "id": "c947d693",
   "metadata": {},
   "outputs": [
    {
     "data": {
      "text/html": [
       "<div>\n",
       "<style scoped>\n",
       "    .dataframe tbody tr th:only-of-type {\n",
       "        vertical-align: middle;\n",
       "    }\n",
       "\n",
       "    .dataframe tbody tr th {\n",
       "        vertical-align: top;\n",
       "    }\n",
       "\n",
       "    .dataframe thead th {\n",
       "        text-align: right;\n",
       "    }\n",
       "</style>\n",
       "<table border=\"1\" class=\"dataframe\">\n",
       "  <thead>\n",
       "    <tr style=\"text-align: right;\">\n",
       "      <th></th>\n",
       "      <th>StimName</th>\n",
       "      <th>Freq</th>\n",
       "    </tr>\n",
       "  </thead>\n",
       "  <tbody>\n",
       "    <tr>\n",
       "      <th>48</th>\n",
       "      <td>9326</td>\n",
       "      <td>59</td>\n",
       "    </tr>\n",
       "    <tr>\n",
       "      <th>52</th>\n",
       "      <td>Beats2014</td>\n",
       "      <td>59</td>\n",
       "    </tr>\n",
       "    <tr>\n",
       "      <th>59</th>\n",
       "      <td>BudweiserClydesdales</td>\n",
       "      <td>59</td>\n",
       "    </tr>\n",
       "    <tr>\n",
       "      <th>64</th>\n",
       "      <td>Cheerios2014</td>\n",
       "      <td>59</td>\n",
       "    </tr>\n",
       "    <tr>\n",
       "      <th>65</th>\n",
       "      <td>Chevy2014</td>\n",
       "      <td>59</td>\n",
       "    </tr>\n",
       "    <tr>\n",
       "      <th>70</th>\n",
       "      <td>CokeCameras2013</td>\n",
       "      <td>59</td>\n",
       "    </tr>\n",
       "    <tr>\n",
       "      <th>74</th>\n",
       "      <td>Doritos2014</td>\n",
       "      <td>59</td>\n",
       "    </tr>\n",
       "    <tr>\n",
       "      <th>79</th>\n",
       "      <td>Geico2014</td>\n",
       "      <td>59</td>\n",
       "    </tr>\n",
       "    <tr>\n",
       "      <th>82</th>\n",
       "      <td>GoDaddyPerfectMatch2</td>\n",
       "      <td>59</td>\n",
       "    </tr>\n",
       "    <tr>\n",
       "      <th>91</th>\n",
       "      <td>HyundaiSonata2013</td>\n",
       "      <td>59</td>\n",
       "    </tr>\n",
       "    <tr>\n",
       "      <th>95</th>\n",
       "      <td>Intuit2014</td>\n",
       "      <td>59</td>\n",
       "    </tr>\n",
       "    <tr>\n",
       "      <th>103</th>\n",
       "      <td>MMs2013</td>\n",
       "      <td>59</td>\n",
       "    </tr>\n",
       "    <tr>\n",
       "      <th>108</th>\n",
       "      <td>MercedesBenzSoul2013</td>\n",
       "      <td>59</td>\n",
       "    </tr>\n",
       "    <tr>\n",
       "      <th>116</th>\n",
       "      <td>OldSpice2014</td>\n",
       "      <td>59</td>\n",
       "    </tr>\n",
       "    <tr>\n",
       "      <th>128</th>\n",
       "      <td>RadioShack2014</td>\n",
       "      <td>59</td>\n",
       "    </tr>\n",
       "    <tr>\n",
       "      <th>132</th>\n",
       "      <td>SkechersRelaxed2013</td>\n",
       "      <td>59</td>\n",
       "    </tr>\n",
       "    <tr>\n",
       "      <th>142</th>\n",
       "      <td>TacoBell2013</td>\n",
       "      <td>59</td>\n",
       "    </tr>\n",
       "  </tbody>\n",
       "</table>\n",
       "</div>"
      ],
      "text/plain": [
       "                 StimName  Freq\n",
       "48                   9326    59\n",
       "52              Beats2014    59\n",
       "59   BudweiserClydesdales    59\n",
       "64           Cheerios2014    59\n",
       "65              Chevy2014    59\n",
       "70        CokeCameras2013    59\n",
       "74            Doritos2014    59\n",
       "79              Geico2014    59\n",
       "82   GoDaddyPerfectMatch2    59\n",
       "91      HyundaiSonata2013    59\n",
       "95             Intuit2014    59\n",
       "103               MMs2013    59\n",
       "108  MercedesBenzSoul2013    59\n",
       "116          OldSpice2014    59\n",
       "128        RadioShack2014    59\n",
       "132   SkechersRelaxed2013    59\n",
       "142          TacoBell2013    59"
      ]
     },
     "execution_count": 13,
     "metadata": {},
     "output_type": "execute_result"
    }
   ],
   "source": [
    "grouped_df[grouped_df.Freq == 59]"
   ]
  },
  {
   "cell_type": "code",
   "execution_count": 14,
   "id": "2d8dc0ae",
   "metadata": {},
   "outputs": [
    {
     "data": {
      "text/plain": [
       "StimName    DumbTo\n",
       "Freq            45\n",
       "Name: 76, dtype: object"
      ]
     },
     "execution_count": 14,
     "metadata": {},
     "output_type": "execute_result"
    }
   ],
   "source": [
    "valid_grouped_df.iloc[valid_grouped_df['Freq'].argmax(), :]"
   ]
  },
  {
   "cell_type": "code",
   "execution_count": 15,
   "id": "f6c10ab6",
   "metadata": {},
   "outputs": [
    {
     "data": {
      "text/html": [
       "<div>\n",
       "<style scoped>\n",
       "    .dataframe tbody tr th:only-of-type {\n",
       "        vertical-align: middle;\n",
       "    }\n",
       "\n",
       "    .dataframe tbody tr th {\n",
       "        vertical-align: top;\n",
       "    }\n",
       "\n",
       "    .dataframe thead th {\n",
       "        text-align: right;\n",
       "    }\n",
       "</style>\n",
       "<table border=\"1\" class=\"dataframe\">\n",
       "  <thead>\n",
       "    <tr style=\"text-align: right;\">\n",
       "      <th></th>\n",
       "      <th>StimName</th>\n",
       "      <th>Freq</th>\n",
       "    </tr>\n",
       "  </thead>\n",
       "  <tbody>\n",
       "    <tr>\n",
       "      <th>76</th>\n",
       "      <td>DumbTo</td>\n",
       "      <td>45</td>\n",
       "    </tr>\n",
       "    <tr>\n",
       "      <th>119</th>\n",
       "      <td>Ouija</td>\n",
       "      <td>45</td>\n",
       "    </tr>\n",
       "  </tbody>\n",
       "</table>\n",
       "</div>"
      ],
      "text/plain": [
       "    StimName  Freq\n",
       "76    DumbTo    45\n",
       "119    Ouija    45"
      ]
     },
     "execution_count": 15,
     "metadata": {},
     "output_type": "execute_result"
    }
   ],
   "source": [
    "valid_grouped_df[valid_grouped_df.Freq == 45]"
   ]
  },
  {
   "cell_type": "markdown",
   "id": "ad95d0f9",
   "metadata": {},
   "source": [
    "I have chosen \"Ouija\" as may subsample movie, and next I am going to use only users who have seen this movie. The spark code in the file MovieFreq.py is used to filter only records that use this stimuli and the subsampled data file is called SubSample.csv"
   ]
  },
  {
   "cell_type": "code",
   "execution_count": 16,
   "id": "0a3debc7",
   "metadata": {},
   "outputs": [
    {
     "name": "stdout",
     "output_type": "stream",
     "text": [
      "SuperMovie1516_L\n"
     ]
    }
   ],
   "source": [
    "for (file_name, recall_df) in recall_data_files.items():\n",
    "    if \"DumbTo\" in recall_df.columns:\n",
    "        print(file_name)"
   ]
  },
  {
   "cell_type": "code",
   "execution_count": 17,
   "id": "72610d33",
   "metadata": {},
   "outputs": [
    {
     "name": "stdout",
     "output_type": "stream",
     "text": [
      "SuperMovie1516_L\n"
     ]
    }
   ],
   "source": [
    "for (file_name, recall_df) in recall_data_files.items():\n",
    "    if \"Ouija\" in recall_df.columns:\n",
    "        print(file_name)"
   ]
  },
  {
   "cell_type": "markdown",
   "id": "ba3011c4",
   "metadata": {},
   "source": [
    "## Analysis with \"DumbTo\" Stimulus"
   ]
  },
  {
   "cell_type": "code",
   "execution_count": 1,
   "id": "b9fd8254",
   "metadata": {},
   "outputs": [],
   "source": [
    "import pandas as pd\n",
    "import matplotlib.pyplot as plt\n",
    "\n",
    "import tensorflow as tf\n",
    "\n",
    "from tensorflow import keras\n",
    "from tensorflow.keras import layers\n",
    "\n",
    "import numpy as np\n",
    "\n",
    "from sklearn.metrics import accuracy_score"
   ]
  },
  {
   "cell_type": "code",
   "execution_count": 2,
   "id": "6a453f41",
   "metadata": {},
   "outputs": [
    {
     "name": "stdout",
     "output_type": "stream",
     "text": [
      "Subject Count:  45\n",
      "Columns:\n",
      "\n",
      "Index(['Study', 'Subject_ID', 'StimName', 'Experiment_Time',\n",
      "       'CALIB_VALID_POINTS', 'Group', 'Age', 'Handedness', 'Country',\n",
      "       'Language', 'Gender', 'Eyewear', 'Session_Date', 'Block',\n",
      "       'Big5_Openness', 'Big5_Conscientiousness', 'Big5_Extraversion',\n",
      "       'Big5_Agreeableness', 'Big5_Neuroticism', 'Expert', 'Ethnicity',\n",
      "       'SessionDate', 'OrderStim', 'StartTime', 'EndTime', 'PosNegAdSAM',\n",
      "       'ExciteCalmAdSAM', 'ImpCom', 'PosCom', 'LikeCom', 'ViewsCom',\n",
      "       'PreLikelyFav', 'PostLikelyFav', 'LikelyFavDifference', 'PostOften',\n",
      "       'CNT', 'Eye_Time', 'TIME_TICK', 'FPOGX', 'FPOGY', 'FPOGS', 'FPOGD',\n",
      "       'FPOGID', 'FPOGV', 'BPOGX', 'BPOGY', 'BPOGV', 'LPCX', 'LPCY', 'LPD',\n",
      "       'LPS', 'LPV', 'RPCX', 'RPCY', 'RPD', 'RPS', 'RPV', 'LPUPILD', 'LPUPILV',\n",
      "       'RPUPILD', 'RPUPILV', 'Frame', 'Distance_to_Next_Frame', 'Face_Time',\n",
      "       'Anger_Evidence', 'Anger_Intensity', 'Contempt_Evidence',\n",
      "       'Contempt_Intensity', 'Disgust_Evidence', 'Disgust_Intensity',\n",
      "       'Joy_Evidence', 'Joy_Intensity', 'Fear_Evidence', 'Fear_Intensity',\n",
      "       'Negative_Evidence', 'Negative_Intensity', 'Neutral_Evidence',\n",
      "       'Neutral_Intensity', 'Positive_Evidence', 'Positive_Intensity',\n",
      "       'Sadness_Evidence', 'Sadness_Intensity', 'Surprise_Evidence',\n",
      "       'Surprise_Intensity', 'Heart_Rate', 'Average_Heart_Rate', 'Heart_Time',\n",
      "       'Normed_Heart_Rate', 'Persons_Average_LPD', 'Persons_Average_RPD',\n",
      "       'Normed_LPD', 'Normed_RPD', 'bpogx_dmean', 'bpogy_dmean',\n",
      "       'combined_normed_bpogxy', 'Normed_LPS', 'Normed_RPS', 'Stim_Frame'],\n",
      "      dtype='object')\n"
     ]
    }
   ],
   "source": [
    "sub_DumbTo = pd.read_csv(\"./Data/Subsamples/DumbTo.csv\")\n",
    "print(\"Subject Count: \",len(sub_DumbTo.Subject_ID.unique()))\n",
    "print(\"Columns:\\n\")\n",
    "print(sub_DumbTo.columns)"
   ]
  },
  {
   "cell_type": "code",
   "execution_count": 3,
   "id": "d2a59fbd",
   "metadata": {},
   "outputs": [],
   "source": [
    "related_features = ['Subject_ID','FPOGX', 'FPOGY', 'FPOGS', 'FPOGD',\n",
    "       'FPOGID', 'FPOGV', 'BPOGX', 'BPOGY', 'BPOGV', 'LPCX', 'LPCY', 'LPD',\n",
    "       'LPS', 'LPV', 'RPCX', 'RPCY', 'RPD', 'RPS', 'RPV', 'LPUPILD', 'LPUPILV',\n",
    "       'RPUPILD', 'RPUPILV', 'Face_Time',\n",
    "       'Anger_Evidence', 'Anger_Intensity', 'Contempt_Evidence',\n",
    "       'Contempt_Intensity', 'Disgust_Evidence', 'Disgust_Intensity',\n",
    "       'Joy_Evidence', 'Joy_Intensity', 'Fear_Evidence', 'Fear_Intensity',\n",
    "       'Negative_Evidence', 'Negative_Intensity', 'Neutral_Evidence',\n",
    "       'Neutral_Intensity', 'Positive_Evidence', 'Positive_Intensity',\n",
    "       'Sadness_Evidence', 'Sadness_Intensity', 'Surprise_Evidence',\n",
    "       'Surprise_Intensity', 'Heart_Time',\n",
    "       'Normed_Heart_Rate',\n",
    "       'Normed_LPD', 'Normed_RPD', 'bpogx_dmean', 'bpogy_dmean',\n",
    "       'combined_normed_bpogxy', 'Normed_LPS', 'Normed_RPS']"
   ]
  },
  {
   "cell_type": "code",
   "execution_count": 4,
   "id": "0fddeeda",
   "metadata": {},
   "outputs": [
    {
     "data": {
      "text/plain": [
       "count    63.000000\n",
       "mean      6.285714\n",
       "std       1.660048\n",
       "min       1.000000\n",
       "25%       7.000000\n",
       "50%       7.000000\n",
       "75%       7.000000\n",
       "max       7.000000\n",
       "Name: DumbTo, dtype: float64"
      ]
     },
     "execution_count": 4,
     "metadata": {},
     "output_type": "execute_result"
    }
   ],
   "source": [
    "data_recall = pd.read_csv('./Data/Lab_Recall_Hand_Edited/SuperMovie1516_L.csv')\n",
    "data_recall.DumbTo.describe()"
   ]
  },
  {
   "cell_type": "code",
   "execution_count": 5,
   "id": "fdafb17f",
   "metadata": {
    "scrolled": true
   },
   "outputs": [
    {
     "data": {
      "image/png": "[encoded data removed]",
      "text/plain": [
       "<Figure size 600x350 with 1 Axes>"
      ]
     },
     "metadata": {},
     "output_type": "display_data"
    }
   ],
   "source": [
    "data_recall.DumbTo.hist(figsize=(6,3.5))\n",
    "plt.show()"
   ]
  },
  {
   "cell_type": "code",
   "execution_count": 6,
   "id": "7b926399",
   "metadata": {},
   "outputs": [
    {
     "name": "stdout",
     "output_type": "stream",
     "text": [
      "Number of subjects: 45\n"
     ]
    }
   ],
   "source": [
    "seq_length = sub_DumbTo.groupby(\"Subject_ID\").size().reset_index()\n",
    "seq_length.columns = [\"Subject_ID\", \"Length\"]\n",
    "num_of_subjects = seq_length.shape[0]\n",
    "print(\"Number of subjects:\", num_of_subjects)"
   ]
  },
  {
   "cell_type": "code",
   "execution_count": 7,
   "id": "050dbd0c",
   "metadata": {},
   "outputs": [
    {
     "data": {
      "text/plain": [
       "9676"
      ]
     },
     "execution_count": 7,
     "metadata": {},
     "output_type": "execute_result"
    }
   ],
   "source": [
    "seq_length.Length.min()"
   ]
  },
  {
   "cell_type": "code",
   "execution_count": 8,
   "id": "4a727be0",
   "metadata": {},
   "outputs": [],
   "source": [
    "# remove user 344 from seq-length and data (length is outlier)\n",
    "seq_length = seq_length[seq_length.Subject_ID != 344]\n",
    "sub_DumbTo = sub_DumbTo[sub_DumbTo.Subject_ID != 344]"
   ]
  },
  {
   "cell_type": "code",
   "execution_count": 9,
   "id": "c3b4b2f6",
   "metadata": {},
   "outputs": [
    {
     "name": "stdout",
     "output_type": "stream",
     "text": [
      "Number of subjects: 44\n"
     ]
    }
   ],
   "source": [
    "num_of_subjects = seq_length.shape[0]\n",
    "print(\"Number of subjects:\", num_of_subjects)"
   ]
  },
  {
   "cell_type": "code",
   "execution_count": 10,
   "id": "74ddbb8d",
   "metadata": {},
   "outputs": [
    {
     "name": "stdout",
     "output_type": "stream",
     "text": [
      "Cutoff is : 9744\n"
     ]
    }
   ],
   "source": [
    "cut_off = seq_length.Length.min()\n",
    "print(\"Cutoff is :\", cut_off)"
   ]
  },
  {
   "cell_type": "code",
   "execution_count": 11,
   "id": "4777294d",
   "metadata": {},
   "outputs": [],
   "source": [
    "seq_length['Sum_Length'] = seq_length.Length.cumsum() "
   ]
  },
  {
   "cell_type": "code",
   "execution_count": 12,
   "id": "a7c2f692",
   "metadata": {},
   "outputs": [],
   "source": [
    "seq_length = seq_length.reset_index()"
   ]
  },
  {
   "cell_type": "code",
   "execution_count": 13,
   "id": "c2a0404a",
   "metadata": {},
   "outputs": [
    {
     "data": {
      "text/html": [
       "<div>\n",
       "<style scoped>\n",
       "    .dataframe tbody tr th:only-of-type {\n",
       "        vertical-align: middle;\n",
       "    }\n",
       "\n",
       "    .dataframe tbody tr th {\n",
       "        vertical-align: top;\n",
       "    }\n",
       "\n",
       "    .dataframe thead th {\n",
       "        text-align: right;\n",
       "    }\n",
       "</style>\n",
       "<table border=\"1\" class=\"dataframe\">\n",
       "  <thead>\n",
       "    <tr style=\"text-align: right;\">\n",
       "      <th></th>\n",
       "      <th>index</th>\n",
       "      <th>Subject_ID</th>\n",
       "      <th>Length</th>\n",
       "      <th>Sum_Length</th>\n",
       "    </tr>\n",
       "  </thead>\n",
       "  <tbody>\n",
       "    <tr>\n",
       "      <th>0</th>\n",
       "      <td>0</td>\n",
       "      <td>300</td>\n",
       "      <td>9751</td>\n",
       "      <td>9751</td>\n",
       "    </tr>\n",
       "    <tr>\n",
       "      <th>1</th>\n",
       "      <td>1</td>\n",
       "      <td>305</td>\n",
       "      <td>9751</td>\n",
       "      <td>19502</td>\n",
       "    </tr>\n",
       "    <tr>\n",
       "      <th>2</th>\n",
       "      <td>2</td>\n",
       "      <td>306</td>\n",
       "      <td>9750</td>\n",
       "      <td>29252</td>\n",
       "    </tr>\n",
       "    <tr>\n",
       "      <th>3</th>\n",
       "      <td>3</td>\n",
       "      <td>307</td>\n",
       "      <td>9748</td>\n",
       "      <td>39000</td>\n",
       "    </tr>\n",
       "    <tr>\n",
       "      <th>4</th>\n",
       "      <td>4</td>\n",
       "      <td>308</td>\n",
       "      <td>9749</td>\n",
       "      <td>48749</td>\n",
       "    </tr>\n",
       "    <tr>\n",
       "      <th>5</th>\n",
       "      <td>5</td>\n",
       "      <td>309</td>\n",
       "      <td>9749</td>\n",
       "      <td>58498</td>\n",
       "    </tr>\n",
       "    <tr>\n",
       "      <th>6</th>\n",
       "      <td>6</td>\n",
       "      <td>311</td>\n",
       "      <td>9752</td>\n",
       "      <td>68250</td>\n",
       "    </tr>\n",
       "    <tr>\n",
       "      <th>7</th>\n",
       "      <td>7</td>\n",
       "      <td>313</td>\n",
       "      <td>9749</td>\n",
       "      <td>77999</td>\n",
       "    </tr>\n",
       "    <tr>\n",
       "      <th>8</th>\n",
       "      <td>8</td>\n",
       "      <td>319</td>\n",
       "      <td>9749</td>\n",
       "      <td>87748</td>\n",
       "    </tr>\n",
       "    <tr>\n",
       "      <th>9</th>\n",
       "      <td>9</td>\n",
       "      <td>321</td>\n",
       "      <td>9749</td>\n",
       "      <td>97497</td>\n",
       "    </tr>\n",
       "    <tr>\n",
       "      <th>10</th>\n",
       "      <td>10</td>\n",
       "      <td>323</td>\n",
       "      <td>9748</td>\n",
       "      <td>107245</td>\n",
       "    </tr>\n",
       "    <tr>\n",
       "      <th>11</th>\n",
       "      <td>11</td>\n",
       "      <td>324</td>\n",
       "      <td>9751</td>\n",
       "      <td>116996</td>\n",
       "    </tr>\n",
       "    <tr>\n",
       "      <th>12</th>\n",
       "      <td>12</td>\n",
       "      <td>325</td>\n",
       "      <td>9749</td>\n",
       "      <td>126745</td>\n",
       "    </tr>\n",
       "    <tr>\n",
       "      <th>13</th>\n",
       "      <td>13</td>\n",
       "      <td>326</td>\n",
       "      <td>9748</td>\n",
       "      <td>136493</td>\n",
       "    </tr>\n",
       "    <tr>\n",
       "      <th>14</th>\n",
       "      <td>14</td>\n",
       "      <td>327</td>\n",
       "      <td>9748</td>\n",
       "      <td>146241</td>\n",
       "    </tr>\n",
       "    <tr>\n",
       "      <th>15</th>\n",
       "      <td>15</td>\n",
       "      <td>329</td>\n",
       "      <td>9749</td>\n",
       "      <td>155990</td>\n",
       "    </tr>\n",
       "    <tr>\n",
       "      <th>16</th>\n",
       "      <td>16</td>\n",
       "      <td>330</td>\n",
       "      <td>9749</td>\n",
       "      <td>165739</td>\n",
       "    </tr>\n",
       "    <tr>\n",
       "      <th>17</th>\n",
       "      <td>17</td>\n",
       "      <td>331</td>\n",
       "      <td>9749</td>\n",
       "      <td>175488</td>\n",
       "    </tr>\n",
       "    <tr>\n",
       "      <th>18</th>\n",
       "      <td>18</td>\n",
       "      <td>332</td>\n",
       "      <td>9748</td>\n",
       "      <td>185236</td>\n",
       "    </tr>\n",
       "    <tr>\n",
       "      <th>19</th>\n",
       "      <td>19</td>\n",
       "      <td>333</td>\n",
       "      <td>9747</td>\n",
       "      <td>194983</td>\n",
       "    </tr>\n",
       "    <tr>\n",
       "      <th>20</th>\n",
       "      <td>20</td>\n",
       "      <td>334</td>\n",
       "      <td>9752</td>\n",
       "      <td>204735</td>\n",
       "    </tr>\n",
       "    <tr>\n",
       "      <th>21</th>\n",
       "      <td>21</td>\n",
       "      <td>335</td>\n",
       "      <td>9748</td>\n",
       "      <td>214483</td>\n",
       "    </tr>\n",
       "    <tr>\n",
       "      <th>22</th>\n",
       "      <td>22</td>\n",
       "      <td>337</td>\n",
       "      <td>9748</td>\n",
       "      <td>224231</td>\n",
       "    </tr>\n",
       "    <tr>\n",
       "      <th>23</th>\n",
       "      <td>23</td>\n",
       "      <td>338</td>\n",
       "      <td>9751</td>\n",
       "      <td>233982</td>\n",
       "    </tr>\n",
       "    <tr>\n",
       "      <th>24</th>\n",
       "      <td>24</td>\n",
       "      <td>339</td>\n",
       "      <td>9752</td>\n",
       "      <td>243734</td>\n",
       "    </tr>\n",
       "    <tr>\n",
       "      <th>25</th>\n",
       "      <td>25</td>\n",
       "      <td>341</td>\n",
       "      <td>9747</td>\n",
       "      <td>253481</td>\n",
       "    </tr>\n",
       "    <tr>\n",
       "      <th>26</th>\n",
       "      <td>26</td>\n",
       "      <td>342</td>\n",
       "      <td>9749</td>\n",
       "      <td>263230</td>\n",
       "    </tr>\n",
       "    <tr>\n",
       "      <th>27</th>\n",
       "      <td>28</td>\n",
       "      <td>345</td>\n",
       "      <td>9752</td>\n",
       "      <td>272982</td>\n",
       "    </tr>\n",
       "    <tr>\n",
       "      <th>28</th>\n",
       "      <td>29</td>\n",
       "      <td>346</td>\n",
       "      <td>9752</td>\n",
       "      <td>282734</td>\n",
       "    </tr>\n",
       "    <tr>\n",
       "      <th>29</th>\n",
       "      <td>30</td>\n",
       "      <td>347</td>\n",
       "      <td>9749</td>\n",
       "      <td>292483</td>\n",
       "    </tr>\n",
       "    <tr>\n",
       "      <th>30</th>\n",
       "      <td>31</td>\n",
       "      <td>349</td>\n",
       "      <td>9748</td>\n",
       "      <td>302231</td>\n",
       "    </tr>\n",
       "    <tr>\n",
       "      <th>31</th>\n",
       "      <td>32</td>\n",
       "      <td>350</td>\n",
       "      <td>9749</td>\n",
       "      <td>311980</td>\n",
       "    </tr>\n",
       "    <tr>\n",
       "      <th>32</th>\n",
       "      <td>33</td>\n",
       "      <td>351</td>\n",
       "      <td>9745</td>\n",
       "      <td>321725</td>\n",
       "    </tr>\n",
       "    <tr>\n",
       "      <th>33</th>\n",
       "      <td>34</td>\n",
       "      <td>352</td>\n",
       "      <td>9752</td>\n",
       "      <td>331477</td>\n",
       "    </tr>\n",
       "    <tr>\n",
       "      <th>34</th>\n",
       "      <td>35</td>\n",
       "      <td>353</td>\n",
       "      <td>9752</td>\n",
       "      <td>341229</td>\n",
       "    </tr>\n",
       "    <tr>\n",
       "      <th>35</th>\n",
       "      <td>36</td>\n",
       "      <td>354</td>\n",
       "      <td>9749</td>\n",
       "      <td>350978</td>\n",
       "    </tr>\n",
       "    <tr>\n",
       "      <th>36</th>\n",
       "      <td>37</td>\n",
       "      <td>355</td>\n",
       "      <td>9748</td>\n",
       "      <td>360726</td>\n",
       "    </tr>\n",
       "    <tr>\n",
       "      <th>37</th>\n",
       "      <td>38</td>\n",
       "      <td>356</td>\n",
       "      <td>9749</td>\n",
       "      <td>370475</td>\n",
       "    </tr>\n",
       "    <tr>\n",
       "      <th>38</th>\n",
       "      <td>39</td>\n",
       "      <td>357</td>\n",
       "      <td>9747</td>\n",
       "      <td>380222</td>\n",
       "    </tr>\n",
       "    <tr>\n",
       "      <th>39</th>\n",
       "      <td>40</td>\n",
       "      <td>358</td>\n",
       "      <td>9749</td>\n",
       "      <td>389971</td>\n",
       "    </tr>\n",
       "    <tr>\n",
       "      <th>40</th>\n",
       "      <td>41</td>\n",
       "      <td>360</td>\n",
       "      <td>9752</td>\n",
       "      <td>399723</td>\n",
       "    </tr>\n",
       "    <tr>\n",
       "      <th>41</th>\n",
       "      <td>42</td>\n",
       "      <td>361</td>\n",
       "      <td>9748</td>\n",
       "      <td>409471</td>\n",
       "    </tr>\n",
       "    <tr>\n",
       "      <th>42</th>\n",
       "      <td>43</td>\n",
       "      <td>363</td>\n",
       "      <td>9744</td>\n",
       "      <td>419215</td>\n",
       "    </tr>\n",
       "    <tr>\n",
       "      <th>43</th>\n",
       "      <td>44</td>\n",
       "      <td>365</td>\n",
       "      <td>9749</td>\n",
       "      <td>428964</td>\n",
       "    </tr>\n",
       "  </tbody>\n",
       "</table>\n",
       "</div>"
      ],
      "text/plain": [
       "    index  Subject_ID  Length  Sum_Length\n",
       "0       0         300    9751        9751\n",
       "1       1         305    9751       19502\n",
       "2       2         306    9750       29252\n",
       "3       3         307    9748       39000\n",
       "4       4         308    9749       48749\n",
       "5       5         309    9749       58498\n",
       "6       6         311    9752       68250\n",
       "7       7         313    9749       77999\n",
       "8       8         319    9749       87748\n",
       "9       9         321    9749       97497\n",
       "10     10         323    9748      107245\n",
       "11     11         324    9751      116996\n",
       "12     12         325    9749      126745\n",
       "13     13         326    9748      136493\n",
       "14     14         327    9748      146241\n",
       "15     15         329    9749      155990\n",
       "16     16         330    9749      165739\n",
       "17     17         331    9749      175488\n",
       "18     18         332    9748      185236\n",
       "19     19         333    9747      194983\n",
       "20     20         334    9752      204735\n",
       "21     21         335    9748      214483\n",
       "22     22         337    9748      224231\n",
       "23     23         338    9751      233982\n",
       "24     24         339    9752      243734\n",
       "25     25         341    9747      253481\n",
       "26     26         342    9749      263230\n",
       "27     28         345    9752      272982\n",
       "28     29         346    9752      282734\n",
       "29     30         347    9749      292483\n",
       "30     31         349    9748      302231\n",
       "31     32         350    9749      311980\n",
       "32     33         351    9745      321725\n",
       "33     34         352    9752      331477\n",
       "34     35         353    9752      341229\n",
       "35     36         354    9749      350978\n",
       "36     37         355    9748      360726\n",
       "37     38         356    9749      370475\n",
       "38     39         357    9747      380222\n",
       "39     40         358    9749      389971\n",
       "40     41         360    9752      399723\n",
       "41     42         361    9748      409471\n",
       "42     43         363    9744      419215\n",
       "43     44         365    9749      428964"
      ]
     },
     "execution_count": 13,
     "metadata": {},
     "output_type": "execute_result"
    }
   ],
   "source": [
    "seq_length"
   ]
  },
  {
   "cell_type": "code",
   "execution_count": 14,
   "id": "0288dcbd",
   "metadata": {},
   "outputs": [
    {
     "data": {
      "text/plain": [
       "(44, 4)"
      ]
     },
     "execution_count": 14,
     "metadata": {},
     "output_type": "execute_result"
    }
   ],
   "source": [
    "seq_length.shape"
   ]
  },
  {
   "cell_type": "code",
   "execution_count": 15,
   "id": "4dee859f",
   "metadata": {},
   "outputs": [
    {
     "data": {
      "text/plain": [
       "(428964, 98)"
      ]
     },
     "execution_count": 15,
     "metadata": {},
     "output_type": "execute_result"
    }
   ],
   "source": [
    "sub_DumbTo.shape"
   ]
  },
  {
   "cell_type": "code",
   "execution_count": 16,
   "id": "adf1ed2a",
   "metadata": {},
   "outputs": [],
   "source": [
    "# Adjust the length of all seqs\n",
    "cut_off = seq_length.Length.min()\n",
    "\n",
    "rem_index = np.zeros(sub_DumbTo.shape[0])\n",
    "rem_index[0 : cut_off] = 1  \n",
    "for i in range(0, seq_length.shape[0]-1):\n",
    "    rem_index[seq_length.Sum_Length[i] : seq_length.Sum_Length[i]  + cut_off] = 1\n",
    "    \n",
    "sub_DumbTo[\"Rem_Index\"] = rem_index\n",
    "\n",
    "sub_DumbTo = sub_DumbTo[sub_DumbTo.Rem_Index == 1]"
   ]
  },
  {
   "cell_type": "code",
   "execution_count": 17,
   "id": "98ef0b6a",
   "metadata": {},
   "outputs": [
    {
     "name": "stdout",
     "output_type": "stream",
     "text": [
      "Sqeuence length after adjustment 9744.0\n"
     ]
    }
   ],
   "source": [
    "print(\"Sqeuence length after adjustment\", sub_DumbTo.shape[0]/44)"
   ]
  },
  {
   "cell_type": "code",
   "execution_count": 18,
   "id": "69d05b4b",
   "metadata": {},
   "outputs": [],
   "source": [
    "sub_DumbTo = sub_DumbTo[related_features]"
   ]
  },
  {
   "cell_type": "code",
   "execution_count": 19,
   "id": "d6f1a79e",
   "metadata": {},
   "outputs": [],
   "source": [
    "num_non_zero_nulls_in_cols = sub_DumbTo.isnull().sum().reset_index()\n",
    "num_non_zero_nulls_in_cols.columns = [\"Column\", \"Num_Nulls\"]\n",
    "num_non_zero_nulls_in_cols = num_non_zero_nulls_in_cols[num_non_zero_nulls_in_cols.Num_Nulls != 0]"
   ]
  },
  {
   "cell_type": "code",
   "execution_count": 20,
   "id": "aa3a9cc5",
   "metadata": {},
   "outputs": [
    {
     "data": {
      "text/html": [
       "<div>\n",
       "<style scoped>\n",
       "    .dataframe tbody tr th:only-of-type {\n",
       "        vertical-align: middle;\n",
       "    }\n",
       "\n",
       "    .dataframe tbody tr th {\n",
       "        vertical-align: top;\n",
       "    }\n",
       "\n",
       "    .dataframe thead th {\n",
       "        text-align: right;\n",
       "    }\n",
       "</style>\n",
       "<table border=\"1\" class=\"dataframe\">\n",
       "  <thead>\n",
       "    <tr style=\"text-align: right;\">\n",
       "      <th></th>\n",
       "      <th>Column</th>\n",
       "      <th>Num_Nulls</th>\n",
       "    </tr>\n",
       "  </thead>\n",
       "  <tbody>\n",
       "    <tr>\n",
       "      <th>49</th>\n",
       "      <td>bpogx_dmean</td>\n",
       "      <td>9744</td>\n",
       "    </tr>\n",
       "    <tr>\n",
       "      <th>50</th>\n",
       "      <td>bpogy_dmean</td>\n",
       "      <td>9744</td>\n",
       "    </tr>\n",
       "    <tr>\n",
       "      <th>51</th>\n",
       "      <td>combined_normed_bpogxy</td>\n",
       "      <td>9744</td>\n",
       "    </tr>\n",
       "    <tr>\n",
       "      <th>52</th>\n",
       "      <td>Normed_LPS</td>\n",
       "      <td>9787</td>\n",
       "    </tr>\n",
       "    <tr>\n",
       "      <th>53</th>\n",
       "      <td>Normed_RPS</td>\n",
       "      <td>9787</td>\n",
       "    </tr>\n",
       "  </tbody>\n",
       "</table>\n",
       "</div>"
      ],
      "text/plain": [
       "                    Column  Num_Nulls\n",
       "49             bpogx_dmean       9744\n",
       "50             bpogy_dmean       9744\n",
       "51  combined_normed_bpogxy       9744\n",
       "52              Normed_LPS       9787\n",
       "53              Normed_RPS       9787"
      ]
     },
     "execution_count": 20,
     "metadata": {},
     "output_type": "execute_result"
    }
   ],
   "source": [
    "# In the data one user has no value for the above columns and the first value of all users is null\n",
    "num_non_zero_nulls_in_cols"
   ]
  },
  {
   "cell_type": "code",
   "execution_count": 21,
   "id": "c07be98a",
   "metadata": {},
   "outputs": [],
   "source": [
    "# remove user 345 from seq-length and data (has missing values for 4 columns)\n",
    "seq_length = seq_length[seq_length.Subject_ID != 345]\n",
    "# We can remove all nulls and make the sequnce one unit smaller\n",
    "sub_DumbTo = sub_DumbTo.dropna()"
   ]
  },
  {
   "cell_type": "code",
   "execution_count": 22,
   "id": "8e4e9060",
   "metadata": {},
   "outputs": [
    {
     "name": "stdout",
     "output_type": "stream",
     "text": [
      "Sequence length (cutt_off) equls:  9743\n",
      "Number of Subjects is:  43.0\n"
     ]
    }
   ],
   "source": [
    "# For the above four columns the first element of each sequence was na, so the sequence length (cut_off) is reduced by 1\n",
    "cut_off = cut_off - 1\n",
    "num_of_subjects = sub_DumbTo.shape[0]/(cut_off)\n",
    "print(\"Sequence length (cutt_off) equls: \", cut_off)\n",
    "print(\"Number of Subjects is: \", num_of_subjects)"
   ]
  },
  {
   "cell_type": "code",
   "execution_count": 23,
   "id": "0b1356cf",
   "metadata": {},
   "outputs": [],
   "source": [
    "sub_DumbTo = sub_DumbTo.drop(columns=['Subject_ID'])"
   ]
  },
  {
   "cell_type": "code",
   "execution_count": 24,
   "id": "1e802d2f",
   "metadata": {},
   "outputs": [],
   "source": [
    "# One participants had null values for the last four variables we drop that, so we reduce one from seq_length.shape[0]\n",
    "# we dropped subject_id from related features so we have len(related_features) -1 in reshape dimmentions\n",
    "x = sub_DumbTo.to_numpy()\n",
    "x = x.reshape(int(num_of_subjects), -1, len(related_features) -1 )"
   ]
  },
  {
   "cell_type": "code",
   "execution_count": 25,
   "id": "7eaa4c58",
   "metadata": {},
   "outputs": [
    {
     "data": {
      "text/plain": [
       "(43, 9743, 53)"
      ]
     },
     "execution_count": 25,
     "metadata": {},
     "output_type": "execute_result"
    }
   ],
   "source": [
    "x.shape"
   ]
  },
  {
   "cell_type": "code",
   "execution_count": 80,
   "id": "f7bcb9f8",
   "metadata": {},
   "outputs": [],
   "source": [
    "y = []\n",
    "for subject_id in seq_length.Subject_ID:\n",
    "    y.append(data_recall[data_recall.ExternalReference == subject_id].DumbTo.tolist()[0])"
   ]
  },
  {
   "cell_type": "code",
   "execution_count": 81,
   "id": "491d16ec",
   "metadata": {},
   "outputs": [],
   "source": [
    "y = np.array(y)"
   ]
  },
  {
   "cell_type": "code",
   "execution_count": 82,
   "id": "8bd809c0",
   "metadata": {},
   "outputs": [
    {
     "data": {
      "text/plain": [
       "43"
      ]
     },
     "execution_count": 82,
     "metadata": {},
     "output_type": "execute_result"
    }
   ],
   "source": [
    "len(y)"
   ]
  },
  {
   "cell_type": "markdown",
   "id": "4403e11d",
   "metadata": {},
   "source": [
    "## Modeling"
   ]
  },
  {
   "cell_type": "code",
   "execution_count": 31,
   "id": "abf25f8b",
   "metadata": {},
   "outputs": [],
   "source": [
    "x_train = x[:37]\n",
    "y_train = y[:37]\n",
    "x_valid = x[37:]\n",
    "y_valid = y[37:]"
   ]
  },
  {
   "cell_type": "code",
   "execution_count": 32,
   "id": "d628780a",
   "metadata": {},
   "outputs": [
    {
     "name": "stdout",
     "output_type": "stream",
     "text": [
      "(37, 9743, 53)\n",
      "(37,)\n",
      "(6, 9743, 53)\n",
      "(6,)\n"
     ]
    }
   ],
   "source": [
    "special_value = -9999.99\n",
    "x_train = keras.preprocessing.sequence.pad_sequences(x_train, maxlen = cut_off, padding = \"post\", dtype = 'float64', value = special_value)\n",
    "x_valid = keras.preprocessing.sequence.pad_sequences(x_valid, maxlen = cut_off, padding = \"post\", dtype = 'float64', value = special_value)\n",
    "\n",
    "print(x_train.shape)\n",
    "print(y_train.shape)\n",
    "print(x_valid.shape)\n",
    "print(y_valid.shape)"
   ]
  },
  {
   "cell_type": "code",
   "execution_count": 33,
   "id": "0eec0a03",
   "metadata": {},
   "outputs": [],
   "source": [
    "model = keras.Sequential()\n",
    "model.add(keras.layers.Masking(mask_value=special_value, input_shape=(cut_off, len(related_features) -1)))\n",
    "model.add(keras.layers.LSTM(32))\n",
    "model.add(keras.layers.Dense(1))"
   ]
  },
  {
   "cell_type": "code",
   "execution_count": 34,
   "id": "9b7927a8",
   "metadata": {},
   "outputs": [],
   "source": [
    "model.compile(loss = keras.losses.MeanSquaredError(),\n",
    "              optimizer = keras.optimizers.Adam(learning_rate=0.01))"
   ]
  },
  {
   "cell_type": "code",
   "execution_count": 35,
   "id": "59d0c93f",
   "metadata": {},
   "outputs": [
    {
     "name": "stdout",
     "output_type": "stream",
     "text": [
      "Model: \"sequential\"\n",
      "_________________________________________________________________\n",
      "Layer (type)                 Output Shape              Param #   \n",
      "=================================================================\n",
      "masking (Masking)            (None, 9743, 53)          0         \n",
      "_________________________________________________________________\n",
      "lstm (LSTM)                  (None, 32)                11008     \n",
      "_________________________________________________________________\n",
      "dense (Dense)                (None, 1)                 33        \n",
      "=================================================================\n",
      "Total params: 11,041\n",
      "Trainable params: 11,041\n",
      "Non-trainable params: 0\n",
      "_________________________________________________________________\n"
     ]
    }
   ],
   "source": [
    "model.summary()"
   ]
  },
  {
   "cell_type": "code",
   "execution_count": 36,
   "id": "c26eec01",
   "metadata": {},
   "outputs": [
    {
     "name": "stdout",
     "output_type": "stream",
     "text": [
      "Epoch 1/25\n",
      "2/2 [==============================] - 4s 2s/step - loss: 45.5052 - val_loss: 28.1534\n",
      "Epoch 2/25\n",
      "2/2 [==============================] - 3s 2s/step - loss: 34.2715 - val_loss: 21.7571\n",
      "Epoch 3/25\n",
      "2/2 [==============================] - 3s 2s/step - loss: 27.9169 - val_loss: 18.6422\n",
      "Epoch 4/25\n",
      "2/2 [==============================] - 3s 1s/step - loss: 24.6452 - val_loss: 16.6625\n",
      "Epoch 5/25\n",
      "2/2 [==============================] - 4s 2s/step - loss: 22.4033 - val_loss: 14.2873\n",
      "Epoch 6/25\n",
      "2/2 [==============================] - 3s 2s/step - loss: 19.8724 - val_loss: 12.9023\n",
      "Epoch 7/25\n",
      "2/2 [==============================] - 3s 2s/step - loss: 17.4054 - val_loss: 11.6695\n",
      "Epoch 8/25\n",
      "2/2 [==============================] - 3s 2s/step - loss: 15.5360 - val_loss: 10.5145\n",
      "Epoch 9/25\n",
      "2/2 [==============================] - 3s 2s/step - loss: 13.7890 - val_loss: 9.4616\n",
      "Epoch 10/25\n",
      "2/2 [==============================] - 4s 2s/step - loss: 12.5942 - val_loss: 8.5100\n",
      "Epoch 11/25\n",
      "2/2 [==============================] - 3s 2s/step - loss: 11.0894 - val_loss: 7.3337\n",
      "Epoch 12/25\n",
      "2/2 [==============================] - 4s 2s/step - loss: 9.5800 - val_loss: 6.5932\n",
      "Epoch 13/25\n",
      "2/2 [==============================] - 4s 2s/step - loss: 8.4645 - val_loss: 5.9473\n",
      "Epoch 14/25\n",
      "2/2 [==============================] - 4s 2s/step - loss: 7.3732 - val_loss: 5.3917\n",
      "Epoch 15/25\n",
      "2/2 [==============================] - 3s 2s/step - loss: 6.4402 - val_loss: 4.9218\n",
      "Epoch 16/25\n",
      "2/2 [==============================] - 3s 2s/step - loss: 5.5452 - val_loss: 4.5401\n",
      "Epoch 17/25\n",
      "2/2 [==============================] - 4s 2s/step - loss: 4.8475 - val_loss: 4.2096\n",
      "Epoch 18/25\n",
      "2/2 [==============================] - 3s 2s/step - loss: 4.2744 - val_loss: 3.9124\n",
      "Epoch 19/25\n",
      "2/2 [==============================] - 4s 2s/step - loss: 3.6988 - val_loss: 3.5728\n",
      "Epoch 20/25\n",
      "2/2 [==============================] - 4s 2s/step - loss: 3.1891 - val_loss: 3.5066\n",
      "Epoch 21/25\n",
      "2/2 [==============================] - 4s 2s/step - loss: 2.8248 - val_loss: 3.5945\n",
      "Epoch 22/25\n",
      "2/2 [==============================] - 3s 2s/step - loss: 2.5603 - val_loss: 3.5748\n",
      "Epoch 23/25\n",
      "2/2 [==============================] - 4s 2s/step - loss: 2.3141 - val_loss: 3.5836\n",
      "Epoch 24/25\n",
      "2/2 [==============================] - 4s 2s/step - loss: 2.1155 - val_loss: 3.6172\n",
      "Epoch 25/25\n",
      "2/2 [==============================] - 4s 2s/step - loss: 1.9743 - val_loss: 3.6014\n"
     ]
    }
   ],
   "source": [
    "history = model.fit(x = x_train, y = y_train, \n",
    "                    validation_data = (x_valid, y_valid),\n",
    "                    epochs = 25)"
   ]
  },
  {
   "cell_type": "code",
   "execution_count": 37,
   "id": "3c22dfc8",
   "metadata": {},
   "outputs": [],
   "source": [
    "model = keras.Sequential()\n",
    "model.add(keras.layers.Masking(mask_value=special_value, input_shape=(cut_off, len(related_features) -1)))\n",
    "model.add(keras.layers.LSTM(64))\n",
    "model.add(keras.layers.Dense(1))"
   ]
  },
  {
   "cell_type": "code",
   "execution_count": 39,
   "id": "6ecf97d8",
   "metadata": {},
   "outputs": [],
   "source": [
    "model.compile(loss = keras.losses.MeanSquaredError(),\n",
    "              optimizer = keras.optimizers.Adam(learning_rate=0.01))"
   ]
  },
  {
   "cell_type": "code",
   "execution_count": 40,
   "id": "88eb112d",
   "metadata": {},
   "outputs": [
    {
     "name": "stdout",
     "output_type": "stream",
     "text": [
      "Model: \"sequential_1\"\n",
      "_________________________________________________________________\n",
      "Layer (type)                 Output Shape              Param #   \n",
      "=================================================================\n",
      "masking_1 (Masking)          (None, 9743, 53)          0         \n",
      "_________________________________________________________________\n",
      "lstm_1 (LSTM)                (None, 64)                30208     \n",
      "_________________________________________________________________\n",
      "dense_1 (Dense)              (None, 1)                 65        \n",
      "=================================================================\n",
      "Total params: 30,273\n",
      "Trainable params: 30,273\n",
      "Non-trainable params: 0\n",
      "_________________________________________________________________\n"
     ]
    }
   ],
   "source": [
    "model.summary()"
   ]
  },
  {
   "cell_type": "code",
   "execution_count": 41,
   "id": "c6e25840",
   "metadata": {},
   "outputs": [
    {
     "name": "stdout",
     "output_type": "stream",
     "text": [
      "Epoch 1/25\n",
      "2/2 [==============================] - 5s 3s/step - loss: 38.7432 - val_loss: 23.4972\n",
      "Epoch 2/25\n",
      "2/2 [==============================] - 5s 2s/step - loss: 25.5642 - val_loss: 13.9483\n",
      "Epoch 3/25\n",
      "2/2 [==============================] - 5s 3s/step - loss: 18.8331 - val_loss: 10.9709\n",
      "Epoch 4/25\n",
      "2/2 [==============================] - 5s 3s/step - loss: 14.8848 - val_loss: 9.3669\n",
      "Epoch 5/25\n",
      "2/2 [==============================] - 5s 3s/step - loss: 12.3729 - val_loss: 7.8760\n",
      "Epoch 6/25\n",
      "2/2 [==============================] - 5s 3s/step - loss: 9.9305 - val_loss: 6.4136\n",
      "Epoch 7/25\n",
      "2/2 [==============================] - 6s 3s/step - loss: 7.8362 - val_loss: 4.4574\n",
      "Epoch 8/25\n",
      "2/2 [==============================] - 5s 3s/step - loss: 5.4061 - val_loss: 3.8614\n",
      "Epoch 9/25\n",
      "2/2 [==============================] - 5s 3s/step - loss: 3.8498 - val_loss: 3.5954\n",
      "Epoch 10/25\n",
      "2/2 [==============================] - 6s 3s/step - loss: 2.7828 - val_loss: 3.8728\n",
      "Epoch 11/25\n",
      "2/2 [==============================] - 6s 3s/step - loss: 1.9228 - val_loss: 4.0716\n",
      "Epoch 12/25\n",
      "2/2 [==============================] - 5s 3s/step - loss: 1.5749 - val_loss: 4.2991\n",
      "Epoch 13/25\n",
      "2/2 [==============================] - 5s 3s/step - loss: 1.3171 - val_loss: 4.6060\n",
      "Epoch 14/25\n",
      "2/2 [==============================] - 5s 3s/step - loss: 1.2022 - val_loss: 4.8943\n",
      "Epoch 15/25\n",
      "2/2 [==============================] - 5s 3s/step - loss: 1.3195 - val_loss: 5.1401\n",
      "Epoch 16/25\n",
      "2/2 [==============================] - 6s 3s/step - loss: 1.3676 - val_loss: 5.3377\n",
      "Epoch 17/25\n",
      "2/2 [==============================] - 5s 3s/step - loss: 1.4058 - val_loss: 5.4731\n",
      "Epoch 18/25\n",
      "2/2 [==============================] - 5s 3s/step - loss: 1.4412 - val_loss: 5.5464\n",
      "Epoch 19/25\n",
      "2/2 [==============================] - 5s 3s/step - loss: 1.4651 - val_loss: 5.5639\n",
      "Epoch 20/25\n",
      "2/2 [==============================] - 5s 3s/step - loss: 1.4649 - val_loss: 5.5313\n",
      "Epoch 21/25\n",
      "2/2 [==============================] - 6s 3s/step - loss: 1.4308 - val_loss: 5.4593\n",
      "Epoch 22/25\n",
      "2/2 [==============================] - 5s 3s/step - loss: 1.3960 - val_loss: 5.3594\n",
      "Epoch 23/25\n",
      "2/2 [==============================] - 5s 3s/step - loss: 1.3563 - val_loss: 5.2257\n",
      "Epoch 24/25\n",
      "2/2 [==============================] - 6s 3s/step - loss: 1.3170 - val_loss: 5.0728\n",
      "Epoch 25/25\n",
      "2/2 [==============================] - 6s 3s/step - loss: 1.2709 - val_loss: 4.9336\n"
     ]
    }
   ],
   "source": [
    "history = model.fit(x = x_train, y = y_train, \n",
    "                    validation_data = (x_valid, y_valid),\n",
    "                    epochs = 25)"
   ]
  },
  {
   "cell_type": "code",
   "execution_count": 43,
   "id": "8c01b731",
   "metadata": {},
   "outputs": [],
   "source": [
    "model = keras.Sequential()\n",
    "model.add(keras.layers.Masking(mask_value=special_value, input_shape=(cut_off, len(related_features) -1)))\n",
    "model.add(keras.layers.LSTM(32, return_sequences=True))\n",
    "model.add(keras.layers.LSTM(32))\n",
    "model.add(keras.layers.Dense(1))"
   ]
  },
  {
   "cell_type": "code",
   "execution_count": 44,
   "id": "df7a9ade",
   "metadata": {},
   "outputs": [],
   "source": [
    "model.compile(loss = keras.losses.MeanSquaredError(),\n",
    "              optimizer = keras.optimizers.Adam(learning_rate=0.01))"
   ]
  },
  {
   "cell_type": "code",
   "execution_count": 45,
   "id": "10f49aea",
   "metadata": {},
   "outputs": [
    {
     "name": "stdout",
     "output_type": "stream",
     "text": [
      "Model: \"sequential_3\"\n",
      "_________________________________________________________________\n",
      "Layer (type)                 Output Shape              Param #   \n",
      "=================================================================\n",
      "masking_3 (Masking)          (None, 9743, 53)          0         \n",
      "_________________________________________________________________\n",
      "lstm_4 (LSTM)                (None, 9743, 32)          11008     \n",
      "_________________________________________________________________\n",
      "lstm_5 (LSTM)                (None, 32)                8320      \n",
      "_________________________________________________________________\n",
      "dense_2 (Dense)              (None, 1)                 33        \n",
      "=================================================================\n",
      "Total params: 19,361\n",
      "Trainable params: 19,361\n",
      "Non-trainable params: 0\n",
      "_________________________________________________________________\n"
     ]
    }
   ],
   "source": [
    "model.summary()"
   ]
  },
  {
   "cell_type": "code",
   "execution_count": 46,
   "id": "1da95a45",
   "metadata": {
    "scrolled": true
   },
   "outputs": [
    {
     "name": "stdout",
     "output_type": "stream",
     "text": [
      "Epoch 1/25\n",
      "2/2 [==============================] - 15s 8s/step - loss: 40.0247 - val_loss: 15.8321\n",
      "Epoch 2/25\n",
      "2/2 [==============================] - 13s 6s/step - loss: 18.4837 - val_loss: 7.6528\n",
      "Epoch 3/25\n",
      "2/2 [==============================] - 14s 7s/step - loss: 8.8008 - val_loss: 4.3142\n",
      "Epoch 4/25\n",
      "2/2 [==============================] - 14s 7s/step - loss: 3.6716 - val_loss: 3.5219\n",
      "Epoch 5/25\n",
      "2/2 [==============================] - 14s 7s/step - loss: 1.4072 - val_loss: 4.6316\n",
      "Epoch 6/25\n",
      "2/2 [==============================] - 14s 7s/step - loss: 1.2425 - val_loss: 6.2443\n",
      "Epoch 7/25\n",
      "2/2 [==============================] - 14s 7s/step - loss: 1.9730 - val_loss: 7.2344\n",
      "Epoch 8/25\n",
      "2/2 [==============================] - 14s 7s/step - loss: 2.4809 - val_loss: 7.3334\n",
      "Epoch 9/25\n",
      "2/2 [==============================] - 15s 7s/step - loss: 2.5204 - val_loss: 6.8920\n",
      "Epoch 10/25\n",
      "2/2 [==============================] - 15s 8s/step - loss: 2.2474 - val_loss: 6.1746\n",
      "Epoch 11/25\n",
      "1/2 [==============>...............] - ETA: 0s - loss: 2.1428"
     ]
    },
    {
     "ename": "KeyboardInterrupt",
     "evalue": "",
     "output_type": "error",
     "traceback": [
      "\u001b[1;31m---------------------------------------------------------------------------\u001b[0m",
      "\u001b[1;31mKeyboardInterrupt\u001b[0m                         Traceback (most recent call last)",
      "\u001b[1;32m<ipython-input-46-50cd5de2e001>\u001b[0m in \u001b[0;36m<module>\u001b[1;34m\u001b[0m\n\u001b[1;32m----> 1\u001b[1;33m history = model.fit(x = x_train, y = y_train, \n\u001b[0m\u001b[0;32m      2\u001b[0m                     \u001b[0mvalidation_data\u001b[0m \u001b[1;33m=\u001b[0m \u001b[1;33m(\u001b[0m\u001b[0mx_valid\u001b[0m\u001b[1;33m,\u001b[0m \u001b[0my_valid\u001b[0m\u001b[1;33m)\u001b[0m\u001b[1;33m,\u001b[0m\u001b[1;33m\u001b[0m\u001b[1;33m\u001b[0m\u001b[0m\n\u001b[0;32m      3\u001b[0m                     epochs = 25)\n",
      "\u001b[1;32m~\\anaconda3\\envs\\tf\\lib\\site-packages\\tensorflow\\python\\keras\\engine\\training.py\u001b[0m in \u001b[0;36m_method_wrapper\u001b[1;34m(self, *args, **kwargs)\u001b[0m\n\u001b[0;32m    106\u001b[0m   \u001b[1;32mdef\u001b[0m \u001b[0m_method_wrapper\u001b[0m\u001b[1;33m(\u001b[0m\u001b[0mself\u001b[0m\u001b[1;33m,\u001b[0m \u001b[1;33m*\u001b[0m\u001b[0margs\u001b[0m\u001b[1;33m,\u001b[0m \u001b[1;33m**\u001b[0m\u001b[0mkwargs\u001b[0m\u001b[1;33m)\u001b[0m\u001b[1;33m:\u001b[0m\u001b[1;33m\u001b[0m\u001b[1;33m\u001b[0m\u001b[0m\n\u001b[0;32m    107\u001b[0m     \u001b[1;32mif\u001b[0m \u001b[1;32mnot\u001b[0m \u001b[0mself\u001b[0m\u001b[1;33m.\u001b[0m\u001b[0m_in_multi_worker_mode\u001b[0m\u001b[1;33m(\u001b[0m\u001b[1;33m)\u001b[0m\u001b[1;33m:\u001b[0m  \u001b[1;31m# pylint: disable=protected-access\u001b[0m\u001b[1;33m\u001b[0m\u001b[1;33m\u001b[0m\u001b[0m\n\u001b[1;32m--> 108\u001b[1;33m       \u001b[1;32mreturn\u001b[0m \u001b[0mmethod\u001b[0m\u001b[1;33m(\u001b[0m\u001b[0mself\u001b[0m\u001b[1;33m,\u001b[0m \u001b[1;33m*\u001b[0m\u001b[0margs\u001b[0m\u001b[1;33m,\u001b[0m \u001b[1;33m**\u001b[0m\u001b[0mkwargs\u001b[0m\u001b[1;33m)\u001b[0m\u001b[1;33m\u001b[0m\u001b[1;33m\u001b[0m\u001b[0m\n\u001b[0m\u001b[0;32m    109\u001b[0m \u001b[1;33m\u001b[0m\u001b[0m\n\u001b[0;32m    110\u001b[0m     \u001b[1;31m# Running inside `run_distribute_coordinator` already.\u001b[0m\u001b[1;33m\u001b[0m\u001b[1;33m\u001b[0m\u001b[1;33m\u001b[0m\u001b[0m\n",
      "\u001b[1;32m~\\anaconda3\\envs\\tf\\lib\\site-packages\\tensorflow\\python\\keras\\engine\\training.py\u001b[0m in \u001b[0;36mfit\u001b[1;34m(self, x, y, batch_size, epochs, verbose, callbacks, validation_split, validation_data, shuffle, class_weight, sample_weight, initial_epoch, steps_per_epoch, validation_steps, validation_batch_size, validation_freq, max_queue_size, workers, use_multiprocessing)\u001b[0m\n\u001b[0;32m   1096\u001b[0m                 batch_size=batch_size):\n\u001b[0;32m   1097\u001b[0m               \u001b[0mcallbacks\u001b[0m\u001b[1;33m.\u001b[0m\u001b[0mon_train_batch_begin\u001b[0m\u001b[1;33m(\u001b[0m\u001b[0mstep\u001b[0m\u001b[1;33m)\u001b[0m\u001b[1;33m\u001b[0m\u001b[1;33m\u001b[0m\u001b[0m\n\u001b[1;32m-> 1098\u001b[1;33m               \u001b[0mtmp_logs\u001b[0m \u001b[1;33m=\u001b[0m \u001b[0mtrain_function\u001b[0m\u001b[1;33m(\u001b[0m\u001b[0miterator\u001b[0m\u001b[1;33m)\u001b[0m\u001b[1;33m\u001b[0m\u001b[1;33m\u001b[0m\u001b[0m\n\u001b[0m\u001b[0;32m   1099\u001b[0m               \u001b[1;32mif\u001b[0m \u001b[0mdata_handler\u001b[0m\u001b[1;33m.\u001b[0m\u001b[0mshould_sync\u001b[0m\u001b[1;33m:\u001b[0m\u001b[1;33m\u001b[0m\u001b[1;33m\u001b[0m\u001b[0m\n\u001b[0;32m   1100\u001b[0m                 \u001b[0mcontext\u001b[0m\u001b[1;33m.\u001b[0m\u001b[0masync_wait\u001b[0m\u001b[1;33m(\u001b[0m\u001b[1;33m)\u001b[0m\u001b[1;33m\u001b[0m\u001b[1;33m\u001b[0m\u001b[0m\n",
      "\u001b[1;32m~\\anaconda3\\envs\\tf\\lib\\site-packages\\tensorflow\\python\\eager\\def_function.py\u001b[0m in \u001b[0;36m__call__\u001b[1;34m(self, *args, **kwds)\u001b[0m\n\u001b[0;32m    778\u001b[0m       \u001b[1;32melse\u001b[0m\u001b[1;33m:\u001b[0m\u001b[1;33m\u001b[0m\u001b[1;33m\u001b[0m\u001b[0m\n\u001b[0;32m    779\u001b[0m         \u001b[0mcompiler\u001b[0m \u001b[1;33m=\u001b[0m \u001b[1;34m\"nonXla\"\u001b[0m\u001b[1;33m\u001b[0m\u001b[1;33m\u001b[0m\u001b[0m\n\u001b[1;32m--> 780\u001b[1;33m         \u001b[0mresult\u001b[0m \u001b[1;33m=\u001b[0m \u001b[0mself\u001b[0m\u001b[1;33m.\u001b[0m\u001b[0m_call\u001b[0m\u001b[1;33m(\u001b[0m\u001b[1;33m*\u001b[0m\u001b[0margs\u001b[0m\u001b[1;33m,\u001b[0m \u001b[1;33m**\u001b[0m\u001b[0mkwds\u001b[0m\u001b[1;33m)\u001b[0m\u001b[1;33m\u001b[0m\u001b[1;33m\u001b[0m\u001b[0m\n\u001b[0m\u001b[0;32m    781\u001b[0m \u001b[1;33m\u001b[0m\u001b[0m\n\u001b[0;32m    782\u001b[0m       \u001b[0mnew_tracing_count\u001b[0m \u001b[1;33m=\u001b[0m \u001b[0mself\u001b[0m\u001b[1;33m.\u001b[0m\u001b[0m_get_tracing_count\u001b[0m\u001b[1;33m(\u001b[0m\u001b[1;33m)\u001b[0m\u001b[1;33m\u001b[0m\u001b[1;33m\u001b[0m\u001b[0m\n",
      "\u001b[1;32m~\\anaconda3\\envs\\tf\\lib\\site-packages\\tensorflow\\python\\eager\\def_function.py\u001b[0m in \u001b[0;36m_call\u001b[1;34m(self, *args, **kwds)\u001b[0m\n\u001b[0;32m    805\u001b[0m       \u001b[1;31m# In this case we have created variables on the first call, so we run the\u001b[0m\u001b[1;33m\u001b[0m\u001b[1;33m\u001b[0m\u001b[1;33m\u001b[0m\u001b[0m\n\u001b[0;32m    806\u001b[0m       \u001b[1;31m# defunned version which is guaranteed to never create variables.\u001b[0m\u001b[1;33m\u001b[0m\u001b[1;33m\u001b[0m\u001b[1;33m\u001b[0m\u001b[0m\n\u001b[1;32m--> 807\u001b[1;33m       \u001b[1;32mreturn\u001b[0m \u001b[0mself\u001b[0m\u001b[1;33m.\u001b[0m\u001b[0m_stateless_fn\u001b[0m\u001b[1;33m(\u001b[0m\u001b[1;33m*\u001b[0m\u001b[0margs\u001b[0m\u001b[1;33m,\u001b[0m \u001b[1;33m**\u001b[0m\u001b[0mkwds\u001b[0m\u001b[1;33m)\u001b[0m  \u001b[1;31m# pylint: disable=not-callable\u001b[0m\u001b[1;33m\u001b[0m\u001b[1;33m\u001b[0m\u001b[0m\n\u001b[0m\u001b[0;32m    808\u001b[0m     \u001b[1;32melif\u001b[0m \u001b[0mself\u001b[0m\u001b[1;33m.\u001b[0m\u001b[0m_stateful_fn\u001b[0m \u001b[1;32mis\u001b[0m \u001b[1;32mnot\u001b[0m \u001b[1;32mNone\u001b[0m\u001b[1;33m:\u001b[0m\u001b[1;33m\u001b[0m\u001b[1;33m\u001b[0m\u001b[0m\n\u001b[0;32m    809\u001b[0m       \u001b[1;31m# Release the lock early so that multiple threads can perform the call\u001b[0m\u001b[1;33m\u001b[0m\u001b[1;33m\u001b[0m\u001b[1;33m\u001b[0m\u001b[0m\n",
      "\u001b[1;32m~\\anaconda3\\envs\\tf\\lib\\site-packages\\tensorflow\\python\\eager\\function.py\u001b[0m in \u001b[0;36m__call__\u001b[1;34m(self, *args, **kwargs)\u001b[0m\n\u001b[0;32m   2827\u001b[0m     \u001b[1;32mwith\u001b[0m \u001b[0mself\u001b[0m\u001b[1;33m.\u001b[0m\u001b[0m_lock\u001b[0m\u001b[1;33m:\u001b[0m\u001b[1;33m\u001b[0m\u001b[1;33m\u001b[0m\u001b[0m\n\u001b[0;32m   2828\u001b[0m       \u001b[0mgraph_function\u001b[0m\u001b[1;33m,\u001b[0m \u001b[0margs\u001b[0m\u001b[1;33m,\u001b[0m \u001b[0mkwargs\u001b[0m \u001b[1;33m=\u001b[0m \u001b[0mself\u001b[0m\u001b[1;33m.\u001b[0m\u001b[0m_maybe_define_function\u001b[0m\u001b[1;33m(\u001b[0m\u001b[0margs\u001b[0m\u001b[1;33m,\u001b[0m \u001b[0mkwargs\u001b[0m\u001b[1;33m)\u001b[0m\u001b[1;33m\u001b[0m\u001b[1;33m\u001b[0m\u001b[0m\n\u001b[1;32m-> 2829\u001b[1;33m     \u001b[1;32mreturn\u001b[0m \u001b[0mgraph_function\u001b[0m\u001b[1;33m.\u001b[0m\u001b[0m_filtered_call\u001b[0m\u001b[1;33m(\u001b[0m\u001b[0margs\u001b[0m\u001b[1;33m,\u001b[0m \u001b[0mkwargs\u001b[0m\u001b[1;33m)\u001b[0m  \u001b[1;31m# pylint: disable=protected-access\u001b[0m\u001b[1;33m\u001b[0m\u001b[1;33m\u001b[0m\u001b[0m\n\u001b[0m\u001b[0;32m   2830\u001b[0m \u001b[1;33m\u001b[0m\u001b[0m\n\u001b[0;32m   2831\u001b[0m   \u001b[1;33m@\u001b[0m\u001b[0mproperty\u001b[0m\u001b[1;33m\u001b[0m\u001b[1;33m\u001b[0m\u001b[0m\n",
      "\u001b[1;32m~\\anaconda3\\envs\\tf\\lib\\site-packages\\tensorflow\\python\\eager\\function.py\u001b[0m in \u001b[0;36m_filtered_call\u001b[1;34m(self, args, kwargs, cancellation_manager)\u001b[0m\n\u001b[0;32m   1841\u001b[0m       \u001b[0;31m`\u001b[0m\u001b[0margs\u001b[0m\u001b[0;31m`\u001b[0m \u001b[1;32mand\u001b[0m\u001b[0;31m \u001b[0m\u001b[0;31m`\u001b[0m\u001b[0mkwargs\u001b[0m\u001b[0;31m`\u001b[0m\u001b[1;33m.\u001b[0m\u001b[1;33m\u001b[0m\u001b[1;33m\u001b[0m\u001b[0m\n\u001b[0;32m   1842\u001b[0m     \"\"\"\n\u001b[1;32m-> 1843\u001b[1;33m     return self._call_flat(\n\u001b[0m\u001b[0;32m   1844\u001b[0m         [t for t in nest.flatten((args, kwargs), expand_composites=True)\n\u001b[0;32m   1845\u001b[0m          if isinstance(t, (ops.Tensor,\n",
      "\u001b[1;32m~\\anaconda3\\envs\\tf\\lib\\site-packages\\tensorflow\\python\\eager\\function.py\u001b[0m in \u001b[0;36m_call_flat\u001b[1;34m(self, args, captured_inputs, cancellation_manager)\u001b[0m\n\u001b[0;32m   1921\u001b[0m         and executing_eagerly):\n\u001b[0;32m   1922\u001b[0m       \u001b[1;31m# No tape is watching; skip to running the function.\u001b[0m\u001b[1;33m\u001b[0m\u001b[1;33m\u001b[0m\u001b[1;33m\u001b[0m\u001b[0m\n\u001b[1;32m-> 1923\u001b[1;33m       return self._build_call_outputs(self._inference_function.call(\n\u001b[0m\u001b[0;32m   1924\u001b[0m           ctx, args, cancellation_manager=cancellation_manager))\n\u001b[0;32m   1925\u001b[0m     forward_backward = self._select_forward_and_backward_functions(\n",
      "\u001b[1;32m~\\anaconda3\\envs\\tf\\lib\\site-packages\\tensorflow\\python\\eager\\function.py\u001b[0m in \u001b[0;36mcall\u001b[1;34m(self, ctx, args, cancellation_manager)\u001b[0m\n\u001b[0;32m    543\u001b[0m       \u001b[1;32mwith\u001b[0m \u001b[0m_InterpolateFunctionError\u001b[0m\u001b[1;33m(\u001b[0m\u001b[0mself\u001b[0m\u001b[1;33m)\u001b[0m\u001b[1;33m:\u001b[0m\u001b[1;33m\u001b[0m\u001b[1;33m\u001b[0m\u001b[0m\n\u001b[0;32m    544\u001b[0m         \u001b[1;32mif\u001b[0m \u001b[0mcancellation_manager\u001b[0m \u001b[1;32mis\u001b[0m \u001b[1;32mNone\u001b[0m\u001b[1;33m:\u001b[0m\u001b[1;33m\u001b[0m\u001b[1;33m\u001b[0m\u001b[0m\n\u001b[1;32m--> 545\u001b[1;33m           outputs = execute.execute(\n\u001b[0m\u001b[0;32m    546\u001b[0m               \u001b[0mstr\u001b[0m\u001b[1;33m(\u001b[0m\u001b[0mself\u001b[0m\u001b[1;33m.\u001b[0m\u001b[0msignature\u001b[0m\u001b[1;33m.\u001b[0m\u001b[0mname\u001b[0m\u001b[1;33m)\u001b[0m\u001b[1;33m,\u001b[0m\u001b[1;33m\u001b[0m\u001b[1;33m\u001b[0m\u001b[0m\n\u001b[0;32m    547\u001b[0m               \u001b[0mnum_outputs\u001b[0m\u001b[1;33m=\u001b[0m\u001b[0mself\u001b[0m\u001b[1;33m.\u001b[0m\u001b[0m_num_outputs\u001b[0m\u001b[1;33m,\u001b[0m\u001b[1;33m\u001b[0m\u001b[1;33m\u001b[0m\u001b[0m\n",
      "\u001b[1;32m~\\anaconda3\\envs\\tf\\lib\\site-packages\\tensorflow\\python\\eager\\execute.py\u001b[0m in \u001b[0;36mquick_execute\u001b[1;34m(op_name, num_outputs, inputs, attrs, ctx, name)\u001b[0m\n\u001b[0;32m     57\u001b[0m   \u001b[1;32mtry\u001b[0m\u001b[1;33m:\u001b[0m\u001b[1;33m\u001b[0m\u001b[1;33m\u001b[0m\u001b[0m\n\u001b[0;32m     58\u001b[0m     \u001b[0mctx\u001b[0m\u001b[1;33m.\u001b[0m\u001b[0mensure_initialized\u001b[0m\u001b[1;33m(\u001b[0m\u001b[1;33m)\u001b[0m\u001b[1;33m\u001b[0m\u001b[1;33m\u001b[0m\u001b[0m\n\u001b[1;32m---> 59\u001b[1;33m     tensors = pywrap_tfe.TFE_Py_Execute(ctx._handle, device_name, op_name,\n\u001b[0m\u001b[0;32m     60\u001b[0m                                         inputs, attrs, num_outputs)\n\u001b[0;32m     61\u001b[0m   \u001b[1;32mexcept\u001b[0m \u001b[0mcore\u001b[0m\u001b[1;33m.\u001b[0m\u001b[0m_NotOkStatusException\u001b[0m \u001b[1;32mas\u001b[0m \u001b[0me\u001b[0m\u001b[1;33m:\u001b[0m\u001b[1;33m\u001b[0m\u001b[1;33m\u001b[0m\u001b[0m\n",
      "\u001b[1;31mKeyboardInterrupt\u001b[0m: "
     ]
    }
   ],
   "source": [
    "history = model.fit(x = x_train, y = y_train, \n",
    "                    validation_data = (x_valid, y_valid),\n",
    "                    epochs = 25)"
   ]
  },
  {
   "cell_type": "code",
   "execution_count": 131,
   "id": "31dcc45f",
   "metadata": {},
   "outputs": [],
   "source": [
    "y_df = pd.DataFrame(y)\n",
    "y_df.columns = ['Cont']\n",
    "y_df[\"Dis\"] = 1"
   ]
  },
  {
   "cell_type": "code",
   "execution_count": 132,
   "id": "e314d65c",
   "metadata": {
    "scrolled": true
   },
   "outputs": [],
   "source": [
    "y_df.loc[y_df.Cont > 5, \"Dis\"] = 2\n",
    "y_df.loc[y_df.Cont < 3, \"Dis\"] = 0"
   ]
  },
  {
   "cell_type": "code",
   "execution_count": 133,
   "id": "c18341a8",
   "metadata": {},
   "outputs": [
    {
     "data": {
      "text/html": [
       "<div>\n",
       "<style scoped>\n",
       "    .dataframe tbody tr th:only-of-type {\n",
       "        vertical-align: middle;\n",
       "    }\n",
       "\n",
       "    .dataframe tbody tr th {\n",
       "        vertical-align: top;\n",
       "    }\n",
       "\n",
       "    .dataframe thead th {\n",
       "        text-align: right;\n",
       "    }\n",
       "</style>\n",
       "<table border=\"1\" class=\"dataframe\">\n",
       "  <thead>\n",
       "    <tr style=\"text-align: right;\">\n",
       "      <th></th>\n",
       "      <th>Cont</th>\n",
       "      <th>Dis</th>\n",
       "    </tr>\n",
       "  </thead>\n",
       "  <tbody>\n",
       "    <tr>\n",
       "      <th>0</th>\n",
       "      <td>7.0</td>\n",
       "      <td>2</td>\n",
       "    </tr>\n",
       "    <tr>\n",
       "      <th>1</th>\n",
       "      <td>7.0</td>\n",
       "      <td>2</td>\n",
       "    </tr>\n",
       "    <tr>\n",
       "      <th>2</th>\n",
       "      <td>2.0</td>\n",
       "      <td>0</td>\n",
       "    </tr>\n",
       "    <tr>\n",
       "      <th>3</th>\n",
       "      <td>7.0</td>\n",
       "      <td>2</td>\n",
       "    </tr>\n",
       "    <tr>\n",
       "      <th>4</th>\n",
       "      <td>7.0</td>\n",
       "      <td>2</td>\n",
       "    </tr>\n",
       "  </tbody>\n",
       "</table>\n",
       "</div>"
      ],
      "text/plain": [
       "   Cont  Dis\n",
       "0   7.0    2\n",
       "1   7.0    2\n",
       "2   2.0    0\n",
       "3   7.0    2\n",
       "4   7.0    2"
      ]
     },
     "execution_count": 133,
     "metadata": {},
     "output_type": "execute_result"
    }
   ],
   "source": [
    "y_df.head()"
   ]
  },
  {
   "cell_type": "code",
   "execution_count": 134,
   "id": "c8ad4315",
   "metadata": {},
   "outputs": [],
   "source": [
    "y_dis = np.array(y_df.Dis)"
   ]
  },
  {
   "cell_type": "code",
   "execution_count": 136,
   "id": "4c3ce105",
   "metadata": {},
   "outputs": [],
   "source": [
    "y_dis_train = y_dis[:37]\n",
    "y_dis_valid = y_dis[37:]"
   ]
  },
  {
   "cell_type": "code",
   "execution_count": 137,
   "id": "56d83769",
   "metadata": {},
   "outputs": [],
   "source": [
    "model = keras.Sequential()\n",
    "model.add(keras.layers.Masking(mask_value=special_value, input_shape=(cut_off, len(related_features) -1)))\n",
    "model.add(keras.layers.LSTM(32))\n",
    "model.add(keras.layers.Dense(3, activation='softmax'))"
   ]
  },
  {
   "cell_type": "code",
   "execution_count": 138,
   "id": "c91aff46",
   "metadata": {},
   "outputs": [],
   "source": [
    "model.compile(loss='sparse_categorical_crossentropy', optimizer=keras.optimizers.Adam(learning_rate=0.01), metrics=['accuracy'])"
   ]
  },
  {
   "cell_type": "code",
   "execution_count": 139,
   "id": "139af2d2",
   "metadata": {},
   "outputs": [
    {
     "name": "stdout",
     "output_type": "stream",
     "text": [
      "Epoch 1/25\n",
      "2/2 [==============================] - 5s 3s/step - loss: 1.5475 - accuracy: 0.0270 - val_loss: 1.3047 - val_accuracy: 0.1667\n",
      "Epoch 2/25\n",
      "2/2 [==============================] - 4s 2s/step - loss: 1.4198 - accuracy: 0.0270 - val_loss: 1.2349 - val_accuracy: 0.1667\n",
      "Epoch 3/25\n",
      "2/2 [==============================] - 4s 2s/step - loss: 1.3128 - accuracy: 0.0270 - val_loss: 1.1739 - val_accuracy: 0.1667\n",
      "Epoch 4/25\n",
      "2/2 [==============================] - 4s 2s/step - loss: 1.2171 - accuracy: 0.0270 - val_loss: 1.1183 - val_accuracy: 0.1667\n",
      "Epoch 5/25\n",
      "2/2 [==============================] - 4s 2s/step - loss: 1.1270 - accuracy: 0.0270 - val_loss: 1.0687 - val_accuracy: 0.1667\n",
      "Epoch 6/25\n",
      "2/2 [==============================] - 4s 2s/step - loss: 1.0443 - accuracy: 0.1081 - val_loss: 1.0259 - val_accuracy: 0.5000\n",
      "Epoch 7/25\n",
      "2/2 [==============================] - 4s 2s/step - loss: 0.9648 - accuracy: 0.5676 - val_loss: 0.9898 - val_accuracy: 0.6667\n",
      "Epoch 8/25\n",
      "2/2 [==============================] - 4s 2s/step - loss: 0.8982 - accuracy: 0.8919 - val_loss: 0.9607 - val_accuracy: 0.6667\n",
      "Epoch 9/25\n",
      "2/2 [==============================] - 4s 2s/step - loss: 0.8321 - accuracy: 0.8919 - val_loss: 0.9380 - val_accuracy: 0.6667\n",
      "Epoch 10/25\n",
      "2/2 [==============================] - 5s 2s/step - loss: 0.7770 - accuracy: 0.8919 - val_loss: 0.9206 - val_accuracy: 0.6667\n",
      "Epoch 11/25\n",
      "2/2 [==============================] - 4s 2s/step - loss: 0.7272 - accuracy: 0.8919 - val_loss: 0.9085 - val_accuracy: 0.6667\n",
      "Epoch 12/25\n",
      "2/2 [==============================] - 4s 2s/step - loss: 0.6828 - accuracy: 0.8919 - val_loss: 0.9012 - val_accuracy: 0.6667\n",
      "Epoch 13/25\n",
      "2/2 [==============================] - 5s 2s/step - loss: 0.6438 - accuracy: 0.8919 - val_loss: 0.8984 - val_accuracy: 0.6667\n",
      "Epoch 14/25\n",
      "2/2 [==============================] - 5s 2s/step - loss: 0.6116 - accuracy: 0.8919 - val_loss: 0.8992 - val_accuracy: 0.6667\n",
      "Epoch 15/25\n",
      "2/2 [==============================] - 5s 2s/step - loss: 0.5812 - accuracy: 0.8919 - val_loss: 0.9028 - val_accuracy: 0.6667\n",
      "Epoch 16/25\n",
      "2/2 [==============================] - 5s 2s/step - loss: 0.5569 - accuracy: 0.8919 - val_loss: 0.9090 - val_accuracy: 0.6667\n",
      "Epoch 17/25\n",
      "2/2 [==============================] - 5s 2s/step - loss: 0.5362 - accuracy: 0.8919 - val_loss: 0.9173 - val_accuracy: 0.6667\n",
      "Epoch 18/25\n",
      "2/2 [==============================] - 5s 2s/step - loss: 0.5200 - accuracy: 0.8919 - val_loss: 0.9271 - val_accuracy: 0.6667\n",
      "Epoch 19/25\n",
      "2/2 [==============================] - 5s 2s/step - loss: 0.5054 - accuracy: 0.8919 - val_loss: 0.9372 - val_accuracy: 0.6667\n",
      "Epoch 20/25\n",
      "2/2 [==============================] - 5s 2s/step - loss: 0.4927 - accuracy: 0.8919 - val_loss: 0.9473 - val_accuracy: 0.6667\n",
      "Epoch 21/25\n",
      "2/2 [==============================] - 5s 2s/step - loss: 0.4831 - accuracy: 0.8919 - val_loss: 0.9581 - val_accuracy: 0.6667\n",
      "Epoch 22/25\n",
      "2/2 [==============================] - 5s 2s/step - loss: 0.4747 - accuracy: 0.8919 - val_loss: 0.9693 - val_accuracy: 0.6667\n",
      "Epoch 23/25\n",
      "2/2 [==============================] - 5s 2s/step - loss: 0.4677 - accuracy: 0.8919 - val_loss: 0.9809 - val_accuracy: 0.6667\n",
      "Epoch 24/25\n",
      "2/2 [==============================] - 5s 2s/step - loss: 0.4627 - accuracy: 0.8919 - val_loss: 0.9920 - val_accuracy: 0.6667\n",
      "Epoch 25/25\n",
      "2/2 [==============================] - 5s 2s/step - loss: 0.4569 - accuracy: 0.8919 - val_loss: 1.0026 - val_accuracy: 0.6667\n"
     ]
    }
   ],
   "source": [
    "history = model.fit(x = x_train, y = y_dis_train, \n",
    "                    validation_data = (x_valid, y_dis_valid),\n",
    "                    epochs = 25)"
   ]
  },
  {
   "cell_type": "code",
   "execution_count": 147,
   "id": "2d40a024",
   "metadata": {},
   "outputs": [
    {
     "data": {
      "text/plain": [
       "0.6666666666666666"
      ]
     },
     "execution_count": 147,
     "metadata": {},
     "output_type": "execute_result"
    }
   ],
   "source": [
    "y_dis_pred = np.full(y_dis_valid.shape, 2)\n",
    "accuracy_score(y_dis_valid, y_dis_pred)"
   ]
  },
  {
   "cell_type": "code",
   "execution_count": 146,
   "id": "5b70be5e",
   "metadata": {},
   "outputs": [
    {
     "data": {
      "text/plain": [
       "array([2, 2, 2, 2, 2, 2])"
      ]
     },
     "execution_count": 146,
     "metadata": {},
     "output_type": "execute_result"
    }
   ],
   "source": []
  },
  {
   "cell_type": "code",
   "execution_count": 126,
   "id": "10151985",
   "metadata": {},
   "outputs": [],
   "source": [
    "y_dis_train = tf.keras.utils.to_categorical(y_dis_train, num_classes=3)\n",
    "y_dis_valid = tf.keras.utils.to_categorical(y_dis_valid, num_classes=3)"
   ]
  },
  {
   "cell_type": "code",
   "execution_count": 127,
   "id": "df7ab884",
   "metadata": {},
   "outputs": [
    {
     "data": {
      "text/plain": [
       "array([[1., 0., 0.],\n",
       "       [0., 0., 1.],\n",
       "       [0., 0., 1.],\n",
       "       [0., 0., 1.],\n",
       "       [0., 0., 1.],\n",
       "       [0., 1., 0.]], dtype=float32)"
      ]
     },
     "execution_count": 127,
     "metadata": {},
     "output_type": "execute_result"
    }
   ],
   "source": [
    "y_dis_valid"
   ]
  },
  {
   "cell_type": "code",
   "execution_count": 128,
   "id": "b4a6aa34",
   "metadata": {},
   "outputs": [],
   "source": [
    "model = keras.Sequential()\n",
    "model.add(keras.layers.Masking(mask_value=special_value, input_shape=(cut_off, len(related_features) -1)))\n",
    "model.add(keras.layers.LSTM(32))\n",
    "model.add(keras.layers.Dense(3, activation='softmax'))"
   ]
  },
  {
   "cell_type": "code",
   "execution_count": 129,
   "id": "7869774a",
   "metadata": {},
   "outputs": [],
   "source": [
    "model.compile(loss='categorical_crossentropy', optimizer=keras.optimizers.Adam(learning_rate=0.01), metrics=['accuracy'])"
   ]
  },
  {
   "cell_type": "code",
   "execution_count": 130,
   "id": "a3042da0",
   "metadata": {},
   "outputs": [
    {
     "name": "stdout",
     "output_type": "stream",
     "text": [
      "Epoch 1/25\n",
      "2/2 [==============================] - 11s 5s/step - loss: 2.0741 - accuracy: 0.0541 - val_loss: 1.5584 - val_accuracy: 0.1667\n",
      "Epoch 2/25\n",
      "2/2 [==============================] - 8s 4s/step - loss: 1.5065 - accuracy: 0.0811 - val_loss: 1.3406 - val_accuracy: 0.1667\n",
      "Epoch 3/25\n",
      "2/2 [==============================] - 10s 5s/step - loss: 1.1840 - accuracy: 0.1351 - val_loss: 1.1959 - val_accuracy: 0.3333\n",
      "Epoch 4/25\n",
      "2/2 [==============================] - 4s 2s/step - loss: 0.8903 - accuracy: 0.6486 - val_loss: 0.9811 - val_accuracy: 0.5000\n",
      "Epoch 5/25\n",
      "2/2 [==============================] - 4s 2s/step - loss: 0.6570 - accuracy: 0.8919 - val_loss: 0.9925 - val_accuracy: 0.5000\n",
      "Epoch 6/25\n",
      "2/2 [==============================] - 4s 2s/step - loss: 0.5692 - accuracy: 0.9189 - val_loss: 1.0513 - val_accuracy: 0.5000\n",
      "Epoch 7/25\n",
      "2/2 [==============================] - 4s 2s/step - loss: 0.4615 - accuracy: 0.9189 - val_loss: 1.2870 - val_accuracy: 0.5000\n",
      "Epoch 8/25\n",
      "2/2 [==============================] - 4s 2s/step - loss: 0.4507 - accuracy: 0.9189 - val_loss: 1.4500 - val_accuracy: 0.5000\n",
      "Epoch 9/25\n",
      "2/2 [==============================] - 4s 2s/step - loss: 0.4307 - accuracy: 0.9189 - val_loss: 1.3916 - val_accuracy: 0.6667\n",
      "Epoch 10/25\n",
      "2/2 [==============================] - 4s 2s/step - loss: 0.3729 - accuracy: 0.9189 - val_loss: 1.2445 - val_accuracy: 0.6667\n",
      "Epoch 11/25\n",
      "2/2 [==============================] - 6s 3s/step - loss: 0.3578 - accuracy: 0.9189 - val_loss: 1.2959 - val_accuracy: 0.6667\n",
      "Epoch 12/25\n",
      "2/2 [==============================] - 5s 2s/step - loss: 0.3578 - accuracy: 0.9189 - val_loss: 1.3440 - val_accuracy: 0.6667\n",
      "Epoch 13/25\n",
      "2/2 [==============================] - 4s 2s/step - loss: 0.3623 - accuracy: 0.9189 - val_loss: 1.3825 - val_accuracy: 0.6667\n",
      "Epoch 14/25\n",
      "2/2 [==============================] - 4s 2s/step - loss: 0.3610 - accuracy: 0.9189 - val_loss: 1.4107 - val_accuracy: 0.6667\n",
      "Epoch 15/25\n",
      "2/2 [==============================] - 4s 2s/step - loss: 0.3637 - accuracy: 0.9189 - val_loss: 1.4322 - val_accuracy: 0.6667\n",
      "Epoch 16/25\n",
      "2/2 [==============================] - 4s 2s/step - loss: 0.3644 - accuracy: 0.9189 - val_loss: 1.4436 - val_accuracy: 0.6667\n",
      "Epoch 17/25\n",
      "2/2 [==============================] - 4s 2s/step - loss: 0.3639 - accuracy: 0.9189 - val_loss: 1.4517 - val_accuracy: 0.6667\n",
      "Epoch 18/25\n",
      "2/2 [==============================] - 4s 2s/step - loss: 0.3634 - accuracy: 0.9189 - val_loss: 1.4530 - val_accuracy: 0.6667\n",
      "Epoch 19/25\n",
      "2/2 [==============================] - 4s 2s/step - loss: 0.3631 - accuracy: 0.9189 - val_loss: 1.4461 - val_accuracy: 0.6667\n",
      "Epoch 20/25\n",
      "2/2 [==============================] - 4s 2s/step - loss: 0.3605 - accuracy: 0.9189 - val_loss: 1.4328 - val_accuracy: 0.6667\n",
      "Epoch 21/25\n",
      "2/2 [==============================] - 4s 2s/step - loss: 0.3585 - accuracy: 0.9189 - val_loss: 1.4185 - val_accuracy: 0.6667\n",
      "Epoch 22/25\n",
      "2/2 [==============================] - 4s 2s/step - loss: 0.3545 - accuracy: 0.9189 - val_loss: 1.4041 - val_accuracy: 0.6667\n",
      "Epoch 23/25\n",
      "2/2 [==============================] - 7s 3s/step - loss: 0.3535 - accuracy: 0.9189 - val_loss: 1.3900 - val_accuracy: 0.6667\n",
      "Epoch 24/25\n",
      "2/2 [==============================] - 4s 2s/step - loss: 0.3512 - accuracy: 0.9189 - val_loss: 1.3804 - val_accuracy: 0.6667\n",
      "Epoch 25/25\n",
      "2/2 [==============================] - 4s 2s/step - loss: 0.3498 - accuracy: 0.9189 - val_loss: 1.3740 - val_accuracy: 0.6667\n"
     ]
    }
   ],
   "source": [
    "history = model.fit(x = x_train, y = y_dis_train, \n",
    "                    validation_data = (x_valid, y_dis_valid),\n",
    "                    epochs = 25)"
   ]
  },
  {
   "cell_type": "code",
   "execution_count": 148,
   "id": "604a3917",
   "metadata": {},
   "outputs": [
    {
     "data": {
      "text/plain": [
       "array([0, 2, 2, 2, 2, 1], dtype=int64)"
      ]
     },
     "execution_count": 148,
     "metadata": {},
     "output_type": "execute_result"
    }
   ],
   "source": [
    "y_dis_valid"
   ]
  },
  {
   "cell_type": "code",
   "execution_count": 149,
   "id": "7acb857e",
   "metadata": {},
   "outputs": [
    {
     "data": {
      "text/plain": [
       "array([2, 2, 0, 2, 2, 1, 2, 2, 2, 1, 2, 2, 2, 2, 2, 2, 2, 2, 2, 2, 2, 2,\n",
       "       2, 2, 2, 2, 2, 2, 1, 2, 2, 2, 2, 2, 2, 2, 2], dtype=int64)"
      ]
     },
     "execution_count": 149,
     "metadata": {},
     "output_type": "execute_result"
    }
   ],
   "source": [
    "y_dis_train"
   ]
  },
  {
   "cell_type": "code",
   "execution_count": null,
   "id": "7cab9476",
   "metadata": {},
   "outputs": [],
   "source": []
  }
 ],
 "metadata": {
  "kernelspec": {
   "display_name": "Python 3",
   "language": "python",
   "name": "python3"
  },
  "language_info": {
   "codemirror_mode": {
    "name": "ipython",
    "version": 3
   },
   "file_extension": ".py",
   "mimetype": "text/x-python",
   "name": "python",
   "nbconvert_exporter": "python",
   "pygments_lexer": "ipython3",
   "version": "3.8.8"
  }
 },
 "nbformat": 4,
 "nbformat_minor": 5
}
