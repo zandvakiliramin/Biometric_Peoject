{
 "cells": [
  {
   "cell_type": "markdown",
   "id": "ba3011c4",
   "metadata": {},
   "source": [
    "## Analysis with \"DumbTo\" Stimulus"
   ]
  },
  {
   "cell_type": "code",
   "execution_count": 1,
   "id": "b9fd8254",
   "metadata": {},
   "outputs": [],
   "source": [
    "import pandas as pd\n",
    "import matplotlib.pyplot as plt\n",
    "\n",
    "import tensorflow as tf\n",
    "\n",
    "from tensorflow import keras\n",
    "from tensorflow.keras import layers, regularizers\n",
    "\n",
    "import numpy as np"
   ]
  },
  {
   "cell_type": "code",
   "execution_count": 2,
   "id": "6a453f41",
   "metadata": {},
   "outputs": [
    {
     "name": "stdout",
     "output_type": "stream",
     "text": [
      "Subject Count:  45\n",
      "Columns:\n",
      "\n",
      "Index(['Study', 'Subject_ID', 'StimName', 'Experiment_Time',\n",
      "       'CALIB_VALID_POINTS', 'Group', 'Age', 'Handedness', 'Country',\n",
      "       'Language', 'Gender', 'Eyewear', 'Session_Date', 'Block',\n",
      "       'Big5_Openness', 'Big5_Conscientiousness', 'Big5_Extraversion',\n",
      "       'Big5_Agreeableness', 'Big5_Neuroticism', 'Expert', 'Ethnicity',\n",
      "       'SessionDate', 'OrderStim', 'StartTime', 'EndTime', 'PosNegAdSAM',\n",
      "       'ExciteCalmAdSAM', 'ImpCom', 'PosCom', 'LikeCom', 'ViewsCom',\n",
      "       'PreLikelyFav', 'PostLikelyFav', 'LikelyFavDifference', 'PostOften',\n",
      "       'CNT', 'Eye_Time', 'TIME_TICK', 'FPOGX', 'FPOGY', 'FPOGS', 'FPOGD',\n",
      "       'FPOGID', 'FPOGV', 'BPOGX', 'BPOGY', 'BPOGV', 'LPCX', 'LPCY', 'LPD',\n",
      "       'LPS', 'LPV', 'RPCX', 'RPCY', 'RPD', 'RPS', 'RPV', 'LPUPILD', 'LPUPILV',\n",
      "       'RPUPILD', 'RPUPILV', 'Frame', 'Distance_to_Next_Frame', 'Face_Time',\n",
      "       'Anger_Evidence', 'Anger_Intensity', 'Contempt_Evidence',\n",
      "       'Contempt_Intensity', 'Disgust_Evidence', 'Disgust_Intensity',\n",
      "       'Joy_Evidence', 'Joy_Intensity', 'Fear_Evidence', 'Fear_Intensity',\n",
      "       'Negative_Evidence', 'Negative_Intensity', 'Neutral_Evidence',\n",
      "       'Neutral_Intensity', 'Positive_Evidence', 'Positive_Intensity',\n",
      "       'Sadness_Evidence', 'Sadness_Intensity', 'Surprise_Evidence',\n",
      "       'Surprise_Intensity', 'Heart_Rate', 'Average_Heart_Rate', 'Heart_Time',\n",
      "       'Normed_Heart_Rate', 'Persons_Average_LPD', 'Persons_Average_RPD',\n",
      "       'Normed_LPD', 'Normed_RPD', 'bpogx_dmean', 'bpogy_dmean',\n",
      "       'combined_normed_bpogxy', 'Normed_LPS', 'Normed_RPS', 'Stim_Frame'],\n",
      "      dtype='object')\n"
     ]
    }
   ],
   "source": [
    "sub_DumbTo = pd.read_csv(\"./Data/Subsamples/DumbTo.csv\")\n",
    "print(\"Subject Count: \",len(sub_DumbTo.Subject_ID.unique()))\n",
    "print(\"Columns:\\n\")\n",
    "print(sub_DumbTo.columns)"
   ]
  },
  {
   "cell_type": "code",
   "execution_count": 3,
   "id": "d2a59fbd",
   "metadata": {},
   "outputs": [],
   "source": [
    "related_features = ['FPOGX', 'FPOGY', 'FPOGS', 'FPOGD',\n",
    "       'FPOGID', 'FPOGV', 'BPOGX', 'BPOGY', 'BPOGV', 'LPCX', 'LPCY', 'LPD',\n",
    "       'LPS', 'LPV', 'RPCX', 'RPCY', 'RPD', 'RPS', 'RPV', 'LPUPILD', 'LPUPILV',\n",
    "       'RPUPILD', 'RPUPILV', 'Face_Time',\n",
    "       'Anger_Evidence', 'Anger_Intensity', 'Contempt_Evidence',\n",
    "       'Contempt_Intensity', 'Disgust_Evidence', 'Disgust_Intensity',\n",
    "       'Joy_Evidence', 'Joy_Intensity', 'Fear_Evidence', 'Fear_Intensity',\n",
    "       'Negative_Evidence', 'Negative_Intensity', 'Neutral_Evidence',\n",
    "       'Neutral_Intensity', 'Positive_Evidence', 'Positive_Intensity',\n",
    "       'Sadness_Evidence', 'Sadness_Intensity', 'Surprise_Evidence',\n",
    "       'Surprise_Intensity', 'Heart_Time',\n",
    "       'Normed_Heart_Rate',\n",
    "       'Normed_LPD', 'Normed_RPD', 'bpogx_dmean', 'bpogy_dmean',\n",
    "       'combined_normed_bpogxy', 'Normed_LPS', 'Normed_RPS']"
   ]
  },
  {
   "cell_type": "code",
   "execution_count": 4,
   "id": "0fddeeda",
   "metadata": {},
   "outputs": [],
   "source": [
    "data_recall = pd.read_csv('./Data/Lab_Recall_Hand_Edited/SuperMovie1516_L.csv')"
   ]
  },
  {
   "cell_type": "code",
   "execution_count": 5,
   "id": "761846bc",
   "metadata": {
    "scrolled": true
   },
   "outputs": [
    {
     "data": {
      "text/plain": [
       "count    63.000000\n",
       "mean      6.285714\n",
       "std       1.660048\n",
       "min       1.000000\n",
       "25%       7.000000\n",
       "50%       7.000000\n",
       "75%       7.000000\n",
       "max       7.000000\n",
       "Name: DumbTo, dtype: float64"
      ]
     },
     "execution_count": 5,
     "metadata": {},
     "output_type": "execute_result"
    }
   ],
   "source": [
    "data_recall.DumbTo.describe()"
   ]
  },
  {
   "cell_type": "code",
   "execution_count": 6,
   "id": "fdafb17f",
   "metadata": {
    "scrolled": true
   },
   "outputs": [
    {
     "data": {
      "image/png": "[encoded data removed]",
      "text/plain": [
       "<Figure size 600x350 with 1 Axes>"
      ]
     },
     "metadata": {},
     "output_type": "display_data"
    }
   ],
   "source": [
    "data_recall.DumbTo.hist(figsize=(6,3.5))\n",
    "plt.show()"
   ]
  },
  {
   "cell_type": "code",
   "execution_count": 7,
   "id": "7b926399",
   "metadata": {},
   "outputs": [
    {
     "name": "stdout",
     "output_type": "stream",
     "text": [
      "45\n"
     ]
    }
   ],
   "source": [
    "seq_length = sub_DumbTo.groupby(\"Subject_ID\").size().reset_index()\n",
    "seq_length.columns = [\"Subject_ID\", \"Length\"]\n",
    "num_of_subjects = seq_length.shape[0]\n",
    "print(num_of_subjects)"
   ]
  },
  {
   "cell_type": "code",
   "execution_count": 8,
   "id": "050dbd0c",
   "metadata": {},
   "outputs": [
    {
     "data": {
      "text/plain": [
       "9676"
      ]
     },
     "execution_count": 8,
     "metadata": {},
     "output_type": "execute_result"
    }
   ],
   "source": [
    "seq_length.Length.min()"
   ]
  },
  {
   "cell_type": "code",
   "execution_count": 9,
   "id": "4a727be0",
   "metadata": {},
   "outputs": [],
   "source": [
    "# remove user 344 from seq-length and data (length is outlier)\n",
    "seq_length = seq_length[seq_length.Subject_ID != 344]\n",
    "sub_DumbTo = sub_DumbTo[sub_DumbTo.Subject_ID != 344]"
   ]
  },
  {
   "cell_type": "code",
   "execution_count": 11,
   "id": "74ddbb8d",
   "metadata": {},
   "outputs": [
    {
     "data": {
      "text/plain": [
       "9744"
      ]
     },
     "execution_count": 11,
     "metadata": {},
     "output_type": "execute_result"
    }
   ],
   "source": [
    "seq_length.Length.min()"
   ]
  },
  {
   "cell_type": "code",
   "execution_count": 12,
   "id": "4777294d",
   "metadata": {},
   "outputs": [],
   "source": [
    "seq_length['Sum_Length'] = seq_length.Length.cumsum() "
   ]
  },
  {
   "cell_type": "code",
   "execution_count": 13,
   "id": "a7c2f692",
   "metadata": {},
   "outputs": [],
   "source": [
    "seq_length = seq_length.reset_index()"
   ]
  },
  {
   "cell_type": "code",
   "execution_count": 14,
   "id": "0288dcbd",
   "metadata": {},
   "outputs": [
    {
     "data": {
      "text/plain": [
       "(44, 4)"
      ]
     },
     "execution_count": 14,
     "metadata": {},
     "output_type": "execute_result"
    }
   ],
   "source": [
    "seq_length.shape"
   ]
  },
  {
   "cell_type": "code",
   "execution_count": 15,
   "id": "1110e5b1",
   "metadata": {},
   "outputs": [
    {
     "data": {
      "text/plain": [
       "428736"
      ]
     },
     "execution_count": 15,
     "metadata": {},
     "output_type": "execute_result"
    }
   ],
   "source": [
    "9744*44"
   ]
  },
  {
   "cell_type": "code",
   "execution_count": 16,
   "id": "4dee859f",
   "metadata": {},
   "outputs": [
    {
     "data": {
      "text/plain": [
       "(428964, 98)"
      ]
     },
     "execution_count": 16,
     "metadata": {},
     "output_type": "execute_result"
    }
   ],
   "source": [
    "sub_DumbTo.shape"
   ]
  },
  {
   "cell_type": "code",
   "execution_count": 17,
   "id": "adf1ed2a",
   "metadata": {},
   "outputs": [],
   "source": [
    "cut_off = 8000\n",
    "\n",
    "rem_index = np.zeros(sub_DumbTo.shape[0])\n",
    "rem_index[0 : cut_off] = 1  \n",
    "for i in range(0, seq_length.shape[0]-1):\n",
    "    rem_index[seq_length.Sum_Length[i] : seq_length.Sum_Length[i]  + cut_off] = 1\n",
    "    \n",
    "sub_DumbTo[\"Rem_Index\"] = rem_index"
   ]
  },
  {
   "cell_type": "code",
   "execution_count": 18,
   "id": "98ef0b6a",
   "metadata": {},
   "outputs": [],
   "source": [
    "sub_DumbTo = sub_DumbTo[sub_DumbTo.Rem_Index == 1]"
   ]
  },
  {
   "cell_type": "code",
   "execution_count": 19,
   "id": "ab7becbd",
   "metadata": {},
   "outputs": [],
   "source": [
    "sub_DumbTo = sub_DumbTo[related_features]"
   ]
  },
  {
   "cell_type": "code",
   "execution_count": 20,
   "id": "a063adc6",
   "metadata": {},
   "outputs": [
    {
     "data": {
      "text/plain": [
       "(352000, 53)"
      ]
     },
     "execution_count": 20,
     "metadata": {},
     "output_type": "execute_result"
    }
   ],
   "source": [
    "sub_DumbTo.shape"
   ]
  },
  {
   "cell_type": "code",
   "execution_count": 21,
   "id": "1e802d2f",
   "metadata": {},
   "outputs": [],
   "source": [
    "x = sub_DumbTo.to_numpy()\n",
    "x = x.reshape(seq_length.shape[0], -1, len(related_features))"
   ]
  },
  {
   "cell_type": "code",
   "execution_count": 22,
   "id": "7eaa4c58",
   "metadata": {},
   "outputs": [
    {
     "data": {
      "text/plain": [
       "(44, 8000, 53)"
      ]
     },
     "execution_count": 22,
     "metadata": {},
     "output_type": "execute_result"
    }
   ],
   "source": [
    "x.shape"
   ]
  },
  {
   "cell_type": "code",
   "execution_count": 23,
   "id": "f7bcb9f8",
   "metadata": {},
   "outputs": [],
   "source": [
    "y = []\n",
    "for subject_id in seq_length.Subject_ID:\n",
    "    y.append(data_recall[data_recall.ExternalReference == subject_id].DumbTo.tolist()[0])"
   ]
  },
  {
   "cell_type": "code",
   "execution_count": 24,
   "id": "491d16ec",
   "metadata": {},
   "outputs": [],
   "source": [
    "y = np.array(y)"
   ]
  },
  {
   "cell_type": "markdown",
   "id": "4403e11d",
   "metadata": {},
   "source": [
    "## Modeling"
   ]
  },
  {
   "cell_type": "code",
   "execution_count": 25,
   "id": "abf25f8b",
   "metadata": {},
   "outputs": [],
   "source": [
    "x_train = x[:36]\n",
    "y_train = y[:36]\n",
    "x_valid = x[37:]\n",
    "y_valid = y[37:]"
   ]
  },
  {
   "cell_type": "code",
   "execution_count": 26,
   "id": "d628780a",
   "metadata": {},
   "outputs": [
    {
     "name": "stdout",
     "output_type": "stream",
     "text": [
      "(36, 8000, 53)\n",
      "(36,)\n",
      "(7, 8000, 53)\n",
      "(7,)\n"
     ]
    }
   ],
   "source": [
    "special_value = -9999.99\n",
    "x_train = keras.preprocessing.sequence.pad_sequences(x_train, maxlen = cut_off, padding = \"post\", dtype = 'float64', value = special_value)\n",
    "x_valid = keras.preprocessing.sequence.pad_sequences(x_valid, maxlen = cut_off, padding = \"post\", dtype = 'float64', value = special_value)\n",
    "\n",
    "print(x_train.shape)\n",
    "print(y_train.shape)\n",
    "print(x_valid.shape)\n",
    "print(y_valid.shape)"
   ]
  },
  {
   "cell_type": "code",
   "execution_count": 27,
   "id": "0eec0a03",
   "metadata": {},
   "outputs": [],
   "source": [
    "model = keras.Sequential()\n",
    "model.add(keras.layers.Masking(mask_value=special_value, input_shape=(cut_off, x.shape[2])))\n",
    "model.add(keras.layers.LSTM(32,))\n",
    "model.add(keras.layers.Dense(1,))"
   ]
  },
  {
   "cell_type": "code",
   "execution_count": 28,
   "id": "9b7927a8",
   "metadata": {},
   "outputs": [],
   "source": [
    "model.compile(loss = keras.losses.MeanSquaredError(),\n",
    "              optimizer = keras.optimizers.Adam(learning_rate=0.01))"
   ]
  },
  {
   "cell_type": "code",
   "execution_count": 29,
   "id": "59d0c93f",
   "metadata": {},
   "outputs": [
    {
     "name": "stdout",
     "output_type": "stream",
     "text": [
      "Model: \"sequential\"\n",
      "_________________________________________________________________\n",
      "Layer (type)                 Output Shape              Param #   \n",
      "=================================================================\n",
      "masking (Masking)            (None, 8000, 53)          0         \n",
      "_________________________________________________________________\n",
      "lstm (LSTM)                  (None, 32)                11008     \n",
      "_________________________________________________________________\n",
      "dense (Dense)                (None, 1)                 33        \n",
      "=================================================================\n",
      "Total params: 11,041\n",
      "Trainable params: 11,041\n",
      "Non-trainable params: 0\n",
      "_________________________________________________________________\n"
     ]
    }
   ],
   "source": [
    "model.summary()"
   ]
  },
  {
   "cell_type": "code",
   "execution_count": 30,
   "id": "d996b602",
   "metadata": {},
   "outputs": [
    {
     "name": "stdout",
     "output_type": "stream",
     "text": [
      "(36, 8000, 53)\n",
      "(36,)\n"
     ]
    }
   ],
   "source": [
    "print(x_train.shape)\n",
    "print(y_train.shape)"
   ]
  },
  {
   "cell_type": "code",
   "execution_count": 31,
   "id": "03bc9158",
   "metadata": {},
   "outputs": [],
   "source": [
    "x_train3 = np.nan_to_num(x_train)\n",
    "x_valid3 = np.nan_to_num(x_valid)"
   ]
  },
  {
   "cell_type": "code",
   "execution_count": 32,
   "id": "99cf7fce",
   "metadata": {},
   "outputs": [
    {
     "data": {
      "text/plain": [
       "False"
      ]
     },
     "execution_count": 32,
     "metadata": {},
     "output_type": "execute_result"
    }
   ],
   "source": [
    "np.isnan(x_train3).any()"
   ]
  },
  {
   "cell_type": "code",
   "execution_count": 33,
   "id": "89a0722e",
   "metadata": {},
   "outputs": [
    {
     "name": "stdout",
     "output_type": "stream",
     "text": [
      "(36, 8000, 53)\n",
      "(7, 8000, 53)\n"
     ]
    }
   ],
   "source": [
    "print(x_train3.shape)\n",
    "print(x_valid3.shape)"
   ]
  },
  {
   "cell_type": "code",
   "execution_count": 34,
   "id": "c26eec01",
   "metadata": {},
   "outputs": [
    {
     "name": "stdout",
     "output_type": "stream",
     "text": [
      "Epoch 1/100\n",
      "2/2 [==============================] - 4s 2s/step - loss: 41.3022 - val_loss: 33.3750\n",
      "Epoch 2/100\n",
      "2/2 [==============================] - 3s 1s/step - loss: 38.6778 - val_loss: 31.7643\n",
      "Epoch 3/100\n",
      "2/2 [==============================] - 3s 1s/step - loss: 36.6290 - val_loss: 28.9895\n",
      "Epoch 4/100\n",
      "2/2 [==============================] - 3s 1s/step - loss: 33.5558 - val_loss: 27.1008\n",
      "Epoch 5/100\n",
      "2/2 [==============================] - 3s 1s/step - loss: 31.2480 - val_loss: 25.6199\n",
      "Epoch 6/100\n",
      "2/2 [==============================] - 3s 1s/step - loss: 29.8400 - val_loss: 24.3381\n",
      "Epoch 7/100\n",
      "2/2 [==============================] - 3s 1s/step - loss: 28.1458 - val_loss: 23.0946\n",
      "Epoch 8/100\n",
      "2/2 [==============================] - 3s 2s/step - loss: 26.7193 - val_loss: 21.6316\n",
      "Epoch 9/100\n",
      "2/2 [==============================] - 3s 2s/step - loss: 25.1795 - val_loss: 20.4615\n",
      "Epoch 10/100\n",
      "2/2 [==============================] - 3s 2s/step - loss: 23.8336 - val_loss: 19.3392\n",
      "Epoch 11/100\n",
      "2/2 [==============================] - 3s 2s/step - loss: 22.4778 - val_loss: 18.2653\n",
      "Epoch 12/100\n",
      "2/2 [==============================] - 3s 1s/step - loss: 21.2400 - val_loss: 17.2434\n",
      "Epoch 13/100\n",
      "2/2 [==============================] - 3s 2s/step - loss: 20.0326 - val_loss: 16.2699\n",
      "Epoch 14/100\n",
      "2/2 [==============================] - 3s 2s/step - loss: 18.8947 - val_loss: 15.3436\n",
      "Epoch 15/100\n",
      "2/2 [==============================] - 3s 2s/step - loss: 17.7327 - val_loss: 14.4673\n",
      "Epoch 16/100\n",
      "2/2 [==============================] - 3s 2s/step - loss: 16.6997 - val_loss: 13.6422\n",
      "Epoch 17/100\n",
      "2/2 [==============================] - 3s 2s/step - loss: 15.6999 - val_loss: 12.8703\n",
      "Epoch 18/100\n",
      "2/2 [==============================] - 3s 2s/step - loss: 14.7608 - val_loss: 12.1449\n",
      "Epoch 19/100\n",
      "2/2 [==============================] - 3s 2s/step - loss: 13.8652 - val_loss: 11.4593\n",
      "Epoch 20/100\n",
      "2/2 [==============================] - 3s 2s/step - loss: 13.0161 - val_loss: 10.8060\n",
      "Epoch 21/100\n",
      "2/2 [==============================] - 3s 2s/step - loss: 12.2177 - val_loss: 10.1899\n",
      "Epoch 22/100\n",
      "2/2 [==============================] - 3s 2s/step - loss: 11.4347 - val_loss: 9.6127\n",
      "Epoch 23/100\n",
      "2/2 [==============================] - 3s 2s/step - loss: 10.7082 - val_loss: 9.0694\n",
      "Epoch 24/100\n",
      "2/2 [==============================] - 3s 2s/step - loss: 10.0132 - val_loss: 8.5605\n",
      "Epoch 25/100\n",
      "2/2 [==============================] - 3s 2s/step - loss: 9.3556 - val_loss: 8.0842\n",
      "Epoch 26/100\n",
      "2/2 [==============================] - 3s 2s/step - loss: 8.7361 - val_loss: 7.6397\n",
      "Epoch 27/100\n",
      "2/2 [==============================] - 3s 2s/step - loss: 8.1514 - val_loss: 7.2278\n",
      "Epoch 28/100\n",
      "2/2 [==============================] - 3s 2s/step - loss: 7.6066 - val_loss: 6.8501\n",
      "Epoch 29/100\n",
      "2/2 [==============================] - 3s 2s/step - loss: 7.0993 - val_loss: 6.5087\n",
      "Epoch 30/100\n",
      "2/2 [==============================] - 3s 2s/step - loss: 6.6165 - val_loss: 6.1970\n",
      "Epoch 31/100\n",
      "2/2 [==============================] - 3s 2s/step - loss: 6.1833 - val_loss: 5.9092\n",
      "Epoch 32/100\n",
      "2/2 [==============================] - 3s 2s/step - loss: 5.7692 - val_loss: 5.6449\n",
      "Epoch 33/100\n",
      "2/2 [==============================] - 3s 2s/step - loss: 5.3998 - val_loss: 5.4060\n",
      "Epoch 34/100\n",
      "2/2 [==============================] - 3s 2s/step - loss: 5.0376 - val_loss: 5.1929\n",
      "Epoch 35/100\n",
      "2/2 [==============================] - 3s 2s/step - loss: 4.7104 - val_loss: 4.9974\n",
      "Epoch 36/100\n",
      "2/2 [==============================] - 3s 2s/step - loss: 4.4107 - val_loss: 4.8174\n",
      "Epoch 37/100\n",
      "2/2 [==============================] - 3s 2s/step - loss: 4.1289 - val_loss: 4.6551\n",
      "Epoch 38/100\n",
      "2/2 [==============================] - 3s 2s/step - loss: 3.8622 - val_loss: 4.5091\n",
      "Epoch 39/100\n",
      "2/2 [==============================] - 3s 2s/step - loss: 3.6213 - val_loss: 4.3787\n",
      "Epoch 40/100\n",
      "2/2 [==============================] - 3s 2s/step - loss: 3.3932 - val_loss: 4.2645\n",
      "Epoch 41/100\n",
      "2/2 [==============================] - 3s 2s/step - loss: 3.1867 - val_loss: 4.1644\n",
      "Epoch 42/100\n",
      "2/2 [==============================] - 3s 2s/step - loss: 2.9969 - val_loss: 4.0778\n",
      "Epoch 43/100\n",
      "2/2 [==============================] - 3s 2s/step - loss: 2.8257 - val_loss: 4.0035\n",
      "Epoch 44/100\n",
      "2/2 [==============================] - 3s 2s/step - loss: 2.6665 - val_loss: 3.9402\n",
      "Epoch 45/100\n",
      "2/2 [==============================] - 3s 2s/step - loss: 2.5232 - val_loss: 3.8858\n",
      "Epoch 46/100\n",
      "2/2 [==============================] - 3s 2s/step - loss: 2.3975 - val_loss: 3.8398\n",
      "Epoch 47/100\n",
      "2/2 [==============================] - 3s 2s/step - loss: 2.2746 - val_loss: 3.8013\n",
      "Epoch 48/100\n",
      "2/2 [==============================] - 4s 2s/step - loss: 2.1696 - val_loss: 3.7689\n",
      "Epoch 49/100\n",
      "2/2 [==============================] - 3s 2s/step - loss: 2.0704 - val_loss: 3.7428\n",
      "Epoch 50/100\n",
      "2/2 [==============================] - 3s 2s/step - loss: 1.9810 - val_loss: 3.7224\n",
      "Epoch 51/100\n",
      "2/2 [==============================] - 3s 2s/step - loss: 1.9052 - val_loss: 3.7070\n",
      "Epoch 52/100\n",
      "2/2 [==============================] - 3s 2s/step - loss: 1.8281 - val_loss: 3.6958\n",
      "Epoch 53/100\n",
      "2/2 [==============================] - 3s 2s/step - loss: 1.7647 - val_loss: 3.6887\n",
      "Epoch 54/100\n",
      "2/2 [==============================] - 3s 2s/step - loss: 1.7073 - val_loss: 3.6847\n",
      "Epoch 55/100\n",
      "2/2 [==============================] - 3s 2s/step - loss: 1.6575 - val_loss: 3.6838\n",
      "Epoch 56/100\n",
      "2/2 [==============================] - 3s 2s/step - loss: 1.6123 - val_loss: 3.6845\n",
      "Epoch 57/100\n",
      "2/2 [==============================] - 3s 2s/step - loss: 1.5680 - val_loss: 3.6860\n",
      "Epoch 58/100\n",
      "2/2 [==============================] - 3s 2s/step - loss: 1.5367 - val_loss: 3.6879\n",
      "Epoch 59/100\n",
      "2/2 [==============================] - 3s 2s/step - loss: 1.5040 - val_loss: 3.6897\n",
      "Epoch 60/100\n",
      "2/2 [==============================] - 3s 2s/step - loss: 1.4754 - val_loss: 3.6934\n",
      "Epoch 61/100\n",
      "2/2 [==============================] - 3s 2s/step - loss: 1.4494 - val_loss: 3.6987\n",
      "Epoch 62/100\n",
      "2/2 [==============================] - 3s 2s/step - loss: 1.4248 - val_loss: 3.7056\n",
      "Epoch 63/100\n",
      "2/2 [==============================] - 3s 2s/step - loss: 1.4009 - val_loss: 3.7142\n",
      "Epoch 64/100\n",
      "2/2 [==============================] - 3s 2s/step - loss: 1.3793 - val_loss: 3.7242\n",
      "Epoch 65/100\n",
      "2/2 [==============================] - 3s 2s/step - loss: 1.3587 - val_loss: 3.7356\n",
      "Epoch 66/100\n",
      "2/2 [==============================] - 3s 2s/step - loss: 1.3408 - val_loss: 3.7482\n",
      "Epoch 67/100\n",
      "2/2 [==============================] - 4s 2s/step - loss: 1.3261 - val_loss: 3.7609\n",
      "Epoch 68/100\n",
      "2/2 [==============================] - 3s 2s/step - loss: 1.3103 - val_loss: 3.7732\n",
      "Epoch 69/100\n",
      "2/2 [==============================] - 3s 2s/step - loss: 1.2985 - val_loss: 3.7861\n",
      "Epoch 70/100\n",
      "2/2 [==============================] - 3s 2s/step - loss: 1.2873 - val_loss: 3.7996\n",
      "Epoch 71/100\n",
      "2/2 [==============================] - 3s 2s/step - loss: 1.2774 - val_loss: 3.8135\n",
      "Epoch 72/100\n",
      "2/2 [==============================] - 3s 2s/step - loss: 1.2683 - val_loss: 3.8274\n",
      "Epoch 73/100\n",
      "2/2 [==============================] - 3s 2s/step - loss: 1.2611 - val_loss: 3.8416\n",
      "Epoch 74/100\n",
      "2/2 [==============================] - 3s 2s/step - loss: 1.2578 - val_loss: 3.8511\n",
      "Epoch 75/100\n",
      "2/2 [==============================] - 3s 2s/step - loss: 1.2503 - val_loss: 3.8547\n",
      "Epoch 76/100\n",
      "2/2 [==============================] - 3s 2s/step - loss: 1.2460 - val_loss: 3.8586\n",
      "Epoch 77/100\n",
      "2/2 [==============================] - 3s 2s/step - loss: 1.2428 - val_loss: 3.8638\n",
      "Epoch 78/100\n",
      "2/2 [==============================] - 3s 2s/step - loss: 1.2399 - val_loss: 3.8699\n",
      "Epoch 79/100\n",
      "2/2 [==============================] - 3s 2s/step - loss: 1.2371 - val_loss: 3.8763\n",
      "Epoch 80/100\n",
      "2/2 [==============================] - 3s 2s/step - loss: 1.2348 - val_loss: 3.8812\n",
      "Epoch 81/100\n",
      "2/2 [==============================] - 3s 2s/step - loss: 1.2321 - val_loss: 3.8847\n",
      "Epoch 82/100\n",
      "2/2 [==============================] - 3s 2s/step - loss: 1.2307 - val_loss: 3.8880\n",
      "Epoch 83/100\n",
      "2/2 [==============================] - 4s 2s/step - loss: 1.2286 - val_loss: 3.8909\n",
      "Epoch 84/100\n",
      "2/2 [==============================] - 3s 2s/step - loss: 1.2273 - val_loss: 3.8945\n",
      "Epoch 85/100\n"
     ]
    },
    {
     "name": "stdout",
     "output_type": "stream",
     "text": [
      "2/2 [==============================] - 3s 2s/step - loss: 1.2259 - val_loss: 3.8992\n",
      "Epoch 86/100\n",
      "2/2 [==============================] - 3s 2s/step - loss: 1.2253 - val_loss: 3.9033\n",
      "Epoch 87/100\n",
      "2/2 [==============================] - 4s 2s/step - loss: 1.2236 - val_loss: 3.9069\n",
      "Epoch 88/100\n",
      "2/2 [==============================] - 3s 2s/step - loss: 1.2227 - val_loss: 3.9116\n",
      "Epoch 89/100\n",
      "2/2 [==============================] - 4s 2s/step - loss: 1.2220 - val_loss: 3.9153\n",
      "Epoch 90/100\n",
      "2/2 [==============================] - 3s 2s/step - loss: 1.2208 - val_loss: 3.9128\n",
      "Epoch 91/100\n",
      "2/2 [==============================] - 4s 2s/step - loss: 1.2193 - val_loss: 3.9049\n",
      "Epoch 92/100\n",
      "2/2 [==============================] - 3s 2s/step - loss: 1.2179 - val_loss: 3.8976\n",
      "Epoch 93/100\n",
      "2/2 [==============================] - 4s 2s/step - loss: 1.2167 - val_loss: 3.8922\n",
      "Epoch 94/100\n",
      "2/2 [==============================] - 3s 2s/step - loss: 1.2151 - val_loss: 3.8875\n",
      "Epoch 95/100\n",
      "2/2 [==============================] - 3s 2s/step - loss: 1.2144 - val_loss: 3.8834\n",
      "Epoch 96/100\n",
      "2/2 [==============================] - 4s 2s/step - loss: 1.2134 - val_loss: 3.8789\n",
      "Epoch 97/100\n",
      "2/2 [==============================] - 3s 2s/step - loss: 1.2130 - val_loss: 3.8735\n",
      "Epoch 98/100\n",
      "2/2 [==============================] - 4s 2s/step - loss: 1.2132 - val_loss: 3.8686\n",
      "Epoch 99/100\n",
      "2/2 [==============================] - 4s 2s/step - loss: 1.2128 - val_loss: 3.8666\n",
      "Epoch 100/100\n",
      "2/2 [==============================] - 4s 2s/step - loss: 1.2122 - val_loss: 3.8669\n"
     ]
    }
   ],
   "source": [
    "history = model.fit(x = x_train3, y = y_train,\n",
    "                    validation_data = (x_valid3, y_valid),\n",
    "                    epochs = 100)"
   ]
  },
  {
   "cell_type": "code",
   "execution_count": null,
   "id": "2609e0a0",
   "metadata": {},
   "outputs": [],
   "source": []
  }
 ],
 "metadata": {
  "kernelspec": {
   "display_name": "Python 3",
   "language": "python",
   "name": "python3"
  },
  "language_info": {
   "codemirror_mode": {
    "name": "ipython",
    "version": 3
   },
   "file_extension": ".py",
   "mimetype": "text/x-python",
   "name": "python",
   "nbconvert_exporter": "python",
   "pygments_lexer": "ipython3",
   "version": "3.8.8"
  }
 },
 "nbformat": 4,
 "nbformat_minor": 5
}
