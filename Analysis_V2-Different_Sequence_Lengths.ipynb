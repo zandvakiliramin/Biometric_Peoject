{
 "cells": [
  {
   "cell_type": "markdown",
   "id": "ba3011c4",
   "metadata": {},
   "source": [
    "## Analysis with \"DumbTo\" Stimulus"
   ]
  },
  {
   "cell_type": "code",
   "execution_count": 1,
   "id": "b9fd8254",
   "metadata": {},
   "outputs": [],
   "source": [
    "import pandas as pd\n",
    "import matplotlib.pyplot as plt\n",
    "\n",
    "import tensorflow as tf\n",
    "\n",
    "from tensorflow import keras\n",
    "from tensorflow.keras import layers, regularizers\n",
    "\n",
    "import numpy as np"
   ]
  },
  {
   "cell_type": "code",
   "execution_count": 2,
   "id": "6a453f41",
   "metadata": {},
   "outputs": [
    {
     "name": "stdout",
     "output_type": "stream",
     "text": [
      "Subject Count:  45\n",
      "Columns:\n",
      "\n",
      "Index(['Study', 'Subject_ID', 'StimName', 'Experiment_Time',\n",
      "       'CALIB_VALID_POINTS', 'Group', 'Age', 'Handedness', 'Country',\n",
      "       'Language', 'Gender', 'Eyewear', 'Session_Date', 'Block',\n",
      "       'Big5_Openness', 'Big5_Conscientiousness', 'Big5_Extraversion',\n",
      "       'Big5_Agreeableness', 'Big5_Neuroticism', 'Expert', 'Ethnicity',\n",
      "       'SessionDate', 'OrderStim', 'StartTime', 'EndTime', 'PosNegAdSAM',\n",
      "       'ExciteCalmAdSAM', 'ImpCom', 'PosCom', 'LikeCom', 'ViewsCom',\n",
      "       'PreLikelyFav', 'PostLikelyFav', 'LikelyFavDifference', 'PostOften',\n",
      "       'CNT', 'Eye_Time', 'TIME_TICK', 'FPOGX', 'FPOGY', 'FPOGS', 'FPOGD',\n",
      "       'FPOGID', 'FPOGV', 'BPOGX', 'BPOGY', 'BPOGV', 'LPCX', 'LPCY', 'LPD',\n",
      "       'LPS', 'LPV', 'RPCX', 'RPCY', 'RPD', 'RPS', 'RPV', 'LPUPILD', 'LPUPILV',\n",
      "       'RPUPILD', 'RPUPILV', 'Frame', 'Distance_to_Next_Frame', 'Face_Time',\n",
      "       'Anger_Evidence', 'Anger_Intensity', 'Contempt_Evidence',\n",
      "       'Contempt_Intensity', 'Disgust_Evidence', 'Disgust_Intensity',\n",
      "       'Joy_Evidence', 'Joy_Intensity', 'Fear_Evidence', 'Fear_Intensity',\n",
      "       'Negative_Evidence', 'Negative_Intensity', 'Neutral_Evidence',\n",
      "       'Neutral_Intensity', 'Positive_Evidence', 'Positive_Intensity',\n",
      "       'Sadness_Evidence', 'Sadness_Intensity', 'Surprise_Evidence',\n",
      "       'Surprise_Intensity', 'Heart_Rate', 'Average_Heart_Rate', 'Heart_Time',\n",
      "       'Normed_Heart_Rate', 'Persons_Average_LPD', 'Persons_Average_RPD',\n",
      "       'Normed_LPD', 'Normed_RPD', 'bpogx_dmean', 'bpogy_dmean',\n",
      "       'combined_normed_bpogxy', 'Normed_LPS', 'Normed_RPS', 'Stim_Frame'],\n",
      "      dtype='object')\n"
     ]
    }
   ],
   "source": [
    "sub_DumbTo = pd.read_csv(\"./Data/Subsamples/DumbTo.csv\")\n",
    "print(\"Subject Count: \",len(sub_DumbTo.Subject_ID.unique()))\n",
    "print(\"Columns:\\n\")\n",
    "print(sub_DumbTo.columns)"
   ]
  },
  {
   "cell_type": "code",
   "execution_count": 3,
   "id": "d2a59fbd",
   "metadata": {},
   "outputs": [],
   "source": [
    "related_features = ['FPOGX', 'FPOGY', 'FPOGS', 'FPOGD',\n",
    "       'FPOGID', 'FPOGV', 'BPOGX', 'BPOGY', 'BPOGV', 'LPCX', 'LPCY', 'LPD',\n",
    "       'LPS', 'LPV', 'RPCX', 'RPCY', 'RPD', 'RPS', 'RPV', 'LPUPILD', 'LPUPILV',\n",
    "       'RPUPILD', 'RPUPILV', 'Face_Time',\n",
    "       'Anger_Evidence', 'Anger_Intensity', 'Contempt_Evidence',\n",
    "       'Contempt_Intensity', 'Disgust_Evidence', 'Disgust_Intensity',\n",
    "       'Joy_Evidence', 'Joy_Intensity', 'Fear_Evidence', 'Fear_Intensity',\n",
    "       'Negative_Evidence', 'Negative_Intensity', 'Neutral_Evidence',\n",
    "       'Neutral_Intensity', 'Positive_Evidence', 'Positive_Intensity',\n",
    "       'Sadness_Evidence', 'Sadness_Intensity', 'Surprise_Evidence',\n",
    "       'Surprise_Intensity', 'Heart_Time',\n",
    "       'Normed_Heart_Rate',\n",
    "       'Normed_LPD', 'Normed_RPD', 'bpogx_dmean', 'bpogy_dmean',\n",
    "       'combined_normed_bpogxy', 'Normed_LPS', 'Normed_RPS']"
   ]
  },
  {
   "cell_type": "code",
   "execution_count": 4,
   "id": "0fddeeda",
   "metadata": {},
   "outputs": [],
   "source": [
    "data_recall = pd.read_csv('./Data/Lab_Recall_Hand_Edited/SuperMovie1516_L.csv')"
   ]
  },
  {
   "cell_type": "code",
   "execution_count": 5,
   "id": "761846bc",
   "metadata": {
    "scrolled": true
   },
   "outputs": [
    {
     "data": {
      "text/plain": [
       "count    63.000000\n",
       "mean      6.285714\n",
       "std       1.660048\n",
       "min       1.000000\n",
       "25%       7.000000\n",
       "50%       7.000000\n",
       "75%       7.000000\n",
       "max       7.000000\n",
       "Name: DumbTo, dtype: float64"
      ]
     },
     "execution_count": 5,
     "metadata": {},
     "output_type": "execute_result"
    }
   ],
   "source": [
    "data_recall.DumbTo.describe()"
   ]
  },
  {
   "cell_type": "code",
   "execution_count": 6,
   "id": "fdafb17f",
   "metadata": {
    "scrolled": true
   },
   "outputs": [
    {
     "data": {
      "image/png": "[encoded data removed]",
      "text/plain": [
       "<Figure size 600x350 with 1 Axes>"
      ]
     },
     "metadata": {},
     "output_type": "display_data"
    }
   ],
   "source": [
    "data_recall.DumbTo.hist(figsize=(6,3.5))\n",
    "plt.show()"
   ]
  },
  {
   "cell_type": "code",
   "execution_count": 7,
   "id": "7b926399",
   "metadata": {},
   "outputs": [
    {
     "name": "stdout",
     "output_type": "stream",
     "text": [
      "45\n"
     ]
    }
   ],
   "source": [
    "seq_length = sub_DumbTo.groupby(\"Subject_ID\").size().reset_index()\n",
    "seq_length.columns = [\"Subject_ID\", \"Length\"]\n",
    "num_of_subjects = seq_length.shape[0]\n",
    "print(num_of_subjects)"
   ]
  },
  {
   "cell_type": "code",
   "execution_count": 8,
   "id": "050dbd0c",
   "metadata": {},
   "outputs": [
    {
     "data": {
      "text/plain": [
       "9676"
      ]
     },
     "execution_count": 8,
     "metadata": {},
     "output_type": "execute_result"
    }
   ],
   "source": [
    "seq_length.Length.min()"
   ]
  },
  {
   "cell_type": "code",
   "execution_count": 9,
   "id": "4a727be0",
   "metadata": {},
   "outputs": [],
   "source": [
    "# remove user 344 from seq-length and data (length is outlier)\n",
    "seq_length = seq_length[seq_length.Subject_ID != 344]\n",
    "sub_DumbTo = sub_DumbTo[sub_DumbTo.Subject_ID != 344]"
   ]
  },
  {
   "cell_type": "code",
   "execution_count": 10,
   "id": "74ddbb8d",
   "metadata": {},
   "outputs": [
    {
     "data": {
      "text/plain": [
       "9744"
      ]
     },
     "execution_count": 10,
     "metadata": {},
     "output_type": "execute_result"
    }
   ],
   "source": [
    "seq_length.Length.min()"
   ]
  },
  {
   "cell_type": "code",
   "execution_count": 11,
   "id": "4777294d",
   "metadata": {},
   "outputs": [],
   "source": [
    "seq_length['Sum_Length'] = seq_length.Length.cumsum() "
   ]
  },
  {
   "cell_type": "code",
   "execution_count": 12,
   "id": "a7c2f692",
   "metadata": {},
   "outputs": [],
   "source": [
    "seq_length = seq_length.reset_index()"
   ]
  },
  {
   "cell_type": "code",
   "execution_count": 13,
   "id": "0288dcbd",
   "metadata": {},
   "outputs": [
    {
     "data": {
      "text/plain": [
       "(44, 4)"
      ]
     },
     "execution_count": 13,
     "metadata": {},
     "output_type": "execute_result"
    }
   ],
   "source": [
    "seq_length.shape"
   ]
  },
  {
   "cell_type": "code",
   "execution_count": 14,
   "id": "1110e5b1",
   "metadata": {},
   "outputs": [
    {
     "data": {
      "text/plain": [
       "428736"
      ]
     },
     "execution_count": 14,
     "metadata": {},
     "output_type": "execute_result"
    }
   ],
   "source": [
    "9744*44"
   ]
  },
  {
   "cell_type": "code",
   "execution_count": 15,
   "id": "4dee859f",
   "metadata": {},
   "outputs": [
    {
     "data": {
      "text/plain": [
       "(428964, 98)"
      ]
     },
     "execution_count": 15,
     "metadata": {},
     "output_type": "execute_result"
    }
   ],
   "source": [
    "sub_DumbTo.shape"
   ]
  },
  {
   "cell_type": "code",
   "execution_count": 16,
   "id": "adf1ed2a",
   "metadata": {},
   "outputs": [],
   "source": [
    "cut_off = 100\n",
    "\n",
    "rem_index = np.zeros(sub_DumbTo.shape[0])\n",
    "rem_index[0 : cut_off] = 1  \n",
    "for i in range(0, seq_length.shape[0]-1):\n",
    "    rem_index[seq_length.Sum_Length[i] : seq_length.Sum_Length[i]  + cut_off] = 1\n",
    "    \n",
    "sub_DumbTo[\"Rem_Index\"] = rem_index"
   ]
  },
  {
   "cell_type": "code",
   "execution_count": 17,
   "id": "98ef0b6a",
   "metadata": {},
   "outputs": [],
   "source": [
    "sub_DumbTo = sub_DumbTo[sub_DumbTo.Rem_Index == 1]"
   ]
  },
  {
   "cell_type": "code",
   "execution_count": 18,
   "id": "ab7becbd",
   "metadata": {},
   "outputs": [],
   "source": [
    "sub_DumbTo = sub_DumbTo[related_features]"
   ]
  },
  {
   "cell_type": "code",
   "execution_count": 19,
   "id": "02e9bdfd",
   "metadata": {},
   "outputs": [
    {
     "data": {
      "text/plain": [
       "(4400, 53)"
      ]
     },
     "execution_count": 19,
     "metadata": {},
     "output_type": "execute_result"
    }
   ],
   "source": [
    "sub_DumbTo.shape"
   ]
  },
  {
   "cell_type": "code",
   "execution_count": 20,
   "id": "1e802d2f",
   "metadata": {},
   "outputs": [],
   "source": [
    "x = sub_DumbTo.to_numpy()\n",
    "x = x.reshape(seq_length.shape[0], -1, len(related_features))"
   ]
  },
  {
   "cell_type": "code",
   "execution_count": 21,
   "id": "7eaa4c58",
   "metadata": {},
   "outputs": [
    {
     "data": {
      "text/plain": [
       "(44, 100, 53)"
      ]
     },
     "execution_count": 21,
     "metadata": {},
     "output_type": "execute_result"
    }
   ],
   "source": [
    "x.shape"
   ]
  },
  {
   "cell_type": "code",
   "execution_count": 22,
   "id": "f7bcb9f8",
   "metadata": {},
   "outputs": [],
   "source": [
    "y = []\n",
    "for subject_id in seq_length.Subject_ID:\n",
    "    y.append(data_recall[data_recall.ExternalReference == subject_id].DumbTo.tolist()[0])"
   ]
  },
  {
   "cell_type": "code",
   "execution_count": 23,
   "id": "491d16ec",
   "metadata": {},
   "outputs": [],
   "source": [
    "y = np.array(y)"
   ]
  },
  {
   "cell_type": "markdown",
   "id": "4403e11d",
   "metadata": {},
   "source": [
    "## Modeling"
   ]
  },
  {
   "cell_type": "code",
   "execution_count": 24,
   "id": "abf25f8b",
   "metadata": {},
   "outputs": [],
   "source": [
    "x_train = x[:36]\n",
    "y_train = y[:36]\n",
    "x_valid = x[37:]\n",
    "y_valid = y[37:]"
   ]
  },
  {
   "cell_type": "code",
   "execution_count": 25,
   "id": "d628780a",
   "metadata": {},
   "outputs": [
    {
     "name": "stdout",
     "output_type": "stream",
     "text": [
      "(36, 100, 53)\n",
      "(36,)\n",
      "(7, 100, 53)\n",
      "(7,)\n"
     ]
    }
   ],
   "source": [
    "special_value = -9999.99\n",
    "x_train = keras.preprocessing.sequence.pad_sequences(x_train, maxlen = cut_off, padding = \"post\", dtype = 'float64', value = special_value)\n",
    "x_valid = keras.preprocessing.sequence.pad_sequences(x_valid, maxlen = cut_off, padding = \"post\", dtype = 'float64', value = special_value)\n",
    "\n",
    "print(x_train.shape)\n",
    "print(y_train.shape)\n",
    "print(x_valid.shape)\n",
    "print(y_valid.shape)"
   ]
  },
  {
   "cell_type": "code",
   "execution_count": 26,
   "id": "0eec0a03",
   "metadata": {},
   "outputs": [],
   "source": [
    "model = keras.Sequential()\n",
    "model.add(keras.layers.Masking(mask_value=special_value, input_shape=(cut_off, x.shape[2])))\n",
    "model.add(keras.layers.LSTM(32,))\n",
    "model.add(keras.layers.Dense(1,))"
   ]
  },
  {
   "cell_type": "code",
   "execution_count": 27,
   "id": "9b7927a8",
   "metadata": {},
   "outputs": [],
   "source": [
    "model.compile(loss = keras.losses.MeanSquaredError(),\n",
    "              optimizer = keras.optimizers.Adam(learning_rate=0.01))"
   ]
  },
  {
   "cell_type": "code",
   "execution_count": 28,
   "id": "59d0c93f",
   "metadata": {},
   "outputs": [
    {
     "name": "stdout",
     "output_type": "stream",
     "text": [
      "Model: \"sequential\"\n",
      "_________________________________________________________________\n",
      "Layer (type)                 Output Shape              Param #   \n",
      "=================================================================\n",
      "masking (Masking)            (None, 100, 53)           0         \n",
      "_________________________________________________________________\n",
      "lstm (LSTM)                  (None, 32)                11008     \n",
      "_________________________________________________________________\n",
      "dense (Dense)                (None, 1)                 33        \n",
      "=================================================================\n",
      "Total params: 11,041\n",
      "Trainable params: 11,041\n",
      "Non-trainable params: 0\n",
      "_________________________________________________________________\n"
     ]
    }
   ],
   "source": [
    "model.summary()"
   ]
  },
  {
   "cell_type": "code",
   "execution_count": 29,
   "id": "b9ce2a7d",
   "metadata": {},
   "outputs": [
    {
     "name": "stdout",
     "output_type": "stream",
     "text": [
      "(36, 100, 53)\n",
      "(36,)\n"
     ]
    }
   ],
   "source": [
    "print(x_train.shape)\n",
    "print(y_train.shape)"
   ]
  },
  {
   "cell_type": "code",
   "execution_count": 30,
   "id": "833052b1",
   "metadata": {},
   "outputs": [],
   "source": [
    "x_train3 = np.nan_to_num(x_train)\n",
    "x_valid3 = np.nan_to_num(x_valid)"
   ]
  },
  {
   "cell_type": "code",
   "execution_count": 31,
   "id": "ef4467b5",
   "metadata": {},
   "outputs": [
    {
     "data": {
      "text/plain": [
       "False"
      ]
     },
     "execution_count": 31,
     "metadata": {},
     "output_type": "execute_result"
    }
   ],
   "source": [
    "np.isnan(x_train3).any()"
   ]
  },
  {
   "cell_type": "code",
   "execution_count": 32,
   "id": "206f7937",
   "metadata": {},
   "outputs": [
    {
     "name": "stdout",
     "output_type": "stream",
     "text": [
      "(36, 100, 53)\n",
      "(7, 100, 53)\n"
     ]
    }
   ],
   "source": [
    "print(x_train3.shape)\n",
    "print(x_valid3.shape)"
   ]
  },
  {
   "cell_type": "code",
   "execution_count": 33,
   "id": "c26eec01",
   "metadata": {},
   "outputs": [
    {
     "name": "stdout",
     "output_type": "stream",
     "text": [
      "Epoch 1/100\n",
      "2/2 [==============================] - 1s 634ms/step - loss: 47.1402 - val_loss: 40.1462\n",
      "Epoch 2/100\n",
      "2/2 [==============================] - 0s 24ms/step - loss: 43.6349 - val_loss: 37.3216\n",
      "Epoch 3/100\n",
      "2/2 [==============================] - 0s 25ms/step - loss: 42.1185 - val_loss: 36.0973\n",
      "Epoch 4/100\n",
      "2/2 [==============================] - 0s 25ms/step - loss: 40.9930 - val_loss: 34.8780\n",
      "Epoch 5/100\n",
      "2/2 [==============================] - 0s 24ms/step - loss: 39.9735 - val_loss: 33.7022\n",
      "Epoch 6/100\n",
      "2/2 [==============================] - 0s 25ms/step - loss: 38.9342 - val_loss: 32.5477\n",
      "Epoch 7/100\n",
      "2/2 [==============================] - 0s 24ms/step - loss: 37.7993 - val_loss: 28.4937\n",
      "Epoch 8/100\n",
      "2/2 [==============================] - 0s 25ms/step - loss: 34.6884 - val_loss: 26.5572\n",
      "Epoch 9/100\n",
      "2/2 [==============================] - 0s 25ms/step - loss: 30.9626 - val_loss: 25.5848\n",
      "Epoch 10/100\n",
      "2/2 [==============================] - 0s 24ms/step - loss: 29.8678 - val_loss: 24.4836\n",
      "Epoch 11/100\n",
      "2/2 [==============================] - 0s 24ms/step - loss: 28.7051 - val_loss: 23.4889\n",
      "Epoch 12/100\n",
      "2/2 [==============================] - 0s 25ms/step - loss: 27.4930 - val_loss: 22.5004\n",
      "Epoch 13/100\n",
      "2/2 [==============================] - 0s 25ms/step - loss: 26.2892 - val_loss: 21.5282\n",
      "Epoch 14/100\n",
      "2/2 [==============================] - 0s 26ms/step - loss: 25.1447 - val_loss: 20.5826\n",
      "Epoch 15/100\n",
      "2/2 [==============================] - 0s 27ms/step - loss: 24.0597 - val_loss: 19.6646\n",
      "Epoch 16/100\n",
      "2/2 [==============================] - 0s 26ms/step - loss: 23.0101 - val_loss: 18.7709\n",
      "Epoch 17/100\n",
      "2/2 [==============================] - 0s 24ms/step - loss: 21.9931 - val_loss: 17.9084\n",
      "Epoch 18/100\n",
      "2/2 [==============================] - 0s 24ms/step - loss: 21.0015 - val_loss: 17.0823\n",
      "Epoch 19/100\n",
      "2/2 [==============================] - 0s 25ms/step - loss: 20.0446 - val_loss: 16.2912\n",
      "Epoch 20/100\n",
      "2/2 [==============================] - 0s 25ms/step - loss: 19.1187 - val_loss: 15.5303\n",
      "Epoch 21/100\n",
      "2/2 [==============================] - 0s 25ms/step - loss: 18.2371 - val_loss: 14.7990\n",
      "Epoch 22/100\n",
      "2/2 [==============================] - 0s 25ms/step - loss: 17.3819 - val_loss: 14.1018\n",
      "Epoch 23/100\n",
      "2/2 [==============================] - 0s 24ms/step - loss: 16.5521 - val_loss: 13.4334\n",
      "Epoch 24/100\n",
      "2/2 [==============================] - 0s 24ms/step - loss: 15.7749 - val_loss: 12.7958\n",
      "Epoch 25/100\n",
      "2/2 [==============================] - 0s 25ms/step - loss: 15.0036 - val_loss: 12.1889\n",
      "Epoch 26/100\n",
      "2/2 [==============================] - 0s 25ms/step - loss: 14.2945 - val_loss: 11.6120\n",
      "Epoch 27/100\n",
      "2/2 [==============================] - 0s 25ms/step - loss: 13.5940 - val_loss: 11.0687\n",
      "Epoch 28/100\n",
      "2/2 [==============================] - 0s 26ms/step - loss: 12.9299 - val_loss: 10.5487\n",
      "Epoch 29/100\n",
      "2/2 [==============================] - 0s 27ms/step - loss: 12.2975 - val_loss: 10.0481\n",
      "Epoch 30/100\n",
      "2/2 [==============================] - 0s 25ms/step - loss: 11.6927 - val_loss: 9.5714\n",
      "Epoch 31/100\n",
      "2/2 [==============================] - 0s 25ms/step - loss: 11.0983 - val_loss: 9.1187\n",
      "Epoch 32/100\n",
      "2/2 [==============================] - 0s 25ms/step - loss: 10.5366 - val_loss: 8.6857\n",
      "Epoch 33/100\n",
      "2/2 [==============================] - 0s 24ms/step - loss: 10.0005 - val_loss: 8.2754\n",
      "Epoch 34/100\n",
      "2/2 [==============================] - 0s 26ms/step - loss: 9.4902 - val_loss: 7.8928\n",
      "Epoch 35/100\n",
      "2/2 [==============================] - 0s 26ms/step - loss: 8.9988 - val_loss: 7.5368\n",
      "Epoch 36/100\n",
      "2/2 [==============================] - 0s 26ms/step - loss: 8.5418 - val_loss: 7.2028\n",
      "Epoch 37/100\n",
      "2/2 [==============================] - 0s 27ms/step - loss: 8.1025 - val_loss: 6.8866\n",
      "Epoch 38/100\n",
      "2/2 [==============================] - 0s 26ms/step - loss: 7.6887 - val_loss: 6.5847\n",
      "Epoch 39/100\n",
      "2/2 [==============================] - 0s 27ms/step - loss: 7.2918 - val_loss: 6.2987\n",
      "Epoch 40/100\n",
      "2/2 [==============================] - 0s 26ms/step - loss: 6.9075 - val_loss: 6.0286\n",
      "Epoch 41/100\n",
      "2/2 [==============================] - 0s 27ms/step - loss: 6.5424 - val_loss: 5.7734\n",
      "Epoch 42/100\n",
      "2/2 [==============================] - 0s 25ms/step - loss: 6.1931 - val_loss: 5.5331\n",
      "Epoch 43/100\n",
      "2/2 [==============================] - 0s 26ms/step - loss: 5.8598 - val_loss: 5.3076\n",
      "Epoch 44/100\n",
      "2/2 [==============================] - 0s 26ms/step - loss: 5.5527 - val_loss: 5.1005\n",
      "Epoch 45/100\n",
      "2/2 [==============================] - 0s 25ms/step - loss: 5.2473 - val_loss: 4.9107\n",
      "Epoch 46/100\n",
      "2/2 [==============================] - 0s 25ms/step - loss: 4.9736 - val_loss: 4.7334\n",
      "Epoch 47/100\n",
      "2/2 [==============================] - 0s 25ms/step - loss: 4.7100 - val_loss: 4.5685\n",
      "Epoch 48/100\n",
      "2/2 [==============================] - 0s 26ms/step - loss: 4.4617 - val_loss: 4.4147\n",
      "Epoch 49/100\n",
      "2/2 [==============================] - 0s 28ms/step - loss: 4.2258 - val_loss: 4.2720\n",
      "Epoch 50/100\n",
      "2/2 [==============================] - 0s 25ms/step - loss: 4.0074 - val_loss: 4.1418\n",
      "Epoch 51/100\n",
      "2/2 [==============================] - 0s 24ms/step - loss: 3.7937 - val_loss: 4.0235\n",
      "Epoch 52/100\n",
      "2/2 [==============================] - 0s 26ms/step - loss: 3.6041 - val_loss: 3.9159\n",
      "Epoch 53/100\n",
      "2/2 [==============================] - 0s 26ms/step - loss: 3.4179 - val_loss: 3.8184\n",
      "Epoch 54/100\n",
      "2/2 [==============================] - 0s 24ms/step - loss: 3.2506 - val_loss: 3.7294\n",
      "Epoch 55/100\n",
      "2/2 [==============================] - 0s 24ms/step - loss: 3.0891 - val_loss: 3.6484\n",
      "Epoch 56/100\n",
      "2/2 [==============================] - 0s 24ms/step - loss: 2.9390 - val_loss: 3.5746\n",
      "Epoch 57/100\n",
      "2/2 [==============================] - 0s 24ms/step - loss: 2.8044 - val_loss: 3.5096\n",
      "Epoch 58/100\n",
      "2/2 [==============================] - 0s 24ms/step - loss: 2.6717 - val_loss: 3.4538\n",
      "Epoch 59/100\n",
      "2/2 [==============================] - 0s 28ms/step - loss: 2.5552 - val_loss: 3.4051\n",
      "Epoch 60/100\n",
      "2/2 [==============================] - 0s 28ms/step - loss: 2.4450 - val_loss: 3.3616\n",
      "Epoch 61/100\n",
      "2/2 [==============================] - 0s 27ms/step - loss: 2.3451 - val_loss: 3.3221\n",
      "Epoch 62/100\n",
      "2/2 [==============================] - 0s 27ms/step - loss: 2.2505 - val_loss: 3.2871\n",
      "Epoch 63/100\n",
      "2/2 [==============================] - 0s 26ms/step - loss: 2.1647 - val_loss: 3.2574\n",
      "Epoch 64/100\n",
      "2/2 [==============================] - 0s 28ms/step - loss: 2.0772 - val_loss: 3.2325\n",
      "Epoch 65/100\n",
      "2/2 [==============================] - 0s 28ms/step - loss: 2.0022 - val_loss: 3.2106\n",
      "Epoch 66/100\n",
      "2/2 [==============================] - 0s 28ms/step - loss: 1.9312 - val_loss: 3.1919\n",
      "Epoch 67/100\n",
      "2/2 [==============================] - 0s 26ms/step - loss: 1.8623 - val_loss: 3.1766\n",
      "Epoch 68/100\n",
      "2/2 [==============================] - 0s 28ms/step - loss: 1.8034 - val_loss: 3.1647\n",
      "Epoch 69/100\n",
      "2/2 [==============================] - 0s 26ms/step - loss: 1.7415 - val_loss: 3.1559\n",
      "Epoch 70/100\n",
      "2/2 [==============================] - 0s 25ms/step - loss: 1.6891 - val_loss: 3.1494\n",
      "Epoch 71/100\n",
      "2/2 [==============================] - 0s 28ms/step - loss: 1.6399 - val_loss: 3.1452\n",
      "Epoch 72/100\n",
      "2/2 [==============================] - 0s 28ms/step - loss: 1.5976 - val_loss: 3.1431\n",
      "Epoch 73/100\n",
      "2/2 [==============================] - 0s 31ms/step - loss: 1.5514 - val_loss: 3.1430\n",
      "Epoch 74/100\n",
      "2/2 [==============================] - 0s 28ms/step - loss: 1.5144 - val_loss: 3.1445\n",
      "Epoch 75/100\n",
      "2/2 [==============================] - 0s 28ms/step - loss: 1.4780 - val_loss: 3.1477\n",
      "Epoch 76/100\n",
      "2/2 [==============================] - 0s 26ms/step - loss: 1.4465 - val_loss: 3.1523\n",
      "Epoch 77/100\n",
      "2/2 [==============================] - 0s 30ms/step - loss: 1.4135 - val_loss: 3.1580\n",
      "Epoch 78/100\n",
      "2/2 [==============================] - 0s 25ms/step - loss: 1.3875 - val_loss: 3.1649\n",
      "Epoch 79/100\n",
      "2/2 [==============================] - 0s 26ms/step - loss: 1.3599 - val_loss: 3.1725\n",
      "Epoch 80/100\n",
      "2/2 [==============================] - 0s 26ms/step - loss: 1.3385 - val_loss: 3.1810\n",
      "Epoch 81/100\n",
      "2/2 [==============================] - 0s 24ms/step - loss: 1.3153 - val_loss: 3.1901\n",
      "Epoch 82/100\n",
      "2/2 [==============================] - 0s 26ms/step - loss: 1.2963 - val_loss: 3.2001\n",
      "Epoch 83/100\n"
     ]
    },
    {
     "name": "stdout",
     "output_type": "stream",
     "text": [
      "2/2 [==============================] - 0s 26ms/step - loss: 1.2809 - val_loss: 3.2099\n",
      "Epoch 84/100\n",
      "2/2 [==============================] - 0s 25ms/step - loss: 1.2635 - val_loss: 3.2187\n",
      "Epoch 85/100\n",
      "2/2 [==============================] - 0s 25ms/step - loss: 1.2495 - val_loss: 3.2279\n",
      "Epoch 86/100\n",
      "2/2 [==============================] - 0s 25ms/step - loss: 1.2390 - val_loss: 3.2374\n",
      "Epoch 87/100\n",
      "2/2 [==============================] - 0s 25ms/step - loss: 1.2270 - val_loss: 3.2468\n",
      "Epoch 88/100\n",
      "2/2 [==============================] - 0s 25ms/step - loss: 1.2166 - val_loss: 3.2570\n",
      "Epoch 89/100\n",
      "2/2 [==============================] - 0s 25ms/step - loss: 1.2066 - val_loss: 3.2682\n",
      "Epoch 90/100\n",
      "2/2 [==============================] - 0s 26ms/step - loss: 1.1967 - val_loss: 3.2803\n",
      "Epoch 91/100\n",
      "2/2 [==============================] - 0s 26ms/step - loss: 1.1897 - val_loss: 3.2915\n",
      "Epoch 92/100\n",
      "2/2 [==============================] - 0s 24ms/step - loss: 1.1793 - val_loss: 3.3015\n",
      "Epoch 93/100\n",
      "2/2 [==============================] - 0s 25ms/step - loss: 1.1748 - val_loss: 3.3106\n",
      "Epoch 94/100\n",
      "2/2 [==============================] - 0s 26ms/step - loss: 1.1674 - val_loss: 3.3182\n",
      "Epoch 95/100\n",
      "2/2 [==============================] - 0s 26ms/step - loss: 1.1637 - val_loss: 3.3260\n",
      "Epoch 96/100\n",
      "2/2 [==============================] - 0s 24ms/step - loss: 1.1589 - val_loss: 3.3337\n",
      "Epoch 97/100\n",
      "2/2 [==============================] - 0s 25ms/step - loss: 1.1548 - val_loss: 3.3424\n",
      "Epoch 98/100\n",
      "2/2 [==============================] - 0s 25ms/step - loss: 1.1514 - val_loss: 3.3513\n",
      "Epoch 99/100\n",
      "2/2 [==============================] - 0s 25ms/step - loss: 1.1467 - val_loss: 3.3599\n",
      "Epoch 100/100\n",
      "2/2 [==============================] - 0s 24ms/step - loss: 1.1431 - val_loss: 3.3697\n"
     ]
    }
   ],
   "source": [
    "history = model.fit(x = x_train3, y = y_train,\n",
    "                    validation_data = (x_valid3, y_valid),\n",
    "                    epochs = 100)"
   ]
  },
  {
   "cell_type": "code",
   "execution_count": null,
   "id": "2609e0a0",
   "metadata": {},
   "outputs": [],
   "source": []
  }
 ],
 "metadata": {
  "kernelspec": {
   "display_name": "Python 3",
   "language": "python",
   "name": "python3"
  },
  "language_info": {
   "codemirror_mode": {
    "name": "ipython",
    "version": 3
   },
   "file_extension": ".py",
   "mimetype": "text/x-python",
   "name": "python",
   "nbconvert_exporter": "python",
   "pygments_lexer": "ipython3",
   "version": "3.8.8"
  }
 },
 "nbformat": 4,
 "nbformat_minor": 5
}
